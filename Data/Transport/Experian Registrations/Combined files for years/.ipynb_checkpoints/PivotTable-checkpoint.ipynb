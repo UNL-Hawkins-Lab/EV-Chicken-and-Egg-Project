{
 "cells": [
  {
   "cell_type": "code",
   "execution_count": 5,
   "id": "485f368b-2f62-4a9f-a4b4-210182d7517f",
   "metadata": {},
   "outputs": [],
   "source": [
    "import pandas as pd\n",
    "import numpy as np"
   ]
  },
  {
   "cell_type": "code",
   "execution_count": 7,
   "id": "d0660f67-6043-4ee4-80f8-68a5526c9ad9",
   "metadata": {},
   "outputs": [],
   "source": [
    "df1 = pd.read_parquet('COUNTY_ALL.parquet')"
   ]
  },
  {
   "cell_type": "code",
   "execution_count": 10,
   "id": "a9707c85-d550-44f9-b4c7-75b97e0f4708",
   "metadata": {},
   "outputs": [
    {
     "data": {
      "text/plain": [
       "Index(['State Code', 'County Code', 'Vehicle Category', 'Vehicle Segmentation',\n",
       "       'Vehicle Model Year', 'Vehicle Series', 'Vehicle Body Style',\n",
       "       'Vehicle Fuel Type', 'Fleet Flag', 'Ind/Org Flag', 'Vehicle Count'],\n",
       "      dtype='object')"
      ]
     },
     "execution_count": 10,
     "metadata": {},
     "output_type": "execute_result"
    }
   ],
   "source": [
    "df1.columns"
   ]
  },
  {
   "cell_type": "code",
   "execution_count": 7,
   "id": "91755f5d-7858-40b5-a35e-ddf5aa732352",
   "metadata": {},
   "outputs": [],
   "source": [
    "table = pd.pivot_table(df1, values='Vehicle Count', index=['GEOID','Year'], columns='Vehicle Fuel Type', aggfunc='sum', fill_value=None, margins=True, dropna=True, margins_name='All', observed=False, sort=True)"
   ]
  },
  {
   "cell_type": "code",
   "execution_count": 8,
   "id": "3e0d9b9d-9831-420f-8366-930d9a109f08",
   "metadata": {
    "tags": []
   },
   "outputs": [
    {
     "name": "stdout",
     "output_type": "stream",
     "text": [
      "Vehicle Fuel Type uniqueid  Year  24kw Electric~Electric  \\\n",
      "0                    01000  2012                     NaN   \n",
      "1                    01000  2014                     NaN   \n",
      "2                    01000  2016                     NaN   \n",
      "3                    01000  2018                     NaN   \n",
      "4                    01000  2020                     NaN   \n",
      "...                    ...   ...                     ...   \n",
      "15988                72151  2020                     NaN   \n",
      "15989                72153  2016                     NaN   \n",
      "15990                72153  2018                     NaN   \n",
      "15991                72153  2020                     NaN   \n",
      "15992                  All                       81674.0   \n",
      "\n",
      "Vehicle Fuel Type  60kw Electric~Electric  85kw Electric~Electric  \\\n",
      "0                                     NaN                     NaN   \n",
      "1                                     NaN                     NaN   \n",
      "2                                     NaN                     NaN   \n",
      "3                                     NaN                     NaN   \n",
      "4                                     NaN                     NaN   \n",
      "...                                   ...                     ...   \n",
      "15988                                 NaN                     NaN   \n",
      "15989                                 NaN                     NaN   \n",
      "15990                                 NaN                     NaN   \n",
      "15991                                 NaN                     NaN   \n",
      "15992                                76.0                  6997.0   \n",
      "\n",
      "Vehicle Fuel Type  90kw Electric~Electric        CNG  CNG/LPG~Flex  \\\n",
      "0                                     NaN        NaN           NaN   \n",
      "1                                     NaN        2.0           NaN   \n",
      "2                                     NaN        NaN           NaN   \n",
      "3                                     NaN        NaN           NaN   \n",
      "4                                     NaN        NaN           NaN   \n",
      "...                                   ...        ...           ...   \n",
      "15988                                 NaN       11.0           NaN   \n",
      "15989                                 NaN       15.0           NaN   \n",
      "15990                                 NaN       13.0           NaN   \n",
      "15991                                 NaN       11.0           NaN   \n",
      "15992                              2819.0  4655868.0          12.0   \n",
      "\n",
      "Vehicle Fuel Type  CNG~Flex~Unleaded Gas  CNG~Gasoline Hybrid~Unleaded Gas  \\\n",
      "0                                    NaN                               NaN   \n",
      "1                                    NaN                               NaN   \n",
      "2                                    NaN                               NaN   \n",
      "3                                    NaN                               NaN   \n",
      "4                                    NaN                               NaN   \n",
      "...                                  ...                               ...   \n",
      "15988                                NaN                               NaN   \n",
      "15989                                NaN                               NaN   \n",
      "15990                                NaN                               NaN   \n",
      "15991                                NaN                               NaN   \n",
      "15992                                9.0                              39.0   \n",
      "\n",
      "Vehicle Fuel Type  ...  Gasoline Hybrid~Unleaded Gas    Hybrid  Hydrogen  \\\n",
      "0                  ...                           NaN       NaN       NaN   \n",
      "1                  ...                           NaN       NaN       NaN   \n",
      "2                  ...                           NaN       NaN       NaN   \n",
      "3                  ...                           NaN       NaN       NaN   \n",
      "4                  ...                           NaN       NaN       NaN   \n",
      "...                ...                           ...       ...       ...   \n",
      "15988              ...                           1.0       NaN       NaN   \n",
      "15989              ...                           NaN       NaN       NaN   \n",
      "15990              ...                           NaN       NaN       NaN   \n",
      "15991              ...                           NaN       NaN       NaN   \n",
      "15992              ...                      449098.0  640571.0   11046.0   \n",
      "\n",
      "Vehicle Fuel Type   LPG  LPG~Unleaded Gas  Methanol  Plug-In Hybrid  \\\n",
      "0                   NaN               NaN       NaN             NaN   \n",
      "1                   NaN               1.0       NaN             NaN   \n",
      "2                   NaN               2.0       NaN             NaN   \n",
      "3                   NaN               2.0       NaN             NaN   \n",
      "4                   NaN               1.0       NaN             NaN   \n",
      "...                 ...               ...       ...             ...   \n",
      "15988               NaN              12.0       NaN             5.0   \n",
      "15989               NaN              13.0       1.0             NaN   \n",
      "15990               NaN              10.0       NaN             3.0   \n",
      "15991               NaN              11.0       NaN             9.0   \n",
      "15992              92.0         3458083.0    4320.0       1232762.0   \n",
      "\n",
      "Vehicle Fuel Type  Unleaded Gas  Unleaded Gas/LPG           All  \n",
      "0                  1.000000e+00               NaN  1.000000e+00  \n",
      "1                  1.370000e+02               NaN  1.450000e+02  \n",
      "2                  9.500000e+01               NaN  1.140000e+02  \n",
      "3                  9.700000e+01               NaN  1.140000e+02  \n",
      "4                  8.400000e+01               NaN  9.200000e+01  \n",
      "...                         ...               ...           ...  \n",
      "15988              2.509300e+04               NaN  2.557800e+04  \n",
      "15989              2.852700e+04               NaN  2.900800e+04  \n",
      "15990              2.809400e+04               NaN  2.863300e+04  \n",
      "15991              2.898600e+04               NaN  2.964400e+04  \n",
      "15992              1.043924e+09              26.0  1.194489e+09  \n",
      "\n",
      "[15993 rows x 39 columns]\n"
     ]
    }
   ],
   "source": [
    "table1 = table.reset_index()"
   ]
  },
  {
   "cell_type": "code",
   "execution_count": 13,
   "id": "24d082ad-12b8-4e6c-b70a-c98ba1b84edc",
   "metadata": {},
   "outputs": [],
   "source": [
    "table1.iloc[:-1,:].to_parquet('Sum of registrations.parquet')"
   ]
  },
  {
   "cell_type": "code",
   "execution_count": 14,
   "id": "2863cce2-90b4-432c-853d-57ed838c796b",
   "metadata": {},
   "outputs": [],
   "source": [
    "table2 = pd.read_parquet('Sum of registrations.parquet')"
   ]
  },
  {
   "cell_type": "code",
   "execution_count": 15,
   "id": "6450f52f-ca54-4604-8ecc-79d3b9599a35",
   "metadata": {},
   "outputs": [
    {
     "name": "stdout",
     "output_type": "stream",
     "text": [
      "Vehicle Fuel Type uniqueid  Year  24kw Electric~Electric  \\\n",
      "0                    01000  2012                     NaN   \n",
      "1                    01000  2014                     NaN   \n",
      "2                    01000  2016                     NaN   \n",
      "3                    01000  2018                     NaN   \n",
      "4                    01000  2020                     NaN   \n",
      "...                    ...   ...                     ...   \n",
      "15987                72151  2018                     NaN   \n",
      "15988                72151  2020                     NaN   \n",
      "15989                72153  2016                     NaN   \n",
      "15990                72153  2018                     NaN   \n",
      "15991                72153  2020                     NaN   \n",
      "\n",
      "Vehicle Fuel Type  60kw Electric~Electric  85kw Electric~Electric  \\\n",
      "0                                     NaN                     NaN   \n",
      "1                                     NaN                     NaN   \n",
      "2                                     NaN                     NaN   \n",
      "3                                     NaN                     NaN   \n",
      "4                                     NaN                     NaN   \n",
      "...                                   ...                     ...   \n",
      "15987                                 NaN                     NaN   \n",
      "15988                                 NaN                     NaN   \n",
      "15989                                 NaN                     NaN   \n",
      "15990                                 NaN                     NaN   \n",
      "15991                                 NaN                     NaN   \n",
      "\n",
      "Vehicle Fuel Type  90kw Electric~Electric   CNG  CNG/LPG~Flex  \\\n",
      "0                                     NaN   NaN           NaN   \n",
      "1                                     NaN   2.0           NaN   \n",
      "2                                     NaN   NaN           NaN   \n",
      "3                                     NaN   NaN           NaN   \n",
      "4                                     NaN   NaN           NaN   \n",
      "...                                   ...   ...           ...   \n",
      "15987                                 NaN   8.0           NaN   \n",
      "15988                                 NaN  11.0           NaN   \n",
      "15989                                 NaN  15.0           NaN   \n",
      "15990                                 NaN  13.0           NaN   \n",
      "15991                                 NaN  11.0           NaN   \n",
      "\n",
      "Vehicle Fuel Type  CNG~Flex~Unleaded Gas  CNG~Gasoline Hybrid~Unleaded Gas  \\\n",
      "0                                    NaN                               NaN   \n",
      "1                                    NaN                               NaN   \n",
      "2                                    NaN                               NaN   \n",
      "3                                    NaN                               NaN   \n",
      "4                                    NaN                               NaN   \n",
      "...                                  ...                               ...   \n",
      "15987                                NaN                               NaN   \n",
      "15988                                NaN                               NaN   \n",
      "15989                                NaN                               NaN   \n",
      "15990                                NaN                               NaN   \n",
      "15991                                NaN                               NaN   \n",
      "\n",
      "Vehicle Fuel Type  ...  Gasoline Hybrid~Unleaded Gas  Hybrid  Hydrogen  LPG  \\\n",
      "0                  ...                           NaN     NaN       NaN  NaN   \n",
      "1                  ...                           NaN     NaN       NaN  NaN   \n",
      "2                  ...                           NaN     NaN       NaN  NaN   \n",
      "3                  ...                           NaN     NaN       NaN  NaN   \n",
      "4                  ...                           NaN     NaN       NaN  NaN   \n",
      "...                ...                           ...     ...       ...  ...   \n",
      "15987              ...                           1.0     NaN       NaN  NaN   \n",
      "15988              ...                           1.0     NaN       NaN  NaN   \n",
      "15989              ...                           NaN     NaN       NaN  NaN   \n",
      "15990              ...                           NaN     NaN       NaN  NaN   \n",
      "15991              ...                           NaN     NaN       NaN  NaN   \n",
      "\n",
      "Vehicle Fuel Type  LPG~Unleaded Gas  Methanol  Plug-In Hybrid  Unleaded Gas  \\\n",
      "0                               NaN       NaN             NaN           1.0   \n",
      "1                               1.0       NaN             NaN         137.0   \n",
      "2                               2.0       NaN             NaN          95.0   \n",
      "3                               2.0       NaN             NaN          97.0   \n",
      "4                               1.0       NaN             NaN          84.0   \n",
      "...                             ...       ...             ...           ...   \n",
      "15987                           6.0       NaN             4.0       24153.0   \n",
      "15988                          12.0       NaN             5.0       25093.0   \n",
      "15989                          13.0       1.0             NaN       28527.0   \n",
      "15990                          10.0       NaN             3.0       28094.0   \n",
      "15991                          11.0       NaN             9.0       28986.0   \n",
      "\n",
      "Vehicle Fuel Type  Unleaded Gas/LPG      All  \n",
      "0                               NaN      1.0  \n",
      "1                               NaN    145.0  \n",
      "2                               NaN    114.0  \n",
      "3                               NaN    114.0  \n",
      "4                               NaN     92.0  \n",
      "...                             ...      ...  \n",
      "15987                           NaN  24566.0  \n",
      "15988                           NaN  25578.0  \n",
      "15989                           NaN  29008.0  \n",
      "15990                           NaN  28633.0  \n",
      "15991                           NaN  29644.0  \n",
      "\n",
      "[15992 rows x 39 columns]\n"
     ]
    }
   ],
   "source": [
    "print(table2)"
   ]
  },
  {
   "cell_type": "code",
   "execution_count": null,
   "id": "1243f2ea-e9c8-4100-afcf-0977a6367d90",
   "metadata": {},
   "outputs": [],
   "source": []
  }
 ],
 "metadata": {
  "kernelspec": {
   "display_name": "Python 3 (ipykernel)",
   "language": "python",
   "name": "python3"
  },
  "language_info": {
   "codemirror_mode": {
    "name": "ipython",
    "version": 3
   },
   "file_extension": ".py",
   "mimetype": "text/x-python",
   "name": "python",
   "nbconvert_exporter": "python",
   "pygments_lexer": "ipython3",
   "version": "3.9.7"
  }
 },
 "nbformat": 4,
 "nbformat_minor": 5
}
