{
 "cells": [
  {
   "cell_type": "raw",
   "id": "4e2c30fc",
   "metadata": {},
   "source": [
    "---\n",
    "title: On the Chicken & Egg Problem in Transportation Electrification\n",
    "author: Jason Hawkins\n",
    "format: pdf\n",
    "editor: visual\n",
    "echo: false\n",
    "number-sections: true\n",
    "keep-tex: true\n",
    "bibliography: references.bib\n",
    "---"
   ]
  },
  {
   "cell_type": "markdown",
   "id": "e5881c38",
   "metadata": {
    "tags": []
   },
   "source": [
    "# Introduction\n",
    "\n",
    "Vehicle electrification is widely regarded as a critical tool for climate change mitigation in the transportation sector [@musti2011]. While the United States is seeing an increasing share of electric sales, the pace of adoption remains well below the necessary level to mitigate climate change impacts. One barrier to widespread adoption is the lack of charging infrastructure [@sullivan2021].\n",
    "\n",
    "A common policy put forward to increase electric vehicle adoption is a federal income tax credit for EV buyers. However, spending similar amounts on increasing deployment of charging stations could yield more effective results [@Li2017]. This is especially the case in the early stages of EV market penetration; EV markets that have critical-mass constraints have the most success in increasing market penetration with a subsidy policy that deals with indirect network effects [@Zhou2018]. One of the indirect network effects on the EV market comes from the charging station market.\n",
    "\n",
    "Subsidies for charging stations are found to be most effective because of the low-price sensitivity of early EV adopters [@Li2017]. This is intuitive because early EV adopters are more eager to purchases EVs, which makes them more willing to pay for higher prices. The issue these consumers are concerned with is their ability to utilize this new technology, which is affected by the existing charging station infrastructure. Because of this, understanding consumer’s preferences for charging station infrastructure is crucial. Consumers are willing to pay about 5 cents per mile for plug-in electric vehicles and about 10 cents per minute of wait time while refueling. Consumers are also willing to wait up to 8 minutes longer during refueling [@Sheldon2019]. Knowing this information can allow policy makers to create subsidy programs that produce more effective outcomes.\n",
    "\n"
   ]
  },
  {
   "cell_type": "code",
   "execution_count": 4,
   "id": "a5d61b79",
   "metadata": {
    "tags": []
   },
   "outputs": [],
   "source": [
    "#import geoplot as gplt\n",
    "#import geopandas as gpd\n",
    "#import geoplot.crs as gcrs\n",
    "import pandas as pd\n",
    "import seaborn as sns\n",
    "import matplotlib.pyplot as plt\n",
    "#import mapclassify as mc\n",
    "import numpy as np\n",
    "#from geopy.geocoders import Nominatim\n",
    "#from shapely.geometry import Point\n",
    "import os\n",
    "#from pandasql import sqldf\n",
    "import matplotlib.pyplot as plt\n",
    "import matplotlib as mpl\n",
    "import datetime\n",
    "import numpy as np\n",
    "pysqldf = lambda q: sqldf(q, globals())\n",
    "pd.set_option('display.max_columns', None)"
   ]
  },
  {
   "cell_type": "markdown",
   "id": "30656aa3",
   "metadata": {},
   "source": [
    "# The Electric Vehicle and Charging Station Problem\n",
    "\n",
    "Electric vehicle ownership is often referenced as exhibiting a \"chicken and egg\" behavior arising from the supply and demand relationship. Individual demand for electric vehicles is influenced by the available supply of charging points. Consumers are unwilling to purchase vehicles due to range anxiety and a perceived lack of charging stations. Suppliers are not incentivized to provide charging stations unless there is sufficient demand to warrant their cost. There is a clear role for public policy in such situations. The government deems electric vehicles as a solution to a public ill (i.e., climate change) and can incentivize either suppliers by providing installation subsidies or consumers by installing charging stations. While the problem has been recognized in the literature [@melliger2018], empirical analysis is minimal.\n",
    "\n",
    "An important consideration to the analysis is how electric mobility system may differ from one based on fossil fuels. In the conventional private mobility model, the individual owns the vehicle and purchases fuel from centralized and privately owned refueling stations. In contrast, electric vehicles may be charged in the home using previously existing infrastructure. The presence of charging points in the home begs the questions 1) if (or to what extent) out-of-home charging stations are required for travel? and 2) to what extent is range anxiety a perception versus a reality?\n",
    "\n",
    "According to the Bureau of Transportation Statistics, 98% of trips made in the US are less than 50 miles [@vehicletechnologyoffice2022]. Given that most battery-electric vehicles (BEVs) have a range greater than 200 miles [@elfalan2021], it is feasible to make most trips on a single charge. However, long-distance trips (over 50 miles) comprise 30% of total vehicle-miles traveled (VMT) [@aultman-hall2018]. There is clearly a need for out-of-home charging stations to accommodate these trips. Even if most trips can be accommodated by in-home charging, the vehicle purchase decision will be influenced by consideration of these longer trips that require charging stations [@silvia2016]. Additionally, Wolbertus et al. [@wolbertus2018] find that there is still a demand for charging stations in places where public daytime charging is the only option, such as at the workplace.\n",
    "\n",
    "# Data Sources\n",
    "\n",
    "We use a combination of open-source and purchased data in our analysis. The two key input datasets are charging station locations provided by the Alternative Fuel Data Center (AFDC) and electric vehicle registrations provided by Experian Inc. The vehicle registration dataset comprises a 10-year panel at 2-year increments (i.e., 2012, 2014, 2016, 2018, 2020). Total vehicle registrations are recorded by county for the United States.\n",
    "\n",
    "This initial analysis is based on the charging station data and EV sales by state for the period 2013 to 2020 as the county-level registrations were not made available in time for publication. EV sales and market share data is provided by EVAdoption, and state population data by the U.S. Census Bureau.\n"
   ]
  },
  {
   "cell_type": "code",
   "execution_count": 5,
   "id": "b5874f75",
   "metadata": {},
   "outputs": [
    {
     "name": "stderr",
     "output_type": "stream",
     "text": [
      "C:\\Users\\naldridge2\\AppData\\Local\\Temp\\ipykernel_396\\83270942.py:2: DtypeWarning: Columns (6,20) have mixed types. Specify dtype option on import or set low_memory=False.\n",
      "  df_ch_stn = pd.read_csv(\"../Data/Transport/alt_fuel_stations_w_county.csv\")\n"
     ]
    },
    {
     "name": "stdout",
     "output_type": "stream",
     "text": [
      "df_ch_stn all 53684\n",
      "df_ch_stn no private 49852\n",
      "df_ch_stn (after removing nan open year 49846\n"
     ]
    }
   ],
   "source": [
    "# load charging station data\n",
    "df_ch_stn = pd.read_csv(\"../Data/Transport/alt_fuel_stations_w_county.csv\")\n",
    "# filter out the private stations\n",
    "print(\"df_ch_stn all\",df_ch_stn.shape[0])\n",
    "df_ch_stn = df_ch_stn[df_ch_stn[\"Access Code\"]==\"public\"]\n",
    "print(\"df_ch_stn no private\",df_ch_stn.shape[0])\n",
    "df_ch_stn = df_ch_stn[pd.notnull(df_ch_stn[\"Open Date\"])]\n",
    "print(\"df_ch_stn (after removing nan open year\",df_ch_stn.shape[0])\n",
    "df_ch_stn = df_ch_stn.assign(year=pd.to_datetime(df_ch_stn.loc[:,'Open Date']).dt.year.astype(int))\n",
    "grp_ch_stn = df_ch_stn.groupby([\"GEOID\",\"year\"]).sum()[[\"EVSE-L01\",\"EVSE-L02\",\"EVSE-L03\"]].reset_index()\n",
    "grp_ch_stn[\"cEVSE-L01\"]=grp_ch_stn[[\"GEOID\",\"EVSE-L01\"]].groupby(\"GEOID\").cumsum()\n",
    "grp_ch_stn[\"cEVSE-L02\"]=grp_ch_stn[[\"GEOID\",\"EVSE-L02\"]].groupby(\"GEOID\").cumsum()\n",
    "grp_ch_stn[\"cEVSE-L03\"]=grp_ch_stn[[\"GEOID\",\"EVSE-L03\"]].groupby(\"GEOID\").cumsum()\n",
    "grp_ch_stn[\"cEVSE\"]=grp_ch_stn[\"cEVSE-L01\"]+grp_ch_stn[\"cEVSE-L02\"]+grp_ch_stn[\"cEVSE-L03\"]\n",
    "\n",
    "# load vehicle registrations data\n",
    "df_veh_reg = pd.read_parquet(\"../Data/Transport/Experian Registrations/sum_registrations.parquet\")\n",
    "# fill nan with zero and aggregate electricity columns\n",
    "df_veh_reg.fillna(0, inplace=True)\n",
    "df_veh_reg = df_veh_reg.assign(bev=df_veh_reg[\"24kw Electric~Electric\"]+df_veh_reg[\"60kw Electric~Electric\"]+df_veh_reg[\"85kw Electric~Electric\"]+df_veh_reg[\"90kw Electric~Electric\"]+df_veh_reg[\"Electric\"]+df_veh_reg[\"Electric Fuel System\"])\n",
    "df_veh_reg = df_veh_reg.assign(pev=(df_veh_reg[\"bev\"]+df_veh_reg[\"Plug-In Hybrid\"]))\n",
    "# percent bev is bev/total vehicles\n",
    "df_veh_reg = df_veh_reg.assign(per_bev=df_veh_reg[\"bev\"] / df_veh_reg[\"All\"])\n",
    "# percent pev is (bev+phev)/total vehicles\n",
    "df_veh_reg = df_veh_reg.assign(per_pev=df_veh_reg[\"pev\"] / df_veh_reg[\"All\"])\n",
    "\n",
    "# combine registration and charging data by year and county code\n",
    "df = df_veh_reg.merge(grp_ch_stn.loc[:,[\"GEOID\",\"year\",\"cEVSE-L01\",\"cEVSE-L02\",\"cEVSE-L03\",\"cEVSE\"]],how=\"left\",left_on=[\"GEOID\",\"year\"],right_on=[\"GEOID\",\"year\"])\n",
    "# add additional columns for lagged charging station counts\n",
    "df[\"lag_year\"] = df.year-1\n",
    "df = df.merge(grp_ch_stn.loc[:,[\"GEOID\",\"year\",\"cEVSE-L01\",\"cEVSE-L02\",\"cEVSE-L03\",\"cEVSE\"]],how=\"left\",left_on=[\"GEOID\",\"lag_year\"],right_on=[\"GEOID\",\"year\"],suffixes=(\"\",\"_lag\"))\n",
    "df[\"GEOID\"] = df[\"GEOID\"].astype(int)\n",
    "\n",
    "# read in demographic data by county and add to main dataframe\n",
    "df_pop11 = pd.read_csv(\"../Data/Census/county_pop_race_age_2011_2015.csv\")\n",
    "df_pop15 = pd.read_csv(\"../Data/Census/county_pop_race_age_2015_2019.csv\")\n",
    "\n",
    "# read in egrid data and add to main dataframe\n",
    "\n",
    "\n",
    "# join demographics to main dataframe for 2011 to 2015\n",
    "df11 = df.loc[df.year<2015,:].merge(df_pop11, how=\"left\", left_on=\"GEOID\", right_on=\"GEOID\")\n",
    "# update data for years 2015 forward to use the 2015-2019 data\n",
    "df15 = df.loc[df.year>=2015,:].merge(df_pop15, how=\"left\", left_on=\"GEOID\", right_on=\"GEOID\")\n",
    "df = pd.concat((df11,df15),axis=0)\n",
    "# some data are assigned county codes that don't appear in the population dataset. They should be removed for analysis.\n",
    "df.dropna(axis=0,subset=\"ALUBE001\", inplace=True)\n",
    "\n",
    "# calculate per capita statistics (per 100,000 inhabitants)\n",
    "df[\"bev_cap\"] = (df[\"bev\"]/df[\"ALUBE001\"])*100000\n",
    "df[\"pev_cap\"] = (df[\"pev\"]/df[\"ALUBE001\"])*100000\n",
    "df[\"cEVSE-L01_cap\"] = (df[\"cEVSE-L01\"]/df[\"ALUBE001\"])*100000\n",
    "df[\"cEVSE_L02_cap\"] = (df[\"cEVSE-L02\"]/df[\"ALUBE001\"])*100000\n",
    "df[\"cEVSE_L03_cap\"] = (df[\"cEVSE-L03\"]/df[\"ALUBE001\"])*100000\n",
    "df[\"cEVSE_cap\"] = (df[\"cEVSE\"]/df[\"ALUBE001\"])*100000\n",
    "\n",
    "df.fillna(0,inplace=True) # careful using a blanket fillna statement on a dataframe"
   ]
  },
  {
   "cell_type": "markdown",
   "id": "4212ad77",
   "metadata": {},
   "source": [
    "TO DO: - create county-specific Granger causality statistics - Input demographic data by county - create generalized propensity scores - create regression inputs - run regressions - write literature review - write results and discussion - get casey's stuff working in the paper - write up methods - What about spatial autocorrelation and spatial spillovers\n",
    "\n",
    "# Methods\n",
    "\n",
    "# Results\n"
   ]
  },
  {
   "cell_type": "code",
   "execution_count": 6,
   "id": "0421a956",
   "metadata": {},
   "outputs": [
    {
     "data": {
      "image/png": "[encoded data removed]",
      "text/plain": [
       "<Figure size 432x288 with 2 Axes>"
      ]
     },
     "metadata": {},
     "output_type": "display_data"
    }
   ],
   "source": [
    "#| layout-ncol: 1\n",
    "#| fig-cap: \n",
    "#|   - \"US BEV Registrations and Charging Stations\"\n",
    "sns.set_theme()\n",
    "us_tot = df.groupby(\"year\").sum().reset_index()\n",
    "us_tot[\"bev_cap\"] = (us_tot[\"bev\"]/us_tot[\"ALUBE001\"])*100000\n",
    "us_tot[\"cEVSE_cap\"] = ((us_tot[\"cEVSE-L01\"]+us_tot[\"cEVSE-L02\"]+us_tot[\"cEVSE-L03\"])/us_tot[\"ALUBE001\"])*100000\n",
    "\n",
    "fig, ax = plt.subplots()\n",
    "x = us_tot.year\n",
    "y1 = us_tot.bev_cap\n",
    "y2 = us_tot.cEVSE_cap\n",
    "\n",
    "ax2 = ax.twinx()\n",
    "ln1 = ax.plot(x, y1, '-b', label='BEVs')\n",
    "ln2 = ax2.plot(x,y2, '--r', label=\"Charging stations\")\n",
    "ax.set_xlabel('Year')\n",
    "ax.set_ylabel('BEVs (per 100,000 persons)')\n",
    "ax2.set_ylabel('Charging stations (per 100,000 persons)')\n",
    "ax2.grid(False)\n",
    "lns = ln1+ln2\n",
    "labs = [l.get_label() for l in lns]\n",
    "ax.legend(lns, labs, loc='upper left', frameon=True);\n",
    "\n",
    "plt.show()"
   ]
  },
  {
   "cell_type": "code",
   "execution_count": 7,
   "id": "70a4f3ad",
   "metadata": {},
   "outputs": [
    {
     "name": "stdout",
     "output_type": "stream",
     "text": [
      "ADF Test: BEV time series\n",
      "ADF Statistics: 11.817204\n",
      "p-value: 1.000000\n",
      "Critical values:\n",
      "\t1%: -7.355\n",
      "\t5%: -4.474\n",
      "\t10%: -3.127\n",
      "ADF Test: cEVSE_cap time series\n",
      "ADF Statistics: 8.272277\n",
      "p-value: 1.000000\n",
      "Critical values:\n",
      "\t1%: -7.355\n",
      "\t5%: -4.474\n",
      "\t10%: -3.127\n",
      "KPSS Test: BEV time series\n",
      "KPSS Statistic: 0.36273395053087387\n",
      "p-value: 0.09321812477117505\n",
      "num lags: 1\n",
      "Critial Values:\n",
      "   10% : 0.347\n",
      "   5% : 0.463\n",
      "   2.5% : 0.574\n",
      "   1% : 0.739\n",
      "KPSS Test: cEVSE_cap time series\n",
      "KPSS Statistic: 0.45230088247588107\n",
      "p-value: 0.05461168858798231\n",
      "num lags: 0\n",
      "Critial Values:\n",
      "   10% : 0.347\n",
      "   5% : 0.463\n",
      "   2.5% : 0.574\n",
      "   1% : 0.739\n"
     ]
    }
   ],
   "source": [
    "from statsmodels.tsa.stattools import adfuller\n",
    "from statsmodels.tsa.stattools import kpss\n",
    "\n",
    "def adf_test(df):\n",
    "    result = adfuller(df.values)\n",
    "    print('ADF Statistics: %f' % result[0])\n",
    "    print('p-value: %f' % result[1])\n",
    "    print('Critical values:')\n",
    "    for key, value in result[4].items():\n",
    "        print('\\t%s: %.3f' % (key, value))\n",
    "    \n",
    "def kpss_test(df):    \n",
    "    statistic, p_value, n_lags, critical_values = kpss(df.values)\n",
    "    \n",
    "    print(f'KPSS Statistic: {statistic}')\n",
    "    print(f'p-value: {p_value}')\n",
    "    print(f'num lags: {n_lags}')\n",
    "    print('Critial Values:')\n",
    "    for key, value in critical_values.items():\n",
    "        print(f'   {key} : {value}')\n",
    "        \n",
    "print('ADF Test: BEV time series')\n",
    "adf_test(us_tot['bev_cap'])\n",
    "print('ADF Test: cEVSE_cap time series')\n",
    "adf_test(us_tot['cEVSE_cap'])\n",
    "        \n",
    "print('KPSS Test: BEV time series')\n",
    "kpss_test(us_tot['bev_cap'])\n",
    "print('KPSS Test: cEVSE_cap time series')\n",
    "kpss_test(us_tot['cEVSE_cap'])"
   ]
  },
  {
   "cell_type": "markdown",
   "id": "f98ffc82",
   "metadata": {},
   "source": [
    "Both ADF and KPSS tests indicate that the BEV and charging station data are non-stationary. Therefore, we will difference the data, as required by the Granger causality test.\n"
   ]
  },
  {
   "cell_type": "code",
   "execution_count": null,
   "id": "746d98a6",
   "metadata": {},
   "outputs": [],
   "source": [
    "us_tot_diff = us_tot.diff().dropna()\n",
    "print('ADF Test: BEV transformed time series')\n",
    "adf_test(us_tot_diff['bev_cap'])\n",
    "print('ADF Test: cEVSE_cap transformed time series')\n",
    "adf_test(us_tot_diff['cEVSE_cap'])"
   ]
  },
  {
   "cell_type": "markdown",
   "id": "cfefa442",
   "metadata": {},
   "source": [
    "The differences didn't help and we don't have a long enough time series to use a longer lag. Let's take a look at it by state.\n"
   ]
  },
  {
   "cell_type": "code",
   "execution_count": null,
   "id": "8d32eee6",
   "metadata": {},
   "outputs": [],
   "source": [
    "# # Neither time series is stationary for any state\n",
    "# state_list = pd.unique(df.STATE)\n",
    "# \n",
    "# for st in state_list:\n",
    "#   st_tot = df[df.STATE==st].groupby(\"year\").sum().reset_index()\n",
    "#   st_tot[\"bev_cap\"] = (st_tot[\"bev\"]/st_tot[\"ALUBE001\"])*100000\n",
    "#   st_tot[\"cEVSE_cap\"] = ((st_tot[\"cEVSE-L01\"]+st_tot[\"cEVSE-L02\"]+st_tot[\"cEVSE-L03\"])/st_tot[\"ALUBE001\"])*100000\n",
    "#   #print('ADF Test: BEV time series for {0}'.format(st))\n",
    "#   adf_test(st_tot['bev_cap']);\n",
    "#   #print('ADF Test: cEVSE_cap time series for {0}'.format(st))\n",
    "#   adf_test(st_tot['cEVSE_cap']);"
   ]
  },
  {
   "cell_type": "markdown",
   "id": "dee4200e",
   "metadata": {},
   "source": [
    "Let's try a non-linear causality analysis from Rosol et al.\n"
   ]
  },
  {
   "cell_type": "code",
   "execution_count": null,
   "id": "9d74090e",
   "metadata": {},
   "outputs": [],
   "source": [
    "from nonlincausality.nonlincausality import nonlincausalityMLP, nonlincausalityGRU, nonlincausalityLSTM, nonlincausalityNN, nonlincausalityARIMA\n",
    "\n",
    "lags = 4 # number of years - 1\n",
    "\n",
    "cty_list = pd.unique(df.GEOID)\n",
    "train_cty, test_cty = np.split(cty_list, [int(len(cty_list)*0.7)])\n",
    "data_train = df.loc[df.GEOID.isin(train_cty),[\"pev_cap\",\"cEVSE_cap\"]].values\n",
    "data_test = df.loc[df.GEOID.isin(test_cty),[\"pev_cap\",\"cEVSE_cap\"]].values\n",
    "\n",
    "results = nonlincausalityMLP(x=data_train, maxlag=lags, Dense_layers=2, Dense_neurons=[100, 100], x_test=data_test, run=1, add_Dropout=True, Dropout_rate=0.01, epochs_num=[50, 100], learning_rate=[0.001, 0.0001], batch_size_num=128, verbose=True, plot=True)\n",
    "\n",
    "results_ARIMA = nonlincausalityARIMA(x=data_train, maxlag=lags, x_test=data_train)\n",
    "\n",
    "results_GRU = nonlincausalityGRU(x=data_train, maxlag=lags, GRU_layers=2, GRU_neurons=[25, 25], Dense_layers=2, Dense_neurons=[100, 100], x_test=data_test, run=3, add_Dropout=True, Dropout_rate=0.01, epochs_num=[50, 100], learning_rate=[0.001, 0.0001], batch_size_num=128, verbose=False, plot=True)"
   ]
  },
  {
   "cell_type": "code",
   "execution_count": null,
   "id": "38a526eb",
   "metadata": {},
   "outputs": [],
   "source": [
    "# fl_df = pd.read_csv(\"./EVHUB/Data/registrations/fl_ev_registrations_public.csv\")\n",
    "# US_sf_state = gpd.read_file(\"./Data/GIS/cb_2020_us_state_5m/cb_2020_us_state_5m.shp\")\n",
    "# #Removing the outlying islands and other territories.\n",
    "# US_sf_state[\"STATEFP\"] =pd.to_numeric(US_sf_state[\"STATEFP\"])\n",
    "# US_sf_state = US_sf_state[US_sf_state['STATEFP'] < 60]\n",
    "# US_sf = US_sf[US_sf['COUNTYNS'] != \"01419965\"]\n",
    "# station_data = pd.read_csv(\"./Data/Transport/alt_fuel_stations.csv\")\n",
    "# geometry = [Point(xy) for xy in zip(station_data.Longitude, station_data.Latitude)]\n",
    "# crs = {'init' :'epsg:4326'}\n",
    "# station_points = gpd.GeoDataFrame(station_data, crs=crs, geometry=geometry)\n",
    "# \n",
    "# station_points = gpd.sjoin(station_points, US_sf, how='left', op='within')\n",
    "# \n",
    "# merged_df = pd.DataFrame(station_points)\n",
    "# \n",
    "# num_stations = merged_df['COUNTYNS'].value_counts()\n",
    "# num_stations = pd.DataFrame(num_stations)\n",
    "# num_stations = num_stations.reset_index()\n",
    "# num_stations.columns = ['COUNTYNS','Charging Stations']\n",
    "# \n",
    "# final = pd.merge(US_sf, num_stations, on = 'COUNTYNS', how = 'left')\n",
    "# final['Charging Stations'] = final['Charging Stations'].fillna(0)\n",
    "# \n",
    "# #  https://gist.github.com/rogerallen/1583593\n",
    "# us_state_to_abbrev = {\n",
    "#     \"Alabama\": \"AL\",\n",
    "#     \"Alaska\": \"AK\",\n",
    "#     \"Arizona\": \"AZ\",\n",
    "#     \"Arkansas\": \"AR\",\n",
    "#     \"California\": \"CA\",\n",
    "#     \"Colorado\": \"CO\",\n",
    "#     \"Connecticut\": \"CT\",\n",
    "#     \"Delaware\": \"DE\",\n",
    "#     \"Florida\": \"FL\",\n",
    "#     \"Georgia\": \"GA\",\n",
    "#     \"Hawaii\": \"HI\",\n",
    "#     \"Idaho\": \"ID\",\n",
    "#     \"Illinois\": \"IL\",\n",
    "#     \"Indiana\": \"IN\",\n",
    "#     \"Iowa\": \"IA\",\n",
    "#     \"Kansas\": \"KS\",\n",
    "#     \"Kentucky\": \"KY\",\n",
    "#     \"Louisiana\": \"LA\",\n",
    "#     \"Maine\": \"ME\",\n",
    "#     \"Maryland\": \"MD\",\n",
    "#     \"Massachusetts\": \"MA\",\n",
    "#     \"Michigan\": \"MI\",\n",
    "#     \"Minnesota\": \"MN\",\n",
    "#     \"Mississippi\": \"MS\",\n",
    "#     \"Missouri\": \"MO\",\n",
    "#     \"Montana\": \"MT\",\n",
    "#     \"Nebraska\": \"NE\",\n",
    "#     \"Nevada\": \"NV\",\n",
    "#     \"New Hampshire\": \"NH\",\n",
    "#     \"New Jersey\": \"NJ\",\n",
    "#     \"New Mexico\": \"NM\",\n",
    "#     \"New York\": \"NY\",\n",
    "#     \"North Carolina\": \"NC\",\n",
    "#     \"North Dakota\": \"ND\",\n",
    "#     \"Ohio\": \"OH\",\n",
    "#     \"Oklahoma\": \"OK\",\n",
    "#     \"Oregon\": \"OR\",\n",
    "#     \"Pennsylvania\": \"PA\",\n",
    "#     \"Rhode Island\": \"RI\",\n",
    "#     \"South Carolina\": \"SC\",\n",
    "#     \"South Dakota\": \"SD\",\n",
    "#     \"Tennessee\": \"TN\",\n",
    "#     \"Texas\": \"TX\",\n",
    "#     \"Utah\": \"UT\",\n",
    "#     \"Vermont\": \"VT\",\n",
    "#     \"Virginia\": \"VA\",\n",
    "#     \"Washington\": \"WA\",\n",
    "#     \"West Virginia\": \"WV\",\n",
    "#     \"Wisconsin\": \"WI\",\n",
    "#     \"Wyoming\": \"WY\",\n",
    "#     \"District of Columbia\": \"DC\",\n",
    "#     \"American Samoa\": \"AS\",\n",
    "#     \"Guam\": \"GU\",\n",
    "#     \"Northern Mariana Islands\": \"MP\",\n",
    "#     \"Puerto Rico\": \"PR\",\n",
    "#     \"United States Minor Outlying Islands\": \"UM\",\n",
    "#     \"U.S. Virgin Islands\": \"VI\",\n",
    "# }\n",
    "# \n",
    "# egrid_state = pd.read_excel(\"./Data/eGrid/egrid2020_data.xlsx\", sheet_name=\"ST20\")\n",
    "# \n",
    "# # Removing first row\n",
    "# new_header = egrid_state.iloc[0] #grab the first row for the header\n",
    "# egrid_state = egrid_state[1:] #take the data less the header row\n",
    "# egrid_state.columns = new_header #set the header row as the df header\n",
    "# \n",
    "# egrid_state['FIPSST'] = egrid_state['FIPSST'].astype(int)\n",
    "# \n",
    "# egrid_state = US_sf_state.merge(egrid_state, left_on= \"STATEFP\", right_on=\"FIPSST\", how = \"left\")"
   ]
  },
  {
   "cell_type": "markdown",
   "id": "c4bf0d1b",
   "metadata": {},
   "source": [
    "`{# {python} # ## Number of Charging stations per county # ax = gplt.choropleth( #   final[final['STATEFP'] == 6], #   hue = \"Charging Stations\", #   edgecolor='darkgrey', #   linewidth=.5, #   cmap=\"viridis\", #   legend=True, #   projection=gcrs.AlbersEqualArea(), #   figsize = (16,16), #   zorder = 1 # ) #  # gplt.pointplot( #   station_points[station_points['STATEFP'] == 6], #   projection=gcrs.AlbersEqualArea(), #   ax = ax, #   zorder = 2, #   s = .4 # )`\n",
    "\n",
    "# Discussion\n",
    "\n",
    "# Conclusions\n",
    "\n",
    "The results presented herein are preliminary and do not consider a key dataset -- vehicle registrations. We will expand our analysis to a more robust inferential study in the coming months. Our causal question is what effect public charging stations have on electric vehicle registrations at the county-level. The treatment variable is continuous over the study period. We propose three causal identification approaches. The first approach is a difference-in-differences approach that is identified off state-level investments in charging stations by year. The second approach is generalized propensity score matching using federal election results, state-level greenhouse gas (GHG) emissions factors, and demographic characteristics (e.g., racial composition, median income, and population density) as inputs to the propensity score.\n",
    "\n",
    "The final causal inference approach, Granger causality, differs in that it focuses on the temporal phasing of charging station installations and PEV registration, whereas the other two approaches rely on Rubin's potential outcome assumption [@reich2021]. Granger causality relies on the assumption that past treatment knowledge reduces predictive uncertainty. It is a form of time series causal inference that would fit the current context well.\n",
    "\n",
    "# "
   ]
  }
 ],
 "metadata": {
  "kernelspec": {
   "display_name": "Python 3 (ipykernel)",
   "language": "python",
   "name": "python3"
  },
  "language_info": {
   "codemirror_mode": {
    "name": "ipython",
    "version": 3
   },
   "file_extension": ".py",
   "mimetype": "text/x-python",
   "name": "python",
   "nbconvert_exporter": "python",
   "pygments_lexer": "ipython3",
   "version": "3.9.12"
  }
 },
 "nbformat": 4,
 "nbformat_minor": 5
}
