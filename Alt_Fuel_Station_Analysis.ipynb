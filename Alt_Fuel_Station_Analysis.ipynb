{
 "cells": [
  {
   "cell_type": "markdown",
   "id": "60cefa50",
   "metadata": {},
   "source": [
    "The first step is to read in the necessary R libraries and the data. The tidyverse is a common and useful set of packages."
   ]
  },
  {
   "cell_type": "code",
   "execution_count": 1,
   "id": "da551c9b",
   "metadata": {
    "scrolled": true
   },
   "outputs": [
    {
     "name": "stderr",
     "output_type": "stream",
     "text": [
      "-- \u001b[1mAttaching packages\u001b[22m --------------------------------------- tidyverse 1.3.1 --\n",
      "\n",
      "\u001b[32mv\u001b[39m \u001b[34mggplot2\u001b[39m 3.3.5     \u001b[32mv\u001b[39m \u001b[34mpurrr  \u001b[39m 0.3.4\n",
      "\u001b[32mv\u001b[39m \u001b[34mtibble \u001b[39m 3.1.5     \u001b[32mv\u001b[39m \u001b[34mdplyr  \u001b[39m 1.0.7\n",
      "\u001b[32mv\u001b[39m \u001b[34mtidyr  \u001b[39m 1.2.0     \u001b[32mv\u001b[39m \u001b[34mstringr\u001b[39m 1.4.0\n",
      "\u001b[32mv\u001b[39m \u001b[34mreadr  \u001b[39m 2.0.2     \u001b[32mv\u001b[39m \u001b[34mforcats\u001b[39m 0.5.1\n",
      "\n",
      "-- \u001b[1mConflicts\u001b[22m ------------------------------------------ tidyverse_conflicts() --\n",
      "\u001b[31mx\u001b[39m \u001b[34mdplyr\u001b[39m::\u001b[32mfilter()\u001b[39m masks \u001b[34mstats\u001b[39m::filter()\n",
      "\u001b[31mx\u001b[39m \u001b[34mdplyr\u001b[39m::\u001b[32mlag()\u001b[39m    masks \u001b[34mstats\u001b[39m::lag()\n",
      "\n"
     ]
    },
    {
     "data": {
      "text/html": [
       "<style>\n",
       ".list-inline {list-style: none; margin:0; padding: 0}\n",
       ".list-inline>li {display: inline-block}\n",
       ".list-inline>li:not(:last-child)::after {content: \"\\00b7\"; padding: 0 .5ex}\n",
       "</style>\n",
       "<ol class=list-inline><li>'Fuel.Type.Code'</li><li>'Station.Name'</li><li>'Street.Address'</li><li>'Intersection.Directions'</li><li>'City'</li><li>'State'</li><li>'ZIP'</li><li>'Plus4'</li><li>'Station.Phone'</li><li>'Status.Code'</li><li>'Expected.Date'</li><li>'Groups.With.Access.Code'</li><li>'Access.Days.Time'</li><li>'Cards.Accepted'</li><li>'BD.Blends'</li><li>'NG.Fill.Type.Code'</li><li>'NG.PSI'</li><li>'EV.Level1.EVSE.Num'</li><li>'EV.Level2.EVSE.Num'</li><li>'EV.DC.Fast.Count'</li><li>'EV.Other.Info'</li><li>'EV.Network'</li><li>'EV.Network.Web'</li><li>'Geocode.Status'</li><li>'Latitude'</li><li>'Longitude'</li><li>'Date.Last.Confirmed'</li><li>'ID'</li><li>'Updated.At'</li><li>'Owner.Type.Code'</li><li>'Federal.Agency.ID'</li><li>'Federal.Agency.Name'</li><li>'Open.Date'</li><li>'Hydrogen.Status.Link'</li><li>'NG.Vehicle.Class'</li><li>'LPG.Primary'</li><li>'E85.Blender.Pump'</li><li>'EV.Connector.Types'</li><li>'Country'</li><li>'Intersection.Directions..French.'</li><li>'Access.Days.Time..French.'</li><li>'BD.Blends..French.'</li><li>'Groups.With.Access.Code..French.'</li><li>'Hydrogen.Is.Retail'</li><li>'Access.Code'</li><li>'Access.Detail.Code'</li><li>'Federal.Agency.Code'</li><li>'Facility.Type'</li><li>'CNG.Dispenser.Num'</li><li>'CNG.On.Site.Renewable.Source'</li><li>'CNG.Total.Compression.Capacity'</li><li>'CNG.Storage.Capacity'</li><li>'LNG.On.Site.Renewable.Source'</li><li>'E85.Other.Ethanol.Blends'</li><li>'EV.Pricing'</li><li>'EV.Pricing..French.'</li><li>'LPG.Nozzle.Types'</li><li>'Hydrogen.Pressures'</li><li>'Hydrogen.Standards'</li><li>'CNG.Fill.Type.Code'</li><li>'CNG.PSI'</li><li>'CNG.Vehicle.Class'</li><li>'LNG.Vehicle.Class'</li><li>'EV.On.Site.Renewable.Source'</li><li>'Restricted.Access'</li></ol>\n"
      ],
      "text/latex": [
       "\\begin{enumerate*}\n",
       "\\item 'Fuel.Type.Code'\n",
       "\\item 'Station.Name'\n",
       "\\item 'Street.Address'\n",
       "\\item 'Intersection.Directions'\n",
       "\\item 'City'\n",
       "\\item 'State'\n",
       "\\item 'ZIP'\n",
       "\\item 'Plus4'\n",
       "\\item 'Station.Phone'\n",
       "\\item 'Status.Code'\n",
       "\\item 'Expected.Date'\n",
       "\\item 'Groups.With.Access.Code'\n",
       "\\item 'Access.Days.Time'\n",
       "\\item 'Cards.Accepted'\n",
       "\\item 'BD.Blends'\n",
       "\\item 'NG.Fill.Type.Code'\n",
       "\\item 'NG.PSI'\n",
       "\\item 'EV.Level1.EVSE.Num'\n",
       "\\item 'EV.Level2.EVSE.Num'\n",
       "\\item 'EV.DC.Fast.Count'\n",
       "\\item 'EV.Other.Info'\n",
       "\\item 'EV.Network'\n",
       "\\item 'EV.Network.Web'\n",
       "\\item 'Geocode.Status'\n",
       "\\item 'Latitude'\n",
       "\\item 'Longitude'\n",
       "\\item 'Date.Last.Confirmed'\n",
       "\\item 'ID'\n",
       "\\item 'Updated.At'\n",
       "\\item 'Owner.Type.Code'\n",
       "\\item 'Federal.Agency.ID'\n",
       "\\item 'Federal.Agency.Name'\n",
       "\\item 'Open.Date'\n",
       "\\item 'Hydrogen.Status.Link'\n",
       "\\item 'NG.Vehicle.Class'\n",
       "\\item 'LPG.Primary'\n",
       "\\item 'E85.Blender.Pump'\n",
       "\\item 'EV.Connector.Types'\n",
       "\\item 'Country'\n",
       "\\item 'Intersection.Directions..French.'\n",
       "\\item 'Access.Days.Time..French.'\n",
       "\\item 'BD.Blends..French.'\n",
       "\\item 'Groups.With.Access.Code..French.'\n",
       "\\item 'Hydrogen.Is.Retail'\n",
       "\\item 'Access.Code'\n",
       "\\item 'Access.Detail.Code'\n",
       "\\item 'Federal.Agency.Code'\n",
       "\\item 'Facility.Type'\n",
       "\\item 'CNG.Dispenser.Num'\n",
       "\\item 'CNG.On.Site.Renewable.Source'\n",
       "\\item 'CNG.Total.Compression.Capacity'\n",
       "\\item 'CNG.Storage.Capacity'\n",
       "\\item 'LNG.On.Site.Renewable.Source'\n",
       "\\item 'E85.Other.Ethanol.Blends'\n",
       "\\item 'EV.Pricing'\n",
       "\\item 'EV.Pricing..French.'\n",
       "\\item 'LPG.Nozzle.Types'\n",
       "\\item 'Hydrogen.Pressures'\n",
       "\\item 'Hydrogen.Standards'\n",
       "\\item 'CNG.Fill.Type.Code'\n",
       "\\item 'CNG.PSI'\n",
       "\\item 'CNG.Vehicle.Class'\n",
       "\\item 'LNG.Vehicle.Class'\n",
       "\\item 'EV.On.Site.Renewable.Source'\n",
       "\\item 'Restricted.Access'\n",
       "\\end{enumerate*}\n"
      ],
      "text/markdown": [
       "1. 'Fuel.Type.Code'\n",
       "2. 'Station.Name'\n",
       "3. 'Street.Address'\n",
       "4. 'Intersection.Directions'\n",
       "5. 'City'\n",
       "6. 'State'\n",
       "7. 'ZIP'\n",
       "8. 'Plus4'\n",
       "9. 'Station.Phone'\n",
       "10. 'Status.Code'\n",
       "11. 'Expected.Date'\n",
       "12. 'Groups.With.Access.Code'\n",
       "13. 'Access.Days.Time'\n",
       "14. 'Cards.Accepted'\n",
       "15. 'BD.Blends'\n",
       "16. 'NG.Fill.Type.Code'\n",
       "17. 'NG.PSI'\n",
       "18. 'EV.Level1.EVSE.Num'\n",
       "19. 'EV.Level2.EVSE.Num'\n",
       "20. 'EV.DC.Fast.Count'\n",
       "21. 'EV.Other.Info'\n",
       "22. 'EV.Network'\n",
       "23. 'EV.Network.Web'\n",
       "24. 'Geocode.Status'\n",
       "25. 'Latitude'\n",
       "26. 'Longitude'\n",
       "27. 'Date.Last.Confirmed'\n",
       "28. 'ID'\n",
       "29. 'Updated.At'\n",
       "30. 'Owner.Type.Code'\n",
       "31. 'Federal.Agency.ID'\n",
       "32. 'Federal.Agency.Name'\n",
       "33. 'Open.Date'\n",
       "34. 'Hydrogen.Status.Link'\n",
       "35. 'NG.Vehicle.Class'\n",
       "36. 'LPG.Primary'\n",
       "37. 'E85.Blender.Pump'\n",
       "38. 'EV.Connector.Types'\n",
       "39. 'Country'\n",
       "40. 'Intersection.Directions..French.'\n",
       "41. 'Access.Days.Time..French.'\n",
       "42. 'BD.Blends..French.'\n",
       "43. 'Groups.With.Access.Code..French.'\n",
       "44. 'Hydrogen.Is.Retail'\n",
       "45. 'Access.Code'\n",
       "46. 'Access.Detail.Code'\n",
       "47. 'Federal.Agency.Code'\n",
       "48. 'Facility.Type'\n",
       "49. 'CNG.Dispenser.Num'\n",
       "50. 'CNG.On.Site.Renewable.Source'\n",
       "51. 'CNG.Total.Compression.Capacity'\n",
       "52. 'CNG.Storage.Capacity'\n",
       "53. 'LNG.On.Site.Renewable.Source'\n",
       "54. 'E85.Other.Ethanol.Blends'\n",
       "55. 'EV.Pricing'\n",
       "56. 'EV.Pricing..French.'\n",
       "57. 'LPG.Nozzle.Types'\n",
       "58. 'Hydrogen.Pressures'\n",
       "59. 'Hydrogen.Standards'\n",
       "60. 'CNG.Fill.Type.Code'\n",
       "61. 'CNG.PSI'\n",
       "62. 'CNG.Vehicle.Class'\n",
       "63. 'LNG.Vehicle.Class'\n",
       "64. 'EV.On.Site.Renewable.Source'\n",
       "65. 'Restricted.Access'\n",
       "\n",
       "\n"
      ],
      "text/plain": [
       " [1] \"Fuel.Type.Code\"                   \"Station.Name\"                    \n",
       " [3] \"Street.Address\"                   \"Intersection.Directions\"         \n",
       " [5] \"City\"                             \"State\"                           \n",
       " [7] \"ZIP\"                              \"Plus4\"                           \n",
       " [9] \"Station.Phone\"                    \"Status.Code\"                     \n",
       "[11] \"Expected.Date\"                    \"Groups.With.Access.Code\"         \n",
       "[13] \"Access.Days.Time\"                 \"Cards.Accepted\"                  \n",
       "[15] \"BD.Blends\"                        \"NG.Fill.Type.Code\"               \n",
       "[17] \"NG.PSI\"                           \"EV.Level1.EVSE.Num\"              \n",
       "[19] \"EV.Level2.EVSE.Num\"               \"EV.DC.Fast.Count\"                \n",
       "[21] \"EV.Other.Info\"                    \"EV.Network\"                      \n",
       "[23] \"EV.Network.Web\"                   \"Geocode.Status\"                  \n",
       "[25] \"Latitude\"                         \"Longitude\"                       \n",
       "[27] \"Date.Last.Confirmed\"              \"ID\"                              \n",
       "[29] \"Updated.At\"                       \"Owner.Type.Code\"                 \n",
       "[31] \"Federal.Agency.ID\"                \"Federal.Agency.Name\"             \n",
       "[33] \"Open.Date\"                        \"Hydrogen.Status.Link\"            \n",
       "[35] \"NG.Vehicle.Class\"                 \"LPG.Primary\"                     \n",
       "[37] \"E85.Blender.Pump\"                 \"EV.Connector.Types\"              \n",
       "[39] \"Country\"                          \"Intersection.Directions..French.\"\n",
       "[41] \"Access.Days.Time..French.\"        \"BD.Blends..French.\"              \n",
       "[43] \"Groups.With.Access.Code..French.\" \"Hydrogen.Is.Retail\"              \n",
       "[45] \"Access.Code\"                      \"Access.Detail.Code\"              \n",
       "[47] \"Federal.Agency.Code\"              \"Facility.Type\"                   \n",
       "[49] \"CNG.Dispenser.Num\"                \"CNG.On.Site.Renewable.Source\"    \n",
       "[51] \"CNG.Total.Compression.Capacity\"   \"CNG.Storage.Capacity\"            \n",
       "[53] \"LNG.On.Site.Renewable.Source\"     \"E85.Other.Ethanol.Blends\"        \n",
       "[55] \"EV.Pricing\"                       \"EV.Pricing..French.\"             \n",
       "[57] \"LPG.Nozzle.Types\"                 \"Hydrogen.Pressures\"              \n",
       "[59] \"Hydrogen.Standards\"               \"CNG.Fill.Type.Code\"              \n",
       "[61] \"CNG.PSI\"                          \"CNG.Vehicle.Class\"               \n",
       "[63] \"LNG.Vehicle.Class\"                \"EV.On.Site.Renewable.Source\"     \n",
       "[65] \"Restricted.Access\"               "
      ]
     },
     "metadata": {},
     "output_type": "display_data"
    }
   ],
   "source": [
    "library(tidyverse)\n",
    "\n",
    "dat = read.csv('Data/Transport/alt_fuel_stations.csv')\n",
    "# There are spaces in some column names, which R doesn't understand. Need to correct them.\n",
    "make.names(names(dat))"
   ]
  },
  {
   "cell_type": "markdown",
   "id": "9adbb2bc",
   "metadata": {},
   "source": [
    "Now let's take a look at the data using descriptive statistics and create some basic plots."
   ]
  },
  {
   "cell_type": "code",
   "execution_count": 2,
   "id": "58493aab",
   "metadata": {
    "scrolled": true
   },
   "outputs": [
    {
     "data": {
      "text/html": [
       "<table class=\"dataframe\">\n",
       "<caption>A data.frame: 6 × 65</caption>\n",
       "<thead>\n",
       "\t<tr><th></th><th scope=col>Fuel.Type.Code</th><th scope=col>Station.Name</th><th scope=col>Street.Address</th><th scope=col>Intersection.Directions</th><th scope=col>City</th><th scope=col>State</th><th scope=col>ZIP</th><th scope=col>Plus4</th><th scope=col>Station.Phone</th><th scope=col>Status.Code</th><th scope=col>⋯</th><th scope=col>EV.Pricing..French.</th><th scope=col>LPG.Nozzle.Types</th><th scope=col>Hydrogen.Pressures</th><th scope=col>Hydrogen.Standards</th><th scope=col>CNG.Fill.Type.Code</th><th scope=col>CNG.PSI</th><th scope=col>CNG.Vehicle.Class</th><th scope=col>LNG.Vehicle.Class</th><th scope=col>EV.On.Site.Renewable.Source</th><th scope=col>Restricted.Access</th></tr>\n",
       "\t<tr><th></th><th scope=col>&lt;chr&gt;</th><th scope=col>&lt;chr&gt;</th><th scope=col>&lt;chr&gt;</th><th scope=col>&lt;chr&gt;</th><th scope=col>&lt;chr&gt;</th><th scope=col>&lt;chr&gt;</th><th scope=col>&lt;chr&gt;</th><th scope=col>&lt;lgl&gt;</th><th scope=col>&lt;chr&gt;</th><th scope=col>&lt;chr&gt;</th><th scope=col>⋯</th><th scope=col>&lt;lgl&gt;</th><th scope=col>&lt;lgl&gt;</th><th scope=col>&lt;lgl&gt;</th><th scope=col>&lt;lgl&gt;</th><th scope=col>&lt;lgl&gt;</th><th scope=col>&lt;lgl&gt;</th><th scope=col>&lt;lgl&gt;</th><th scope=col>&lt;lgl&gt;</th><th scope=col>&lt;chr&gt;</th><th scope=col>&lt;lgl&gt;</th></tr>\n",
       "</thead>\n",
       "<tbody>\n",
       "\t<tr><th scope=row>1</th><td>ELEC</td><td>LADWP - Truesdale Center       </td><td>11797 Truesdale St   </td><td>                        </td><td>Sun Valley </td><td>CA</td><td>91352</td><td>NA</td><td>            </td><td>E</td><td>⋯</td><td>NA</td><td>NA</td><td>NA</td><td>NA</td><td>NA</td><td>NA</td><td>NA</td><td>NA</td><td></td><td>NA</td></tr>\n",
       "\t<tr><th scope=row>2</th><td>ELEC</td><td>LADWP - West LA District Office</td><td>1394 S Sepulveda Blvd</td><td>                        </td><td>Los Angeles</td><td>CA</td><td>90024</td><td>NA</td><td>            </td><td>E</td><td>⋯</td><td>NA</td><td>NA</td><td>NA</td><td>NA</td><td>NA</td><td>NA</td><td>NA</td><td>NA</td><td></td><td>NA</td></tr>\n",
       "\t<tr><th scope=row>3</th><td>ELEC</td><td>Los Angeles Convention Center  </td><td>1201 S Figueroa St   </td><td>West hall and South hall</td><td>Los Angeles</td><td>CA</td><td>90015</td><td>NA</td><td>213-741-1151</td><td>E</td><td>⋯</td><td>NA</td><td>NA</td><td>NA</td><td>NA</td><td>NA</td><td>NA</td><td>NA</td><td>NA</td><td></td><td>NA</td></tr>\n",
       "\t<tr><th scope=row>4</th><td>ELEC</td><td>LADWP - John Ferraro Building  </td><td>111 N Hope St        </td><td>Across Hope             </td><td>Los Angeles</td><td>CA</td><td>90012</td><td>NA</td><td>            </td><td>E</td><td>⋯</td><td>NA</td><td>NA</td><td>NA</td><td>NA</td><td>NA</td><td>NA</td><td>NA</td><td>NA</td><td></td><td>NA</td></tr>\n",
       "\t<tr><th scope=row>5</th><td>ELEC</td><td>LADWP - Haynes Power Plant     </td><td>6801 E 2nd St        </td><td>                        </td><td>Long Beach </td><td>CA</td><td>90803</td><td>NA</td><td>            </td><td>E</td><td>⋯</td><td>NA</td><td>NA</td><td>NA</td><td>NA</td><td>NA</td><td>NA</td><td>NA</td><td>NA</td><td></td><td>NA</td></tr>\n",
       "\t<tr><th scope=row>6</th><td>ELEC</td><td>State Capitol Parking Garage   </td><td>1303 10th St         </td><td>At 12th and N St        </td><td>Sacramento </td><td>CA</td><td>95814</td><td>NA</td><td>            </td><td>E</td><td>⋯</td><td>NA</td><td>NA</td><td>NA</td><td>NA</td><td>NA</td><td>NA</td><td>NA</td><td>NA</td><td></td><td>NA</td></tr>\n",
       "</tbody>\n",
       "</table>\n"
      ],
      "text/latex": [
       "A data.frame: 6 × 65\n",
       "\\begin{tabular}{r|lllllllllllllllllllll}\n",
       "  & Fuel.Type.Code & Station.Name & Street.Address & Intersection.Directions & City & State & ZIP & Plus4 & Station.Phone & Status.Code & ⋯ & EV.Pricing..French. & LPG.Nozzle.Types & Hydrogen.Pressures & Hydrogen.Standards & CNG.Fill.Type.Code & CNG.PSI & CNG.Vehicle.Class & LNG.Vehicle.Class & EV.On.Site.Renewable.Source & Restricted.Access\\\\\n",
       "  & <chr> & <chr> & <chr> & <chr> & <chr> & <chr> & <chr> & <lgl> & <chr> & <chr> & ⋯ & <lgl> & <lgl> & <lgl> & <lgl> & <lgl> & <lgl> & <lgl> & <lgl> & <chr> & <lgl>\\\\\n",
       "\\hline\n",
       "\t1 & ELEC & LADWP - Truesdale Center        & 11797 Truesdale St    &                          & Sun Valley  & CA & 91352 & NA &              & E & ⋯ & NA & NA & NA & NA & NA & NA & NA & NA &  & NA\\\\\n",
       "\t2 & ELEC & LADWP - West LA District Office & 1394 S Sepulveda Blvd &                          & Los Angeles & CA & 90024 & NA &              & E & ⋯ & NA & NA & NA & NA & NA & NA & NA & NA &  & NA\\\\\n",
       "\t3 & ELEC & Los Angeles Convention Center   & 1201 S Figueroa St    & West hall and South hall & Los Angeles & CA & 90015 & NA & 213-741-1151 & E & ⋯ & NA & NA & NA & NA & NA & NA & NA & NA &  & NA\\\\\n",
       "\t4 & ELEC & LADWP - John Ferraro Building   & 111 N Hope St         & Across Hope              & Los Angeles & CA & 90012 & NA &              & E & ⋯ & NA & NA & NA & NA & NA & NA & NA & NA &  & NA\\\\\n",
       "\t5 & ELEC & LADWP - Haynes Power Plant      & 6801 E 2nd St         &                          & Long Beach  & CA & 90803 & NA &              & E & ⋯ & NA & NA & NA & NA & NA & NA & NA & NA &  & NA\\\\\n",
       "\t6 & ELEC & State Capitol Parking Garage    & 1303 10th St          & At 12th and N St         & Sacramento  & CA & 95814 & NA &              & E & ⋯ & NA & NA & NA & NA & NA & NA & NA & NA &  & NA\\\\\n",
       "\\end{tabular}\n"
      ],
      "text/markdown": [
       "\n",
       "A data.frame: 6 × 65\n",
       "\n",
       "| <!--/--> | Fuel.Type.Code &lt;chr&gt; | Station.Name &lt;chr&gt; | Street.Address &lt;chr&gt; | Intersection.Directions &lt;chr&gt; | City &lt;chr&gt; | State &lt;chr&gt; | ZIP &lt;chr&gt; | Plus4 &lt;lgl&gt; | Station.Phone &lt;chr&gt; | Status.Code &lt;chr&gt; | ⋯ ⋯ | EV.Pricing..French. &lt;lgl&gt; | LPG.Nozzle.Types &lt;lgl&gt; | Hydrogen.Pressures &lt;lgl&gt; | Hydrogen.Standards &lt;lgl&gt; | CNG.Fill.Type.Code &lt;lgl&gt; | CNG.PSI &lt;lgl&gt; | CNG.Vehicle.Class &lt;lgl&gt; | LNG.Vehicle.Class &lt;lgl&gt; | EV.On.Site.Renewable.Source &lt;chr&gt; | Restricted.Access &lt;lgl&gt; |\n",
       "|---|---|---|---|---|---|---|---|---|---|---|---|---|---|---|---|---|---|---|---|---|---|\n",
       "| 1 | ELEC | LADWP - Truesdale Center        | 11797 Truesdale St    | <!----> | Sun Valley  | CA | 91352 | NA | <!----> | E | ⋯ | NA | NA | NA | NA | NA | NA | NA | NA | <!----> | NA |\n",
       "| 2 | ELEC | LADWP - West LA District Office | 1394 S Sepulveda Blvd | <!----> | Los Angeles | CA | 90024 | NA | <!----> | E | ⋯ | NA | NA | NA | NA | NA | NA | NA | NA | <!----> | NA |\n",
       "| 3 | ELEC | Los Angeles Convention Center   | 1201 S Figueroa St    | West hall and South hall | Los Angeles | CA | 90015 | NA | 213-741-1151 | E | ⋯ | NA | NA | NA | NA | NA | NA | NA | NA | <!----> | NA |\n",
       "| 4 | ELEC | LADWP - John Ferraro Building   | 111 N Hope St         | Across Hope              | Los Angeles | CA | 90012 | NA | <!----> | E | ⋯ | NA | NA | NA | NA | NA | NA | NA | NA | <!----> | NA |\n",
       "| 5 | ELEC | LADWP - Haynes Power Plant      | 6801 E 2nd St         | <!----> | Long Beach  | CA | 90803 | NA | <!----> | E | ⋯ | NA | NA | NA | NA | NA | NA | NA | NA | <!----> | NA |\n",
       "| 6 | ELEC | State Capitol Parking Garage    | 1303 10th St          | At 12th and N St         | Sacramento  | CA | 95814 | NA | <!----> | E | ⋯ | NA | NA | NA | NA | NA | NA | NA | NA | <!----> | NA |\n",
       "\n"
      ],
      "text/plain": [
       "  Fuel.Type.Code Station.Name                    Street.Address       \n",
       "1 ELEC           LADWP - Truesdale Center        11797 Truesdale St   \n",
       "2 ELEC           LADWP - West LA District Office 1394 S Sepulveda Blvd\n",
       "3 ELEC           Los Angeles Convention Center   1201 S Figueroa St   \n",
       "4 ELEC           LADWP - John Ferraro Building   111 N Hope St        \n",
       "5 ELEC           LADWP - Haynes Power Plant      6801 E 2nd St        \n",
       "6 ELEC           State Capitol Parking Garage    1303 10th St         \n",
       "  Intersection.Directions  City        State ZIP   Plus4 Station.Phone\n",
       "1                          Sun Valley  CA    91352 NA                 \n",
       "2                          Los Angeles CA    90024 NA                 \n",
       "3 West hall and South hall Los Angeles CA    90015 NA    213-741-1151 \n",
       "4 Across Hope              Los Angeles CA    90012 NA                 \n",
       "5                          Long Beach  CA    90803 NA                 \n",
       "6 At 12th and N St         Sacramento  CA    95814 NA                 \n",
       "  Status.Code <U+22EF>        EV.Pricing..French. LPG.Nozzle.Types Hydrogen.Pressures\n",
       "1 E           <U+22EF> NA                  NA               NA                \n",
       "2 E           <U+22EF> NA                  NA               NA                \n",
       "3 E           <U+22EF> NA                  NA               NA                \n",
       "4 E           <U+22EF> NA                  NA               NA                \n",
       "5 E           <U+22EF> NA                  NA               NA                \n",
       "6 E           <U+22EF> NA                  NA               NA                \n",
       "  Hydrogen.Standards CNG.Fill.Type.Code CNG.PSI CNG.Vehicle.Class\n",
       "1 NA                 NA                 NA      NA               \n",
       "2 NA                 NA                 NA      NA               \n",
       "3 NA                 NA                 NA      NA               \n",
       "4 NA                 NA                 NA      NA               \n",
       "5 NA                 NA                 NA      NA               \n",
       "6 NA                 NA                 NA      NA               \n",
       "  LNG.Vehicle.Class EV.On.Site.Renewable.Source Restricted.Access\n",
       "1 NA                                            NA               \n",
       "2 NA                                            NA               \n",
       "3 NA                                            NA               \n",
       "4 NA                                            NA               \n",
       "5 NA                                            NA               \n",
       "6 NA                                            NA               "
      ]
     },
     "metadata": {},
     "output_type": "display_data"
    }
   ],
   "source": [
    "head(dat)"
   ]
  },
  {
   "cell_type": "code",
   "execution_count": 3,
   "id": "5b5ba626",
   "metadata": {},
   "outputs": [
    {
     "data": {
      "text/html": [
       "<style>\n",
       ".list-inline {list-style: none; margin:0; padding: 0}\n",
       ".list-inline>li {display: inline-block}\n",
       ".list-inline>li:not(:last-child)::after {content: \"\\00b7\"; padding: 0 .5ex}\n",
       "</style>\n",
       "<ol class=list-inline><li>'Fuel.Type.Code'</li><li>'Station.Name'</li><li>'Street.Address'</li><li>'Intersection.Directions'</li><li>'City'</li><li>'State'</li><li>'ZIP'</li><li>'Plus4'</li><li>'Station.Phone'</li><li>'Status.Code'</li><li>'Expected.Date'</li><li>'Groups.With.Access.Code'</li><li>'Access.Days.Time'</li><li>'Cards.Accepted'</li><li>'BD.Blends'</li><li>'NG.Fill.Type.Code'</li><li>'NG.PSI'</li><li>'EV.Level1.EVSE.Num'</li><li>'EV.Level2.EVSE.Num'</li><li>'EV.DC.Fast.Count'</li><li>'EV.Other.Info'</li><li>'EV.Network'</li><li>'EV.Network.Web'</li><li>'Geocode.Status'</li><li>'Latitude'</li><li>'Longitude'</li><li>'Date.Last.Confirmed'</li><li>'ID'</li><li>'Updated.At'</li><li>'Owner.Type.Code'</li><li>'Federal.Agency.ID'</li><li>'Federal.Agency.Name'</li><li>'Open.Date'</li><li>'Hydrogen.Status.Link'</li><li>'NG.Vehicle.Class'</li><li>'LPG.Primary'</li><li>'E85.Blender.Pump'</li><li>'EV.Connector.Types'</li><li>'Country'</li><li>'Intersection.Directions..French.'</li><li>'Access.Days.Time..French.'</li><li>'BD.Blends..French.'</li><li>'Groups.With.Access.Code..French.'</li><li>'Hydrogen.Is.Retail'</li><li>'Access.Code'</li><li>'Access.Detail.Code'</li><li>'Federal.Agency.Code'</li><li>'Facility.Type'</li><li>'CNG.Dispenser.Num'</li><li>'CNG.On.Site.Renewable.Source'</li><li>'CNG.Total.Compression.Capacity'</li><li>'CNG.Storage.Capacity'</li><li>'LNG.On.Site.Renewable.Source'</li><li>'E85.Other.Ethanol.Blends'</li><li>'EV.Pricing'</li><li>'EV.Pricing..French.'</li><li>'LPG.Nozzle.Types'</li><li>'Hydrogen.Pressures'</li><li>'Hydrogen.Standards'</li><li>'CNG.Fill.Type.Code'</li><li>'CNG.PSI'</li><li>'CNG.Vehicle.Class'</li><li>'LNG.Vehicle.Class'</li><li>'EV.On.Site.Renewable.Source'</li><li>'Restricted.Access'</li></ol>\n"
      ],
      "text/latex": [
       "\\begin{enumerate*}\n",
       "\\item 'Fuel.Type.Code'\n",
       "\\item 'Station.Name'\n",
       "\\item 'Street.Address'\n",
       "\\item 'Intersection.Directions'\n",
       "\\item 'City'\n",
       "\\item 'State'\n",
       "\\item 'ZIP'\n",
       "\\item 'Plus4'\n",
       "\\item 'Station.Phone'\n",
       "\\item 'Status.Code'\n",
       "\\item 'Expected.Date'\n",
       "\\item 'Groups.With.Access.Code'\n",
       "\\item 'Access.Days.Time'\n",
       "\\item 'Cards.Accepted'\n",
       "\\item 'BD.Blends'\n",
       "\\item 'NG.Fill.Type.Code'\n",
       "\\item 'NG.PSI'\n",
       "\\item 'EV.Level1.EVSE.Num'\n",
       "\\item 'EV.Level2.EVSE.Num'\n",
       "\\item 'EV.DC.Fast.Count'\n",
       "\\item 'EV.Other.Info'\n",
       "\\item 'EV.Network'\n",
       "\\item 'EV.Network.Web'\n",
       "\\item 'Geocode.Status'\n",
       "\\item 'Latitude'\n",
       "\\item 'Longitude'\n",
       "\\item 'Date.Last.Confirmed'\n",
       "\\item 'ID'\n",
       "\\item 'Updated.At'\n",
       "\\item 'Owner.Type.Code'\n",
       "\\item 'Federal.Agency.ID'\n",
       "\\item 'Federal.Agency.Name'\n",
       "\\item 'Open.Date'\n",
       "\\item 'Hydrogen.Status.Link'\n",
       "\\item 'NG.Vehicle.Class'\n",
       "\\item 'LPG.Primary'\n",
       "\\item 'E85.Blender.Pump'\n",
       "\\item 'EV.Connector.Types'\n",
       "\\item 'Country'\n",
       "\\item 'Intersection.Directions..French.'\n",
       "\\item 'Access.Days.Time..French.'\n",
       "\\item 'BD.Blends..French.'\n",
       "\\item 'Groups.With.Access.Code..French.'\n",
       "\\item 'Hydrogen.Is.Retail'\n",
       "\\item 'Access.Code'\n",
       "\\item 'Access.Detail.Code'\n",
       "\\item 'Federal.Agency.Code'\n",
       "\\item 'Facility.Type'\n",
       "\\item 'CNG.Dispenser.Num'\n",
       "\\item 'CNG.On.Site.Renewable.Source'\n",
       "\\item 'CNG.Total.Compression.Capacity'\n",
       "\\item 'CNG.Storage.Capacity'\n",
       "\\item 'LNG.On.Site.Renewable.Source'\n",
       "\\item 'E85.Other.Ethanol.Blends'\n",
       "\\item 'EV.Pricing'\n",
       "\\item 'EV.Pricing..French.'\n",
       "\\item 'LPG.Nozzle.Types'\n",
       "\\item 'Hydrogen.Pressures'\n",
       "\\item 'Hydrogen.Standards'\n",
       "\\item 'CNG.Fill.Type.Code'\n",
       "\\item 'CNG.PSI'\n",
       "\\item 'CNG.Vehicle.Class'\n",
       "\\item 'LNG.Vehicle.Class'\n",
       "\\item 'EV.On.Site.Renewable.Source'\n",
       "\\item 'Restricted.Access'\n",
       "\\end{enumerate*}\n"
      ],
      "text/markdown": [
       "1. 'Fuel.Type.Code'\n",
       "2. 'Station.Name'\n",
       "3. 'Street.Address'\n",
       "4. 'Intersection.Directions'\n",
       "5. 'City'\n",
       "6. 'State'\n",
       "7. 'ZIP'\n",
       "8. 'Plus4'\n",
       "9. 'Station.Phone'\n",
       "10. 'Status.Code'\n",
       "11. 'Expected.Date'\n",
       "12. 'Groups.With.Access.Code'\n",
       "13. 'Access.Days.Time'\n",
       "14. 'Cards.Accepted'\n",
       "15. 'BD.Blends'\n",
       "16. 'NG.Fill.Type.Code'\n",
       "17. 'NG.PSI'\n",
       "18. 'EV.Level1.EVSE.Num'\n",
       "19. 'EV.Level2.EVSE.Num'\n",
       "20. 'EV.DC.Fast.Count'\n",
       "21. 'EV.Other.Info'\n",
       "22. 'EV.Network'\n",
       "23. 'EV.Network.Web'\n",
       "24. 'Geocode.Status'\n",
       "25. 'Latitude'\n",
       "26. 'Longitude'\n",
       "27. 'Date.Last.Confirmed'\n",
       "28. 'ID'\n",
       "29. 'Updated.At'\n",
       "30. 'Owner.Type.Code'\n",
       "31. 'Federal.Agency.ID'\n",
       "32. 'Federal.Agency.Name'\n",
       "33. 'Open.Date'\n",
       "34. 'Hydrogen.Status.Link'\n",
       "35. 'NG.Vehicle.Class'\n",
       "36. 'LPG.Primary'\n",
       "37. 'E85.Blender.Pump'\n",
       "38. 'EV.Connector.Types'\n",
       "39. 'Country'\n",
       "40. 'Intersection.Directions..French.'\n",
       "41. 'Access.Days.Time..French.'\n",
       "42. 'BD.Blends..French.'\n",
       "43. 'Groups.With.Access.Code..French.'\n",
       "44. 'Hydrogen.Is.Retail'\n",
       "45. 'Access.Code'\n",
       "46. 'Access.Detail.Code'\n",
       "47. 'Federal.Agency.Code'\n",
       "48. 'Facility.Type'\n",
       "49. 'CNG.Dispenser.Num'\n",
       "50. 'CNG.On.Site.Renewable.Source'\n",
       "51. 'CNG.Total.Compression.Capacity'\n",
       "52. 'CNG.Storage.Capacity'\n",
       "53. 'LNG.On.Site.Renewable.Source'\n",
       "54. 'E85.Other.Ethanol.Blends'\n",
       "55. 'EV.Pricing'\n",
       "56. 'EV.Pricing..French.'\n",
       "57. 'LPG.Nozzle.Types'\n",
       "58. 'Hydrogen.Pressures'\n",
       "59. 'Hydrogen.Standards'\n",
       "60. 'CNG.Fill.Type.Code'\n",
       "61. 'CNG.PSI'\n",
       "62. 'CNG.Vehicle.Class'\n",
       "63. 'LNG.Vehicle.Class'\n",
       "64. 'EV.On.Site.Renewable.Source'\n",
       "65. 'Restricted.Access'\n",
       "\n",
       "\n"
      ],
      "text/plain": [
       " [1] \"Fuel.Type.Code\"                   \"Station.Name\"                    \n",
       " [3] \"Street.Address\"                   \"Intersection.Directions\"         \n",
       " [5] \"City\"                             \"State\"                           \n",
       " [7] \"ZIP\"                              \"Plus4\"                           \n",
       " [9] \"Station.Phone\"                    \"Status.Code\"                     \n",
       "[11] \"Expected.Date\"                    \"Groups.With.Access.Code\"         \n",
       "[13] \"Access.Days.Time\"                 \"Cards.Accepted\"                  \n",
       "[15] \"BD.Blends\"                        \"NG.Fill.Type.Code\"               \n",
       "[17] \"NG.PSI\"                           \"EV.Level1.EVSE.Num\"              \n",
       "[19] \"EV.Level2.EVSE.Num\"               \"EV.DC.Fast.Count\"                \n",
       "[21] \"EV.Other.Info\"                    \"EV.Network\"                      \n",
       "[23] \"EV.Network.Web\"                   \"Geocode.Status\"                  \n",
       "[25] \"Latitude\"                         \"Longitude\"                       \n",
       "[27] \"Date.Last.Confirmed\"              \"ID\"                              \n",
       "[29] \"Updated.At\"                       \"Owner.Type.Code\"                 \n",
       "[31] \"Federal.Agency.ID\"                \"Federal.Agency.Name\"             \n",
       "[33] \"Open.Date\"                        \"Hydrogen.Status.Link\"            \n",
       "[35] \"NG.Vehicle.Class\"                 \"LPG.Primary\"                     \n",
       "[37] \"E85.Blender.Pump\"                 \"EV.Connector.Types\"              \n",
       "[39] \"Country\"                          \"Intersection.Directions..French.\"\n",
       "[41] \"Access.Days.Time..French.\"        \"BD.Blends..French.\"              \n",
       "[43] \"Groups.With.Access.Code..French.\" \"Hydrogen.Is.Retail\"              \n",
       "[45] \"Access.Code\"                      \"Access.Detail.Code\"              \n",
       "[47] \"Federal.Agency.Code\"              \"Facility.Type\"                   \n",
       "[49] \"CNG.Dispenser.Num\"                \"CNG.On.Site.Renewable.Source\"    \n",
       "[51] \"CNG.Total.Compression.Capacity\"   \"CNG.Storage.Capacity\"            \n",
       "[53] \"LNG.On.Site.Renewable.Source\"     \"E85.Other.Ethanol.Blends\"        \n",
       "[55] \"EV.Pricing\"                       \"EV.Pricing..French.\"             \n",
       "[57] \"LPG.Nozzle.Types\"                 \"Hydrogen.Pressures\"              \n",
       "[59] \"Hydrogen.Standards\"               \"CNG.Fill.Type.Code\"              \n",
       "[61] \"CNG.PSI\"                          \"CNG.Vehicle.Class\"               \n",
       "[63] \"LNG.Vehicle.Class\"                \"EV.On.Site.Renewable.Source\"     \n",
       "[65] \"Restricted.Access\"               "
      ]
     },
     "metadata": {},
     "output_type": "display_data"
    }
   ],
   "source": [
    "colnames(dat)"
   ]
  },
  {
   "cell_type": "code",
   "execution_count": 4,
   "id": "6dd38f21",
   "metadata": {},
   "outputs": [
    {
     "data": {
      "image/png": "[encoded data removed]",
      "text/plain": [
       "plot without title"
      ]
     },
     "metadata": {
      "image/png": {
       "height": 480,
       "width": 900
      }
     },
     "output_type": "display_data"
    }
   ],
   "source": [
    "# Adjust the size of the plot\n",
    "fig <- function(width, heigth){\n",
    " options(repr.plot.width = width, repr.plot.height = heigth)\n",
    " }\n",
    "\n",
    "fig(15,8)\n",
    "ggplot(data=dat)+stat_count(mapping=aes(x=State))"
   ]
  },
  {
   "cell_type": "code",
   "execution_count": 5,
   "id": "c75b1ea8",
   "metadata": {},
   "outputs": [
    {
     "data": {
      "image/png": "[encoded data removed]",
      "text/plain": [
       "plot without title"
      ]
     },
     "metadata": {
      "image/png": {
       "height": 480,
       "width": 900
      }
     },
     "output_type": "display_data"
    }
   ],
   "source": [
    "# Adjust the size of the plot\n",
    "fig(15,8)\n",
    "# I don't like the difference in scales, so let's use a log scale on y-axis\n",
    "ggplot(data=dat)+stat_count(mapping = aes(x = State))+\n",
    "  scale_y_continuous(trans='log10')"
   ]
  },
  {
   "cell_type": "code",
   "execution_count": 72,
   "id": "b422d854",
   "metadata": {},
   "outputs": [
    {
     "data": {
      "text/html": [
       "<table class=\"dataframe\">\n",
       "<caption>A data.frame: 2 × 65</caption>\n",
       "<thead>\n",
       "\t<tr><th scope=col>Fuel.Type.Code</th><th scope=col>Station.Name</th><th scope=col>Street.Address</th><th scope=col>Intersection.Directions</th><th scope=col>City</th><th scope=col>State</th><th scope=col>ZIP</th><th scope=col>Plus4</th><th scope=col>Station.Phone</th><th scope=col>Status.Code</th><th scope=col>⋯</th><th scope=col>EV.Pricing..French.</th><th scope=col>LPG.Nozzle.Types</th><th scope=col>Hydrogen.Pressures</th><th scope=col>Hydrogen.Standards</th><th scope=col>CNG.Fill.Type.Code</th><th scope=col>CNG.PSI</th><th scope=col>CNG.Vehicle.Class</th><th scope=col>LNG.Vehicle.Class</th><th scope=col>EV.On.Site.Renewable.Source</th><th scope=col>Restricted.Access</th></tr>\n",
       "\t<tr><th scope=col>&lt;chr&gt;</th><th scope=col>&lt;chr&gt;</th><th scope=col>&lt;chr&gt;</th><th scope=col>&lt;chr&gt;</th><th scope=col>&lt;chr&gt;</th><th scope=col>&lt;chr&gt;</th><th scope=col>&lt;chr&gt;</th><th scope=col>&lt;lgl&gt;</th><th scope=col>&lt;chr&gt;</th><th scope=col>&lt;chr&gt;</th><th scope=col>⋯</th><th scope=col>&lt;lgl&gt;</th><th scope=col>&lt;lgl&gt;</th><th scope=col>&lt;lgl&gt;</th><th scope=col>&lt;lgl&gt;</th><th scope=col>&lt;lgl&gt;</th><th scope=col>&lt;lgl&gt;</th><th scope=col>&lt;lgl&gt;</th><th scope=col>&lt;lgl&gt;</th><th scope=col>&lt;chr&gt;</th><th scope=col>&lt;lgl&gt;</th></tr>\n",
       "</thead>\n",
       "<tbody>\n",
       "\t<tr><td>ELEC</td><td>Comfort Hotel-DCFC             </td><td>5700 Stanley Avenue</td><td></td><td>Niagara Falls</td><td>ON</td><td>L2G3X</td><td>NA</td><td>855-885-9571</td><td>E</td><td>⋯</td><td>NA</td><td>NA</td><td>NA</td><td>NA</td><td>NA</td><td>NA</td><td>NA</td><td>NA</td><td></td><td>NA</td></tr>\n",
       "\t<tr><td>ELEC</td><td>AmbuEnergy Office - Private Use</td><td>4-465 Milner Ave.  </td><td></td><td>Toronto      </td><td>ON</td><td>M1B 2</td><td>NA</td><td>855-885-9571</td><td>E</td><td>⋯</td><td>NA</td><td>NA</td><td>NA</td><td>NA</td><td>NA</td><td>NA</td><td>NA</td><td>NA</td><td></td><td>NA</td></tr>\n",
       "</tbody>\n",
       "</table>\n"
      ],
      "text/latex": [
       "A data.frame: 2 × 65\n",
       "\\begin{tabular}{lllllllllllllllllllll}\n",
       " Fuel.Type.Code & Station.Name & Street.Address & Intersection.Directions & City & State & ZIP & Plus4 & Station.Phone & Status.Code & ⋯ & EV.Pricing..French. & LPG.Nozzle.Types & Hydrogen.Pressures & Hydrogen.Standards & CNG.Fill.Type.Code & CNG.PSI & CNG.Vehicle.Class & LNG.Vehicle.Class & EV.On.Site.Renewable.Source & Restricted.Access\\\\\n",
       " <chr> & <chr> & <chr> & <chr> & <chr> & <chr> & <chr> & <lgl> & <chr> & <chr> & ⋯ & <lgl> & <lgl> & <lgl> & <lgl> & <lgl> & <lgl> & <lgl> & <lgl> & <chr> & <lgl>\\\\\n",
       "\\hline\n",
       "\t ELEC & Comfort Hotel-DCFC              & 5700 Stanley Avenue &  & Niagara Falls & ON & L2G3X & NA & 855-885-9571 & E & ⋯ & NA & NA & NA & NA & NA & NA & NA & NA &  & NA\\\\\n",
       "\t ELEC & AmbuEnergy Office - Private Use & 4-465 Milner Ave.   &  & Toronto       & ON & M1B 2 & NA & 855-885-9571 & E & ⋯ & NA & NA & NA & NA & NA & NA & NA & NA &  & NA\\\\\n",
       "\\end{tabular}\n"
      ],
      "text/markdown": [
       "\n",
       "A data.frame: 2 × 65\n",
       "\n",
       "| Fuel.Type.Code &lt;chr&gt; | Station.Name &lt;chr&gt; | Street.Address &lt;chr&gt; | Intersection.Directions &lt;chr&gt; | City &lt;chr&gt; | State &lt;chr&gt; | ZIP &lt;chr&gt; | Plus4 &lt;lgl&gt; | Station.Phone &lt;chr&gt; | Status.Code &lt;chr&gt; | ⋯ ⋯ | EV.Pricing..French. &lt;lgl&gt; | LPG.Nozzle.Types &lt;lgl&gt; | Hydrogen.Pressures &lt;lgl&gt; | Hydrogen.Standards &lt;lgl&gt; | CNG.Fill.Type.Code &lt;lgl&gt; | CNG.PSI &lt;lgl&gt; | CNG.Vehicle.Class &lt;lgl&gt; | LNG.Vehicle.Class &lt;lgl&gt; | EV.On.Site.Renewable.Source &lt;chr&gt; | Restricted.Access &lt;lgl&gt; |\n",
       "|---|---|---|---|---|---|---|---|---|---|---|---|---|---|---|---|---|---|---|---|---|\n",
       "| ELEC | Comfort Hotel-DCFC              | 5700 Stanley Avenue | <!----> | Niagara Falls | ON | L2G3X | NA | 855-885-9571 | E | ⋯ | NA | NA | NA | NA | NA | NA | NA | NA | <!----> | NA |\n",
       "| ELEC | AmbuEnergy Office - Private Use | 4-465 Milner Ave.   | <!----> | Toronto       | ON | M1B 2 | NA | 855-885-9571 | E | ⋯ | NA | NA | NA | NA | NA | NA | NA | NA | <!----> | NA |\n",
       "\n"
      ],
      "text/plain": [
       "  Fuel.Type.Code Station.Name                    Street.Address     \n",
       "1 ELEC           Comfort Hotel-DCFC              5700 Stanley Avenue\n",
       "2 ELEC           AmbuEnergy Office - Private Use 4-465 Milner Ave.  \n",
       "  Intersection.Directions City          State ZIP   Plus4 Station.Phone\n",
       "1                         Niagara Falls ON    L2G3X NA    855-885-9571 \n",
       "2                         Toronto       ON    M1B 2 NA    855-885-9571 \n",
       "  Status.Code <U+22EF>        EV.Pricing..French. LPG.Nozzle.Types Hydrogen.Pressures\n",
       "1 E           <U+22EF> NA                  NA               NA                \n",
       "2 E           <U+22EF> NA                  NA               NA                \n",
       "  Hydrogen.Standards CNG.Fill.Type.Code CNG.PSI CNG.Vehicle.Class\n",
       "1 NA                 NA                 NA      NA               \n",
       "2 NA                 NA                 NA      NA               \n",
       "  LNG.Vehicle.Class EV.On.Site.Renewable.Source Restricted.Access\n",
       "1 NA                                            NA               \n",
       "2 NA                                            NA               "
      ]
     },
     "metadata": {},
     "output_type": "display_data"
    }
   ],
   "source": [
    "dat%>%filter(State==\"ON\")"
   ]
  },
  {
   "cell_type": "markdown",
   "id": "190e051b",
   "metadata": {},
   "source": [
    "This is all stations, but we're only interested in EV stations. We need to filter for them."
   ]
  },
  {
   "cell_type": "code",
   "execution_count": 6,
   "id": "19eb2c89",
   "metadata": {},
   "outputs": [],
   "source": [
    "ev_dat = dat %>% filter(Fuel.Type.Code == 'ELEC')"
   ]
  },
  {
   "cell_type": "code",
   "execution_count": 7,
   "id": "0099d5b6",
   "metadata": {},
   "outputs": [
    {
     "data": {
      "image/png": "[encoded data removed]",
      "text/plain": [
       "plot without title"
      ]
     },
     "metadata": {
      "image/png": {
       "height": 480,
       "width": 900
      }
     },
     "output_type": "display_data"
    }
   ],
   "source": [
    "# Adjust the size of the plot\n",
    "fig(15,8)\n",
    "# I don't like the difference in scales, so let's use a log scale on y-axis\n",
    "ggplot(data=dat)+stat_count(mapping = aes(x = State))+\n",
    "  scale_y_continuous(trans='log10')"
   ]
  },
  {
   "cell_type": "markdown",
   "id": "d60ca082",
   "metadata": {},
   "source": [
    "Maybe we are interested in the rollout of stations by state. This is simple to plot using ggplot."
   ]
  },
  {
   "cell_type": "code",
   "execution_count": 8,
   "id": "11ae6cb0",
   "metadata": {},
   "outputs": [
    {
     "name": "stderr",
     "output_type": "stream",
     "text": [
      "Warning message:\n",
      "\"Removed 8 rows containing non-finite values (stat_bin).\"\n"
     ]
    },
    {
     "data": {
      "image/png": "[encoded data removed]",
      "text/plain": [
       "plot without title"
      ]
     },
     "metadata": {
      "image/png": {
       "height": 1200,
       "width": 900
      }
     },
     "output_type": "display_data"
    }
   ],
   "source": [
    "# We first need to extract the year to aggregate against in the plot\n",
    "ev_dat$Open.Year = as.integer(format(as.Date(dat$Open.Date, format=\"%Y-%m-%d\"),\"%Y\"))\n",
    "\n",
    "# Adjust the size of the plot\n",
    "fig(15,20)\n",
    "ggplot(data = ev_dat, mapping = aes(x = Open.Year)) + \n",
    "   geom_histogram(binwidth=1) + \n",
    "   facet_wrap(~ State, nrow = 15)"
   ]
  },
  {
   "cell_type": "markdown",
   "id": "6258f5b6",
   "metadata": {},
   "source": [
    "It is often useful to join data with our datasets. A common approach is to join based on spatial location. Let's join our charging station data with a county shapefile. We can then use this joined data to join census statistics."
   ]
  },
  {
   "cell_type": "code",
   "execution_count": 9,
   "id": "df0575cd",
   "metadata": {},
   "outputs": [
    {
     "name": "stderr",
     "output_type": "stream",
     "text": [
      "Linking to GEOS 3.9.1, GDAL 3.2.1, PROJ 7.2.1\n",
      "\n",
      "Registered S3 method overwritten by 'geojsonsf':\n",
      "  method        from   \n",
      "  print.geojson geojson\n",
      "\n",
      "\n",
      "Attaching package: 'geojsonio'\n",
      "\n",
      "\n",
      "The following object is masked from 'package:base':\n",
      "\n",
      "    pretty\n",
      "\n",
      "\n"
     ]
    },
    {
     "name": "stdout",
     "output_type": "stream",
     "text": [
      "Reading layer `cb_2018_us_county_5m' from data source \n",
      "  `C:\\Users\\jhawkins17\\University of Nebraska-Lincoln\\UNL-Hawkins Research Group - Documents\\EV-Chicken and Egg Project\\Data\\GIS\\cb_2018_us_county_5m\\cb_2018_us_county_5m.shp' \n",
      "  using driver `ESRI Shapefile'\n",
      "Simple feature collection with 3233 features and 9 fields\n",
      "Geometry type: MULTIPOLYGON\n",
      "Dimension:     XY\n",
      "Bounding box:  xmin: -179.1473 ymin: -14.55255 xmax: 179.7785 ymax: 71.35256\n",
      "Geodetic CRS:  NAD83\n"
     ]
    }
   ],
   "source": [
    "# Install the sp and sf packages\n",
    "#install.packages('sp','sf')\n",
    "#install.packages('geojsonio')\n",
    "\n",
    "library(sp)\n",
    "library(sf)\n",
    "library(geojsonio)\n",
    "\n",
    "sp_ev_dat = st_as_sf(ev_dat, coords = c(\"Longitude\",\"Latitude\"), crs=st_crs(4326))\n",
    "sp_cty = st_read('Data/GIS/cb_2018_us_county_5m/cb_2018_us_county_5m.shp')"
   ]
  },
  {
   "cell_type": "code",
   "execution_count": 10,
   "id": "1416652a",
   "metadata": {
    "scrolled": true
   },
   "outputs": [
    {
     "ename": "ERROR",
     "evalue": "Error in st_geos_binop(\"within\", x, y, sparse = sparse, prepared = prepared, : st_crs(x) == st_crs(y) is not TRUE\n",
     "output_type": "error",
     "traceback": [
      "Error in st_geos_binop(\"within\", x, y, sparse = sparse, prepared = prepared, : st_crs(x) == st_crs(y) is not TRUE\nTraceback:\n",
      "1. st_join(sp_ev_dat, sp_cty, join = st_within)",
      "2. st_join.sf(sp_ev_dat, sp_cty, join = st_within)",
      "3. join(x, y, ...)",
      "4. st_geos_binop(\"within\", x, y, sparse = sparse, prepared = prepared, \n .     ...)",
      "5. stopifnot(st_crs(x) == st_crs(y))"
     ]
    }
   ],
   "source": [
    "sp_ev_cty = st_join(sp_ev_dat, sp_cty, join=st_within)"
   ]
  },
  {
   "cell_type": "code",
   "execution_count": 11,
   "id": "d31b9680",
   "metadata": {},
   "outputs": [
    {
     "data": {
      "text/plain": [
       "Coordinate Reference System:\n",
       "  User input: EPSG:4326 \n",
       "  wkt:\n",
       "GEOGCRS[\"WGS 84\",\n",
       "    DATUM[\"World Geodetic System 1984\",\n",
       "        ELLIPSOID[\"WGS 84\",6378137,298.257223563,\n",
       "            LENGTHUNIT[\"metre\",1]]],\n",
       "    PRIMEM[\"Greenwich\",0,\n",
       "        ANGLEUNIT[\"degree\",0.0174532925199433]],\n",
       "    CS[ellipsoidal,2],\n",
       "        AXIS[\"geodetic latitude (Lat)\",north,\n",
       "            ORDER[1],\n",
       "            ANGLEUNIT[\"degree\",0.0174532925199433]],\n",
       "        AXIS[\"geodetic longitude (Lon)\",east,\n",
       "            ORDER[2],\n",
       "            ANGLEUNIT[\"degree\",0.0174532925199433]],\n",
       "    USAGE[\n",
       "        SCOPE[\"Horizontal component of 3D system.\"],\n",
       "        AREA[\"World.\"],\n",
       "        BBOX[-90,-180,90,180]],\n",
       "    ID[\"EPSG\",4326]]"
      ]
     },
     "metadata": {},
     "output_type": "display_data"
    }
   ],
   "source": [
    "st_crs(sp_ev_dat)"
   ]
  },
  {
   "cell_type": "code",
   "execution_count": 12,
   "id": "38f7e8f7",
   "metadata": {},
   "outputs": [
    {
     "data": {
      "text/plain": [
       "Coordinate Reference System:\n",
       "  User input: NAD83 \n",
       "  wkt:\n",
       "GEOGCRS[\"NAD83\",\n",
       "    DATUM[\"North American Datum 1983\",\n",
       "        ELLIPSOID[\"GRS 1980\",6378137,298.257222101,\n",
       "            LENGTHUNIT[\"metre\",1]]],\n",
       "    PRIMEM[\"Greenwich\",0,\n",
       "        ANGLEUNIT[\"degree\",0.0174532925199433]],\n",
       "    CS[ellipsoidal,2],\n",
       "        AXIS[\"latitude\",north,\n",
       "            ORDER[1],\n",
       "            ANGLEUNIT[\"degree\",0.0174532925199433]],\n",
       "        AXIS[\"longitude\",east,\n",
       "            ORDER[2],\n",
       "            ANGLEUNIT[\"degree\",0.0174532925199433]],\n",
       "    ID[\"EPSG\",4269]]"
      ]
     },
     "metadata": {},
     "output_type": "display_data"
    }
   ],
   "source": [
    "st_crs(sp_cty)"
   ]
  },
  {
   "cell_type": "code",
   "execution_count": 13,
   "id": "2ff55941",
   "metadata": {},
   "outputs": [],
   "source": [
    "sp_ev_dat = sp_ev_dat %>% st_transform(4269)\n",
    "sp_ev_cty = st_join(sp_ev_dat, sp_cty, join=st_within)"
   ]
  },
  {
   "cell_type": "code",
   "execution_count": 14,
   "id": "7fde31b5",
   "metadata": {},
   "outputs": [
    {
     "data": {
      "application/geo+json": {
       "features": [
        {
         "geometry": {
          "coordinates": [
           -118.388,
           34.2483
          ],
          "type": "Point"
         },
         "properties": {
          "AFFGEOID": "0500000US06037",
          "ALAND": 10510671776,
          "AWATER": 1794675167,
          "Access.Code": "private",
          "Access.Days.Time": "Fleet use only",
          "Access.Days.Time..French.": null,
          "Access.Detail.Code": "",
          "BD.Blends": null,
          "BD.Blends..French.": null,
          "CNG.Dispenser.Num": null,
          "CNG.Fill.Type.Code": null,
          "CNG.On.Site.Renewable.Source": null,
          "CNG.PSI": null,
          "CNG.Storage.Capacity": null,
          "CNG.Total.Compression.Capacity": null,
          "CNG.Vehicle.Class": null,
          "COUNTYFP": "037",
          "COUNTYNS": "00277283",
          "Cards.Accepted": "",
          "City": "Sun Valley",
          "Country": "US",
          "Date.Last.Confirmed": "2021-07-14",
          "E85.Blender.Pump": null,
          "E85.Other.Ethanol.Blends": null,
          "EV.Connector.Types": "CHADEMO J1772 J1772COMBO",
          "EV.DC.Fast.Count": 3,
          "EV.Level1.EVSE.Num": "NA",
          "EV.Level2.EVSE.Num": 39,
          "EV.Network": "Non-Networked",
          "EV.Network.Web": "",
          "EV.On.Site.Renewable.Source": "",
          "EV.Other.Info": "",
          "EV.Pricing": "",
          "EV.Pricing..French.": null,
          "Expected.Date": null,
          "Facility.Type": "UTILITY",
          "Federal.Agency.Code": "",
          "Federal.Agency.ID": "NA",
          "Federal.Agency.Name": "",
          "Fuel.Type.Code": "ELEC",
          "GEOID": "06037",
          "Geocode.Status": "GPS",
          "Groups.With.Access.Code": "Private",
          "Groups.With.Access.Code..French.": "PrivÃ©",
          "Hydrogen.Is.Retail": null,
          "Hydrogen.Pressures": null,
          "Hydrogen.Standards": null,
          "Hydrogen.Status.Link": null,
          "ID": 1517,
          "Intersection.Directions": "",
          "Intersection.Directions..French.": null,
          "LNG.On.Site.Renewable.Source": null,
          "LNG.Vehicle.Class": null,
          "LPG.Nozzle.Types": null,
          "LPG.Primary": null,
          "LSAD": "06",
          "NAME": "Los Angeles",
          "NG.Fill.Type.Code": null,
          "NG.PSI": null,
          "NG.Vehicle.Class": null,
          "Open.Date": "1999-10-15",
          "Open.Year": 1999,
          "Owner.Type.Code": "LG",
          "Plus4": null,
          "Restricted.Access": null,
          "STATEFP": "06",
          "State": "CA",
          "Station.Name": "LADWP - Truesdale Center",
          "Station.Phone": "",
          "Status.Code": "E",
          "Street.Address": "11797 Truesdale St",
          "Updated.At": "2021-07-14 18:51:43 UTC",
          "ZIP": "91352"
         },
         "type": "Feature"
        },
        {
         "geometry": {
          "coordinates": [
           -118.4485,
           34.0525
          ],
          "type": "Point"
         },
         "properties": {
          "AFFGEOID": "0500000US06037",
          "ALAND": 10510671776,
          "AWATER": 1794675167,
          "Access.Code": "private",
          "Access.Days.Time": "",
          "Access.Days.Time..French.": null,
          "Access.Detail.Code": "",
          "BD.Blends": null,
          "BD.Blends..French.": null,
          "CNG.Dispenser.Num": null,
          "CNG.Fill.Type.Code": null,
          "CNG.On.Site.Renewable.Source": null,
          "CNG.PSI": null,
          "CNG.Storage.Capacity": null,
          "CNG.Total.Compression.Capacity": null,
          "CNG.Vehicle.Class": null,
          "COUNTYFP": "037",
          "COUNTYNS": "00277283",
          "Cards.Accepted": "",
          "City": "Los Angeles",
          "Country": "US",
          "Date.Last.Confirmed": "2021-07-14",
          "E85.Blender.Pump": null,
          "E85.Other.Ethanol.Blends": null,
          "EV.Connector.Types": "J1772",
          "EV.DC.Fast.Count": "NA",
          "EV.Level1.EVSE.Num": "NA",
          "EV.Level2.EVSE.Num": 4,
          "EV.Network": "Non-Networked",
          "EV.Network.Web": "",
          "EV.On.Site.Renewable.Source": "",
          "EV.Other.Info": "",
          "EV.Pricing": "Free",
          "EV.Pricing..French.": null,
          "Expected.Date": null,
          "Facility.Type": "UTILITY",
          "Federal.Agency.Code": "",
          "Federal.Agency.ID": "NA",
          "Federal.Agency.Name": "",
          "Fuel.Type.Code": "ELEC",
          "GEOID": "06037",
          "Geocode.Status": "200-8",
          "Groups.With.Access.Code": "Private",
          "Groups.With.Access.Code..French.": "PrivÃ©",
          "Hydrogen.Is.Retail": null,
          "Hydrogen.Pressures": null,
          "Hydrogen.Standards": null,
          "Hydrogen.Status.Link": null,
          "ID": 1519,
          "Intersection.Directions": "",
          "Intersection.Directions..French.": null,
          "LNG.On.Site.Renewable.Source": null,
          "LNG.Vehicle.Class": null,
          "LPG.Nozzle.Types": null,
          "LPG.Primary": null,
          "LSAD": "06",
          "NAME": "Los Angeles",
          "NG.Fill.Type.Code": null,
          "NG.PSI": null,
          "NG.Vehicle.Class": null,
          "Open.Date": "2020-02-28",
          "Open.Year": 2020,
          "Owner.Type.Code": "LG",
          "Plus4": null,
          "Restricted.Access": null,
          "STATEFP": "06",
          "State": "CA",
          "Station.Name": "LADWP - West LA District Office",
          "Station.Phone": "",
          "Status.Code": "E",
          "Street.Address": "1394 S Sepulveda Blvd",
          "Updated.At": "2021-07-14 18:51:43 UTC",
          "ZIP": "90024"
         },
         "type": "Feature"
        },
        {
         "geometry": {
          "coordinates": [
           -118.2714,
           34.0405
          ],
          "type": "Point"
         },
         "properties": {
          "AFFGEOID": "0500000US06037",
          "ALAND": 10510671776,
          "AWATER": 1794675167,
          "Access.Code": "public",
          "Access.Days.Time": "24 hours daily; pay lot",
          "Access.Days.Time..French.": null,
          "Access.Detail.Code": "",
          "BD.Blends": null,
          "BD.Blends..French.": null,
          "CNG.Dispenser.Num": null,
          "CNG.Fill.Type.Code": null,
          "CNG.On.Site.Renewable.Source": null,
          "CNG.PSI": null,
          "CNG.Storage.Capacity": null,
          "CNG.Total.Compression.Capacity": null,
          "CNG.Vehicle.Class": null,
          "COUNTYFP": "037",
          "COUNTYNS": "00277283",
          "Cards.Accepted": "",
          "City": "Los Angeles",
          "Country": "US",
          "Date.Last.Confirmed": "2020-11-09",
          "E85.Blender.Pump": null,
          "E85.Other.Ethanol.Blends": null,
          "EV.Connector.Types": "J1772",
          "EV.DC.Fast.Count": "NA",
          "EV.Level1.EVSE.Num": "NA",
          "EV.Level2.EVSE.Num": 12,
          "EV.Network": "Non-Networked",
          "EV.Network.Web": "",
          "EV.On.Site.Renewable.Source": "",
          "EV.Other.Info": "",
          "EV.Pricing": "",
          "EV.Pricing..French.": null,
          "Expected.Date": null,
          "Facility.Type": "PARKING_GARAGE",
          "Federal.Agency.Code": "",
          "Federal.Agency.ID": "NA",
          "Federal.Agency.Name": "",
          "Fuel.Type.Code": "ELEC",
          "GEOID": "06037",
          "Geocode.Status": "GPS",
          "Groups.With.Access.Code": "Public",
          "Groups.With.Access.Code..French.": "Public",
          "Hydrogen.Is.Retail": null,
          "Hydrogen.Pressures": null,
          "Hydrogen.Standards": null,
          "Hydrogen.Status.Link": null,
          "ID": 1523,
          "Intersection.Directions": "West hall and South hall",
          "Intersection.Directions..French.": null,
          "LNG.On.Site.Renewable.Source": null,
          "LNG.Vehicle.Class": null,
          "LPG.Nozzle.Types": null,
          "LPG.Primary": null,
          "LSAD": "06",
          "NAME": "Los Angeles",
          "NG.Fill.Type.Code": null,
          "NG.PSI": null,
          "NG.Vehicle.Class": null,
          "Open.Date": "1995-08-30",
          "Open.Year": 1995,
          "Owner.Type.Code": "P",
          "Plus4": null,
          "Restricted.Access": null,
          "STATEFP": "06",
          "State": "CA",
          "Station.Name": "Los Angeles Convention Center",
          "Station.Phone": "213-741-1151",
          "Status.Code": "E",
          "Street.Address": "1201 S Figueroa St",
          "Updated.At": "2021-03-11 23:22:17 UTC",
          "ZIP": "90015"
         },
         "type": "Feature"
        },
        {
         "geometry": {
          "coordinates": [
           -118.2486,
           34.0591
          ],
          "type": "Point"
         },
         "properties": {
          "AFFGEOID": "0500000US06037",
          "ALAND": 10510671776,
          "AWATER": 1794675167,
          "Access.Code": "private",
          "Access.Days.Time": "For fleet and employee use only",
          "Access.Days.Time..French.": null,
          "Access.Detail.Code": "",
          "BD.Blends": null,
          "BD.Blends..French.": null,
          "CNG.Dispenser.Num": null,
          "CNG.Fill.Type.Code": null,
          "CNG.On.Site.Renewable.Source": null,
          "CNG.PSI": null,
          "CNG.Storage.Capacity": null,
          "CNG.Total.Compression.Capacity": null,
          "CNG.Vehicle.Class": null,
          "COUNTYFP": "037",
          "COUNTYNS": "00277283",
          "Cards.Accepted": "",
          "City": "Los Angeles",
          "Country": "US",
          "Date.Last.Confirmed": "2021-07-14",
          "E85.Blender.Pump": null,
          "E85.Other.Ethanol.Blends": null,
          "EV.Connector.Types": "CHADEMO J1772 J1772COMBO",
          "EV.DC.Fast.Count": 2,
          "EV.Level1.EVSE.Num": "NA",
          "EV.Level2.EVSE.Num": 311,
          "EV.Network": "Non-Networked",
          "EV.Network.Web": "",
          "EV.On.Site.Renewable.Source": "",
          "EV.Other.Info": "",
          "EV.Pricing": "",
          "EV.Pricing..French.": null,
          "Expected.Date": null,
          "Facility.Type": "UTILITY",
          "Federal.Agency.Code": "",
          "Federal.Agency.ID": "NA",
          "Federal.Agency.Name": "",
          "Fuel.Type.Code": "ELEC",
          "GEOID": "06037",
          "Geocode.Status": "GPS",
          "Groups.With.Access.Code": "Private",
          "Groups.With.Access.Code..French.": "PrivÃ©",
          "Hydrogen.Is.Retail": null,
          "Hydrogen.Pressures": null,
          "Hydrogen.Standards": null,
          "Hydrogen.Status.Link": null,
          "ID": 1525,
          "Intersection.Directions": "Across Hope",
          "Intersection.Directions..French.": null,
          "LNG.On.Site.Renewable.Source": null,
          "LNG.Vehicle.Class": null,
          "LPG.Nozzle.Types": null,
          "LPG.Primary": null,
          "LSAD": "06",
          "NAME": "Los Angeles",
          "NG.Fill.Type.Code": null,
          "NG.PSI": null,
          "NG.Vehicle.Class": null,
          "Open.Date": "1999-10-15",
          "Open.Year": 1999,
          "Owner.Type.Code": "LG",
          "Plus4": null,
          "Restricted.Access": null,
          "STATEFP": "06",
          "State": "CA",
          "Station.Name": "LADWP - John Ferraro Building",
          "Station.Phone": "",
          "Status.Code": "E",
          "Street.Address": "111 N Hope St",
          "Updated.At": "2021-07-14 18:51:43 UTC",
          "ZIP": "90012"
         },
         "type": "Feature"
        },
        {
         "geometry": {
          "coordinates": [
           -118.0967,
           33.7598
          ],
          "type": "Point"
         },
         "properties": {
          "AFFGEOID": "0500000US06037",
          "ALAND": 10510671776,
          "AWATER": 1794675167,
          "Access.Code": "private",
          "Access.Days.Time": "Fleet use only",
          "Access.Days.Time..French.": null,
          "Access.Detail.Code": "",
          "BD.Blends": null,
          "BD.Blends..French.": null,
          "CNG.Dispenser.Num": null,
          "CNG.Fill.Type.Code": null,
          "CNG.On.Site.Renewable.Source": null,
          "CNG.PSI": null,
          "CNG.Storage.Capacity": null,
          "CNG.Total.Compression.Capacity": null,
          "CNG.Vehicle.Class": null,
          "COUNTYFP": "037",
          "COUNTYNS": "00277283",
          "Cards.Accepted": "",
          "City": "Long Beach",
          "Country": "US",
          "Date.Last.Confirmed": "2021-07-14",
          "E85.Blender.Pump": null,
          "E85.Other.Ethanol.Blends": null,
          "EV.Connector.Types": "CHADEMO J1772 J1772COMBO",
          "EV.DC.Fast.Count": 1,
          "EV.Level1.EVSE.Num": "NA",
          "EV.Level2.EVSE.Num": 19,
          "EV.Network": "Non-Networked",
          "EV.Network.Web": "",
          "EV.On.Site.Renewable.Source": "",
          "EV.Other.Info": "",
          "EV.Pricing": "",
          "EV.Pricing..French.": null,
          "Expected.Date": null,
          "Facility.Type": "UTILITY",
          "Federal.Agency.Code": "",
          "Federal.Agency.ID": "NA",
          "Federal.Agency.Name": "",
          "Fuel.Type.Code": "ELEC",
          "GEOID": "06037",
          "Geocode.Status": "GPS",
          "Groups.With.Access.Code": "Private",
          "Groups.With.Access.Code..French.": "PrivÃ©",
          "Hydrogen.Is.Retail": null,
          "Hydrogen.Pressures": null,
          "Hydrogen.Standards": null,
          "Hydrogen.Status.Link": null,
          "ID": 1531,
          "Intersection.Directions": "",
          "Intersection.Directions..French.": null,
          "LNG.On.Site.Renewable.Source": null,
          "LNG.Vehicle.Class": null,
          "LPG.Nozzle.Types": null,
          "LPG.Primary": null,
          "LSAD": "06",
          "NAME": "Los Angeles",
          "NG.Fill.Type.Code": null,
          "NG.PSI": null,
          "NG.Vehicle.Class": null,
          "Open.Date": "2018-05-01",
          "Open.Year": 2018,
          "Owner.Type.Code": "LG",
          "Plus4": null,
          "Restricted.Access": null,
          "STATEFP": "06",
          "State": "CA",
          "Station.Name": "LADWP - Haynes Power Plant",
          "Station.Phone": "",
          "Status.Code": "E",
          "Street.Address": "6801 E 2nd St",
          "Updated.At": "2021-07-14 18:51:43 UTC",
          "ZIP": "90803"
         },
         "type": "Feature"
        },
        {
         "geometry": {
          "coordinates": [
           -121.495,
           38.5768
          ],
          "type": "Point"
         },
         "properties": {
          "AFFGEOID": "0500000US06067",
          "ALAND": 2500490904,
          "AWATER": 74894369,
          "Access.Code": "private",
          "Access.Days.Time": "Permitted state legislators only",
          "Access.Days.Time..French.": null,
          "Access.Detail.Code": "GOVERNMENT",
          "BD.Blends": null,
          "BD.Blends..French.": null,
          "CNG.Dispenser.Num": null,
          "CNG.Fill.Type.Code": null,
          "CNG.On.Site.Renewable.Source": null,
          "CNG.PSI": null,
          "CNG.Storage.Capacity": null,
          "CNG.Total.Compression.Capacity": null,
          "CNG.Vehicle.Class": null,
          "COUNTYFP": "067",
          "COUNTYNS": "00277298",
          "Cards.Accepted": "Comdata",
          "City": "Sacramento",
          "Country": "US",
          "Date.Last.Confirmed": "2021-12-09",
          "E85.Blender.Pump": null,
          "E85.Other.Ethanol.Blends": null,
          "EV.Connector.Types": "J1772",
          "EV.DC.Fast.Count": "NA",
          "EV.Level1.EVSE.Num": "NA",
          "EV.Level2.EVSE.Num": 9,
          "EV.Network": "Non-Networked",
          "EV.Network.Web": "",
          "EV.On.Site.Renewable.Source": "",
          "EV.Other.Info": "1 LP Inductive  1 SP Inductive  1 Avcon Conductive  1 Other Conductive",
          "EV.Pricing": "",
          "EV.Pricing..French.": null,
          "Expected.Date": null,
          "Facility.Type": "PARKING_GARAGE",
          "Federal.Agency.Code": "",
          "Federal.Agency.ID": "NA",
          "Federal.Agency.Name": "",
          "Fuel.Type.Code": "ELEC",
          "GEOID": "06067",
          "Geocode.Status": "200-8",
          "Groups.With.Access.Code": "Private - Government only",
          "Groups.With.Access.Code..French.": "PrivÃ© - RÃ©servÃ© au gouvernement",
          "Hydrogen.Is.Retail": null,
          "Hydrogen.Pressures": null,
          "Hydrogen.Standards": null,
          "Hydrogen.Status.Link": null,
          "ID": 1533,
          "Intersection.Directions": "At 12th and N St",
          "Intersection.Directions..French.": null,
          "LNG.On.Site.Renewable.Source": null,
          "LNG.Vehicle.Class": null,
          "LPG.Nozzle.Types": null,
          "LPG.Primary": null,
          "LSAD": "06",
          "NAME": "Sacramento",
          "NG.Fill.Type.Code": null,
          "NG.PSI": null,
          "NG.Vehicle.Class": null,
          "Open.Date": "1996-10-15",
          "Open.Year": 1996,
          "Owner.Type.Code": "SG",
          "Plus4": null,
          "Restricted.Access": null,
          "STATEFP": "06",
          "State": "CA",
          "Station.Name": "State Capitol Parking Garage",
          "Station.Phone": "",
          "Status.Code": "E",
          "Street.Address": "1303 10th St",
          "Updated.At": "2021-12-09 15:02:43 UTC",
          "ZIP": "95814"
         },
         "type": "Feature"
        }
       ],
       "type": "FeatureCollection"
      },
      "text/html": [
       "<table class=\"dataframe\">\n",
       "<caption>A sf: 6 × 74</caption>\n",
       "<thead>\n",
       "\t<tr><th></th><th scope=col>Fuel.Type.Code</th><th scope=col>Station.Name</th><th scope=col>Street.Address</th><th scope=col>Intersection.Directions</th><th scope=col>City</th><th scope=col>State</th><th scope=col>ZIP</th><th scope=col>Plus4</th><th scope=col>Station.Phone</th><th scope=col>Status.Code</th><th scope=col>geometry</th><th scope=col>⋯</th><th scope=col>STATEFP</th><th scope=col>COUNTYFP</th><th scope=col>COUNTYNS</th><th scope=col>AFFGEOID</th><th scope=col>GEOID</th><th scope=col>NAME</th><th scope=col>LSAD</th><th scope=col>ALAND</th><th scope=col>AWATER</th><th scope=col>geometry</th></tr>\n",
       "\t<tr><th></th><th scope=col>&lt;chr&gt;</th><th scope=col>&lt;chr&gt;</th><th scope=col>&lt;chr&gt;</th><th scope=col>&lt;chr&gt;</th><th scope=col>&lt;chr&gt;</th><th scope=col>&lt;chr&gt;</th><th scope=col>&lt;chr&gt;</th><th scope=col>&lt;lgl&gt;</th><th scope=col>&lt;chr&gt;</th><th scope=col>&lt;chr&gt;</th><th scope=col>⋯</th><th scope=col>&lt;chr&gt;</th><th scope=col>&lt;chr&gt;</th><th scope=col>&lt;chr&gt;</th><th scope=col>&lt;chr&gt;</th><th scope=col>&lt;chr&gt;</th><th scope=col>&lt;chr&gt;</th><th scope=col>&lt;chr&gt;</th><th scope=col>&lt;dbl&gt;</th><th scope=col>&lt;dbl&gt;</th><th scope=col>&lt;POINT [°]&gt;</th></tr>\n",
       "</thead>\n",
       "<tbody>\n",
       "\t<tr><th scope=row>1</th><td>ELEC</td><td>LADWP - Truesdale Center       </td><td>11797 Truesdale St   </td><td>                        </td><td>Sun Valley </td><td>CA</td><td>91352</td><td>NA</td><td>            </td><td>E</td><td>POINT (-118.388 34.24832)</td><td>⋯</td><td>06</td><td>037</td><td>00277283</td><td>0500000US06037</td><td>06037</td><td>Los Angeles</td><td>06</td><td>10510671776</td><td>1794675167</td><td>POINT (-118.388 34.24832)</td></tr>\n",
       "\t<tr><th scope=row>2</th><td>ELEC</td><td>LADWP - West LA District Office</td><td>1394 S Sepulveda Blvd</td><td>                        </td><td>Los Angeles</td><td>CA</td><td>90024</td><td>NA</td><td>            </td><td>E</td><td>POINT (-118.4485 34.05254)</td><td>⋯</td><td>06</td><td>037</td><td>00277283</td><td>0500000US06037</td><td>06037</td><td>Los Angeles</td><td>06</td><td>10510671776</td><td>1794675167</td><td>POINT (-118.4485 34.05254)</td></tr>\n",
       "\t<tr><th scope=row>3</th><td>ELEC</td><td>Los Angeles Convention Center  </td><td>1201 S Figueroa St   </td><td>West hall and South hall</td><td>Los Angeles</td><td>CA</td><td>90015</td><td>NA</td><td>213-741-1151</td><td>E</td><td>POINT (-118.2714 34.04054)</td><td>⋯</td><td>06</td><td>037</td><td>00277283</td><td>0500000US06037</td><td>06037</td><td>Los Angeles</td><td>06</td><td>10510671776</td><td>1794675167</td><td>POINT (-118.2714 34.04054)</td></tr>\n",
       "\t<tr><th scope=row>4</th><td>ELEC</td><td>LADWP - John Ferraro Building  </td><td>111 N Hope St        </td><td>Across Hope             </td><td>Los Angeles</td><td>CA</td><td>90012</td><td>NA</td><td>            </td><td>E</td><td>POINT (-118.2486 34.05913)</td><td>⋯</td><td>06</td><td>037</td><td>00277283</td><td>0500000US06037</td><td>06037</td><td>Los Angeles</td><td>06</td><td>10510671776</td><td>1794675167</td><td>POINT (-118.2486 34.05913)</td></tr>\n",
       "\t<tr><th scope=row>5</th><td>ELEC</td><td>LADWP - Haynes Power Plant     </td><td>6801 E 2nd St        </td><td>                        </td><td>Long Beach </td><td>CA</td><td>90803</td><td>NA</td><td>            </td><td>E</td><td>POINT (-118.0967 33.7598)</td><td>⋯</td><td>06</td><td>037</td><td>00277283</td><td>0500000US06037</td><td>06037</td><td>Los Angeles</td><td>06</td><td>10510671776</td><td>1794675167</td><td>POINT (-118.0967 33.7598)</td></tr>\n",
       "\t<tr><th scope=row>6</th><td>ELEC</td><td>State Capitol Parking Garage   </td><td>1303 10th St         </td><td>At 12th and N St        </td><td>Sacramento </td><td>CA</td><td>95814</td><td>NA</td><td>            </td><td>E</td><td>POINT (-121.495 38.57677)</td><td>⋯</td><td>06</td><td>067</td><td>00277298</td><td>0500000US06067</td><td>06067</td><td>Sacramento </td><td>06</td><td> 2500490904</td><td>  74894369</td><td>POINT (-121.495 38.57677)</td></tr>\n",
       "</tbody>\n",
       "</table>\n"
      ],
      "text/latex": [
       "A sf: 6 × 74\n",
       "\\begin{tabular}{r|lllllllllllllllllllll}\n",
       "  & Fuel.Type.Code & Station.Name & Street.Address & Intersection.Directions & City & State & ZIP & Plus4 & Station.Phone & Status.Code & geometry & ⋯ & STATEFP & COUNTYFP & COUNTYNS & AFFGEOID & GEOID & NAME & LSAD & ALAND & AWATER & geometry\\\\\n",
       "  & <chr> & <chr> & <chr> & <chr> & <chr> & <chr> & <chr> & <lgl> & <chr> & <chr> & ⋯ & <chr> & <chr> & <chr> & <chr> & <chr> & <chr> & <chr> & <dbl> & <dbl> & <POINT {[}°{]}>\\\\\n",
       "\\hline\n",
       "\t1 & ELEC & LADWP - Truesdale Center        & 11797 Truesdale St    &                          & Sun Valley  & CA & 91352 & NA &              & E & POINT (-118.388 34.24832) & ⋯ & 06 & 037 & 00277283 & 0500000US06037 & 06037 & Los Angeles & 06 & 10510671776 & 1794675167 & POINT (-118.388 34.24832)\\\\\n",
       "\t2 & ELEC & LADWP - West LA District Office & 1394 S Sepulveda Blvd &                          & Los Angeles & CA & 90024 & NA &              & E & POINT (-118.4485 34.05254) & ⋯ & 06 & 037 & 00277283 & 0500000US06037 & 06037 & Los Angeles & 06 & 10510671776 & 1794675167 & POINT (-118.4485 34.05254)\\\\\n",
       "\t3 & ELEC & Los Angeles Convention Center   & 1201 S Figueroa St    & West hall and South hall & Los Angeles & CA & 90015 & NA & 213-741-1151 & E & POINT (-118.2714 34.04054) & ⋯ & 06 & 037 & 00277283 & 0500000US06037 & 06037 & Los Angeles & 06 & 10510671776 & 1794675167 & POINT (-118.2714 34.04054)\\\\\n",
       "\t4 & ELEC & LADWP - John Ferraro Building   & 111 N Hope St         & Across Hope              & Los Angeles & CA & 90012 & NA &              & E & POINT (-118.2486 34.05913) & ⋯ & 06 & 037 & 00277283 & 0500000US06037 & 06037 & Los Angeles & 06 & 10510671776 & 1794675167 & POINT (-118.2486 34.05913)\\\\\n",
       "\t5 & ELEC & LADWP - Haynes Power Plant      & 6801 E 2nd St         &                          & Long Beach  & CA & 90803 & NA &              & E & POINT (-118.0967 33.7598) & ⋯ & 06 & 037 & 00277283 & 0500000US06037 & 06037 & Los Angeles & 06 & 10510671776 & 1794675167 & POINT (-118.0967 33.7598)\\\\\n",
       "\t6 & ELEC & State Capitol Parking Garage    & 1303 10th St          & At 12th and N St         & Sacramento  & CA & 95814 & NA &              & E & POINT (-121.495 38.57677) & ⋯ & 06 & 067 & 00277298 & 0500000US06067 & 06067 & Sacramento  & 06 &  2500490904 &   74894369 & POINT (-121.495 38.57677)\\\\\n",
       "\\end{tabular}\n"
      ],
      "text/markdown": [
       "\n",
       "A sf: 6 × 74\n",
       "\n",
       "| <!--/--> | Fuel.Type.Code &lt;chr&gt; | Station.Name &lt;chr&gt; | Street.Address &lt;chr&gt; | Intersection.Directions &lt;chr&gt; | City &lt;chr&gt; | State &lt;chr&gt; | ZIP &lt;chr&gt; | Plus4 &lt;lgl&gt; | Station.Phone &lt;chr&gt; | Status.Code &lt;chr&gt; | geometry ⋯ | ⋯ &lt;chr&gt; | STATEFP &lt;chr&gt; | COUNTYFP &lt;chr&gt; | COUNTYNS &lt;chr&gt; | AFFGEOID &lt;chr&gt; | GEOID &lt;chr&gt; | NAME &lt;chr&gt; | LSAD &lt;dbl&gt; | ALAND &lt;dbl&gt; | AWATER &lt;POINT [°]&gt; | geometry &lt;chr&gt; |\n",
       "|---|---|---|---|---|---|---|---|---|---|---|---|---|---|---|---|---|---|---|---|---|---|\n",
       "| 1 | ELEC | LADWP - Truesdale Center        | 11797 Truesdale St    | <!----> | Sun Valley  | CA | 91352 | NA | <!----> | E | POINT (-118.388 34.24832) | ⋯ | 06 | 037 | 00277283 | 0500000US06037 | 06037 | Los Angeles | 06 | 10510671776 | 1794675167 | POINT (-118.388 34.24832) |\n",
       "| 2 | ELEC | LADWP - West LA District Office | 1394 S Sepulveda Blvd | <!----> | Los Angeles | CA | 90024 | NA | <!----> | E | POINT (-118.4485 34.05254) | ⋯ | 06 | 037 | 00277283 | 0500000US06037 | 06037 | Los Angeles | 06 | 10510671776 | 1794675167 | POINT (-118.4485 34.05254) |\n",
       "| 3 | ELEC | Los Angeles Convention Center   | 1201 S Figueroa St    | West hall and South hall | Los Angeles | CA | 90015 | NA | 213-741-1151 | E | POINT (-118.2714 34.04054) | ⋯ | 06 | 037 | 00277283 | 0500000US06037 | 06037 | Los Angeles | 06 | 10510671776 | 1794675167 | POINT (-118.2714 34.04054) |\n",
       "| 4 | ELEC | LADWP - John Ferraro Building   | 111 N Hope St         | Across Hope              | Los Angeles | CA | 90012 | NA | <!----> | E | POINT (-118.2486 34.05913) | ⋯ | 06 | 037 | 00277283 | 0500000US06037 | 06037 | Los Angeles | 06 | 10510671776 | 1794675167 | POINT (-118.2486 34.05913) |\n",
       "| 5 | ELEC | LADWP - Haynes Power Plant      | 6801 E 2nd St         | <!----> | Long Beach  | CA | 90803 | NA | <!----> | E | POINT (-118.0967 33.7598) | ⋯ | 06 | 037 | 00277283 | 0500000US06037 | 06037 | Los Angeles | 06 | 10510671776 | 1794675167 | POINT (-118.0967 33.7598) |\n",
       "| 6 | ELEC | State Capitol Parking Garage    | 1303 10th St          | At 12th and N St         | Sacramento  | CA | 95814 | NA | <!----> | E | POINT (-121.495 38.57677) | ⋯ | 06 | 067 | 00277298 | 0500000US06067 | 06067 | Sacramento  | 06 |  2500490904 |   74894369 | POINT (-121.495 38.57677) |\n",
       "\n"
      ],
      "text/plain": [
       "  Fuel.Type.Code Station.Name                    Street.Address       \n",
       "1 ELEC           LADWP - Truesdale Center        11797 Truesdale St   \n",
       "2 ELEC           LADWP - West LA District Office 1394 S Sepulveda Blvd\n",
       "3 ELEC           Los Angeles Convention Center   1201 S Figueroa St   \n",
       "4 ELEC           LADWP - John Ferraro Building   111 N Hope St        \n",
       "5 ELEC           LADWP - Haynes Power Plant      6801 E 2nd St        \n",
       "6 ELEC           State Capitol Parking Garage    1303 10th St         \n",
       "  Intersection.Directions  City        State ZIP   Plus4 Station.Phone\n",
       "1                          Sun Valley  CA    91352 NA                 \n",
       "2                          Los Angeles CA    90024 NA                 \n",
       "3 West hall and South hall Los Angeles CA    90015 NA    213-741-1151 \n",
       "4 Across Hope              Los Angeles CA    90012 NA                 \n",
       "5                          Long Beach  CA    90803 NA                 \n",
       "6 At 12th and N St         Sacramento  CA    95814 NA                 \n",
       "  Status.Code geometry                   <U+22EF>        STATEFP COUNTYFP COUNTYNS\n",
       "1 E           POINT (-118.388 34.24832)  <U+22EF> 06      037      00277283\n",
       "2 E           POINT (-118.4485 34.05254) <U+22EF> 06      037      00277283\n",
       "3 E           POINT (-118.2714 34.04054) <U+22EF> 06      037      00277283\n",
       "4 E           POINT (-118.2486 34.05913) <U+22EF> 06      037      00277283\n",
       "5 E           POINT (-118.0967 33.7598)  <U+22EF> 06      037      00277283\n",
       "6 E           POINT (-121.495 38.57677)  <U+22EF> 06      067      00277298\n",
       "  AFFGEOID       GEOID NAME        LSAD ALAND       AWATER    \n",
       "1 0500000US06037 06037 Los Angeles 06   10510671776 1794675167\n",
       "2 0500000US06037 06037 Los Angeles 06   10510671776 1794675167\n",
       "3 0500000US06037 06037 Los Angeles 06   10510671776 1794675167\n",
       "4 0500000US06037 06037 Los Angeles 06   10510671776 1794675167\n",
       "5 0500000US06037 06037 Los Angeles 06   10510671776 1794675167\n",
       "6 0500000US06067 06067 Sacramento  06    2500490904   74894369\n",
       "  geometry                  \n",
       "1 POINT (-118.388 34.24832) \n",
       "2 POINT (-118.4485 34.05254)\n",
       "3 POINT (-118.2714 34.04054)\n",
       "4 POINT (-118.2486 34.05913)\n",
       "5 POINT (-118.0967 33.7598) \n",
       "6 POINT (-121.495 38.57677) "
      ]
     },
     "metadata": {},
     "output_type": "display_data"
    }
   ],
   "source": [
    "head(sp_ev_cty)"
   ]
  },
  {
   "cell_type": "markdown",
   "id": "ffd41a7e",
   "metadata": {},
   "source": [
    "We can also summarize the number of charging stations per area by county"
   ]
  },
  {
   "cell_type": "code",
   "execution_count": 64,
   "id": "6d826891",
   "metadata": {
    "scrolled": true
   },
   "outputs": [
    {
     "name": "stderr",
     "output_type": "stream",
     "text": [
      "Joining, by = \"COUNTYFP\"\n",
      "\n"
     ]
    }
   ],
   "source": [
    "ev_cty_count = count(as_tibble(sp_ev_cty), COUNTYFP)\n",
    "# ALAND is measured in m^2, but we can convert it to miles\n",
    "sp_cty$ALANDMI = sp_cty$ALAND * 3.86102*10**-7 # sm to sqmi\n",
    "sp_ev_cty = left_join(sp_cty, ev_cty_count) %>%\n",
    "  mutate(stn_sq_mi = as.numeric(n / ALANDMI))"
   ]
  },
  {
   "cell_type": "markdown",
   "id": "b52af047",
   "metadata": {},
   "source": [
    "Let's get the top results"
   ]
  },
  {
   "cell_type": "code",
   "execution_count": 65,
   "id": "ec8bbaf8",
   "metadata": {
    "scrolled": true
   },
   "outputs": [
    {
     "data": {
      "application/geo+json": {
       "features": [
        {
         "geometry": {
          "coordinates": [
           [
            [
             [
              -168.1635,
              -14.5364
             ],
             [
              -168.1594,
              -14.5309
             ],
             [
              -168.1495,
              -14.5313
             ],
             [
              -168.1432,
              -14.5376
             ],
             [
              -168.1397,
              -14.5495
             ],
             [
              -168.1436,
              -14.5524
             ],
             [
              -168.1516,
              -14.5525
             ],
             [
              -168.161,
              -14.5494
             ],
             [
              -168.1635,
              -14.5364
             ]
            ]
           ]
          ],
          "type": "MultiPolygon"
         },
         "properties": {
          "AFFGEOID": "0500000US60030",
          "ALAND": 82093,
          "ALANDMI": 0.0317,
          "AWATER": 147383994,
          "COUNTYFP": "030",
          "COUNTYNS": "01805243",
          "GEOID": "60030",
          "LSAD": "00",
          "NAME": "Rose Island",
          "STATEFP": "60",
          "n": 2,
          "stn_sq_mi": 63.0989
         },
         "type": "Feature"
        },
        {
         "geometry": {
          "coordinates": [
           [
            [
             [
              -66.1695,
              18.431
             ],
             [
              -66.1396,
              18.4623
             ],
             [
              -66.1294,
              18.4656
             ],
             [
              -66.1084,
              18.4454
             ],
             [
              -66.1083,
              18.4389
             ],
             [
              -66.1124,
              18.4401
             ],
             [
              -66.1161,
              18.4396
             ],
             [
              -66.1316,
              18.4247
             ],
             [
              -66.1585,
              18.4216
             ],
             [
              -66.1695,
              18.431
             ]
            ]
           ]
          ],
          "type": "MultiPolygon"
         },
         "properties": {
          "AFFGEOID": "0500000US72033",
          "ALAND": 12629291,
          "ALANDMI": 4.8762,
          "AWATER": 5619250,
          "COUNTYFP": "033",
          "COUNTYNS": "01804496",
          "GEOID": "72033",
          "LSAD": "13",
          "NAME": "Cataño",
          "STATEFP": "72",
          "n": 41,
          "stn_sq_mi": 8.4082
         },
         "type": "Feature"
        },
        {
         "geometry": {
          "coordinates": [
           [
            [
             [
              -157.0146,
              21.1855
             ],
             [
              -156.9991,
              21.1822
             ],
             [
              -156.9913,
              21.1855
             ],
             [
              -156.9878,
              21.1893
             ],
             [
              -156.9823,
              21.2078
             ],
             [
              -156.9845,
              21.2101
             ],
             [
              -156.984,
              21.2122
             ],
             [
              -156.974,
              21.2185
             ],
             [
              -156.9691,
              21.217
             ],
             [
              -156.9628,
              21.2121
             ],
             [
              -156.9517,
              21.1917
             ],
             [
              -156.9508,
              21.1826
             ],
             [
              -156.9462,
              21.176
             ],
             [
              -156.9182,
              21.1683
             ],
             [
              -156.8989,
              21.1476
             ],
             [
              -156.9002,
              21.1316
             ],
             [
              -156.9181,
              21.1295
             ],
             [
              -156.9421,
              21.1602
             ],
             [
              -156.9589,
              21.1609
             ],
             [
              -156.9624,
              21.1801
             ],
             [
              -156.9625,
              21.1594
             ],
             [
              -156.9736,
              21.1752
             ],
             [
              -157.0041,
              21.1785
             ],
             [
              -157.0146,
              21.1855
             ]
            ]
           ]
          ],
          "type": "MultiPolygon"
         },
         "properties": {
          "AFFGEOID": "0500000US15005",
          "ALAND": 31057603,
          "ALANDMI": 11.9914,
          "AWATER": 105764468,
          "COUNTYFP": "005",
          "COUNTYNS": "01702380",
          "GEOID": "15005",
          "LSAD": "06",
          "NAME": "Kalawao",
          "STATEFP": "15",
          "n": 50,
          "stn_sq_mi": 4.1697
         },
         "type": "Feature"
        },
        {
         "geometry": {
          "coordinates": [
           [
            [
             [
              -65.3375,
              18.3483
             ],
             [
              -65.3357,
              18.3495
             ],
             [
              -65.3293,
              18.342
             ],
             [
              -65.3218,
              18.3383
             ],
             [
              -65.3098,
              18.338
             ],
             [
              -65.3098,
              18.3379
             ],
             [
              -65.3044,
              18.3321
             ],
             [
              -65.2983,
              18.3305
             ],
             [
              -65.2904,
              18.3327
             ],
             [
              -65.2698,
              18.3383
             ],
             [
              -65.2559,
              18.3421
             ],
             [
              -65.2216,
              18.321
             ],
             [
              -65.2229,
              18.3105
             ],
             [
              -65.2499,
              18.2967
             ],
             [
              -65.255,
              18.2938
             ],
             [
              -65.2603,
              18.2908
             ],
             [
              -65.2629,
              18.2896
             ],
             [
              -65.2833,
              18.2802
             ],
             [
              -65.2833,
              18.2802
             ],
             [
              -65.2864,
              18.2813
             ],
             [
              -65.3277,
              18.2958
             ],
             [
              -65.3375,
              18.3083
             ],
             [
              -65.3273,
              18.3236
             ],
             [
              -65.3273,
              18.3237
             ],
             [
              -65.3421,
              18.3453
             ],
             [
              -65.3375,
              18.3483
             ]
            ]
           ]
          ],
          "type": "MultiPolygon"
         },
         "properties": {
          "AFFGEOID": "0500000US72049",
          "ALAND": 30115055,
          "ALANDMI": 11.6275,
          "AWATER": 407158805,
          "COUNTYFP": "049",
          "COUNTYNS": "01804504",
          "GEOID": "72049",
          "LSAD": "13",
          "NAME": "Culebra",
          "STATEFP": "72",
          "n": 37,
          "stn_sq_mi": 3.1821
         },
         "type": "Feature"
        },
        {
         "geometry": {
          "coordinates": [
           [
            [
             [
              -66.0823,
              18.033
             ],
             [
              -66.0573,
              18.0404
             ],
             [
              -66.0437,
              18.0294
             ],
             [
              -66.0469,
              18.0091
             ],
             [
              -66.0195,
              17.9784
             ],
             [
              -66.024,
              17.9759
             ],
             [
              -66.0466,
              17.9549
             ],
             [
              -66.049,
              17.9546
             ],
             [
              -66.0491,
              17.9546
             ],
             [
              -66.0577,
              17.959
             ],
             [
              -66.0582,
              17.9592
             ],
             [
              -66.0687,
              17.9663
             ],
             [
              -66.07,
              17.9664
             ],
             [
              -66.0716,
              17.9937
             ],
             [
              -66.0952,
              18.0222
             ],
             [
              -66.0823,
              18.033
             ]
            ]
           ]
          ],
          "type": "MultiPolygon"
         },
         "properties": {
          "AFFGEOID": "0500000US72015",
          "ALAND": 38869489,
          "ALANDMI": 15.0076,
          "AWATER": 53459917,
          "COUNTYFP": "015",
          "COUNTYNS": "01804487",
          "GEOID": "72015",
          "LSAD": "13",
          "NAME": "Arroyo",
          "STATEFP": "72",
          "n": 47,
          "stn_sq_mi": 3.1317
         },
         "type": "Feature"
        },
        {
         "geometry": {
          "coordinates": [
           [
            [
             [
              -67.1597,
              18.1532
             ],
             [
              -67.0984,
              18.1585
             ],
             [
              -67.0864,
              18.1498
             ],
             [
              -67.0939,
              18.1423
             ],
             [
              -67.0921,
              18.1254
             ],
             [
              -67.0795,
              18.117
             ],
             [
              -67.081,
              18.1067
             ],
             [
              -67.1005,
              18.1064
             ],
             [
              -67.1262,
              18.1151
             ],
             [
              -67.1338,
              18.1319
             ],
             [
              -67.1597,
              18.1532
             ]
            ]
           ]
          ],
          "type": "MultiPolygon"
         },
         "properties": {
          "AFFGEOID": "0500000US72067",
          "ALAND": 29384893,
          "ALANDMI": 11.3456,
          "AWATER": 481,
          "COUNTYFP": "067",
          "COUNTYNS": "01804514",
          "GEOID": "72067",
          "LSAD": "13",
          "NAME": "Hormigueros",
          "STATEFP": "72",
          "n": 35,
          "stn_sq_mi": 3.0849
         },
         "type": "Feature"
        }
       ],
       "type": "FeatureCollection"
      },
      "text/html": [
       "<table class=\"dataframe\">\n",
       "<caption>A sf: 6 × 13</caption>\n",
       "<thead>\n",
       "\t<tr><th></th><th scope=col>STATEFP</th><th scope=col>COUNTYFP</th><th scope=col>COUNTYNS</th><th scope=col>AFFGEOID</th><th scope=col>GEOID</th><th scope=col>NAME</th><th scope=col>LSAD</th><th scope=col>ALAND</th><th scope=col>AWATER</th><th scope=col>ALANDMI</th><th scope=col>n</th><th scope=col>stn_sq_mi</th><th scope=col>geometry</th></tr>\n",
       "\t<tr><th></th><th scope=col>&lt;chr&gt;</th><th scope=col>&lt;chr&gt;</th><th scope=col>&lt;chr&gt;</th><th scope=col>&lt;chr&gt;</th><th scope=col>&lt;chr&gt;</th><th scope=col>&lt;chr&gt;</th><th scope=col>&lt;chr&gt;</th><th scope=col>&lt;dbl&gt;</th><th scope=col>&lt;dbl&gt;</th><th scope=col>&lt;dbl&gt;</th><th scope=col>&lt;int&gt;</th><th scope=col>&lt;dbl&gt;</th><th scope=col>&lt;MULTIPOLYGON [°]&gt;</th></tr>\n",
       "</thead>\n",
       "<tbody>\n",
       "\t<tr><th scope=row>1</th><td>60</td><td>030</td><td>01805243</td><td>0500000US60030</td><td>60030</td><td>Rose Island</td><td>00</td><td>   82093</td><td>147383994</td><td> 0.03169627</td><td> 2</td><td>63.098904</td><td>MULTIPOLYGON (((-168.1635 -...</td></tr>\n",
       "\t<tr><th scope=row>2</th><td>72</td><td>033</td><td>01804496</td><td>0500000US72033</td><td>72033</td><td>Cataño     </td><td>13</td><td>12629291</td><td>  5619250</td><td> 4.87619451</td><td>41</td><td> 8.408196</td><td>MULTIPOLYGON (((-66.16952 1...</td></tr>\n",
       "\t<tr><th scope=row>3</th><td>15</td><td>005</td><td>01702380</td><td>0500000US15005</td><td>15005</td><td>Kalawao    </td><td>06</td><td>31057603</td><td>105764468</td><td>11.99140263</td><td>50</td><td> 4.169654</td><td>MULTIPOLYGON (((-157.0146 2...</td></tr>\n",
       "\t<tr><th scope=row>4</th><td>72</td><td>049</td><td>01804504</td><td>0500000US72049</td><td>72049</td><td>Culebra    </td><td>13</td><td>30115055</td><td>407158805</td><td>11.62748297</td><td>37</td><td> 3.182116</td><td>MULTIPOLYGON (((-65.3375 18...</td></tr>\n",
       "\t<tr><th scope=row>5</th><td>72</td><td>015</td><td>01804487</td><td>0500000US72015</td><td>72015</td><td>Arroyo     </td><td>13</td><td>38869489</td><td> 53459917</td><td>15.00758744</td><td>47</td><td> 3.131749</td><td>MULTIPOLYGON (((-66.08226 1...</td></tr>\n",
       "\t<tr><th scope=row>6</th><td>72</td><td>067</td><td>01804514</td><td>0500000US72067</td><td>72067</td><td>Hormigueros</td><td>13</td><td>29384893</td><td>      481</td><td>11.34556596</td><td>35</td><td> 3.084906</td><td>MULTIPOLYGON (((-67.15973 1...</td></tr>\n",
       "</tbody>\n",
       "</table>\n"
      ],
      "text/latex": [
       "A sf: 6 × 13\n",
       "\\begin{tabular}{r|lllllllllllll}\n",
       "  & STATEFP & COUNTYFP & COUNTYNS & AFFGEOID & GEOID & NAME & LSAD & ALAND & AWATER & ALANDMI & n & stn\\_sq\\_mi & geometry\\\\\n",
       "  & <chr> & <chr> & <chr> & <chr> & <chr> & <chr> & <chr> & <dbl> & <dbl> & <dbl> & <int> & <dbl> & <MULTIPOLYGON {[}°{]}>\\\\\n",
       "\\hline\n",
       "\t1 & 60 & 030 & 01805243 & 0500000US60030 & 60030 & Rose Island & 00 &    82093 & 147383994 &  0.03169627 &  2 & 63.098904 & MULTIPOLYGON (((-168.1635 -...\\\\\n",
       "\t2 & 72 & 033 & 01804496 & 0500000US72033 & 72033 & Cataño      & 13 & 12629291 &   5619250 &  4.87619451 & 41 &  8.408196 & MULTIPOLYGON (((-66.16952 1...\\\\\n",
       "\t3 & 15 & 005 & 01702380 & 0500000US15005 & 15005 & Kalawao     & 06 & 31057603 & 105764468 & 11.99140263 & 50 &  4.169654 & MULTIPOLYGON (((-157.0146 2...\\\\\n",
       "\t4 & 72 & 049 & 01804504 & 0500000US72049 & 72049 & Culebra     & 13 & 30115055 & 407158805 & 11.62748297 & 37 &  3.182116 & MULTIPOLYGON (((-65.3375 18...\\\\\n",
       "\t5 & 72 & 015 & 01804487 & 0500000US72015 & 72015 & Arroyo      & 13 & 38869489 &  53459917 & 15.00758744 & 47 &  3.131749 & MULTIPOLYGON (((-66.08226 1...\\\\\n",
       "\t6 & 72 & 067 & 01804514 & 0500000US72067 & 72067 & Hormigueros & 13 & 29384893 &       481 & 11.34556596 & 35 &  3.084906 & MULTIPOLYGON (((-67.15973 1...\\\\\n",
       "\\end{tabular}\n"
      ],
      "text/markdown": [
       "\n",
       "A sf: 6 × 13\n",
       "\n",
       "| <!--/--> | STATEFP &lt;chr&gt; | COUNTYFP &lt;chr&gt; | COUNTYNS &lt;chr&gt; | AFFGEOID &lt;chr&gt; | GEOID &lt;chr&gt; | NAME &lt;chr&gt; | LSAD &lt;chr&gt; | ALAND &lt;dbl&gt; | AWATER &lt;dbl&gt; | ALANDMI &lt;dbl&gt; | n &lt;int&gt; | stn_sq_mi &lt;dbl&gt; | geometry &lt;MULTIPOLYGON [°]&gt; |\n",
       "|---|---|---|---|---|---|---|---|---|---|---|---|---|---|\n",
       "| 1 | 60 | 030 | 01805243 | 0500000US60030 | 60030 | Rose Island | 00 |    82093 | 147383994 |  0.03169627 |  2 | 63.098904 | MULTIPOLYGON (((-168.1635 -... |\n",
       "| 2 | 72 | 033 | 01804496 | 0500000US72033 | 72033 | Cataño      | 13 | 12629291 |   5619250 |  4.87619451 | 41 |  8.408196 | MULTIPOLYGON (((-66.16952 1... |\n",
       "| 3 | 15 | 005 | 01702380 | 0500000US15005 | 15005 | Kalawao     | 06 | 31057603 | 105764468 | 11.99140263 | 50 |  4.169654 | MULTIPOLYGON (((-157.0146 2... |\n",
       "| 4 | 72 | 049 | 01804504 | 0500000US72049 | 72049 | Culebra     | 13 | 30115055 | 407158805 | 11.62748297 | 37 |  3.182116 | MULTIPOLYGON (((-65.3375 18... |\n",
       "| 5 | 72 | 015 | 01804487 | 0500000US72015 | 72015 | Arroyo      | 13 | 38869489 |  53459917 | 15.00758744 | 47 |  3.131749 | MULTIPOLYGON (((-66.08226 1... |\n",
       "| 6 | 72 | 067 | 01804514 | 0500000US72067 | 72067 | Hormigueros | 13 | 29384893 |       481 | 11.34556596 | 35 |  3.084906 | MULTIPOLYGON (((-67.15973 1... |\n",
       "\n"
      ],
      "text/plain": [
       "  STATEFP COUNTYFP COUNTYNS AFFGEOID       GEOID NAME        LSAD ALAND   \n",
       "1 60      030      01805243 0500000US60030 60030 Rose Island 00      82093\n",
       "2 72      033      01804496 0500000US72033 72033 Cataño      13   12629291\n",
       "3 15      005      01702380 0500000US15005 15005 Kalawao     06   31057603\n",
       "4 72      049      01804504 0500000US72049 72049 Culebra     13   30115055\n",
       "5 72      015      01804487 0500000US72015 72015 Arroyo      13   38869489\n",
       "6 72      067      01804514 0500000US72067 72067 Hormigueros 13   29384893\n",
       "  AWATER    ALANDMI     n  stn_sq_mi geometry                      \n",
       "1 147383994  0.03169627  2 63.098904 MULTIPOLYGON (((-168.1635 -...\n",
       "2   5619250  4.87619451 41  8.408196 MULTIPOLYGON (((-66.16952 1...\n",
       "3 105764468 11.99140263 50  4.169654 MULTIPOLYGON (((-157.0146 2...\n",
       "4 407158805 11.62748297 37  3.182116 MULTIPOLYGON (((-65.3375 18...\n",
       "5  53459917 15.00758744 47  3.131749 MULTIPOLYGON (((-66.08226 1...\n",
       "6       481 11.34556596 35  3.084906 MULTIPOLYGON (((-67.15973 1..."
      ]
     },
     "metadata": {},
     "output_type": "display_data"
    }
   ],
   "source": [
    "head(sp_ev_cty%>%arrange(desc(stn_sq_mi)))"
   ]
  },
  {
   "cell_type": "markdown",
   "id": "3fa4dbce",
   "metadata": {},
   "source": [
    "Let's get the bottom 10 results"
   ]
  },
  {
   "cell_type": "code",
   "execution_count": 66,
   "id": "bbdd5e64",
   "metadata": {
    "scrolled": false
   },
   "outputs": [
    {
     "data": {
      "application/geo+json": {
       "features": [
        {
         "geometry": {
          "coordinates": [
           [
            [
             [
              -161.0482,
              62.5524
             ],
             [
              -160.9962,
              62.5524
             ],
             [
              -160.9962,
              62.8989
             ],
             [
              -160.9434,
              62.8989
             ],
             [
              -160.9434,
              62.9993
             ],
             [
              -160.858,
              62.9993
             ],
             [
              -160.858,
              63.012
             ],
             [
              -160.858,
              63.2718
             ],
             [
              -160.6674,
              63.2718
             ],
             [
              -160.6674,
              63.3585
             ],
             [
              -160.6903,
              63.3585
             ],
             [
              -160.6903,
              63.5317
             ],
             [
              -160.4974,
              63.5317
             ],
             [
              -160.4974,
              63.6183
             ],
             [
              -160.1115,
              63.6184
             ],
             [
              -160.1115,
              63.705
             ],
             [
              -159.9327,
              63.705
             ],
             [
              -159.9327,
              63.7916
             ],
             [
              -159.7375,
              63.7916
             ],
             [
              -159.7375,
              64.0515
             ],
             [
              -159.9473,
              64.0515
             ],
             [
              -159.9623,
              64.3979
             ],
             [
              -159.9623,
              64.7444
             ],
             [
              -159.7749,
              64.7444
             ],
             [
              -159.7749,
              64.9176
             ],
             [
              -159.5722,
              64.9176
             ],
             [
              -159.5827,
              65.0909
             ],
             [
              -159.5827,
              65.264
             ],
             [
              -159.3774,
              65.264
             ],
             [
              -159.3855,
              65.4372
             ],
             [
              -159.3856,
              65.5238
             ],
             [
              -159.5935,
              65.5238
             ],
             [
              -159.5936,
              65.7836
             ],
             [
              -159.6048,
              65.7836
             ],
             [
              -159.6048,
              65.9568
             ],
             [
              -158.9722,
              65.9568
             ],
             [
              -158.9722,
              66.13
             ],
             [
              -158.5755,
              66.13
             ],
             [
              -157.9063,
              66.13
             ],
             [
              -157.9063,
              66.4764
             ],
             [
              -157.0513,
              66.4764
             ],
             [
              -157.0513,
              66.3033
             ],
             [
              -156.6238,
              66.3033
             ],
             [
              -156.6238,
              66.3255
             ],
             [
              -156.6238,
              66.4764
             ],
             [
              -156.1962,
              66.4766
             ],
             [
              -156.1963,
              66.3899
             ],
             [
              -155.9825,
              66.3899
             ],
             [
              -155.9825,
              66.3033
             ],
             [
              -155.555,
              66.3033
             ],
             [
              -155.555,
              66.4765
             ],
             [
              -155.5106,
              66.4765
             ],
             [
              -155.5106,
              66.5631
             ],
             [
              -154.8604,
              66.5631
             ],
             [
              -154.8604,
              66.7362
             ],
             [
              -154.2103,
              66.7363
             ],
             [
              -154.2103,
              66.8228
             ],
             [
              -154.1462,
              66.8228
             ],
             [
              -154.1463,
              67.1692
             ],
             [
              -154.3031,
              67.1692
             ],
             [
              -154.3031,
              67.2558
             ],
             [
              -154.7489,
              67.2558
             ],
             [
              -154.7489,
              67.5155
             ],
             [
              -154.6905,
              67.5155
             ],
             [
              -154.6905,
              67.6021
             ],
             [
              -154.9166,
              67.6021
             ],
             [
              -154.9167,
              67.6886
             ],
             [
              -155.1428,
              67.6886
             ],
             [
              -155.1428,
              67.7752
             ],
             [
              -155.369,
              67.7752
             ],
             [
              -155.369,
              67.8618
             ],
             [
              -155.3187,
              67.8618
             ],
             [
              -155.3187,
              68
             ],
             [
              -154.3954,
              68
             ],
             [
              -153.4042,
              68
             ],
             [
              -152.5253,
              68
             ],
             [
              -151.6784,
              68
             ],
             [
              -150.8301,
              68
             ],
             [
              -150.0006,
              68
             ],
             [
              -149.1459,
              68
             ],
             [
              -148.5242,
              68
             ],
             [
              -147.7531,
              68
             ],
             [
              -147.0567,
              68
             ],
             [
              -146.6564,
              68
             ],
             [
              -146.0525,
              68
             ],
             [
              -146,
              68
             ],
             [
              -146,
              68.5
             ],
             [
              -145.4484,
              68.5
             ],
             [
              -144.7048,
              68.5
             ],
             [
              -144.2138,
              68.5
             ],
             [
              -143.5288,
              68.5
             ],
             [
              -142.5351,
              68.5
             ],
             [
              -141.6075,
              68.4992
             ],
             [
              -141.0027,
              68.4984
             ],
             [
              -141.0027,
              67.8923
             ],
             [
              -141.0027,
              67.286
             ],
             [
              -141.0026,
              66.6429
             ],
             [
              -141.0025,
              65.8401
             ],
             [
              -141.0025,
              65.8394
             ],
             [
              -141.0058,
              65.8388
             ],
             [
              -141.0479,
              65.8331
             ],
             [
              -141.0778,
              65.8263
             ],
             [
              -141.0964,
              65.8247
             ],
             [
              -141.1165,
              65.8148
             ],
             [
              -141.1345,
              65.8032
             ],
             [
              -141.1532,
              65.7955
             ],
             [
              -141.177,
              65.7797
             ],
             [
              -141.2132,
              65.7734
             ],
             [
              -141.2264,
              65.7661
             ],
             [
              -141.2409,
              65.7593
             ],
             [
              -141.2586,
              65.7472
             ],
             [
              -141.2866,
              65.7345
             ],
             [
              -141.3213,
              65.7145
             ],
             [
              -141.3429,
              65.7048
             ],
             [
              -141.3396,
              65.6806
             ],
             [
              -141.359,
              65.6609
             ],
             [
              -141.3843,
              65.646
             ],
             [
              -141.3831,
              65.624
             ],
             [
              -141.4204,
              65.6068
             ],
             [
              -141.4827,
              65.5927
             ],
             [
              -141.5037,
              65.5876
             ],
             [
              -141.5071,
              65.5781
             ],
             [
              -141.5282,
              65.5699
             ],
             [
              -141.554,
              65.5683
             ],
             [
              -141.5864,
              65.5467
             ],
             [
              -141.6139,
              65.5412
             ],
             [
              -141.6258,
              65.5344
             ],
             [
              -141.6433,
              65.5222
             ],
             [
              -141.6861,
              65.521
             ],
             [
              -141.7352,
              65.5063
             ],
             [
              -141.7703,
              65.5058
             ],
             [
              -141.7915,
              65.4864
             ],
             [
              -141.8018,
              65.4718
             ],
             [
              -141.8276,
              65.4614
             ],
             [
              -141.8512,
              65.4502
             ],
             [
              -141.8636,
              65.4442
             ],
             [
              -141.8888,
              65.4547
             ],
             [
              -141.9119,
              65.4542
             ],
             [
              -141.9498,
              65.4449
             ],
             [
              -141.9966,
              65.4416
             ],
             [
              -142.0247,
              65.45
             ],
             [
              -142.0548,
              65.4585
             ],
             [
              -142.0831,
              65.4629
             ],
             [
              -142.1102,
              65.4678
             ],
             [
              -142.1348,
              65.4666
             ],
             [
              -142.1535,
              65.4664
             ],
             [
              -142.1762,
              65.4631
             ],
             [
              -142.1805,
              65.4599
             ],
             [
              -142.2211,
              65.452
             ],
             [
              -142.2737,
              65.4457
             ],
             [
              -142.317,
              65.4362
             ],
             [
              -142.3504,
              65.4257
             ],
             [
              -142.3754,
              65.4138
             ],
             [
              -142.4129,
              65.4097
             ],
             [
              -142.4237,
              65.3989
             ],
             [
              -142.4433,
              65.3863
             ],
             [
              -142.4733,
              65.3748
             ],
             [
              -142.5126,
              65.3751
             ],
             [
              -142.5508,
              65.3809
             ],
             [
              -142.5861,
              65.3902
             ],
             [
              -142.6333,
              65.384
             ],
             [
              -142.6591,
              65.3743
             ],
             [
              -142.6715,
              65.3591
             ],
             [
              -142.677,
              65.3434
             ],
             [
              -142.7019,
              65.3318
             ],
             [
              -142.726,
              65.3241
             ],
             [
              -142.7571,
              65.3209
             ],
             [
              -142.7706,
              65.3175
             ],
             [
              -142.7675,
              65.3121
             ],
             [
              -142.7565,
              65.3104
             ],
             [
              -142.7421,
              65.3063
             ],
             [
              -142.7357,
              65.3041
             ],
             [
              -142.7359,
              65.2943
             ],
             [
              -142.7316,
              65.2849
             ],
             [
              -142.7349,
              65.2763
             ],
             [
              -142.7376,
              65.2611
             ],
             [
              -142.7323,
              65.2438
             ],
             [
              -142.7461,
              65.2381
             ],
             [
              -142.7592,
              65.2275
             ],
             [
              -142.755,
              65.216
             ],
             [
              -142.7712,
              65.2052
             ],
             [
              -142.7745,
              65.1959
             ],
             [
              -142.7971,
              65.1834
             ],
             [
              -142.8219,
              65.1708
             ],
             [
              -142.8444,
              65.1502
             ],
             [
              -142.8841,
              65.1449
             ],
             [
              -142.9323,
              65.1464
             ],
             [
              -142.9614,
              65.1349
             ],
             [
              -142.9921,
              65.1306
             ],
             [
              -142.9905,
              65.1322
             ],
             [
              -143.0095,
              65.133
             ],
             [
              -143.0289,
              65.1294
             ],
             [
              -143.0427,
              65.1185
             ],
             [
              -143.0695,
              65.1146
             ],
             [
              -143.1007,
              65.112
             ],
             [
              -143.1139,
              65.1027
             ],
             [
              -143.1265,
              65.0962
             ],
             [
              -143.147,
              65.0872
             ],
             [
              -143.1574,
              65.0775
             ],
             [
              -143.1731,
              65.0842
             ],
             [
              -143.1902,
              65.0819
             ],
             [
              -143.2161,
              65.0747
             ],
             [
              -143.2416,
              65.0538
             ],
             [
              -143.2902,
              65.0396
             ],
             [
              -143.3371,
              65.04
             ],
             [
              -143.3613,
              65.0347
             ],
             [
              -143.3534,
              65.0288
             ],
             [
              -143.3741,
              65.0155
             ],
             [
              -143.3687,
              65.0053
             ],
             [
              -143.3783,
              64.9977
             ],
             [
              -143.3913,
              64.9985
             ],
             [
              -143.4037,
              64.9932
             ],
             [
              -143.3938,
              64.9868
             ],
             [
              -143.4263,
              64.979
             ],
             [
              -143.4541,
              64.9824
             ],
             [
              -143.4902,
              64.9663
             ],
             [
              -143.5094,
              64.9642
             ],
             [
              -143.5129,
              64.9555
             ],
             [
              -143.501,
              64.9426
             ],
             [
              -143.4894,
              64.9289
             ],
             [
              -143.4772,
              64.9144
             ],
             [
              -143.4885,
              64.894
             ],
             [
              -143.4944,
              64.8766
             ],
             [
              -143.5004,
              64.8613
             ],
             [
              -143.4895,
              64.8455
             ],
             [
              -143.4537,
              64.8326
             ],
             [
              -143.4411,
              64.8251
             ],
             [
              -143.4394,
              64.8156
             ],
             [
              -143.4574,
              64.8098
             ],
             [
              -143.5023,
              64.803
             ],
             [
              -143.5229,
              64.7926
             ],
             [
              -143.526,
              64.7832
             ],
             [
              -143.5254,
              64.7749
             ],
             [
              -143.5044,
              64.7708
             ],
             [
              -143.516,
              64.752
             ],
             [
              -143.5614,
              64.7385
             ],
             [
              -143.6057,
              64.7217
             ],
             [
              -143.6248,
              64.7023
             ],
             [
              -143.6438,
              64.6862
             ],
             [
              -143.6682,
              64.667
             ],
             [
              -143.6803,
              64.6665
             ],
             [
              -143.6913,
              64.6623
             ],
             [
              -143.6974,
              64.6559
             ],
             [
              -143.7137,
              64.654
             ],
             [
              -143.7324,
              64.6515
             ],
             [
              -143.7491,
              64.6489
             ],
             [
              -143.7694,
              64.6489
             ],
             [
              -143.7883,
              64.6507
             ],
             [
              -143.8034,
              64.6529
             ],
             [
              -143.8181,
              64.6555
             ],
             [
              -143.8406,
              64.6547
             ],
             [
              -143.8655,
              64.6614
             ],
             [
              -143.891,
              64.6626
             ],
             [
              -143.9301,
              64.6682
             ],
             [
              -143.9667,
              64.6703
             ],
             [
              -144.0269,
              64.6755
             ],
             [
              -144.069,
              64.6836
             ],
             [
              -144.07,
              64.6927
             ],
             [
              -144.0585,
              64.7011
             ],
             [
              -144.0696,
              64.7072
             ],
             [
              -144.0911,
              64.7106
             ],
             [
              -144.1158,
              64.7166
             ],
             [
              -144.1101,
              64.728
             ],
             [
              -144.1015,
              64.7449
             ],
             [
              -144.0791,
              64.7516
             ],
             [
              -144.0298,
              64.7676
             ],
             [
              -144.0332,
              64.7749
             ],
             [
              -144.0846,
              64.7845
             ],
             [
              -144.1186,
              64.791
             ],
             [
              -144.122,
              64.8009
             ],
             [
              -144.1014,
              64.8116
             ],
             [
              -144.0875,
              64.8166
             ],
             [
              -144.0844,
              64.8263
             ],
             [
              -144.081,
              64.8333
             ],
             [
              -144.0945,
              64.8443
             ],
             [
              -144.0948,
              64.8529
             ],
             [
              -144.0767,
              64.8595
             ],
             [
              -144.0724,
              64.8721
             ],
             [
              -144.0684,
              64.8824
             ],
             [
              -144.0612,
              64.8897
             ],
             [
              -144.0519,
              64.8988
             ],
             [
              -144.0637,
              64.9065
             ],
             [
              -144.08,
              64.9118
             ],
             [
              -144.0802,
              64.9177
             ],
             [
              -144.0537,
              64.9261
             ],
             [
              -144.0443,
              64.9322
             ],
             [
              -144.0203,
              64.9366
             ],
             [
              -144.0036,
              64.9459
             ],
             [
              -143.9899,
              64.9644
             ],
             [
              -144.005,
              64.977
             ],
             [
              -144.0317,
              64.9819
             ],
             [
              -144.0494,
              64.9841
             ],
             [
              -144.0646,
              64.9933
             ],
             [
              -144.0812,
              64.9958
             ],
             [
              -144.0934,
              65.0065
             ],
             [
              -144.0985,
              65.0204
             ],
             [
              -144.0796,
              65.0209
             ],
             [
              -144.0524,
              65.0186
             ],
             [
              -144.0393,
              65.035
             ],
             [
              -144.014,
              65.0419
             ],
             [
              -143.9828,
              65.0493
             ],
             [
              -143.9568,
              65.0489
             ],
             [
              -143.9431,
              65.055
             ],
             [
              -143.922,
              65.0644
             ],
             [
              -143.912,
              65.0705
             ],
             [
              -143.8984,
              65.0817
             ],
             [
              -143.8997,
              65.0932
             ],
             [
              -143.9111,
              65.1019
             ],
             [
              -143.9413,
              65.1095
             ],
             [
              -143.9661,
              65.1146
             ],
             [
              -143.9736,
              65.1193
             ],
             [
              -143.9941,
              65.1183
             ],
             [
              -144.0037,
              65.1113
             ],
             [
              -144.0222,
              65.1114
             ],
             [
              -144.0494,
              65.1167
             ],
             [
              -144.0854,
              65.1141
             ],
             [
              -144.1092,
              65.1171
             ],
             [
              -144.1304,
              65.1183
             ],
             [
              -144.1372,
              65.1095
             ],
             [
              -144.1497,
              65.1096
             ],
             [
              -144.1839,
              65.1173
             ],
             [
              -144.2315,
              65.1137
             ],
             [
              -144.2467,
              65.1174
             ],
             [
              -144.2741,
              65.1136
             ],
             [
              -144.3235,
              65.1115
             ],
             [
              -144.3314,
              65.1077
             ],
             [
              -144.3293,
              65.1002
             ],
             [
              -144.3361,
              65.0895
             ],
             [
              -144.3575,
              65.0854
             ],
             [
              -144.3805,
              65.0816
             ],
             [
              -144.4205,
              65.0732
             ],
             [
              -144.4393,
              65.0623
             ],
             [
              -144.4605,
              65.0619
             ],
             [
              -144.4815,
              65.0781
             ],
             [
              -144.5028,
              65.0815
             ],
             [
              -144.5243,
              65.0763
             ],
             [
              -144.5341,
              65.0711
             ],
             [
              -144.5457,
              65.0702
             ],
             [
              -144.5792,
              65.0796
             ],
             [
              -144.6032,
              65.0849
             ],
             [
              -144.6305,
              65.0932
             ],
             [
              -144.6666,
              65.0981
             ],
             [
              -144.6812,
              65.1041
             ],
             [
              -144.708,
              65.1056
             ],
             [
              -144.7185,
              65.0947
             ],
             [
              -144.7616,
              65.1036
             ],
             [
              -144.8159,
              65.1188
             ],
             [
              -144.8345,
              65.1194
             ],
             [
              -144.8602,
              65.1284
             ],
             [
              -144.8775,
              65.1363
             ],
             [
              -144.9044,
              65.1342
             ],
             [
              -144.9158,
              65.1258
             ],
             [
              -144.9413,
              65.1263
             ],
             [
              -144.9727,
              65.1361
             ],
             [
              -144.9971,
              65.1318
             ],
             [
              -145.0109,
              65.1245
             ],
             [
              -145.0585,
              65.113
             ],
             [
              -145.0837,
              65.1032
             ],
             [
              -145.1006,
              65.0966
             ],
             [
              -145.1616,
              65.097
             ],
             [
              -145.1929,
              65.0841
             ],
             [
              -145.2078,
              65.0753
             ],
             [
              -145.2326,
              65.0716
             ],
             [
              -145.2748,
              65.0675
             ],
             [
              -145.3027,
              65.0718
             ],
             [
              -145.3182,
              65.0701
             ],
             [
              -145.3419,
              65.0678
             ],
             [
              -145.3573,
              65.0681
             ],
             [
              -145.3807,
              65.0798
             ],
             [
              -145.4056,
              65.0832
             ],
             [
              -145.4275,
              65.081
             ],
             [
              -145.4389,
              65.0708
             ],
             [
              -145.4546,
              65.0648
             ],
             [
              -145.4775,
              65.0645
             ],
             [
              -145.5067,
              65.0675
             ],
             [
              -145.5221,
              65.0548
             ],
             [
              -145.5303,
              65.0479
             ],
             [
              -145.556,
              65.0472
             ],
             [
              -145.5743,
              65.0461
             ],
             [
              -145.601,
              65.0434
             ],
             [
              -145.628,
              65.0403
             ],
             [
              -145.655,
              65.036
             ],
             [
              -145.6676,
              65.0555
             ],
             [
              -145.6794,
              65.0583
             ],
             [
              -145.6771,
              65.0659
             ],
             [
              -145.6887,
              65.0731
             ],
             [
              -145.7103,
              65.0775
             ],
             [
              -145.7272,
              65.0762
             ],
             [
              -145.7623,
              65.071
             ],
             [
              -145.7765,
              65.0745
             ],
             [
              -145.7692,
              65.0854
             ],
             [
              -145.7573,
              65.0948
             ],
             [
              -145.7413,
              65.1023
             ],
             [
              -145.7126,
              65.106
             ],
             [
              -145.6877,
              65.1123
             ],
             [
              -145.6722,
              65.1216
             ],
             [
              -145.6708,
              65.1291
             ],
             [
              -145.6447,
              65.1348
             ],
             [
              -145.628,
              65.1401
             ],
             [
              -145.6357,
              65.1496
             ],
             [
              -145.6708,
              65.1586
             ],
             [
              -145.6663,
              65.1665
             ],
             [
              -145.6772,
              65.1774
             ],
             [
              -145.6843,
              65.1847
             ],
             [
              -145.6995,
              65.186
             ],
             [
              -145.7165,
              65.1842
             ],
             [
              -145.7445,
              65.1846
             ],
             [
              -145.7718,
              65.1909
             ],
             [
              -145.7941,
              65.1926
             ],
             [
              -145.8283,
              65.1989
             ],
             [
              -145.851,
              65.2095
             ],
             [
              -145.8714,
              65.2144
             ],
             [
              -145.902,
              65.207
             ],
             [
              -145.9316,
              65.2051
             ],
             [
              -145.9596,
              65.2112
             ],
             [
              -145.9762,
              65.2176
             ],
             [
              -145.989,
              65.2267
             ],
             [
              -146.025,
              65.2317
             ],
             [
              -146.0426,
              65.2393
             ],
             [
              -146.0619,
              65.2413
             ],
             [
              -146.0802,
              65.2539
             ],
             [
              -146.074,
              65.2616
             ],
             [
              -146.1243,
              65.2774
             ],
             [
              -146.1075,
              65.2846
             ],
             [
              -146.1106,
              65.2989
             ],
             [
              -146.1166,
              65.3039
             ],
             [
              -146.1345,
              65.3063
             ],
             [
              -146.1342,
              65.3169
             ],
             [
              -146.1117,
              65.3251
             ],
             [
              -146.087,
              65.3384
             ],
             [
              -146.0665,
              65.3482
             ],
             [
              -146.0519,
              65.3567
             ],
             [
              -146.0337,
              65.3598
             ],
             [
              -146.0147,
              65.3591
             ],
             [
              -146.0047,
              65.3687
             ],
             [
              -145.9935,
              65.3792
             ],
             [
              -145.9782,
              65.3884
             ],
             [
              -145.9829,
              65.4023
             ],
             [
              -145.9928,
              65.4075
             ],
             [
              -146.0118,
              65.4071
             ],
             [
              -146.0463,
              65.4035
             ],
             [
              -146.0758,
              65.4048
             ],
             [
              -146.0944,
              65.4034
             ],
             [
              -146.1155,
              65.4087
             ],
             [
              -146.1287,
              65.4184
             ],
             [
              -146.1596,
              65.4247
             ],
             [
              -146.164,
              65.435
             ],
             [
              -146.1724,
              65.4492
             ],
             [
              -146.1989,
              65.4535
             ],
             [
              -146.2164,
              65.4471
             ],
             [
              -146.243,
              65.4402
             ],
             [
              -146.2768,
              65.4405
             ],
             [
              -146.3022,
              65.4344
             ],
             [
              -146.3197,
              65.4287
             ],
             [
              -146.3421,
              65.431
             ],
             [
              -146.3664,
              65.4292
             ],
             [
              -146.3858,
              65.423
             ],
             [
              -146.4198,
              65.419
             ],
             [
              -146.4304,
              65.4278
             ],
             [
              -146.4648,
              65.4344
             ],
             [
              -146.4969,
              65.431
             ],
             [
              -146.5284,
              65.4227
             ],
             [
              -146.5247,
              65.4135
             ],
             [
              -146.5084,
              65.4006
             ],
             [
              -146.4993,
              65.3917
             ],
             [
              -146.4905,
              65.3827
             ],
             [
              -146.5081,
              65.373
             ],
             [
              -146.5236,
              65.3689
             ],
             [
              -146.5286,
              65.3588
             ],
             [
              -146.5419,
              65.3498
             ],
             [
              -146.5663,
              65.3422
             ],
             [
              -146.5902,
              65.3406
             ],
             [
              -146.6226,
              65.3398
             ],
             [
              -146.6338,
              65.3335
             ],
             [
              -146.6537,
              65.3306
             ],
             [
              -146.6829,
              65.3246
             ],
             [
              -146.7034,
              65.318
             ],
             [
              -146.7202,
              65.3121
             ],
             [
              -146.7536,
              65.3077
             ],
             [
              -146.769,
              65.3053
             ],
             [
              -146.792,
              65.2979
             ],
             [
              -146.8098,
              65.2946
             ],
             [
              -146.8308,
              65.2905
             ],
             [
              -146.8479,
              65.2879
             ],
             [
              -146.8837,
              65.2855
             ],
             [
              -146.904,
              65.28
             ],
             [
              -146.9208,
              65.2707
             ],
             [
              -146.9435,
              65.2705
             ],
             [
              -146.9579,
              65.275
             ],
             [
              -146.9798,
              65.282
             ],
             [
              -147.013,
              65.2836
             ],
             [
              -147.0387,
              65.2858
             ],
             [
              -147.0543,
              65.2825
             ],
             [
              -147.0871,
              65.282
             ],
             [
              -147.1032,
              65.2769
             ],
             [
              -147.1321,
              65.2816
             ],
             [
              -147.166,
              65.2855
             ],
             [
              -147.1866,
              65.2815
             ],
             [
              -147.2221,
              65.2777
             ],
             [
              -147.2389,
              65.2776
             ],
             [
              -147.265,
              65.2773
             ],
             [
              -147.2915,
              65.2762
             ],
             [
              -147.316,
              65.2753
             ],
             [
              -147.339,
              65.2709
             ],
             [
              -147.3502,
              65.2631
             ],
             [
              -147.3706,
              65.261
             ],
             [
              -147.3873,
              65.2553
             ],
             [
              -147.4005,
              65.2506
             ],
             [
              -147.4268,
              65.2473
             ],
             [
              -147.4521,
              65.2418
             ],
             [
              -147.4702,
              65.2406
             ],
             [
              -147.5026,
              65.2324
             ],
             [
              -147.5168,
              65.2243
             ],
             [
              -147.5465,
              65.2132
             ],
             [
              -147.5613,
              65.2099
             ],
             [
              -147.6219,
              65.2099
             ],
             [
              -147.6832,
              65.2099
             ],
             [
              -147.7401,
              65.2099
             ],
             [
              -147.8466,
              65.2099
             ],
             [
              -147.9789,
              65.2099
             ],
             [
              -148.0857,
              65.2099
             ],
             [
              -148.1046,
              65.2099
             ],
             [
              -148.6612,
              65.2099
             ],
             [
              -148.6482,
              64.8634
             ],
             [
              -148.6482,
              64.6881
             ],
             [
              -148.6482,
              64.5973
             ],
             [
              -148.6633,
              64.5908
             ],
             [
              -148.6482,
              64.5854
             ],
             [
              -148.596,
              64.6163
             ],
             [
              -148.5778,
              64.6103
             ],
             [
              -148.5507,
              64.6172
             ],
             [
              -148.5315,
              64.6079
             ],
             [
              -148.4575,
              64.5898
             ],
             [
              -148.4249,
              64.5749
             ],
             [
              -148.4446,
              64.5663
             ],
             [
              -148.4201,
              64.5614
             ],
             [
              -148.4031,
              64.5313
             ],
             [
              -148.3508,
              64.522
             ],
             [
              -148.327,
              64.5122
             ],
             [
              -148.2981,
              64.4874
             ],
             [
              -148.2709,
              64.4918
             ],
             [
              -148.2317,
              64.4693
             ],
             [
              -148.2109,
              64.4488
             ],
             [
              -148.2237,
              64.4353
             ],
             [
              -148.1758,
              64.4101
             ],
             [
              -148.1761,
              64.4009
             ],
             [
              -148.1046,
              64.3776
             ],
             [
              -148.1086,
              64.3622
             ],
             [
              -148.0698,
              64.3552
             ],
             [
              -148.0467,
              64.3438
             ],
             [
              -148.6573,
              64.3438
             ],
             [
              -149.1326,
              64.3438
             ],
             [
              -149.1327,
              64.3582
             ],
             [
              -149.9824,
              64.3582
             ],
             [
              -150.7294,
              64.3582
             ],
             [
              -150.9506,
              64.2137
             ],
             [
              -151.282,
              63.9973
             ],
             [
              -151.4076,
              63.9973
             ],
             [
              -151.433,
              64.0078
             ],
             [
              -151.5163,
              64.0206
             ],
             [
              -151.4897,
              64.0446
             ],
             [
              -151.5405,
              64.0504
             ],
             [
              -151.5649,
              64.055
             ],
             [
              -151.5649,
              64.0694
             ],
             [
              -151.7298,
              64.0694
             ],
             [
              -151.7761,
              64.0732
             ],
             [
              -151.794,
              64.0694
             ],
             [
              -151.8269,
              64.0406
             ],
             [
              -151.8597,
              64.0189
             ],
             [
              -151.8305,
              63.9972
             ],
             [
              -152.0474,
              63.9972
             ],
             [
              -152.0551,
              63.824
             ],
             [
              -152.2293,
              63.824
             ],
             [
              -152.2284,
              63.6508
             ],
             [
              -152.8734,
              63.6507
             ],
             [
              -152.8734,
              63.4775
             ],
             [
              -152.8109,
              63.4775
             ],
             [
              -152.8109,
              63.3476
             ],
             [
              -152.6195,
              63.3476
             ],
             [
              -152.6195,
              63.3043
             ],
             [
              -152.4281,
              63.3043
             ],
             [
              -152.4281,
              63.1832
             ],
             [
              -152.6802,
              62.9815
             ],
             [
              -152.9976,
              62.7274
             ],
             [
              -153.0015,
              62.7274
             ],
             [
              -153.0016,
              62.7187
             ],
             [
              -152.9998,
              62.2926
             ],
             [
              -153.0701,
              62.2926
             ],
             [
              -153.0701,
              62.206
             ],
             [
              -153.395,
              62.206
             ],
             [
              -153.395,
              62.1193
             ],
             [
              -153.7619,
              62.1193
             ],
             [
              -153.7619,
              62.0327
             ],
             [
              -154.4105,
              62.0327
             ],
             [
              -155.0626,
              62.0327
             ],
             [
              -155.868,
              62.0327
             ],
             [
              -156.6808,
              62.0326
             ],
             [
              -157.0639,
              62.0326
             ],
             [
              -157.0639,
              62.1193
             ],
             [
              -157.2565,
              62.1193
             ],
             [
              -157.6338,
              62.1193
             ],
             [
              -158.5314,
              62.1193
             ],
             [
              -158.5314,
              62.0326
             ],
             [
              -159.265,
              62.0326
             ],
             [
              -159.265,
              61.946
             ],
             [
              -159.5545,
              61.946
             ],
             [
              -160.5347,
              61.9459
             ],
             [
              -160.916,
              61.9459
             ],
             [
              -160.916,
              62.0549
             ],
             [
              -160.916,
              62.2059
             ],
             [
              -161.0482,
              62.2059
             ],
             [
              -161.0482,
              62.5077
             ],
             [
              -161.0482,
              62.5524
             ]
            ]
           ]
          ],
          "type": "MultiPolygon"
         },
         "properties": {
          "AFFGEOID": "0500000US02290",
          "ALAND": 377034650847,
          "ALANDMI": 145573.8328,
          "AWATER": 5949465694,
          "COUNTYFP": "290",
          "COUNTYNS": "01419987",
          "GEOID": "02290",
          "LSAD": "05",
          "NAME": "Yukon-Koyukuk",
          "STATEFP": "02",
          "n": 1,
          "stn_sq_mi": 6.8694e-06
         },
         "type": "Feature"
        },
        {
         "geometry": {
          "coordinates": [
           [
            [
             [
              -165.3866,
              68.0347
             ],
             [
              -164.4994,
              68.0347
             ],
             [
              -164.4995,
              68.2079
             ],
             [
              -163.6153,
              68.2079
             ],
             [
              -162.7222,
              68.2079
             ],
             [
              -162.7222,
              68.2945
             ],
             [
              -162.0233,
              68.2945
             ],
             [
              -162.0233,
              68.2079
             ],
             [
              -161.5573,
              68.2079
             ],
             [
              -161.5573,
              68.2945
             ],
             [
              -161.0914,
              68.2945
             ],
             [
              -161.0914,
              68.208
             ],
             [
              -160.1594,
              68.208
             ],
             [
              -160.1595,
              68.2946
             ],
             [
              -159.6935,
              68.2946
             ],
             [
              -159.6935,
              68.208
             ],
             [
              -158.9557,
              68.208
             ],
             [
              -158.1791,
              68.208
             ],
             [
              -157.7908,
              68.208
             ],
             [
              -157.1549,
              68.2081
             ],
             [
              -157.1549,
              68.1215
             ],
             [
              -156.2368,
              68.1215
             ],
             [
              -156.2368,
              68.0349
             ],
             [
              -155.3187,
              68.0349
             ],
             [
              -155.3187,
              68
             ],
             [
              -155.3187,
              67.8618
             ],
             [
              -155.369,
              67.8618
             ],
             [
              -155.369,
              67.7752
             ],
             [
              -155.1428,
              67.7752
             ],
             [
              -155.1428,
              67.6886
             ],
             [
              -154.9167,
              67.6886
             ],
             [
              -154.9166,
              67.6021
             ],
             [
              -154.6905,
              67.6021
             ],
             [
              -154.6905,
              67.5155
             ],
             [
              -154.7489,
              67.5155
             ],
             [
              -154.7489,
              67.2558
             ],
             [
              -154.3031,
              67.2558
             ],
             [
              -154.3031,
              67.1692
             ],
             [
              -154.1463,
              67.1692
             ],
             [
              -154.1462,
              66.8228
             ],
             [
              -154.2103,
              66.8228
             ],
             [
              -154.2103,
              66.7363
             ],
             [
              -154.8604,
              66.7362
             ],
             [
              -154.8604,
              66.5631
             ],
             [
              -155.5106,
              66.5631
             ],
             [
              -155.5106,
              66.4765
             ],
             [
              -155.555,
              66.4765
             ],
             [
              -155.555,
              66.3033
             ],
             [
              -155.9825,
              66.3033
             ],
             [
              -155.9825,
              66.3899
             ],
             [
              -156.1963,
              66.3899
             ],
             [
              -156.1962,
              66.4766
             ],
             [
              -156.6238,
              66.4764
             ],
             [
              -156.6238,
              66.3255
             ],
             [
              -156.6238,
              66.3033
             ],
             [
              -157.0513,
              66.3033
             ],
             [
              -157.0513,
              66.4764
             ],
             [
              -157.9063,
              66.4764
             ],
             [
              -157.9063,
              66.13
             ],
             [
              -158.5755,
              66.13
             ],
             [
              -158.9722,
              66.13
             ],
             [
              -158.9722,
              65.9568
             ],
             [
              -159.6048,
              65.9568
             ],
             [
              -159.6048,
              65.7836
             ],
             [
              -159.5936,
              65.7836
             ],
             [
              -159.5935,
              65.5238
             ],
             [
              -159.8017,
              65.5238
             ],
             [
              -159.8017,
              65.4372
             ],
             [
              -160.6341,
              65.4372
             ],
             [
              -161.458,
              65.4372
             ],
             [
              -162.331,
              65.4372
             ],
             [
              -162.8249,
              65.4372
             ],
             [
              -163.7554,
              65.4372
             ],
             [
              -163.7554,
              65.6104
             ],
             [
              -163.9635,
              65.6104
             ],
             [
              -163.9635,
              65.7836
             ],
             [
              -164.2442,
              65.7836
             ],
             [
              -164.2442,
              66.1299
             ],
             [
              -164.3189,
              66.1299
             ],
             [
              -164.3189,
              66.4763
             ],
             [
              -164.3959,
              66.4763
             ],
             [
              -164.3959,
              66.5811
             ],
             [
              -164.345,
              66.5808
             ],
             [
              -164.0946,
              66.5923
             ],
             [
              -163.9796,
              66.594
             ],
             [
              -163.9781,
              66.5926
             ],
             [
              -163.9785,
              66.591
             ],
             [
              -163.9149,
              66.5939
             ],
             [
              -163.8242,
              66.5917
             ],
             [
              -163.7268,
              66.5844
             ],
             [
              -163.669,
              66.5759
             ],
             [
              -163.604,
              66.5581
             ],
             [
              -163.6356,
              66.554
             ],
             [
              -163.753,
              66.5486
             ],
             [
              -163.7512,
              66.5288
             ],
             [
              -163.7272,
              66.5164
             ],
             [
              -163.7283,
              66.4986
             ],
             [
              -163.7302,
              66.4914
             ],
             [
              -163.762,
              66.4549
             ],
             [
              -163.7987,
              66.4369
             ],
             [
              -163.8442,
              66.419
             ],
             [
              -163.8564,
              66.4093
             ],
             [
              -163.8731,
              66.389
             ],
             [
              -163.8731,
              66.3285
             ],
             [
              -163.8492,
              66.3076
             ],
             [
              -163.8398,
              66.3041
             ],
             [
              -163.83,
              66.2804
             ],
             [
              -163.8301,
              66.272
             ],
             [
              -163.8431,
              66.2599
             ],
             [
              -163.9048,
              66.2303
             ],
             [
              -163.9559,
              66.2172
             ],
             [
              -164.0469,
              66.2094
             ],
             [
              -164.0788,
              66.2018
             ],
             [
              -164.0927,
              66.1845
             ],
             [
              -164.0892,
              66.1823
             ],
             [
              -164.0787,
              66.181
             ],
             [
              -164.0075,
              66.1794
             ],
             [
              -163.9166,
              66.1905
             ],
             [
              -163.8783,
              66.1603
             ],
             [
              -163.8614,
              66.1367
             ],
             [
              -163.8474,
              66.1221
             ],
             [
              -163.8036,
              66.1001
             ],
             [
              -163.7725,
              66.0819
             ],
             [
              -163.7684,
              66.0737
             ],
             [
              -163.7675,
              66.0608
             ],
             [
              -163.6239,
              66.0583
             ],
             [
              -163.5401,
              66.0699
             ],
             [
              -163.5027,
              66.0812
             ],
             [
              -163.4958,
              66.0854
             ],
             [
              -163.3448,
              66.0849
             ],
             [
              -163.3138,
              66.0753
             ],
             [
              -163.2878,
              66.0692
             ],
             [
              -163.1686,
              66.0593
             ],
             [
              -163.1467,
              66.0595
             ],
             [
              -163.093,
              66.063
             ],
             [
              -163.0471,
              66.0683
             ],
             [
              -162.9975,
              66.0768
             ],
             [
              -162.876,
              66.0828
             ],
             [
              -162.7912,
              66.0891
             ],
             [
              -162.7507,
              66.0902
             ],
             [
              -162.6813,
              66.0616
             ],
             [
              -162.6802,
              66.0581
             ],
             [
              -162.6736,
              66.0537
             ],
             [
              -162.636,
              66.0404
             ],
             [
              -162.6223,
              66.0395
             ],
             [
              -162.5308,
              66.0451
             ],
             [
              -162.4577,
              66.0586
             ],
             [
              -162.4237,
              66.049
             ],
             [
              -162.4135,
              66.0351
             ],
             [
              -162.3919,
              66.0287
             ],
             [
              -162.3721,
              66.028
             ],
             [
              -162.3313,
              66.0314
             ],
             [
              -162.2697,
              66.0421
             ],
             [
              -162.2059,
              66.0568
             ],
             [
              -162.1395,
              66.0788
             ],
             [
              -162.1374,
              66.0785
             ],
             [
              -162.1297,
              66.0695
             ],
             [
              -162.1218,
              66.0674
             ],
             [
              -162.0257,
              66.0628
             ],
             [
              -161.95,
              66.0403
             ],
             [
              -161.838,
              66.0226
             ],
             [
              -161.8171,
              66.0331
             ],
             [
              -161.8123,
              66.0417
             ],
             [
              -161.7986,
              66.0553
             ],
             [
              -161.7755,
              66.0737
             ],
             [
              -161.6806,
              66.1116
             ],
             [
              -161.6653,
              66.1222
             ],
             [
              -161.627,
              66.1532
             ],
             [
              -161.624,
              66.1621
             ],
             [
              -161.6139,
              66.1767
             ],
             [
              -161.5484,
              66.2399
             ],
             [
              -161.4845,
              66.2624
             ],
             [
              -161.3679,
              66.2587
             ],
             [
              -161.3412,
              66.2551
             ],
             [
              -161.3373,
              66.2432
             ],
             [
              -161.3321,
              66.2364
             ],
             [
              -161.3208,
              66.2236
             ],
             [
              -161.313,
              66.2211
             ],
             [
              -161.2637,
              66.2142
             ],
             [
              -161.199,
              66.2109
             ],
             [
              -161.1454,
              66.2202
             ],
             [
              -161.0873,
              66.2342
             ],
             [
              -161.0679,
              66.2352
             ],
             [
              -161.0527,
              66.231
             ],
             [
              -161.0359,
              66.2294
             ],
             [
              -161,
              66.2331
             ],
             [
              -160.994,
              66.2344
             ],
             [
              -160.9911,
              66.2368
             ],
             [
              -160.9903,
              66.2397
             ],
             [
              -160.9959,
              66.252
             ],
             [
              -160.9985,
              66.2549
             ],
             [
              -161.061,
              66.2838
             ],
             [
              -161.0793,
              66.3071
             ],
             [
              -161.0892,
              66.3151
             ],
             [
              -161.108,
              66.3284
             ],
             [
              -161.1295,
              66.3362
             ],
             [
              -161.1631,
              66.3423
             ],
             [
              -161.2198,
              66.3489
             ],
             [
              -161.3607,
              66.3759
             ],
             [
              -161.5256,
              66.397
             ],
             [
              -161.6944,
              66.3962
             ],
             [
              -161.8175,
              66.3608
             ],
             [
              -161.9129,
              66.3444
             ],
             [
              -161.9163,
              66.3495
             ],
             [
              -161.8809,
              66.3988
             ],
             [
              -161.8724,
              66.4141
             ],
             [
              -161.8634,
              66.4408
             ],
             [
              -161.8642,
              66.4882
             ],
             [
              -161.8749,
              66.5114
             ],
             [
              -162.029,
              66.5865
             ],
             [
              -162.0915,
              66.606
             ],
             [
              -162.0979,
              66.6099
             ],
             [
              -162.1056,
              66.6226
             ],
             [
              -162.1133,
              66.6396
             ],
             [
              -162.1243,
              66.6513
             ],
             [
              -162.1404,
              66.6647
             ],
             [
              -162.1754,
              66.6878
             ],
             [
              -162.2286,
              66.7098
             ],
             [
              -162.2688,
              66.7179
             ],
             [
              -162.3498,
              66.7267
             ],
             [
              -162.4224,
              66.7316
             ],
             [
              -162.4824,
              66.7303
             ],
             [
              -162.5014,
              66.7425
             ],
             [
              -162.5005,
              66.7498
             ],
             [
              -162.5025,
              66.7589
             ],
             [
              -162.5126,
              66.7777
             ],
             [
              -162.5444,
              66.8049
             ],
             [
              -162.5722,
              66.8254
             ],
             [
              -162.5942,
              66.8376
             ],
             [
              -162.6147,
              66.8465
             ],
             [
              -162.6216,
              66.8509
             ],
             [
              -162.6249,
              66.855
             ],
             [
              -162.6267,
              66.8596
             ],
             [
              -162.6231,
              66.8743
             ],
             [
              -162.6146,
              66.8859
             ],
             [
              -162.6011,
              66.8985
             ],
             [
              -162.5829,
              66.9043
             ],
             [
              -162.5342,
              66.9053
             ],
             [
              -162.5037,
              66.9135
             ],
             [
              -162.4998,
              66.9337
             ],
             [
              -162.4667,
              66.951
             ],
             [
              -162.4449,
              66.9251
             ],
             [
              -162.409,
              66.9189
             ],
             [
              -162.3464,
              66.9348
             ],
             [
              -162.323,
              66.9432
             ],
             [
              -162.2901,
              66.9313
             ],
             [
              -162.2811,
              66.9157
             ],
             [
              -162.2718,
              66.9041
             ],
             [
              -162.2287,
              66.8666
             ],
             [
              -162.1576,
              66.8312
             ],
             [
              -162.1173,
              66.7985
             ],
             [
              -162.0969,
              66.7885
             ],
             [
              -162.0737,
              66.7833
             ],
             [
              -162.0491,
              66.7806
             ],
             [
              -162.0136,
              66.7794
             ],
             [
              -162.0115,
              66.7591
             ],
             [
              -162.0296,
              66.7346
             ],
             [
              -162.0413,
              66.7238
             ],
             [
              -162.0588,
              66.7163
             ],
             [
              -162.0683,
              66.7099
             ],
             [
              -162.0746,
              66.7037
             ],
             [
              -162.0815,
              66.6931
             ],
             [
              -162.066,
              66.6793
             ],
             [
              -162.078,
              66.664
             ],
             [
              -162.0736,
              66.6512
             ],
             [
              -162.0691,
              66.6457
             ],
             [
              -162.0332,
              66.6316
             ],
             [
              -161.9689,
              66.6026
             ],
             [
              -161.9534,
              66.5924
             ],
             [
              -161.8851,
              66.554
             ],
             [
              -161.7654,
              66.4969
             ],
             [
              -161.6243,
              66.4501
             ],
             [
              -161.5741,
              66.4386
             ],
             [
              -161.5164,
              66.4418
             ],
             [
              -161.4353,
              66.4542
             ],
             [
              -161.3263,
              66.4784
             ],
             [
              -161.2798,
              66.5052
             ],
             [
              -161.2932,
              66.5206
             ],
             [
              -161.399,
              66.5235
             ],
             [
              -161.4541,
              66.5222
             ],
             [
              -161.4692,
              66.5228
             ],
             [
              -161.4836,
              66.5256
             ],
             [
              -161.4935,
              66.531
             ],
             [
              -161.495,
              66.5344
             ],
             [
              -161.4863,
              66.538
             ],
             [
              -161.4829,
              66.5437
             ],
             [
              -161.4904,
              66.5608
             ],
             [
              -161.5418,
              66.5814
             ],
             [
              -161.599,
              66.5932
             ],
             [
              -161.6654,
              66.6104
             ],
             [
              -161.6931,
              66.6206
             ],
             [
              -161.8662,
              66.705
             ],
             [
              -161.8817,
              66.7168
             ],
             [
              -161.8461,
              66.7616
             ],
             [
              -161.8664,
              66.7777
             ],
             [
              -161.8615,
              66.7971
             ],
             [
              -161.8463,
              66.8136
             ],
             [
              -161.8242,
              66.8179
             ],
             [
              -161.7963,
              66.8331
             ],
             [
              -161.7855,
              66.8465
             ],
             [
              -161.7822,
              66.86
             ],
             [
              -161.7944,
              66.8819
             ],
             [
              -161.7705,
              66.8966
             ],
             [
              -161.7196,
              66.9169
             ],
             [
              -161.6921,
              66.945
             ],
             [
              -161.6858,
              66.9558
             ],
             [
              -161.6885,
              66.9598
             ],
             [
              -161.6863,
              66.9614
             ],
             [
              -161.6744,
              66.962
             ],
             [
              -161.5667,
              66.9348
             ],
             [
              -161.4892,
              66.9369
             ],
             [
              -161.4851,
              66.9456
             ],
             [
              -161.4854,
              66.9608
             ],
             [
              -161.5057,
              66.9743
             ],
             [
              -161.5305,
              66.985
             ],
             [
              -161.6222,
              67.0081
             ],
             [
              -161.6974,
              67.0108
             ],
             [
              -161.7117,
              67.001
             ],
             [
              -161.7596,
              67.0306
             ],
             [
              -161.7992,
              67.0475
             ],
             [
              -161.8103,
              67.0503
             ],
             [
              -161.8363,
              67.0518
             ],
             [
              -161.8502,
              67.0522
             ],
             [
              -161.8937,
              67.0491
             ],
             [
              -162.1232,
              67.0258
             ],
             [
              -162.2116,
              67.0067
             ],
             [
              -162.234,
              66.9996
             ],
             [
              -162.2343,
              66.9946
             ],
             [
              -162.2392,
              66.9938
             ],
             [
              -162.3611,
              66.994
             ],
             [
              -162.4068,
              66.9847
             ],
             [
              -162.4684,
              66.9806
             ],
             [
              -162.5017,
              66.9772
             ],
             [
              -162.6227,
              66.9922
             ],
             [
              -162.6557,
              67.0083
             ],
             [
              -162.693,
              67.0286
             ],
             [
              -162.7551,
              67.0152
             ],
             [
              -162.7755,
              67.0184
             ],
             [
              -162.8314,
              67.0349
             ],
             [
              -162.8337,
              67.0093
             ],
             [
              -162.8168,
              66.9995
             ],
             [
              -162.8192,
              66.9947
             ],
             [
              -162.843,
              66.9912
             ],
             [
              -162.9753,
              67.0246
             ],
             [
              -163.0979,
              67.0412
             ],
             [
              -163.2993,
              67.0607
             ],
             [
              -163.399,
              67.0742
             ],
             [
              -163.4412,
              67.0815
             ],
             [
              -163.4952,
              67.0875
             ],
             [
              -163.5912,
              67.0924
             ],
             [
              -163.666,
              67.1001
             ],
             [
              -163.702,
              67.1094
             ],
             [
              -163.7447,
              67.1264
             ],
             [
              -163.7459,
              67.1371
             ],
             [
              -163.7369,
              67.1632
             ],
             [
              -163.7375,
              67.1848
             ],
             [
              -163.7408,
              67.21
             ],
             [
              -163.7586,
              67.2564
             ],
             [
              -163.8222,
              67.3498
             ],
             [
              -163.8536,
              67.3881
             ],
             [
              -163.8788,
              67.4161
             ],
             [
              -164.007,
              67.5357
             ],
             [
              -164.0795,
              67.5859
             ],
             [
              -164.1087,
              67.602
             ],
             [
              -164.1444,
              67.6172
             ],
             [
              -164.2098,
              67.6391
             ],
             [
              -164.5339,
              67.7256
             ],
             [
              -164.7783,
              67.8209
             ],
             [
              -164.9073,
              67.8678
             ],
             [
              -165.0575,
              67.9217
             ],
             [
              -165.1296,
              67.9418
             ],
             [
              -165.1909,
              67.9661
             ],
             [
              -165.2272,
              67.9853
             ],
             [
              -165.3132,
              68.0169
             ],
             [
              -165.3866,
              68.0347
             ]
            ]
           ]
          ],
          "type": "MultiPolygon"
         },
         "properties": {
          "AFFGEOID": "0500000US02188",
          "ALAND": 92329079390,
          "ALANDMI": 35648.4422,
          "AWATER": 12875662550,
          "COUNTYFP": "188",
          "COUNTYNS": "01419979",
          "GEOID": "02188",
          "LSAD": "04",
          "NAME": "Northwest Arctic",
          "STATEFP": "02",
          "n": 1,
          "stn_sq_mi": 0
         },
         "type": "Feature"
        },
        {
         "geometry": {
          "coordinates": [
           [
            [
             [
              -146.9999,
              63.8598
             ],
             [
              -146.9999,
              64.2572
             ],
             [
              -146.6773,
              64.2572
             ],
             [
              -146.6305,
              64.2594
             ],
             [
              -146.5716,
              64.2676
             ],
             [
              -146.5196,
              64.2775
             ],
             [
              -146.4731,
              64.2819
             ],
             [
              -146.4414,
              64.2818
             ],
             [
              -146.3766,
              64.2787
             ],
             [
              -146.3379,
              64.282
             ],
             [
              -146.3039,
              64.2983
             ],
             [
              -146.2486,
              64.3098
             ],
             [
              -146.2248,
              64.3449
             ],
             [
              -146.2203,
              64.366
             ],
             [
              -146.1905,
              64.3745
             ],
             [
              -146.1416,
              64.381
             ],
             [
              -146.0993,
              64.387
             ],
             [
              -146.0543,
              64.3791
             ],
             [
              -146.0016,
              64.3839
             ],
             [
              -145.9656,
              64.4013
             ],
             [
              -145.9295,
              64.4189
             ],
             [
              -145.8789,
              64.4298
             ],
             [
              -145.8269,
              64.4308
             ],
             [
              -145.7587,
              64.4487
             ],
             [
              -145.7184,
              64.4546
             ],
             [
              -145.6718,
              64.4445
             ],
             [
              -145.6239,
              64.4354
             ],
             [
              -145.5967,
              64.4241
             ],
             [
              -145.5324,
              64.4182
             ],
             [
              -145.4413,
              64.4451
             ],
             [
              -145.3712,
              64.4607
             ],
             [
              -145.3607,
              64.4853
             ],
             [
              -145.3172,
              64.4912
             ],
             [
              -145.27,
              64.4909
             ],
             [
              -145.1803,
              64.5051
             ],
             [
              -145.1183,
              64.5038
             ],
             [
              -145.0446,
              64.5296
             ],
             [
              -144.9909,
              64.5593
             ],
             [
              -144.9338,
              64.5773
             ],
             [
              -144.8479,
              64.5672
             ],
             [
              -144.7842,
              64.5809
             ],
             [
              -144.7191,
              64.5875
             ],
             [
              -144.6371,
              64.5922
             ],
             [
              -144.6212,
              64.5982
             ],
             [
              -144.5525,
              64.6006
             ],
             [
              -144.5467,
              64.5906
             ],
             [
              -144.5117,
              64.5924
             ],
             [
              -144.4601,
              64.5833
             ],
             [
              -144.3194,
              64.6178
             ],
             [
              -144.316,
              64.6451
             ],
             [
              -144.2959,
              64.6428
             ],
             [
              -144.2329,
              64.6493
             ],
             [
              -144.1901,
              64.6411
             ],
             [
              -144.1476,
              64.6561
             ],
             [
              -144.1296,
              64.6495
             ],
             [
              -144.1047,
              64.6566
             ],
             [
              -144.0725,
              64.6541
             ],
             [
              -144.0558,
              64.6677
             ],
             [
              -144.069,
              64.6836
             ],
             [
              -144.0269,
              64.6755
             ],
             [
              -143.9667,
              64.6703
             ],
             [
              -143.9301,
              64.6682
             ],
             [
              -143.891,
              64.6626
             ],
             [
              -143.8655,
              64.6614
             ],
             [
              -143.8406,
              64.6547
             ],
             [
              -143.8181,
              64.6555
             ],
             [
              -143.8034,
              64.6529
             ],
             [
              -143.7883,
              64.6507
             ],
             [
              -143.7694,
              64.6489
             ],
             [
              -143.7491,
              64.6489
             ],
             [
              -143.7324,
              64.6515
             ],
             [
              -143.7137,
              64.654
             ],
             [
              -143.6974,
              64.6559
             ],
             [
              -143.6913,
              64.6623
             ],
             [
              -143.6803,
              64.6665
             ],
             [
              -143.6682,
              64.667
             ],
             [
              -143.6438,
              64.6862
             ],
             [
              -143.6248,
              64.7023
             ],
             [
              -143.6057,
              64.7217
             ],
             [
              -143.5614,
              64.7385
             ],
             [
              -143.516,
              64.752
             ],
             [
              -143.5044,
              64.7708
             ],
             [
              -143.5254,
              64.7749
             ],
             [
              -143.526,
              64.7832
             ],
             [
              -143.5229,
              64.7926
             ],
             [
              -143.5023,
              64.803
             ],
             [
              -143.4574,
              64.8098
             ],
             [
              -143.4394,
              64.8156
             ],
             [
              -143.4411,
              64.8251
             ],
             [
              -143.4537,
              64.8326
             ],
             [
              -143.4895,
              64.8455
             ],
             [
              -143.5004,
              64.8613
             ],
             [
              -143.4944,
              64.8766
             ],
             [
              -143.4885,
              64.894
             ],
             [
              -143.4772,
              64.9144
             ],
             [
              -143.4894,
              64.9289
             ],
             [
              -143.501,
              64.9426
             ],
             [
              -143.5129,
              64.9555
             ],
             [
              -143.5094,
              64.9642
             ],
             [
              -143.4902,
              64.9663
             ],
             [
              -143.4541,
              64.9824
             ],
             [
              -143.4263,
              64.979
             ],
             [
              -143.3938,
              64.9868
             ],
             [
              -143.4037,
              64.9932
             ],
             [
              -143.3913,
              64.9985
             ],
             [
              -143.3783,
              64.9977
             ],
             [
              -143.3687,
              65.0053
             ],
             [
              -143.3741,
              65.0155
             ],
             [
              -143.3534,
              65.0288
             ],
             [
              -143.3613,
              65.0347
             ],
             [
              -143.3371,
              65.04
             ],
             [
              -143.2902,
              65.0396
             ],
             [
              -143.2416,
              65.0538
             ],
             [
              -143.2161,
              65.0747
             ],
             [
              -143.1902,
              65.0819
             ],
             [
              -143.1731,
              65.0842
             ],
             [
              -143.1574,
              65.0775
             ],
             [
              -143.147,
              65.0872
             ],
             [
              -143.1265,
              65.0962
             ],
             [
              -143.1139,
              65.1027
             ],
             [
              -143.1007,
              65.112
             ],
             [
              -143.0695,
              65.1146
             ],
             [
              -143.0427,
              65.1185
             ],
             [
              -143.0289,
              65.1294
             ],
             [
              -143.0095,
              65.133
             ],
             [
              -142.9905,
              65.1322
             ],
             [
              -142.9921,
              65.1306
             ],
             [
              -142.9614,
              65.1349
             ],
             [
              -142.9323,
              65.1464
             ],
             [
              -142.8841,
              65.1449
             ],
             [
              -142.8444,
              65.1502
             ],
             [
              -142.8219,
              65.1708
             ],
             [
              -142.7971,
              65.1834
             ],
             [
              -142.7745,
              65.1959
             ],
             [
              -142.7712,
              65.2052
             ],
             [
              -142.755,
              65.216
             ],
             [
              -142.7592,
              65.2275
             ],
             [
              -142.7461,
              65.2381
             ],
             [
              -142.7323,
              65.2438
             ],
             [
              -142.7376,
              65.2611
             ],
             [
              -142.7349,
              65.2763
             ],
             [
              -142.7316,
              65.2849
             ],
             [
              -142.7359,
              65.2943
             ],
             [
              -142.7357,
              65.3041
             ],
             [
              -142.7421,
              65.3063
             ],
             [
              -142.7565,
              65.3104
             ],
             [
              -142.7675,
              65.3121
             ],
             [
              -142.7706,
              65.3175
             ],
             [
              -142.7571,
              65.3209
             ],
             [
              -142.726,
              65.3241
             ],
             [
              -142.7019,
              65.3318
             ],
             [
              -142.677,
              65.3434
             ],
             [
              -142.6715,
              65.3591
             ],
             [
              -142.6591,
              65.3743
             ],
             [
              -142.6333,
              65.384
             ],
             [
              -142.5861,
              65.3902
             ],
             [
              -142.5508,
              65.3809
             ],
             [
              -142.5126,
              65.3751
             ],
             [
              -142.4733,
              65.3748
             ],
             [
              -142.4433,
              65.3863
             ],
             [
              -142.4237,
              65.3989
             ],
             [
              -142.4129,
              65.4097
             ],
             [
              -142.3754,
              65.4138
             ],
             [
              -142.3504,
              65.4257
             ],
             [
              -142.317,
              65.4362
             ],
             [
              -142.2737,
              65.4457
             ],
             [
              -142.2211,
              65.452
             ],
             [
              -142.1805,
              65.4599
             ],
             [
              -142.1762,
              65.4631
             ],
             [
              -142.1535,
              65.4664
             ],
             [
              -142.1348,
              65.4666
             ],
             [
              -142.1102,
              65.4678
             ],
             [
              -142.0831,
              65.4629
             ],
             [
              -142.0548,
              65.4585
             ],
             [
              -142.0247,
              65.45
             ],
             [
              -141.9966,
              65.4416
             ],
             [
              -141.9498,
              65.4449
             ],
             [
              -141.9119,
              65.4542
             ],
             [
              -141.8888,
              65.4547
             ],
             [
              -141.8636,
              65.4442
             ],
             [
              -141.8512,
              65.4502
             ],
             [
              -141.8276,
              65.4614
             ],
             [
              -141.8018,
              65.4718
             ],
             [
              -141.7915,
              65.4864
             ],
             [
              -141.7703,
              65.5058
             ],
             [
              -141.7352,
              65.5063
             ],
             [
              -141.6861,
              65.521
             ],
             [
              -141.6433,
              65.5222
             ],
             [
              -141.6258,
              65.5344
             ],
             [
              -141.6139,
              65.5412
             ],
             [
              -141.5864,
              65.5467
             ],
             [
              -141.554,
              65.5683
             ],
             [
              -141.5282,
              65.5699
             ],
             [
              -141.5071,
              65.5781
             ],
             [
              -141.5037,
              65.5876
             ],
             [
              -141.4827,
              65.5927
             ],
             [
              -141.4204,
              65.6068
             ],
             [
              -141.3831,
              65.624
             ],
             [
              -141.3843,
              65.646
             ],
             [
              -141.359,
              65.6609
             ],
             [
              -141.3396,
              65.6806
             ],
             [
              -141.3429,
              65.7048
             ],
             [
              -141.3213,
              65.7145
             ],
             [
              -141.2866,
              65.7345
             ],
             [
              -141.2586,
              65.7472
             ],
             [
              -141.2409,
              65.7593
             ],
             [
              -141.2264,
              65.7661
             ],
             [
              -141.2132,
              65.7734
             ],
             [
              -141.177,
              65.7797
             ],
             [
              -141.1532,
              65.7955
             ],
             [
              -141.1345,
              65.8032
             ],
             [
              -141.1165,
              65.8148
             ],
             [
              -141.0964,
              65.8247
             ],
             [
              -141.0778,
              65.8263
             ],
             [
              -141.0479,
              65.8331
             ],
             [
              -141.0058,
              65.8388
             ],
             [
              -141.0025,
              65.8394
             ],
             [
              -141.0023,
              64.8299
             ],
             [
              -141.0023,
              63.8527
             ],
             [
              -141.0022,
              62.9167
             ],
             [
              -141.0021,
              62.1247
             ],
             [
              -141.0025,
              62.11
             ],
             [
              -141.0023,
              61.904
             ],
             [
              -141.8318,
              61.9041
             ],
             [
              -141.8318,
              62.1172
             ],
             [
              -142.015,
              62.1176
             ],
             [
              -142.015,
              62.164
             ],
             [
              -141.9773,
              62.164
             ],
             [
              -141.9774,
              62.5106
             ],
             [
              -142.1258,
              62.5106
             ],
             [
              -142.1261,
              62.5972
             ],
             [
              -142.3136,
              62.5972
             ],
             [
              -142.3136,
              62.6838
             ],
             [
              -142.5056,
              62.6838
             ],
             [
              -142.5584,
              62.686
             ],
             [
              -142.5857,
              62.6946
             ],
             [
              -142.5989,
              62.684
             ],
             [
              -142.63,
              62.6837
             ],
             [
              -142.6361,
              62.7005
             ],
             [
              -142.6737,
              62.704
             ],
             [
              -142.6859,
              62.7111
             ],
             [
              -142.7195,
              62.7135
             ],
             [
              -142.7389,
              62.6994
             ],
             [
              -142.7327,
              62.6868
             ],
             [
              -142.7517,
              62.6827
             ],
             [
              -142.7425,
              62.6578
             ],
             [
              -142.7914,
              62.6542
             ],
             [
              -142.8021,
              62.6394
             ],
             [
              -142.829,
              62.6247
             ],
             [
              -142.8386,
              62.6091
             ],
             [
              -142.8295,
              62.6009
             ],
             [
              -142.8675,
              62.6076
             ],
             [
              -142.8824,
              62.6042
             ],
             [
              -142.9274,
              62.6114
             ],
             [
              -142.9456,
              62.5955
             ],
             [
              -142.9688,
              62.5978
             ],
             [
              -143.0129,
              62.6154
             ],
             [
              -143.105,
              62.6149
             ],
             [
              -143.1511,
              62.6307
             ],
             [
              -143.1736,
              62.6508
             ],
             [
              -143.1568,
              62.6643
             ],
             [
              -143.1162,
              62.6653
             ],
             [
              -143.1249,
              62.685
             ],
             [
              -143.1422,
              62.6904
             ],
             [
              -143.1275,
              62.7012
             ],
             [
              -143.1,
              62.7013
             ],
             [
              -143.0546,
              62.7372
             ],
             [
              -143.0088,
              62.7662
             ],
             [
              -143.0194,
              62.7742
             ],
             [
              -143.0552,
              62.7704
             ],
             [
              -143.1406,
              62.8037
             ],
             [
              -143.1637,
              62.8014
             ],
             [
              -143.2076,
              62.8291
             ],
             [
              -143.1644,
              62.8346
             ],
             [
              -143.1622,
              62.8518
             ],
             [
              -143.1313,
              62.8574
             ],
             [
              -143.1206,
              62.8768
             ],
             [
              -143.0949,
              62.8796
             ],
             [
              -143.0851,
              62.8956
             ],
             [
              -143.0597,
              62.9099
             ],
             [
              -143.0671,
              62.9158
             ],
             [
              -143.0322,
              62.9318
             ],
             [
              -143.0384,
              62.9694
             ],
             [
              -143.0019,
              62.974
             ],
             [
              -142.9962,
              62.9824
             ],
             [
              -143.0018,
              62.9956
             ],
             [
              -143.0989,
              63.0079
             ],
             [
              -143.0845,
              63.0252
             ],
             [
              -143.09,
              63.035
             ],
             [
              -143.1235,
              63.0414
             ],
             [
              -143.1153,
              63.0563
             ],
             [
              -143.1238,
              63.0665
             ],
             [
              -143.1211,
              63.093
             ],
             [
              -143.1412,
              63.112
             ],
             [
              -143.1323,
              63.117
             ],
             [
              -144.0661,
              63.1169
             ],
             [
              -144.5802,
              63.1169
             ],
             [
              -144.5802,
              63.1312
             ],
             [
              -145.1544,
              63.1311
             ],
             [
              -145.1544,
              63.2178
             ],
             [
              -145.1729,
              63.2178
             ],
             [
              -145.6467,
              63.2178
             ],
             [
              -146.1115,
              63.2178
             ],
             [
              -146.1115,
              63.1995
             ],
             [
              -146.1404,
              63.1843
             ],
             [
              -146.1906,
              63.1804
             ],
             [
              -146.2192,
              63.1847
             ],
             [
              -146.3403,
              63.1908
             ],
             [
              -146.4666,
              63.1776
             ],
             [
              -146.4943,
              63.169
             ],
             [
              -146.4845,
              63.1804
             ],
             [
              -146.4895,
              63.4829
             ],
             [
              -147,
              63.4796
             ],
             [
              -146.9999,
              63.8598
             ]
            ]
           ]
          ],
          "type": "MultiPolygon"
         },
         "properties": {
          "AFFGEOID": "0500000US02240",
          "ALAND": 64290686975,
          "ALANDMI": 24822.7628,
          "AWATER": 751965527,
          "COUNTYFP": "240",
          "COUNTYNS": "01419983",
          "GEOID": "02240",
          "LSAD": "05",
          "NAME": "Southeast Fairbanks",
          "STATEFP": "02",
          "n": 1,
          "stn_sq_mi": 0
         },
         "type": "Feature"
        },
        {
         "geometry": {
          "coordinates": [
           [
            [
             [
              -153.0015,
              62.7274
             ],
             [
              -152.9976,
              62.7274
             ],
             [
              -152.9391,
              62.7258
             ],
             [
              -152.1553,
              62.7259
             ],
             [
              -151.8938,
              62.7259
             ],
             [
              -151.894,
              62.7981
             ],
             [
              -151.2712,
              62.9388
             ],
             [
              -150.7209,
              63.0632
             ],
             [
              -150.2617,
              63.167
             ],
             [
              -149.5261,
              63.3332
             ],
             [
              -149.1167,
              63.3332
             ],
             [
              -148.3118,
              63.3332
             ],
             [
              -148.0256,
              63.3332
             ],
             [
              -148.0256,
              63.4776
             ],
             [
              -147.1159,
              63.4776
             ],
             [
              -147,
              63.4776
             ],
             [
              -147,
              63.4796
             ],
             [
              -146.4895,
              63.4829
             ],
             [
              -146.4845,
              63.1804
             ],
             [
              -146.4943,
              63.169
             ],
             [
              -146.4943,
              62.9579
             ],
             [
              -146.4501,
              62.9579
             ],
             [
              -146.4501,
              62.857
             ],
             [
              -146.4369,
              62.857
             ],
             [
              -146.4369,
              62.5105
             ],
             [
              -146.424,
              62.2505
             ],
             [
              -146.9798,
              62.2505
             ],
             [
              -146.9798,
              62.1639
             ],
             [
              -146.961,
              62.1639
             ],
             [
              -146.961,
              61.8173
             ],
             [
              -146.9426,
              61.8173
             ],
             [
              -146.9426,
              61.4707
             ],
             [
              -147.2066,
              61.4707
             ],
             [
              -147.2066,
              61.4263
             ],
             [
              -148.0503,
              61.4263
             ],
             [
              -148.4625,
              61.4263
             ],
             [
              -148.483,
              61.4263
             ],
             [
              -149.1801,
              61.4262
             ],
             [
              -149.18,
              61.4551
             ],
             [
              -149.2404,
              61.4551
             ],
             [
              -149.2404,
              61.484
             ],
             [
              -149.3594,
              61.484
             ],
             [
              -149.4314,
              61.468
             ],
             [
              -149.4314,
              61.4681
             ],
             [
              -149.479,
              61.4681
             ],
             [
              -149.5428,
              61.49
             ],
             [
              -149.6146,
              61.4932
             ],
             [
              -149.6147,
              61.4932
             ],
             [
              -149.7265,
              61.4538
             ],
             [
              -149.768,
              61.4383
             ],
             [
              -149.8083,
              61.3958
             ],
             [
              -149.8769,
              61.3843
             ],
             [
              -149.8982,
              61.3527
             ],
             [
              -149.9183,
              61.3235
             ],
             [
              -149.9197,
              61.2635
             ],
             [
              -149.9859,
              61.2375
             ],
             [
              -150.0748,
              61.2535
             ],
             [
              -150.1326,
              61.2579
             ],
             [
              -150.2049,
              61.2595
             ],
             [
              -150.2543,
              61.2545
             ],
             [
              -150.2661,
              61.2512
             ],
             [
              -150.2736,
              61.2516
             ],
             [
              -150.287,
              61.2574
             ],
             [
              -150.3037,
              61.2575
             ],
             [
              -150.3036,
              61.2559
             ],
             [
              -150.3122,
              61.254
             ],
             [
              -150.3346,
              61.2513
             ],
             [
              -150.3944,
              61.2491
             ],
             [
              -150.425,
              61.2456
             ],
             [
              -150.4688,
              61.2446
             ],
             [
              -150.4844,
              61.2473
             ],
             [
              -150.4957,
              61.2512
             ],
             [
              -150.5241,
              61.2643
             ],
             [
              -150.5617,
              61.2815
             ],
             [
              -150.5902,
              61.2815
             ],
             [
              -150.5918,
              61.2795
             ],
             [
              -150.607,
              61.2777
             ],
             [
              -150.6285,
              61.2844
             ],
             [
              -150.6462,
              61.2967
             ],
             [
              -150.6558,
              61.2982
             ],
             [
              -150.6626,
              61.2954
             ],
             [
              -150.6712,
              61.2737
             ],
             [
              -150.6799,
              61.2659
             ],
             [
              -150.6905,
              61.2593
             ],
             [
              -150.7113,
              61.2511
             ],
             [
              -150.8273,
              61.2284
             ],
             [
              -150.8424,
              61.2242
             ],
             [
              -150.8488,
              61.2206
             ],
             [
              -150.8959,
              61.2089
             ],
             [
              -150.9268,
              61.2064
             ],
             [
              -150.9393,
              61.2103
             ],
             [
              -150.9419,
              61.2099
             ],
             [
              -150.9462,
              61.2086
             ],
             [
              -150.9472,
              61.2063
             ],
             [
              -150.9474,
              61.2031
             ],
             [
              -150.9512,
              61.1988
             ],
             [
              -150.9601,
              61.194
             ],
             [
              -150.974,
              61.1917
             ],
             [
              -150.974,
              61.2529
             ],
             [
              -151.3328,
              61.2529
             ],
             [
              -151.3328,
              61.4262
             ],
             [
              -152.1326,
              61.4262
             ],
             [
              -152.9999,
              61.4262
             ],
             [
              -152.9999,
              61.8169
             ],
             [
              -152.9998,
              62.2926
             ],
             [
              -153.0016,
              62.7187
             ],
             [
              -153.0015,
              62.7274
             ]
            ]
           ]
          ],
          "type": "MultiPolygon"
         },
         "properties": {
          "AFFGEOID": "0500000US02170",
          "ALAND": 64008421559,
          "ALANDMI": 24713.7796,
          "AWATER": 1456871464,
          "COUNTYFP": "170",
          "COUNTYNS": "01419976",
          "GEOID": "02170",
          "LSAD": "04",
          "NAME": "Matanuska-Susitna",
          "STATEFP": "02",
          "n": 1,
          "stn_sq_mi": 0
         },
         "type": "Feature"
        },
        {
         "geometry": {
          "coordinates": [
           [
            [
             [
              -157.3261,
              56.5404
             ],
             [
              -157.2986,
              56.5601
             ],
             [
              -157.2887,
              56.566
             ],
             [
              -157.2501,
              56.5821
             ],
             [
              -157.1466,
              56.5837
             ],
             [
              -157.0911,
              56.5811
             ],
             [
              -157.0774,
              56.579
             ],
             [
              -157.0261,
              56.5598
             ],
             [
              -156.991,
              56.5479
             ],
             [
              -156.9755,
              56.5404
             ],
             [
              -156.9729,
              56.5365
             ],
             [
              -156.9861,
              56.5327
             ],
             [
              -157.0034,
              56.5356
             ],
             [
              -157.0065,
              56.5389
             ],
             [
              -157.0177,
              56.5431
             ],
             [
              -157.0534,
              56.5504
             ],
             [
              -157.1132,
              56.5527
             ],
             [
              -157.1214,
              56.552
             ],
             [
              -157.1422,
              56.5424
             ],
             [
              -157.1503,
              56.5336
             ],
             [
              -157.1688,
              56.5302
             ],
             [
              -157.3261,
              56.5252
             ],
             [
              -157.3289,
              56.5282
             ],
             [
              -157.3261,
              56.5404
             ]
            ]
           ],
           [
            [
             [
              -157.901,
              56.3481
             ],
             [
              -157.8325,
              56.37
             ],
             [
              -157.8077,
              56.3576
             ],
             [
              -157.7963,
              56.3205
             ],
             [
              -157.8268,
              56.311
             ],
             [
              -157.902,
              56.3424
             ],
             [
              -157.901,
              56.3481
             ]
            ]
           ],
           [
            [
             [
              -158.8978,
              55.8263
             ],
             [
              -158.8816,
              55.8663
             ],
             [
              -158.8692,
              55.8806
             ],
             [
              -158.8007,
              55.891
             ],
             [
              -158.7502,
              55.8758
             ],
             [
              -158.7036,
              55.8415
             ],
             [
              -158.7017,
              55.832
             ],
             [
              -158.7112,
              55.8244
             ],
             [
              -158.7312,
              55.8263
             ],
             [
              -158.7588,
              55.8368
             ],
             [
              -158.8054,
              55.8577
             ],
             [
              -158.8454,
              55.8539
             ],
             [
              -158.8654,
              55.8273
             ],
             [
              -158.8368,
              55.8149
             ],
             [
              -158.8407,
              55.8082
             ],
             [
              -158.8892,
              55.8101
             ],
             [
              -158.8978,
              55.8263
             ]
            ]
           ],
           [
            [
             [
              -159.1452,
              55.8767
             ],
             [
              -159.1167,
              55.8682
             ],
             [
              -159.0967,
              55.8549
             ],
             [
              -159.0862,
              55.8349
             ],
             [
              -159.1348,
              55.8282
             ],
             [
              -159.1833,
              55.8444
             ],
             [
              -159.1452,
              55.8767
             ]
            ]
           ],
           [
            [
             [
              -159.3841,
              55.7492
             ],
             [
              -159.3556,
              55.8073
             ],
             [
              -159.3213,
              55.8158
             ],
             [
              -159.2909,
              55.7939
             ],
             [
              -159.2756,
              55.774
             ],
             [
              -159.2794,
              55.7625
             ],
             [
              -159.3089,
              55.7502
             ],
             [
              -159.3528,
              55.7464
             ],
             [
              -159.3946,
              55.7149
             ],
             [
              -159.3841,
              55.7492
             ]
            ]
           ],
           [
            [
             [
              -159.9001,
              56.4942
             ],
             [
              -159.588,
              56.4942
             ],
             [
              -159.588,
              56.581
             ],
             [
              -159.2759,
              56.581
             ],
             [
              -159.2759,
              56.6677
             ],
             [
              -159.0511,
              56.6677
             ],
             [
              -159.0511,
              56.7544
             ],
             [
              -158.8936,
              56.7544
             ],
             [
              -158.8936,
              56.806
             ],
             [
              -158.8932,
              56.8058
             ],
             [
              -158.8688,
              56.7966
             ],
             [
              -158.8533,
              56.7926
             ],
             [
              -158.7836,
              56.7807
             ],
             [
              -158.7445,
              56.7951
             ],
             [
              -158.6742,
              56.7971
             ],
             [
              -158.6564,
              56.81
             ],
             [
              -158.6575,
              56.8315
             ],
             [
              -158.6468,
              56.847
             ],
             [
              -158.6637,
              56.8571
             ],
             [
              -158.6936,
              56.8881
             ],
             [
              -158.6862,
              56.9116
             ],
             [
              -158.6998,
              56.9274
             ],
             [
              -158.6793,
              56.9886
             ],
             [
              -158.6453,
              57.0318
             ],
             [
              -158.6083,
              57.0645
             ],
             [
              -158.5402,
              57.1251
             ],
             [
              -158.4597,
              57.1887
             ],
             [
              -158.3931,
              57.2369
             ],
             [
              -158.3071,
              57.2896
             ],
             [
              -158.2299,
              57.3215
             ],
             [
              -158.1497,
              57.3449
             ],
             [
              -158.0838,
              57.3572
             ],
             [
              -158.06,
              57.3875
             ],
             [
              -158.0499,
              57.3901
             ],
             [
              -158.0342,
              57.3902
             ],
             [
              -158.0105,
              57.4015
             ],
             [
              -157.9947,
              57.4142
             ],
             [
              -157.9562,
              57.4494
             ],
             [
              -157.9372,
              57.472
             ],
             [
              -157.9316,
              57.4762
             ],
             [
              -157.8812,
              57.4891
             ],
             [
              -157.786,
              57.5422
             ],
             [
              -157.7725,
              57.5471
             ],
             [
              -157.7039,
              57.5635
             ],
             [
              -157.6789,
              57.5639
             ],
             [
              -157.6848,
              57.5577
             ],
             [
              -157.6804,
              57.5377
             ],
             [
              -157.6494,
              57.5003
             ],
             [
              -157.6151,
              57.4887
             ],
             [
              -157.5869,
              57.4872
             ],
             [
              -157.5731,
              57.5145
             ],
             [
              -157.5735,
              57.5227
             ],
             [
              -157.5883,
              57.5822
             ],
             [
              -157.5996,
              57.6079
             ],
             [
              -157.6074,
              57.6125
             ],
             [
              -157.6522,
              57.6148
             ],
             [
              -157.6843,
              57.61
             ],
             [
              -157.6913,
              57.6111
             ],
             [
              -157.7106,
              57.6399
             ],
             [
              -157.7038,
              57.7218
             ],
             [
              -157.6711,
              57.7729
             ],
             [
              -157.6422,
              57.8688
             ],
             [
              -157.6239,
              57.9605
             ],
             [
              -157.6118,
              58.0343
             ],
             [
              -157.5966,
              58.0887
             ],
             [
              -157.5836,
              58.1243
             ],
             [
              -157.5809,
              58.1281
             ],
             [
              -157.5566,
              58.1484
             ],
             [
              -157.5333,
              58.1603
             ],
             [
              -157.5145,
              58.163
             ],
             [
              -157.4938,
              58.1621
             ],
             [
              -157.3973,
              58.1734
             ],
             [
              -157.3831,
              58.1846
             ],
             [
              -157.3523,
              58.2191
             ],
             [
              -157.3669,
              58.2327
             ],
             [
              -157.3745,
              58.2321
             ],
             [
              -157.3892,
              58.2281
             ],
             [
              -157.4079,
              58.2119
             ],
             [
              -157.4233,
              58.2114
             ],
             [
              -157.4427,
              58.2189
             ],
             [
              -157.5155,
              58.2556
             ],
             [
              -157.5416,
              58.2719
             ],
             [
              -157.5472,
              58.2775
             ],
             [
              -157.5563,
              58.3037
             ],
             [
              -157.5569,
              58.3307
             ],
             [
              -157.5362,
              58.3916
             ],
             [
              -157.5245,
              58.4145
             ],
             [
              -157.4881,
              58.4717
             ],
             [
              -157.4815,
              58.4808
             ],
             [
              -157.4609,
              58.4997
             ],
             [
              -157.4519,
              58.5056
             ],
             [
              -157.3972,
              58.5273
             ],
             [
              -157.3803,
              58.5244
             ],
             [
              -157.3585,
              58.5339
             ],
             [
              -157.3307,
              58.5515
             ],
             [
              -157.3136,
              58.565
             ],
             [
              -157.2813,
              58.6002
             ],
             [
              -157.2574,
              58.6167
             ],
             [
              -156.3139,
              58.6167
             ],
             [
              -156.3139,
              58.8858
             ],
             [
              -156.9917,
              58.8858
             ],
             [
              -156.9809,
              58.891
             ],
             [
              -156.9666,
              58.9041
             ],
             [
              -156.9759,
              58.9409
             ],
             [
              -156.9632,
              58.9626
             ],
             [
              -156.9293,
              58.9738
             ],
             [
              -156.9459,
              58.9834
             ],
             [
              -156.9713,
              58.9831
             ],
             [
              -156.9997,
              58.9734
             ],
             [
              -157.0295,
              58.9562
             ],
             [
              -157.0392,
              58.9459
             ],
             [
              -157.0406,
              58.9134
             ],
             [
              -157.0706,
              58.8878
             ],
             [
              -157.1169,
              58.8675
             ],
             [
              -157.1896,
              58.8477
             ],
             [
              -157.1975,
              58.8459
             ],
             [
              -157.1963,
              58.8462
             ],
             [
              -157.1963,
              59.0861
             ],
             [
              -157.2752,
              59.0861
             ],
             [
              -157.2752,
              59.2595
             ],
             [
              -157.1068,
              59.2595
             ],
             [
              -157.1068,
              59.3462
             ],
             [
              -156.77,
              59.3462
             ],
             [
              -156.77,
              59.4328
             ],
             [
              -156.6755,
              59.4328
             ],
             [
              -156.6755,
              59.5195
             ],
             [
              -156.5053,
              59.5195
             ],
             [
              -156.5053,
              59.6062
             ],
             [
              -156.1651,
              59.6062
             ],
             [
              -156.1651,
              59.6929
             ],
             [
              -156.0001,
              59.6929
             ],
             [
              -156.0001,
              60.9062
             ],
             [
              -155.9069,
              60.9062
             ],
             [
              -154.9482,
              60.9062
             ],
             [
              -154.2581,
              60.9062
             ],
             [
              -153.4409,
              60.9062
             ],
             [
              -153.4409,
              60.8196
             ],
             [
              -153.3973,
              60.8196
             ],
             [
              -153.3973,
              60.4729
             ],
             [
              -153.5284,
              60.4729
             ],
             [
              -153.5284,
              60.1263
             ],
             [
              -153.657,
              60.1263
             ],
             [
              -153.657,
              59.7796
             ],
             [
              -153.7831,
              59.7796
             ],
             [
              -153.7831,
              59.6929
             ],
             [
              -153.9532,
              59.6929
             ],
             [
              -153.9532,
              59.5196
             ],
             [
              -154.1233,
              59.5196
             ],
             [
              -154.1233,
              59.4329
             ],
             [
              -154.412,
              59.4329
             ],
             [
              -154.412,
              59.2595
             ],
             [
              -154.7489,
              59.2595
             ],
             [
              -154.7488,
              59.0862
             ],
             [
              -154.6951,
              59.0862
             ],
             [
              -154.695,
              58.7394
             ],
             [
              -154.6426,
              58.7394
             ],
             [
              -154.6425,
              58.6527
             ],
             [
              -154.3057,
              58.6528
             ],
             [
              -154.308,
              58.5964
             ],
             [
              -154.3034,
              58.4604
             ],
             [
              -154.3557,
              58.4607
             ],
             [
              -154.3513,
              58.4181
             ],
             [
              -154.4323,
              58.419
             ],
             [
              -154.4326,
              58.3907
             ],
             [
              -154.4659,
              58.3908
             ],
             [
              -154.4657,
              58.3614
             ],
             [
              -154.5697,
              58.3608
             ],
             [
              -154.5701,
              58.3331
             ],
             [
              -154.7298,
              58.3328
             ],
             [
              -154.7304,
              58.3047
             ],
             [
              -154.8702,
              58.3048
             ],
             [
              -154.8693,
              58.2905
             ],
             [
              -155.0081,
              58.2909
             ],
             [
              -155.0058,
              58.2648
             ],
             [
              -155.0585,
              58.2649
             ],
             [
              -155.0577,
              58.2362
             ],
             [
              -155.2215,
              58.2364
             ],
             [
              -155.2213,
              58.1932
             ],
             [
              -155.3319,
              58.1933
             ],
             [
              -155.332,
              58.108
             ],
             [
              -155.2802,
              58.1086
             ],
             [
              -155.2807,
              58.0479
             ],
             [
              -155.3317,
              58.0482
             ],
             [
              -155.3302,
              57.8763
             ],
             [
              -155.446,
              57.8715
             ],
             [
              -155.4463,
              57.8271
             ],
             [
              -155.5358,
              57.8259
             ],
             [
              -155.5388,
              57.7998
             ],
             [
              -155.6938,
              57.798
             ],
             [
              -155.6925,
              57.7391
             ],
             [
              -155.7478,
              57.7398
             ],
             [
              -155.7472,
              57.6973
             ],
             [
              -155.7686,
              57.6975
             ],
             [
              -155.768,
              57.6683
             ],
             [
              -155.8985,
              57.6681
             ],
             [
              -155.8989,
              57.6279
             ],
             [
              -155.8462,
              57.6291
             ],
             [
              -155.8465,
              57.6133
             ],
             [
              -155.8202,
              57.6133
             ],
             [
              -155.8203,
              57.5995
             ],
             [
              -155.872,
              57.6
             ],
             [
              -155.8716,
              57.5852
             ],
             [
              -155.8974,
              57.5852
             ],
             [
              -155.897,
              57.5704
             ],
             [
              -155.9233,
              57.5706
             ],
             [
              -155.9215,
              57.5543
             ],
             [
              -155.9517,
              57.5538
             ],
             [
              -155.9528,
              57.5982
             ],
             [
              -156.0114,
              57.5989
             ],
             [
              -156.0112,
              57.5846
             ],
             [
              -156.0711,
              57.5844
             ],
             [
              -156.072,
              57.5561
             ],
             [
              -156.1021,
              57.5558
             ],
             [
              -156.1028,
              57.5393
             ],
             [
              -156.131,
              57.5391
             ],
             [
              -156.132,
              57.5097
             ],
             [
              -156.2088,
              57.5079
             ],
             [
              -156.208,
              57.523
             ],
             [
              -156.3702,
              57.5224
             ],
             [
              -156.372,
              57.4932
             ],
             [
              -156.4053,
              57.4932
             ],
             [
              -156.4053,
              57.4782
             ],
             [
              -156.4581,
              57.4789
             ],
             [
              -156.4609,
              57.434
             ],
             [
              -156.5088,
              57.4348
             ],
             [
              -156.5022,
              57.3626
             ],
             [
              -156.5536,
              57.3644
             ],
             [
              -156.5528,
              57.3489
             ],
             [
              -156.5403,
              57.3487
             ],
             [
              -156.5395,
              57.3339
             ],
             [
              -156.6174,
              57.3349
             ],
             [
              -156.6206,
              57.2927
             ],
             [
              -156.6721,
              57.293
             ],
             [
              -156.6728,
              57.2349
             ],
             [
              -156.7508,
              57.2358
             ],
             [
              -156.7508,
              57.1629
             ],
             [
              -156.4709,
              57.1558
             ],
             [
              -156.3554,
              57.1597
             ],
             [
              -156.3574,
              57.1576
             ],
             [
              -156.3685,
              57.15
             ],
             [
              -156.4351,
              57.1274
             ],
             [
              -156.4565,
              57.106
             ],
             [
              -156.4446,
              57.1001
             ],
             [
              -156.4416,
              57.0947
             ],
             [
              -156.4416,
              57.0852
             ],
             [
              -156.5092,
              57.0549
             ],
             [
              -156.5356,
              57.0479
             ],
             [
              -156.5628,
              57.0203
             ],
             [
              -156.5477,
              57.0046
             ],
             [
              -156.5472,
              56.9865
             ],
             [
              -156.5505,
              56.9846
             ],
             [
              -156.5551,
              56.9835
             ],
             [
              -156.6378,
              56.9939
             ],
             [
              -156.6714,
              56.9961
             ],
             [
              -156.7306,
              56.9798
             ],
             [
              -156.7536,
              56.9912
             ],
             [
              -156.7627,
              56.9863
             ],
             [
              -156.7814,
              56.9719
             ],
             [
              -156.7869,
              56.965
             ],
             [
              -156.7883,
              56.9607
             ],
             [
              -156.7868,
              56.9414
             ],
             [
              -156.7973,
              56.9117
             ],
             [
              -156.8044,
              56.9059
             ],
             [
              -156.826,
              56.8977
             ],
             [
              -156.8393,
              56.9019
             ],
             [
              -156.8763,
              56.9428
             ],
             [
              -156.8854,
              56.9533
             ],
             [
              -156.8857,
              56.958
             ],
             [
              -156.8825,
              56.9601
             ],
             [
              -156.8829,
              56.9626
             ],
             [
              -156.8863,
              56.9649
             ],
             [
              -156.8937,
              56.966
             ],
             [
              -156.9097,
              56.9656
             ],
             [
              -156.9188,
              56.9636
             ],
             [
              -156.9357,
              56.9549
             ],
             [
              -156.9356,
              56.9201
             ],
             [
              -156.9862,
              56.9111
             ],
             [
              -157.0059,
              56.9042
             ],
             [
              -157.0157,
              56.8985
             ],
             [
              -157.0346,
              56.8845
             ],
             [
              -157.0735,
              56.8383
             ],
             [
              -157.1595,
              56.8335
             ],
             [
              -157.1638,
              56.8261
             ],
             [
              -157.1633,
              56.8235
             ],
             [
              -157.141,
              56.8023
             ],
             [
              -157.1403,
              56.7909
             ],
             [
              -157.1614,
              56.7741
             ],
             [
              -157.1836,
              56.7691
             ],
             [
              -157.2017,
              56.7675
             ],
             [
              -157.2838,
              56.8008
             ],
             [
              -157.2905,
              56.8047
             ],
             [
              -157.2912,
              56.8111
             ],
             [
              -157.2983,
              56.8186
             ],
             [
              -157.3327,
              56.8384
             ],
             [
              -157.3788,
              56.8617
             ],
             [
              -157.3947,
              56.8644
             ],
             [
              -157.4057,
              56.8642
             ],
             [
              -157.4369,
              56.8585
             ],
             [
              -157.4576,
              56.8482
             ],
             [
              -157.4724,
              56.8334
             ],
             [
              -157.4699,
              56.8249
             ],
             [
              -157.4624,
              56.8096
             ],
             [
              -157.4576,
              56.8043
             ],
             [
              -157.4478,
              56.8012
             ],
             [
              -157.4364,
              56.8038
             ],
             [
              -157.4211,
              56.8017
             ],
             [
              -157.4186,
              56.7998
             ],
             [
              -157.4115,
              56.7784
             ],
             [
              -157.4134,
              56.7692
             ],
             [
              -157.5175,
              56.7608
             ],
             [
              -157.5308,
              56.7538
             ],
             [
              -157.5449,
              56.7389
             ],
             [
              -157.5512,
              56.7303
             ],
             [
              -157.5638,
              56.7034
             ],
             [
              -157.5508,
              56.681
             ],
             [
              -157.5423,
              56.6753
             ],
             [
              -157.5076,
              56.6672
             ],
             [
              -157.4987,
              56.6673
             ],
             [
              -157.481,
              56.6714
             ],
             [
              -157.4792,
              56.6701
             ],
             [
              -157.4522,
              56.6432
             ],
             [
              -157.4522,
              56.6389
             ],
             [
              -157.4549,
              56.6347
             ],
             [
              -157.4621,
              56.6257
             ],
             [
              -157.4665,
              56.6233
             ],
             [
              -157.4965,
              56.6169
             ],
             [
              -157.5365,
              56.6153
             ],
             [
              -157.5461,
              56.619
             ],
             [
              -157.5893,
              56.6223
             ],
             [
              -157.6052,
              56.6213
             ],
             [
              -157.615,
              56.62
             ],
             [
              -157.636,
              56.6128
             ],
             [
              -157.6746,
              56.6095
             ],
             [
              -157.7054,
              56.6288
             ],
             [
              -157.7143,
              56.6406
             ],
             [
              -157.716,
              56.6485
             ],
             [
              -157.719,
              56.6531
             ],
             [
              -157.7368,
              56.6756
             ],
             [
              -157.7541,
              56.6795
             ],
             [
              -157.7637,
              56.6792
             ],
             [
              -157.8481,
              56.6536
             ],
             [
              -157.9185,
              56.6431
             ],
             [
              -157.9513,
              56.623
             ],
             [
              -157.9834,
              56.5994
             ],
             [
              -158.042,
              56.5967
             ],
             [
              -158.0597,
              56.5838
             ],
             [
              -158.0857,
              56.5733
             ],
             [
              -158.0744,
              56.5542
             ],
             [
              -158.0055,
              56.5534
             ],
             [
              -157.9112,
              56.5748
             ],
             [
              -157.8384,
              56.5608
             ],
             [
              -157.8281,
              56.5463
             ],
             [
              -157.8178,
              56.5142
             ],
             [
              -157.8231,
              56.502
             ],
             [
              -157.8598,
              56.4837
             ],
             [
              -157.8721,
              56.474
             ],
             [
              -157.9001,
              56.4779
             ],
             [
              -157.9864,
              56.4991
             ],
             [
              -158.0276,
              56.5118
             ],
             [
              -158.1123,
              56.5213
             ],
             [
              -158.1196,
              56.5183
             ],
             [
              -158.1317,
              56.5019
             ],
             [
              -158.1234,
              56.4965
             ],
             [
              -158.1137,
              56.493
             ],
             [
              -158.1116,
              56.4901
             ],
             [
              -158.1187,
              56.4666
             ],
             [
              -158.1274,
              56.4608
             ],
             [
              -158.2461,
              56.4661
             ],
             [
              -158.2847,
              56.4811
             ],
             [
              -158.3288,
              56.4842
             ],
             [
              -158.403,
              56.4552
             ],
             [
              -158.4988,
              56.3801
             ],
             [
              -158.5017,
              56.3759
             ],
             [
              -158.502,
              56.3652
             ],
             [
              -158.4895,
              56.3419
             ],
             [
              -158.4328,
              56.3435
             ],
             [
              -158.3973,
              56.3289
             ],
             [
              -158.3381,
              56.3239
             ],
             [
              -158.3297,
              56.326
             ],
             [
              -158.3226,
              56.3252
             ],
             [
              -158.2074,
              56.2944
             ],
             [
              -158.2031,
              56.2838
             ],
             [
              -158.2165,
              56.2695
             ],
             [
              -158.2533,
              56.2531
             ],
             [
              -158.2768,
              56.2487
             ],
             [
              -158.3345,
              56.2329
             ],
             [
              -158.3398,
              56.2178
             ],
             [
              -158.331,
              56.2136
             ],
             [
              -158.2648,
              56.2096
             ],
             [
              -158.191,
              56.2264
             ],
             [
              -158.1749,
              56.2362
             ],
             [
              -158.1195,
              56.242
             ],
             [
              -158.1153,
              56.2421
             ],
             [
              -158.1127,
              56.2403
             ],
             [
              -158.1178,
              56.2307
             ],
             [
              -158.237,
              56.1874
             ],
             [
              -158.3141,
              56.1637
             ],
             [
              -158.3743,
              56.1345
             ],
             [
              -158.396,
              56.1098
             ],
             [
              -158.3944,
              56.0919
             ],
             [
              -158.3949,
              56.0647
             ],
             [
              -158.3983,
              56.063
             ],
             [
              -158.4245,
              56.0689
             ],
             [
              -158.4386,
              56.0937
             ],
             [
              -158.4383,
              56.0957
             ],
             [
              -158.4311,
              56.1003
             ],
             [
              -158.4322,
              56.1029
             ],
             [
              -158.4399,
              56.1078
             ],
             [
              -158.4553,
              56.1087
             ],
             [
              -158.4618,
              56.1066
             ],
             [
              -158.4753,
              56.0934
             ],
             [
              -158.4727,
              56.0876
             ],
             [
              -158.4484,
              56.0553
             ],
             [
              -158.4179,
              56.0368
             ],
             [
              -158.4077,
              56.0145
             ],
             [
              -158.4136,
              56.005
             ],
             [
              -158.4315,
              55.9945
             ],
             [
              -158.4393,
              55.9936
             ],
             [
              -158.4457,
              55.9976
             ],
             [
              -158.4673,
              56.0272
             ],
             [
              -158.4755,
              56.0284
             ],
             [
              -158.502,
              56.0252
             ],
             [
              -158.5049,
              56.0155
             ],
             [
              -158.4964,
              56.0106
             ],
             [
              -158.494,
              56.0073
             ],
             [
              -158.4951,
              55.9892
             ],
             [
              -158.4991,
              55.9817
             ],
             [
              -158.5098,
              55.9796
             ],
             [
              -158.5956,
              56.0453
             ],
             [
              -158.5984,
              56.0488
             ],
             [
              -158.5942,
              56.1104
             ],
             [
              -158.5844,
              56.1157
             ],
             [
              -158.5747,
              56.1186
             ],
             [
              -158.575,
              56.1211
             ],
             [
              -158.6004,
              56.1304
             ],
             [
              -158.6283,
              56.1209
             ],
             [
              -158.6404,
              56.1141
             ],
             [
              -158.6597,
              56.0986
             ],
             [
              -158.6668,
              56.0784
             ],
             [
              -158.6609,
              56.0349
             ],
             [
              -158.6517,
              56.0314
             ],
             [
              -158.6432,
              56.0234
             ],
             [
              -158.6387,
              56.0159
             ],
             [
              -158.6367,
              56.005
             ],
             [
              -158.6395,
              55.9861
             ],
             [
              -158.6532,
              55.9586
             ],
             [
              -158.6732,
              55.9515
             ],
             [
              -158.737,
              55.9533
             ],
             [
              -158.7486,
              55.9594
             ],
             [
              -158.7512,
              55.9638
             ],
             [
              -158.7353,
              55.9962
             ],
             [
              -158.7296,
              56.0029
             ],
             [
              -158.7473,
              56.0099
             ],
             [
              -158.8541,
              56.0033
             ],
             [
              -158.8981,
              55.951
             ],
             [
              -158.9094,
              55.9349
             ],
             [
              -158.9996,
              55.927
             ],
             [
              -159.1387,
              55.9093
             ],
             [
              -159.2715,
              55.8907
             ],
             [
              -159.3477,
              55.8778
             ],
             [
              -159.3748,
              55.8715
             ],
             [
              -159.3964,
              55.8568
             ],
             [
              -159.4001,
              55.8524
             ],
             [
              -159.4061,
              55.832
             ],
             [
              -159.4094,
              55.8104
             ],
             [
              -159.4043,
              55.797
             ],
             [
              -159.4115,
              55.7889
             ],
             [
              -159.4235,
              55.789
             ],
             [
              -159.4348,
              55.7929
             ],
             [
              -159.4702,
              55.8289
             ],
             [
              -159.4728,
              55.8391
             ],
             [
              -159.472,
              55.8435
             ],
             [
              -159.4653,
              55.8528
             ],
             [
              -159.4539,
              55.8968
             ],
             [
              -159.4822,
              55.9018
             ],
             [
              -159.4939,
              55.9001
             ],
             [
              -159.5283,
              55.8885
             ],
             [
              -159.5344,
              55.8813
             ],
             [
              -159.498,
              55.8553
             ],
             [
              -159.4944,
              55.7658
             ],
             [
              -159.5038,
              55.7479
             ],
             [
              -159.5216,
              55.736
             ],
             [
              -159.5372,
              55.7285
             ],
             [
              -159.5514,
              55.7115
             ],
             [
              -159.552,
              55.7048
             ],
             [
              -159.536,
              55.6898
             ],
             [
              -159.5301,
              55.6654
             ],
             [
              -159.5451,
              55.6465
             ],
             [
              -159.5567,
              55.6384
             ],
             [
              -159.5615,
              55.6384
             ],
             [
              -159.5614,
              55.8872
             ],
             [
              -159.868,
              55.8872
             ],
             [
              -159.868,
              55.9739
             ],
             [
              -159.8064,
              55.9739
             ],
             [
              -159.8064,
              56.3208
             ],
             [
              -159.9001,
              56.3208
             ],
             [
              -159.9001,
              56.4942
             ]
            ]
           ]
          ],
          "type": "MultiPolygon"
         },
         "properties": {
          "AFFGEOID": "0500000US02164",
          "ALAND": 61893966490,
          "ALANDMI": 23897.3842,
          "AWATER": 25992281749,
          "COUNTYFP": "164",
          "COUNTYNS": "01419975",
          "GEOID": "02164",
          "LSAD": "04",
          "NAME": "Lake and Peninsula",
          "STATEFP": "02",
          "n": 1,
          "stn_sq_mi": 0
         },
         "type": "Feature"
        },
        {
         "geometry": {
          "coordinates": [
           [
            [
             [
              -162.6826,
              63.5841
             ],
             [
              -162.6445,
              63.6026
             ],
             [
              -162.6146,
              63.6218
             ],
             [
              -162.5875,
              63.6251
             ],
             [
              -162.5582,
              63.6343
             ],
             [
              -162.5414,
              63.6357
             ],
             [
              -162.5123,
              63.6298
             ],
             [
              -162.4982,
              63.6221
             ],
             [
              -162.4519,
              63.6213
             ],
             [
              -162.4402,
              63.6225
             ],
             [
              -162.4303,
              63.6257
             ],
             [
              -162.4254,
              63.6299
             ],
             [
              -162.4253,
              63.6317
             ],
             [
              -162.4277,
              63.6331
             ],
             [
              -162.4242,
              63.6362
             ],
             [
              -162.4012,
              63.6344
             ],
             [
              -162.3742,
              63.6264
             ],
             [
              -162.3419,
              63.5941
             ],
             [
              -162.3452,
              63.5518
             ],
             [
              -162.378,
              63.5438
             ],
             [
              -162.4168,
              63.5474
             ],
             [
              -162.47,
              63.5475
             ],
             [
              -162.5527,
              63.541
             ],
             [
              -162.562,
              63.5371
             ],
             [
              -162.6149,
              63.5406
             ],
             [
              -162.6766,
              63.5556
             ],
             [
              -162.681,
              63.5569
             ],
             [
              -162.7076,
              63.5776
             ],
             [
              -162.6826,
              63.5841
             ]
            ]
           ],
           [
            [
             [
              -168.0977,
              64.969
             ],
             [
              -168.0825,
              64.9747
             ],
             [
              -168.0749,
              64.9804
             ],
             [
              -168.0492,
              64.9823
             ],
             [
              -168.0502,
              64.9612
             ],
             [
              -168.0806,
              64.9586
             ],
             [
              -168.0977,
              64.9643
             ],
             [
              -168.0977,
              64.969
             ]
            ]
           ],
           [
            [
             [
              -168.1289,
              65.6557
             ],
             [
              -168.1037,
              65.6856
             ],
             [
              -167.9799,
              65.728
             ],
             [
              -167.8572,
              65.7543
             ],
             [
              -167.7357,
              65.7761
             ],
             [
              -167.5396,
              65.8208
             ],
             [
              -167.3149,
              65.885
             ],
             [
              -167.2461,
              65.9114
             ],
             [
              -167.1395,
              65.9481
             ],
             [
              -166.9779,
              65.9962
             ],
             [
              -166.9561,
              66.0077
             ],
             [
              -166.8277,
              66.0513
             ],
             [
              -166.5972,
              66.1189
             ],
             [
              -166.5262,
              66.1418
             ],
             [
              -166.331,
              66.1895
             ],
             [
              -165.8825,
              66.3116
             ],
             [
              -165.8692,
              66.3161
             ],
             [
              -165.805,
              66.3333
             ],
             [
              -165.6686,
              66.362
             ],
             [
              -165.4072,
              66.4204
             ],
             [
              -165.1871,
              66.4652
             ],
             [
              -165.124,
              66.4732
             ],
             [
              -164.711,
              66.5425
             ],
             [
              -164.4007,
              66.5811
             ],
             [
              -164.3959,
              66.5811
             ],
             [
              -164.3959,
              66.4763
             ],
             [
              -164.3189,
              66.4763
             ],
             [
              -164.3189,
              66.1299
             ],
             [
              -164.2442,
              66.1299
             ],
             [
              -164.2442,
              65.7836
             ],
             [
              -163.9635,
              65.7836
             ],
             [
              -163.9635,
              65.6104
             ],
             [
              -163.7554,
              65.6104
             ],
             [
              -163.7554,
              65.4372
             ],
             [
              -162.8249,
              65.4372
             ],
             [
              -162.331,
              65.4372
             ],
             [
              -161.458,
              65.4372
             ],
             [
              -160.6341,
              65.4372
             ],
             [
              -159.8017,
              65.4372
             ],
             [
              -159.8017,
              65.5238
             ],
             [
              -159.5935,
              65.5238
             ],
             [
              -159.3856,
              65.5238
             ],
             [
              -159.3855,
              65.4372
             ],
             [
              -159.3774,
              65.264
             ],
             [
              -159.5827,
              65.264
             ],
             [
              -159.5827,
              65.0909
             ],
             [
              -159.5722,
              64.9176
             ],
             [
              -159.7749,
              64.9176
             ],
             [
              -159.7749,
              64.7444
             ],
             [
              -159.9623,
              64.7444
             ],
             [
              -159.9623,
              64.3979
             ],
             [
              -159.9473,
              64.0515
             ],
             [
              -159.7375,
              64.0515
             ],
             [
              -159.7375,
              63.7916
             ],
             [
              -159.9327,
              63.7916
             ],
             [
              -159.9327,
              63.705
             ],
             [
              -160.1115,
              63.705
             ],
             [
              -160.1115,
              63.6184
             ],
             [
              -160.4974,
              63.6183
             ],
             [
              -160.4974,
              63.5317
             ],
             [
              -160.6903,
              63.5317
             ],
             [
              -160.6903,
              63.3585
             ],
             [
              -160.6674,
              63.3585
             ],
             [
              -160.6674,
              63.2718
             ],
             [
              -160.858,
              63.2718
             ],
             [
              -160.858,
              63.012
             ],
             [
              -161.4521,
              63.0119
             ],
             [
              -162.0018,
              63.0119
             ],
             [
              -162.0018,
              63.0985
             ],
             [
              -162.1924,
              63.0986
             ],
             [
              -162.1925,
              63.1852
             ],
             [
              -162.3831,
              63.1852
             ],
             [
              -162.3831,
              63.2718
             ],
             [
              -162.5934,
              63.2723
             ],
             [
              -162.5717,
              63.2856
             ],
             [
              -162.4371,
              63.3778
             ],
             [
              -162.4322,
              63.3826
             ],
             [
              -162.4261,
              63.3937
             ],
             [
              -162.4287,
              63.4011
             ],
             [
              -162.4215,
              63.409
             ],
             [
              -162.3846,
              63.4358
             ],
             [
              -162.3523,
              63.4541
             ],
             [
              -162.3019,
              63.4734
             ],
             [
              -162.2711,
              63.4877
             ],
             [
              -162.2682,
              63.4908
             ],
             [
              -162.2678,
              63.4951
             ],
             [
              -162.2885,
              63.5264
             ],
             [
              -162.3015,
              63.5373
             ],
             [
              -162.2967,
              63.5401
             ],
             [
              -162.2524,
              63.5418
             ],
             [
              -162.1901,
              63.5299
             ],
             [
              -162.1516,
              63.518
             ],
             [
              -162.1232,
              63.5128
             ],
             [
              -162.1086,
              63.5119
             ],
             [
              -162.0732,
              63.5138
             ],
             [
              -162.0417,
              63.4896
             ],
             [
              -162.0457,
              63.4754
             ],
             [
              -162.0501,
              63.4728
             ],
             [
              -162.0505,
              63.4706
             ],
             [
              -162.0394,
              63.4589
             ],
             [
              -162.0256,
              63.4475
             ],
             [
              -161.9307,
              63.4448
             ],
             [
              -161.8399,
              63.4473
             ],
             [
              -161.7658,
              63.4538
             ],
             [
              -161.7056,
              63.4641
             ],
             [
              -161.6765,
              63.465
             ],
             [
              -161.5916,
              63.4542
             ],
             [
              -161.5838,
              63.4479
             ],
             [
              -161.5531,
              63.4492
             ],
             [
              -161.4505,
              63.4572
             ],
             [
              -161.3102,
              63.4713
             ],
             [
              -161.1912,
              63.4901
             ],
             [
              -161.1368,
              63.5045
             ],
             [
              -161.1342,
              63.5067
             ],
             [
              -161.12,
              63.5325
             ],
             [
              -161.1027,
              63.5478
             ],
             [
              -161.036,
              63.5796
             ],
             [
              -160.9249,
              63.6448
             ],
             [
              -160.9044,
              63.658
             ],
             [
              -160.8091,
              63.7313
             ],
             [
              -160.7833,
              63.7529
             ],
             [
              -160.7656,
              63.7736
             ],
             [
              -160.762,
              63.7935
             ],
             [
              -160.7663,
              63.8352
             ],
             [
              -160.7876,
              63.8692
             ],
             [
              -160.8108,
              63.9046
             ],
             [
              -160.852,
              63.9544
             ],
             [
              -160.8777,
              63.9773
             ],
             [
              -160.8925,
              63.9859
             ],
             [
              -160.9337,
              64.0497
             ],
             [
              -160.9516,
              64.0901
             ],
             [
              -160.9551,
              64.138
             ],
             [
              -160.9564,
              64.1917
             ],
             [
              -160.9536,
              64.1978
             ],
             [
              -160.9469,
              64.2042
             ],
             [
              -160.976,
              64.2358
             ],
             [
              -161.2289,
              64.3707
             ],
             [
              -161.2635,
              64.3982
             ],
             [
              -161.3137,
              64.4009
             ],
             [
              -161.4104,
              64.4221
             ],
             [
              -161.463,
              64.4201
             ],
             [
              -161.4702,
              64.4188
             ],
             [
              -161.4929,
              64.4079
             ],
             [
              -161.5049,
              64.4231
             ],
             [
              -161.4791,
              64.4864
             ],
             [
              -161.469,
              64.5066
             ],
             [
              -161.3886,
              64.5328
             ],
             [
              -161.3736,
              64.535
             ],
             [
              -161.3629,
              64.5269
             ],
             [
              -161.3511,
              64.5214
             ],
             [
              -161.3213,
              64.5139
             ],
             [
              -161.2341,
              64.5004
             ],
             [
              -161.198,
              64.4966
             ],
             [
              -161.1555,
              64.4947
             ],
             [
              -161.078,
              64.4941
             ],
             [
              -161.0242,
              64.4997
             ],
             [
              -161.0151,
              64.5021
             ],
             [
              -161.0132,
              64.5075
             ],
             [
              -161.0171,
              64.5171
             ],
             [
              -161.0375,
              64.5222
             ],
             [
              -161.0459,
              64.5249
             ],
             [
              -161.0531,
              64.5285
             ],
             [
              -161.0555,
              64.5324
             ],
             [
              -161.0523,
              64.5374
             ],
             [
              -161.0491,
              64.541
             ],
             [
              -160.9929,
              64.5413
             ],
             [
              -160.9706,
              64.5439
             ],
             [
              -160.9405,
              64.55
             ],
             [
              -160.802,
              64.6104
             ],
             [
              -160.7934,
              64.6193
             ],
             [
              -160.7916,
              64.6231
             ],
             [
              -160.7836,
              64.6806
             ],
             [
              -160.7834,
              64.7172
             ],
             [
              -160.8696,
              64.7838
             ],
             [
              -160.936,
              64.8224
             ],
             [
              -160.9864,
              64.834
             ],
             [
              -161.0797,
              64.8695
             ],
             [
              -161.1028,
              64.8807
             ],
             [
              -161.1331,
              64.8982
             ],
             [
              -161.1497,
              64.912
             ],
             [
              -161.1494,
              64.9166
             ],
             [
              -161.1457,
              64.9205
             ],
             [
              -161.176,
              64.9272
             ],
             [
              -161.1921,
              64.9214
             ],
             [
              -161.1952,
              64.9182
             ],
             [
              -161.2009,
              64.9058
             ],
             [
              -161.201,
              64.8987
             ],
             [
              -161.1986,
              64.8944
             ],
             [
              -161.2138,
              64.8833
             ],
             [
              -161.2643,
              64.862
             ],
             [
              -161.293,
              64.8532
             ],
             [
              -161.3278,
              64.8298
             ],
             [
              -161.3579,
              64.8059
             ],
             [
              -161.3668,
              64.7938
             ],
             [
              -161.3644,
              64.7821
             ],
             [
              -161.3675,
              64.7789
             ],
             [
              -161.377,
              64.773
             ],
             [
              -161.4135,
              64.7627
             ],
             [
              -161.4299,
              64.759
             ],
             [
              -161.5182,
              64.7532
             ],
             [
              -161.5955,
              64.7645
             ],
             [
              -161.6303,
              64.7713
             ],
             [
              -161.6455,
              64.7765
             ],
             [
              -161.6673,
              64.789
             ],
             [
              -161.8784,
              64.7095
             ],
             [
              -161.9024,
              64.7039
             ],
             [
              -161.9393,
              64.6991
             ],
             [
              -162.0965,
              64.691
             ],
             [
              -162.1388,
              64.6859
             ],
             [
              -162.1685,
              64.6803
             ],
             [
              -162.1881,
              64.6724
             ],
             [
              -162.2166,
              64.6562
             ],
             [
              -162.2197,
              64.6442
             ],
             [
              -162.2345,
              64.6193
             ],
             [
              -162.27,
              64.6087
             ],
             [
              -162.2906,
              64.6055
             ],
             [
              -162.3423,
              64.5922
             ],
             [
              -162.54,
              64.5309
             ],
             [
              -162.5549,
              64.5203
             ],
             [
              -162.6142,
              64.4707
             ],
             [
              -162.6155,
              64.4671
             ],
             [
              -162.6022,
              64.4569
             ],
             [
              -162.603,
              64.4487
             ],
             [
              -162.6322,
              64.3857
             ],
             [
              -162.6452,
              64.3798
             ],
             [
              -162.6677,
              64.3754
             ],
             [
              -162.7192,
              64.36
             ],
             [
              -162.7684,
              64.3335
             ],
             [
              -162.7902,
              64.3252
             ],
             [
              -162.7956,
              64.3277
             ],
             [
              -162.8054,
              64.336
             ],
             [
              -162.81,
              64.3526
             ],
             [
              -162.8072,
              64.3646
             ],
             [
              -162.8003,
              64.3747
             ],
             [
              -162.8023,
              64.3953
             ],
             [
              -162.8066,
              64.4056
             ],
             [
              -162.8365,
              64.4367
             ],
             [
              -162.8586,
              64.4749
             ],
             [
              -162.8576,
              64.4998
             ],
             [
              -162.9408,
              64.5424
             ],
             [
              -162.9692,
              64.5469
             ],
             [
              -163.0307,
              64.5424
             ],
             [
              -163.0426,
              64.54
             ],
             [
              -163.0493,
              64.5493
             ],
             [
              -163.0274,
              64.5597
             ],
             [
              -163.0284,
              64.5692
             ],
             [
              -163.0607,
              64.5883
             ],
             [
              -163.1426,
              64.6092
             ],
             [
              -163.174,
              64.6397
             ],
             [
              -163.2178,
              64.6321
             ],
             [
              -163.312,
              64.5883
             ],
             [
              -163.3091,
              64.5711
             ],
             [
              -163.2549,
              64.5493
             ],
             [
              -163.1787,
              64.5435
             ],
             [
              -163.1197,
              64.5102
             ],
             [
              -163.0332,
              64.5193
             ],
             [
              -163.0272,
              64.4779
             ],
             [
              -163.0915,
              64.4377
             ],
             [
              -163.1075,
              64.4092
             ],
             [
              -163.1195,
              64.4038
             ],
             [
              -163.1508,
              64.3972
             ],
             [
              -163.1753,
              64.3993
             ],
             [
              -163.2292,
              64.43
             ],
             [
              -163.2491,
              64.4562
             ],
             [
              -163.253,
              64.4695
             ],
             [
              -163.3509,
              64.5059
             ],
             [
              -163.4129,
              64.525
             ],
             [
              -163.4515,
              64.5348
             ],
             [
              -163.5978,
              64.5634
             ],
             [
              -163.6519,
              64.5673
             ],
             [
              -163.8297,
              64.575
             ],
             [
              -163.8758,
              64.5729
             ],
             [
              -163.8962,
              64.5645
             ],
             [
              -163.9744,
              64.5514
             ],
             [
              -163.9945,
              64.5517
             ],
             [
              -164.0448,
              64.5592
             ],
             [
              -164.072,
              64.5613
             ],
             [
              -164.1471,
              64.5646
             ],
             [
              -164.2601,
              64.5642
             ],
             [
              -164.3073,
              64.5615
             ],
             [
              -164.4219,
              64.5453
             ],
             [
              -164.4913,
              64.5298
             ],
             [
              -164.5483,
              64.5167
             ],
             [
              -164.8077,
              64.4494
             ],
             [
              -164.8357,
              64.4449
             ],
             [
              -164.8744,
              64.4412
             ],
             [
              -165.002,
              64.4339
             ],
             [
              -165.0165,
              64.4344
             ],
             [
              -165.2142,
              64.4697
             ],
             [
              -165.4134,
              64.4979
             ],
             [
              -165.5506,
              64.5122
             ],
             [
              -165.7511,
              64.5364
             ],
             [
              -165.8196,
              64.5402
             ],
             [
              -165.9197,
              64.5487
             ],
             [
              -166.1895,
              64.5758
             ],
             [
              -166.2369,
              64.5836
             ],
             [
              -166.3924,
              64.6382
             ],
             [
              -166.4139,
              64.6512
             ],
             [
              -166.4518,
              64.6918
             ],
             [
              -166.4747,
              64.7193
             ],
             [
              -166.4838,
              64.7334
             ],
             [
              -166.4811,
              64.7862
             ],
             [
              -166.479,
              64.797
             ],
             [
              -166.4305,
              64.8077
             ],
             [
              -166.417,
              64.8187
             ],
             [
              -166.4102,
              64.828
             ],
             [
              -166.4073,
              64.8343
             ],
             [
              -166.4073,
              64.8523
             ],
             [
              -166.4093,
              64.8598
             ],
             [
              -166.4156,
              64.8719
             ],
             [
              -166.4322,
              64.8832
             ],
             [
              -166.5305,
              64.9371
             ],
             [
              -166.5861,
              64.9557
             ],
             [
              -166.6151,
              64.9643
             ],
             [
              -166.6368,
              64.9681
             ],
             [
              -166.6908,
              64.9854
             ],
             [
              -166.7048,
              64.9971
             ],
             [
              -166.7053,
              64.9998
             ],
             [
              -166.6952,
              65.0052
             ],
             [
              -166.6888,
              65.018
             ],
             [
              -166.6924,
              65.0296
             ],
             [
              -166.6965,
              65.0359
             ],
             [
              -166.7328,
              65.0535
             ],
             [
              -166.8209,
              65.0771
             ],
             [
              -166.8604,
              65.0909
             ],
             [
              -166.8855,
              65.1059
             ],
             [
              -166.9119,
              65.126
             ],
             [
              -166.9101,
              65.134
             ],
             [
              -166.9067,
              65.1363
             ],
             [
              -166.8977,
              65.139
             ],
             [
              -166.8867,
              65.1388
             ],
             [
              -166.8727,
              65.1369
             ],
             [
              -166.8375,
              65.1281
             ],
             [
              -166.8268,
              65.1198
             ],
             [
              -166.8168,
              65.1171
             ],
             [
              -166.7556,
              65.1106
             ],
             [
              -166.6703,
              65.1097
             ],
             [
              -166.6384,
              65.1136
             ],
             [
              -166.6344,
              65.1259
             ],
             [
              -166.6061,
              65.136
             ],
             [
              -166.5215,
              65.1492
             ],
             [
              -166.5096,
              65.1527
             ],
             [
              -166.4799,
              65.1672
             ],
             [
              -166.4642,
              65.1771
             ],
             [
              -166.46,
              65.1833
             ],
             [
              -166.46,
              65.1899
             ],
             [
              -166.4653,
              65.1948
             ],
             [
              -166.4748,
              65.2177
             ],
             [
              -166.4753,
              65.2243
             ],
             [
              -166.4517,
              65.2362
             ],
             [
              -166.3863,
              65.2541
             ],
             [
              -166.3472,
              65.2763
             ],
             [
              -166.3606,
              65.2886
             ],
             [
              -166.3777,
              65.298
             ],
             [
              -166.4394,
              65.3191
             ],
             [
              -166.486,
              65.3309
             ],
             [
              -166.5186,
              65.3358
             ],
             [
              -166.5511,
              65.3384
             ],
             [
              -166.5727,
              65.3382
             ],
             [
              -166.597,
              65.3362
             ],
             [
              -166.626,
              65.3251
             ],
             [
              -166.6552,
              65.3249
             ],
             [
              -166.6797,
              65.3269
             ],
             [
              -166.796,
              65.3372
             ],
             [
              -166.8516,
              65.3485
             ],
             [
              -166.8997,
              65.3606
             ],
             [
              -167.0268,
              65.382
             ],
             [
              -167.1019,
              65.3877
             ],
             [
              -167.1705,
              65.3893
             ],
             [
              -167.3985,
              65.4003
             ],
             [
              -167.474,
              65.4127
             ],
             [
              -167.5746,
              65.445
             ],
             [
              -167.6204,
              65.4635
             ],
             [
              -167.6214,
              65.4666
             ],
             [
              -167.7109,
              65.4985
             ],
             [
              -167.8418,
              65.5302
             ],
             [
              -167.8512,
              65.5382
             ],
             [
              -167.9096,
              65.5509
             ],
             [
              -167.9671,
              65.5586
             ],
             [
              -167.9972,
              65.5593
             ],
             [
              -168.0476,
              65.5691
             ],
             [
              -168.0752,
              65.5764
             ],
             [
              -168.099,
              65.5922
             ],
             [
              -168.0994,
              65.599
             ],
             [
              -168.0961,
              65.6009
             ],
             [
              -168.1,
              65.611
             ],
             [
              -168.127,
              65.6266
             ],
             [
              -168.1347,
              65.6408
             ],
             [
              -168.1289,
              65.6557
             ]
            ]
           ],
           [
            [
             [
              -168.9528,
              65.7589
             ],
             [
              -168.9473,
              65.7638
             ],
             [
              -168.9372,
              65.7671
             ],
             [
              -168.9155,
              65.7705
             ],
             [
              -168.9022,
              65.7697
             ],
             [
              -168.8932,
              65.7447
             ],
             [
              -168.8988,
              65.7397
             ],
             [
              -168.9034,
              65.7385
             ],
             [
              -168.9312,
              65.7389
             ],
             [
              -168.9408,
              65.7427
             ],
             [
              -168.9514,
              65.7493
             ],
             [
              -168.9545,
              65.7571
             ],
             [
              -168.9528,
              65.7589
             ]
            ]
           ],
           [
            [
             [
              -171.8404,
              63.5477
             ],
             [
              -171.8337,
              63.5801
             ],
             [
              -171.7919,
              63.6206
             ],
             [
              -171.7571,
              63.6403
             ],
             [
              -171.744,
              63.6549
             ],
             [
              -171.7423,
              63.6655
             ],
             [
              -171.7556,
              63.7012
             ],
             [
              -171.7543,
              63.719
             ],
             [
              -171.7399,
              63.7171
             ],
             [
              -171.7332,
              63.7203
             ],
             [
              -171.728,
              63.7268
             ],
             [
              -171.7257,
              63.7347
             ],
             [
              -171.728,
              63.7449
             ],
             [
              -171.7374,
              63.7603
             ],
             [
              -171.7434,
              63.783
             ],
             [
              -171.7382,
              63.7847
             ],
             [
              -171.6996,
              63.7817
             ],
             [
              -171.6927,
              63.7826
             ],
             [
              -171.6825,
              63.7876
             ],
             [
              -171.6733,
              63.7881
             ],
             [
              -171.6673,
              63.7856
             ],
             [
              -171.6599,
              63.7758
             ],
             [
              -171.644,
              63.7708
             ],
             [
              -171.639,
              63.7592
             ],
             [
              -171.6382,
              63.7495
             ],
             [
              -171.6415,
              63.7456
             ],
             [
              -171.6529,
              63.7392
             ],
             [
              -171.6527,
              63.7366
             ],
             [
              -171.6489,
              63.7349
             ],
             [
              -171.6467,
              63.7294
             ],
             [
              -171.6526,
              63.7085
             ],
             [
              -171.6499,
              63.7025
             ],
             [
              -171.64,
              63.6934
             ],
             [
              -171.6322,
              63.6886
             ],
             [
              -171.6094,
              63.6798
             ],
             [
              -171.5219,
              63.6588
             ],
             [
              -171.3817,
              63.6306
             ],
             [
              -171.2026,
              63.6069
             ],
             [
              -171.1036,
              63.5893
             ],
             [
              -171.0445,
              63.5804
             ],
             [
              -170.9508,
              63.5701
             ],
             [
              -170.9072,
              63.5721
             ],
             [
              -170.8976,
              63.5747
             ],
             [
              -170.859,
              63.5875
             ],
             [
              -170.8166,
              63.6063
             ],
             [
              -170.6982,
              63.6468
             ],
             [
              -170.6063,
              63.6727
             ],
             [
              -170.4882,
              63.6967
             ],
             [
              -170.4722,
              63.6987
             ],
             [
              -170.4629,
              63.698
             ],
             [
              -170.4411,
              63.692
             ],
             [
              -170.3739,
              63.6873
             ],
             [
              -170.3594,
              63.6873
             ],
             [
              -170.3545,
              63.6919
             ],
             [
              -170.3449,
              63.6942
             ],
             [
              -170.3158,
              63.6919
             ],
             [
              -170.282,
              63.685
             ],
             [
              -170.2675,
              63.6758
             ],
             [
              -170.2578,
              63.6666
             ],
             [
              -170.1764,
              63.6255
             ],
             [
              -170.1548,
              63.6191
             ],
             [
              -170.14,
              63.6167
             ],
             [
              -170.1131,
              63.6162
             ],
             [
              -170.0958,
              63.6127
             ],
             [
              -170.0767,
              63.588
             ],
             [
              -170.0409,
              63.5234
             ],
             [
              -170.0471,
              63.4901
             ],
             [
              -170.027,
              63.4807
             ],
             [
              -170.0079,
              63.4754
             ],
             [
              -169.9749,
              63.4706
             ],
             [
              -169.9063,
              63.4575
             ],
             [
              -169.8571,
              63.442
             ],
             [
              -169.7476,
              63.4328
             ],
             [
              -169.6565,
              63.4299
             ],
             [
              -169.6432,
              63.4278
             ],
             [
              -169.5799,
              63.4029
             ],
             [
              -169.5666,
              63.3887
             ],
             [
              -169.5654,
              63.3856
             ],
             [
              -169.5544,
              63.3772
             ],
             [
              -169.5469,
              63.3728
             ],
             [
              -169.5205,
              63.3659
             ],
             [
              -169.4153,
              63.3559
             ],
             [
              -169.3841,
              63.3567
             ],
             [
              -169.313,
              63.3533
             ],
             [
              -169.2814,
              63.3484
             ],
             [
              -169.2676,
              63.344
             ],
             [
              -169.102,
              63.338
             ],
             [
              -169.0879,
              63.3409
             ],
             [
              -169.0519,
              63.3431
             ],
             [
              -168.9992,
              63.3412
             ],
             [
              -168.9374,
              63.3338
             ],
             [
              -168.9363,
              63.3306
             ],
             [
              -168.9326,
              63.3291
             ],
             [
              -168.7961,
              63.3088
             ],
             [
              -168.6929,
              63.3023
             ],
             [
              -168.6851,
              63.2964
             ],
             [
              -168.6867,
              63.293
             ],
             [
              -168.7169,
              63.2563
             ],
             [
              -168.7515,
              63.218
             ],
             [
              -168.7832,
              63.1841
             ],
             [
              -168.7893,
              63.1796
             ],
             [
              -168.8183,
              63.1632
             ],
             [
              -168.8587,
              63.147
             ],
             [
              -168.8715,
              63.146
             ],
             [
              -168.8897,
              63.1477
             ],
             [
              -168.9501,
              63.1609
             ],
             [
              -168.9636,
              63.1671
             ],
             [
              -168.983,
              63.1697
             ],
             [
              -169.0427,
              63.1765
             ],
             [
              -169.1058,
              63.1788
             ],
             [
              -169.1984,
              63.176
             ],
             [
              -169.262,
              63.1699
             ],
             [
              -169.3035,
              63.1644
             ],
             [
              -169.3757,
              63.1513
             ],
             [
              -169.3963,
              63.1366
             ],
             [
              -169.4367,
              63.1136
             ],
             [
              -169.4719,
              63.0986
             ],
             [
              -169.5136,
              63.0847
             ],
             [
              -169.535,
              63.0744
             ],
             [
              -169.5611,
              63.0552
             ],
             [
              -169.5759,
              63.0364
             ],
             [
              -169.577,
              63.027
             ],
             [
              -169.5728,
              63.0221
             ],
             [
              -169.568,
              62.9769
             ],
             [
              -169.6383,
              62.9375
             ],
             [
              -169.7467,
              62.956
             ],
             [
              -169.7572,
              62.9601
             ],
             [
              -169.7575,
              62.9637
             ],
             [
              -169.7349,
              62.9745
             ],
             [
              -169.7349,
              62.9766
             ],
             [
              -169.7885,
              63.043
             ],
             [
              -169.8299,
              63.0785
             ],
             [
              -169.8385,
              63.0843
             ],
             [
              -169.8812,
              63.1058
             ],
             [
              -169.9441,
              63.1324
             ],
             [
              -169.9879,
              63.143
             ],
             [
              -170.0062,
              63.1445
             ],
             [
              -170.0212,
              63.1495
             ],
             [
              -170.0496,
              63.1634
             ],
             [
              -170.0511,
              63.1675
             ],
             [
              -170.0534,
              63.1689
             ],
             [
              -170.1013,
              63.1793
             ],
             [
              -170.1244,
              63.1837
             ],
             [
              -170.1541,
              63.1864
             ],
             [
              -170.1744,
              63.1855
             ],
             [
              -170.1865,
              63.1816
             ],
             [
              -170.182,
              63.1788
             ],
             [
              -170.1937,
              63.1774
             ],
             [
              -170.263,
              63.1791
             ],
             [
              -170.2814,
              63.1868
             ],
             [
              -170.2856,
              63.1946
             ],
             [
              -170.2799,
              63.1971
             ],
             [
              -170.2779,
              63.2002
             ],
             [
              -170.2777,
              63.2088
             ],
             [
              -170.3036,
              63.2387
             ],
             [
              -170.3373,
              63.2663
             ],
             [
              -170.3648,
              63.2856
             ],
             [
              -170.4307,
              63.3143
             ],
             [
              -170.5121,
              63.3419
             ],
             [
              -170.5589,
              63.355
             ],
             [
              -170.7126,
              63.386
             ],
             [
              -170.8654,
              63.4142
             ],
             [
              -170.9235,
              63.4209
             ],
             [
              -170.9675,
              63.4237
             ],
             [
              -171.0677,
              63.4246
             ],
             [
              -171.1009,
              63.4234
             ],
             [
              -171.2692,
              63.3854
             ],
             [
              -171.2802,
              63.3815
             ],
             [
              -171.2872,
              63.3766
             ],
             [
              -171.2883,
              63.3748
             ],
             [
              -171.2854,
              63.3665
             ],
             [
              -171.2903,
              63.3554
             ],
             [
              -171.3331,
              63.3354
             ],
             [
              -171.4333,
              63.3076
             ],
             [
              -171.4645,
              63.3069
             ],
             [
              -171.5623,
              63.3346
             ],
             [
              -171.6671,
              63.3562
             ],
             [
              -171.7393,
              63.3661
             ],
             [
              -171.7953,
              63.4079
             ],
             [
              -171.8183,
              63.4295
             ],
             [
              -171.8249,
              63.4371
             ],
             [
              -171.85,
              63.485
             ],
             [
              -171.8404,
              63.5477
             ]
            ]
           ]
          ],
          "type": "MultiPolygon"
         },
         "properties": {
          "AFFGEOID": "0500000US02180",
          "ALAND": 59497122355,
          "ALANDMI": 22971.9579,
          "AWATER": 13774270048,
          "COUNTYFP": "180",
          "COUNTYNS": "01419977",
          "GEOID": "02180",
          "LSAD": "05",
          "NAME": "Nome",
          "STATEFP": "02",
          "n": 1,
          "stn_sq_mi": 0
         },
         "type": "Feature"
        }
       ],
       "type": "FeatureCollection"
      },
      "text/html": [
       "<table class=\"dataframe\">\n",
       "<caption>A sf: 6 × 13</caption>\n",
       "<thead>\n",
       "\t<tr><th></th><th scope=col>STATEFP</th><th scope=col>COUNTYFP</th><th scope=col>COUNTYNS</th><th scope=col>AFFGEOID</th><th scope=col>GEOID</th><th scope=col>NAME</th><th scope=col>LSAD</th><th scope=col>ALAND</th><th scope=col>AWATER</th><th scope=col>ALANDMI</th><th scope=col>n</th><th scope=col>stn_sq_mi</th><th scope=col>geometry</th></tr>\n",
       "\t<tr><th></th><th scope=col>&lt;chr&gt;</th><th scope=col>&lt;chr&gt;</th><th scope=col>&lt;chr&gt;</th><th scope=col>&lt;chr&gt;</th><th scope=col>&lt;chr&gt;</th><th scope=col>&lt;chr&gt;</th><th scope=col>&lt;chr&gt;</th><th scope=col>&lt;dbl&gt;</th><th scope=col>&lt;dbl&gt;</th><th scope=col>&lt;dbl&gt;</th><th scope=col>&lt;int&gt;</th><th scope=col>&lt;dbl&gt;</th><th scope=col>&lt;MULTIPOLYGON [°]&gt;</th></tr>\n",
       "</thead>\n",
       "<tbody>\n",
       "\t<tr><th scope=row>1</th><td>02</td><td>290</td><td>01419987</td><td>0500000US02290</td><td>02290</td><td>Yukon-Koyukuk      </td><td>05</td><td>377034650847</td><td> 5949465694</td><td>145573.83</td><td>1</td><td>6.869366e-06</td><td>MULTIPOLYGON (((-161.0482 6...</td></tr>\n",
       "\t<tr><th scope=row>2</th><td>02</td><td>188</td><td>01419979</td><td>0500000US02188</td><td>02188</td><td>Northwest Arctic   </td><td>04</td><td> 92329079390</td><td>12875662550</td><td> 35648.44</td><td>1</td><td>2.805172e-05</td><td>MULTIPOLYGON (((-165.3866 6...</td></tr>\n",
       "\t<tr><th scope=row>3</th><td>02</td><td>240</td><td>01419983</td><td>0500000US02240</td><td>02240</td><td>Southeast Fairbanks</td><td>05</td><td> 64290686975</td><td>  751965527</td><td> 24822.76</td><td>1</td><td>4.028560e-05</td><td>MULTIPOLYGON (((-146.9999 6...</td></tr>\n",
       "\t<tr><th scope=row>4</th><td>02</td><td>170</td><td>01419976</td><td>0500000US02170</td><td>02170</td><td>Matanuska-Susitna  </td><td>04</td><td> 64008421559</td><td> 1456871464</td><td> 24713.78</td><td>1</td><td>4.046326e-05</td><td>MULTIPOLYGON (((-153.0015 6...</td></tr>\n",
       "\t<tr><th scope=row>5</th><td>02</td><td>164</td><td>01419975</td><td>0500000US02164</td><td>02164</td><td>Lake and Peninsula </td><td>04</td><td> 61893966490</td><td>25992281749</td><td> 23897.38</td><td>1</td><td>4.184558e-05</td><td>MULTIPOLYGON (((-157.3261 5...</td></tr>\n",
       "\t<tr><th scope=row>6</th><td>02</td><td>180</td><td>01419977</td><td>0500000US02180</td><td>02180</td><td>Nome               </td><td>05</td><td> 59497122355</td><td>13774270048</td><td> 22971.96</td><td>1</td><td>4.353134e-05</td><td>MULTIPOLYGON (((-162.6826 6...</td></tr>\n",
       "</tbody>\n",
       "</table>\n"
      ],
      "text/latex": [
       "A sf: 6 × 13\n",
       "\\begin{tabular}{r|lllllllllllll}\n",
       "  & STATEFP & COUNTYFP & COUNTYNS & AFFGEOID & GEOID & NAME & LSAD & ALAND & AWATER & ALANDMI & n & stn\\_sq\\_mi & geometry\\\\\n",
       "  & <chr> & <chr> & <chr> & <chr> & <chr> & <chr> & <chr> & <dbl> & <dbl> & <dbl> & <int> & <dbl> & <MULTIPOLYGON {[}°{]}>\\\\\n",
       "\\hline\n",
       "\t1 & 02 & 290 & 01419987 & 0500000US02290 & 02290 & Yukon-Koyukuk       & 05 & 377034650847 &  5949465694 & 145573.83 & 1 & 6.869366e-06 & MULTIPOLYGON (((-161.0482 6...\\\\\n",
       "\t2 & 02 & 188 & 01419979 & 0500000US02188 & 02188 & Northwest Arctic    & 04 &  92329079390 & 12875662550 &  35648.44 & 1 & 2.805172e-05 & MULTIPOLYGON (((-165.3866 6...\\\\\n",
       "\t3 & 02 & 240 & 01419983 & 0500000US02240 & 02240 & Southeast Fairbanks & 05 &  64290686975 &   751965527 &  24822.76 & 1 & 4.028560e-05 & MULTIPOLYGON (((-146.9999 6...\\\\\n",
       "\t4 & 02 & 170 & 01419976 & 0500000US02170 & 02170 & Matanuska-Susitna   & 04 &  64008421559 &  1456871464 &  24713.78 & 1 & 4.046326e-05 & MULTIPOLYGON (((-153.0015 6...\\\\\n",
       "\t5 & 02 & 164 & 01419975 & 0500000US02164 & 02164 & Lake and Peninsula  & 04 &  61893966490 & 25992281749 &  23897.38 & 1 & 4.184558e-05 & MULTIPOLYGON (((-157.3261 5...\\\\\n",
       "\t6 & 02 & 180 & 01419977 & 0500000US02180 & 02180 & Nome                & 05 &  59497122355 & 13774270048 &  22971.96 & 1 & 4.353134e-05 & MULTIPOLYGON (((-162.6826 6...\\\\\n",
       "\\end{tabular}\n"
      ],
      "text/markdown": [
       "\n",
       "A sf: 6 × 13\n",
       "\n",
       "| <!--/--> | STATEFP &lt;chr&gt; | COUNTYFP &lt;chr&gt; | COUNTYNS &lt;chr&gt; | AFFGEOID &lt;chr&gt; | GEOID &lt;chr&gt; | NAME &lt;chr&gt; | LSAD &lt;chr&gt; | ALAND &lt;dbl&gt; | AWATER &lt;dbl&gt; | ALANDMI &lt;dbl&gt; | n &lt;int&gt; | stn_sq_mi &lt;dbl&gt; | geometry &lt;MULTIPOLYGON [°]&gt; |\n",
       "|---|---|---|---|---|---|---|---|---|---|---|---|---|---|\n",
       "| 1 | 02 | 290 | 01419987 | 0500000US02290 | 02290 | Yukon-Koyukuk       | 05 | 377034650847 |  5949465694 | 145573.83 | 1 | 6.869366e-06 | MULTIPOLYGON (((-161.0482 6... |\n",
       "| 2 | 02 | 188 | 01419979 | 0500000US02188 | 02188 | Northwest Arctic    | 04 |  92329079390 | 12875662550 |  35648.44 | 1 | 2.805172e-05 | MULTIPOLYGON (((-165.3866 6... |\n",
       "| 3 | 02 | 240 | 01419983 | 0500000US02240 | 02240 | Southeast Fairbanks | 05 |  64290686975 |   751965527 |  24822.76 | 1 | 4.028560e-05 | MULTIPOLYGON (((-146.9999 6... |\n",
       "| 4 | 02 | 170 | 01419976 | 0500000US02170 | 02170 | Matanuska-Susitna   | 04 |  64008421559 |  1456871464 |  24713.78 | 1 | 4.046326e-05 | MULTIPOLYGON (((-153.0015 6... |\n",
       "| 5 | 02 | 164 | 01419975 | 0500000US02164 | 02164 | Lake and Peninsula  | 04 |  61893966490 | 25992281749 |  23897.38 | 1 | 4.184558e-05 | MULTIPOLYGON (((-157.3261 5... |\n",
       "| 6 | 02 | 180 | 01419977 | 0500000US02180 | 02180 | Nome                | 05 |  59497122355 | 13774270048 |  22971.96 | 1 | 4.353134e-05 | MULTIPOLYGON (((-162.6826 6... |\n",
       "\n"
      ],
      "text/plain": [
       "  STATEFP COUNTYFP COUNTYNS AFFGEOID       GEOID NAME                LSAD\n",
       "1 02      290      01419987 0500000US02290 02290 Yukon-Koyukuk       05  \n",
       "2 02      188      01419979 0500000US02188 02188 Northwest Arctic    04  \n",
       "3 02      240      01419983 0500000US02240 02240 Southeast Fairbanks 05  \n",
       "4 02      170      01419976 0500000US02170 02170 Matanuska-Susitna   04  \n",
       "5 02      164      01419975 0500000US02164 02164 Lake and Peninsula  04  \n",
       "6 02      180      01419977 0500000US02180 02180 Nome                05  \n",
       "  ALAND        AWATER      ALANDMI   n stn_sq_mi   \n",
       "1 377034650847  5949465694 145573.83 1 6.869366e-06\n",
       "2  92329079390 12875662550  35648.44 1 2.805172e-05\n",
       "3  64290686975   751965527  24822.76 1 4.028560e-05\n",
       "4  64008421559  1456871464  24713.78 1 4.046326e-05\n",
       "5  61893966490 25992281749  23897.38 1 4.184558e-05\n",
       "6  59497122355 13774270048  22971.96 1 4.353134e-05\n",
       "  geometry                      \n",
       "1 MULTIPOLYGON (((-161.0482 6...\n",
       "2 MULTIPOLYGON (((-165.3866 6...\n",
       "3 MULTIPOLYGON (((-146.9999 6...\n",
       "4 MULTIPOLYGON (((-153.0015 6...\n",
       "5 MULTIPOLYGON (((-157.3261 5...\n",
       "6 MULTIPOLYGON (((-162.6826 6..."
      ]
     },
     "metadata": {},
     "output_type": "display_data"
    }
   ],
   "source": [
    "head(sp_ev_cty%>%arrange(stn_sq_mi))"
   ]
  },
  {
   "cell_type": "markdown",
   "id": "998c2835",
   "metadata": {},
   "source": [
    "We can plot the results as a chloropleth map."
   ]
  },
  {
   "cell_type": "code",
   "execution_count": 38,
   "id": "ef5a7ca6",
   "metadata": {},
   "outputs": [
    {
     "data": {
      "image/png": "[encoded data removed]",
      "text/plain": [
       "Plot with title \"stn_sq_mi\""
      ]
     },
     "metadata": {
      "image/png": {
       "height": 1200,
       "width": 900
      }
     },
     "output_type": "display_data"
    }
   ],
   "source": [
    "plot(sp_ev_cty[\"stn_sq_mi\"])"
   ]
  },
  {
   "cell_type": "markdown",
   "id": "c46642a9",
   "metadata": {},
   "source": [
    "Looks like we are including some protectorates... let's filter them out."
   ]
  },
  {
   "cell_type": "code",
   "execution_count": 68,
   "id": "258aa87a",
   "metadata": {},
   "outputs": [
    {
     "data": {
      "image/png": "[encoded data removed]",
      "text/plain": [
       "Plot with title \"stn_sq_mi\""
      ]
     },
     "metadata": {
      "image/png": {
       "height": 1200,
       "width": 900
      }
     },
     "output_type": "display_data"
    }
   ],
   "source": [
    "sp_ev_cty1 = sp_ev_cty%>%filter(as.integer(sp_ev_cty$STATEFP)<60,sp_ev_cty$COUNTYNS!=\"01419965\")\n",
    "plot(sp_ev_cty1[\"stn_sq_mi\"])"
   ]
  },
  {
   "cell_type": "markdown",
   "id": "3ace17be",
   "metadata": {},
   "source": [
    "This still misses most of the variation. Let's look at NE only."
   ]
  },
  {
   "cell_type": "code",
   "execution_count": 70,
   "id": "c30ef584",
   "metadata": {},
   "outputs": [
    {
     "data": {
      "image/png": "[encoded data removed]",
      "text/plain": [
       "Plot with title \"stn_sq_mi\""
      ]
     },
     "metadata": {
      "image/png": {
       "height": 1200,
       "width": 900
      }
     },
     "output_type": "display_data"
    }
   ],
   "source": [
    "sp_ev_ctyNE = sp_ev_cty%>%filter(sp_ev_cty$STATEFP==\"31\")\n",
    "plot(sp_ev_ctyNE[\"stn_sq_mi\"])"
   ]
  },
  {
   "cell_type": "code",
   "execution_count": 77,
   "id": "07205ed6",
   "metadata": {},
   "outputs": [
    {
     "data": {
      "application/geo+json": {
       "features": [
        {
         "geometry": {
          "coordinates": [
           [
            [
             [
              -100.2676,
              42.0861
             ],
             [
              -100.1676,
              42.0858
             ],
             [
              -99.687,
              42.0861
             ],
             [
              -99.6868,
              41.7403
             ],
             [
              -100.2512,
              41.7398
             ],
             [
              -100.2655,
              41.7399
             ],
             [
              -100.2676,
              42.0861
             ]
            ]
           ]
          ],
          "type": "MultiPolygon"
         },
         "properties": {
          "AFFGEOID": "0500000US31009",
          "ALAND": 1840673980,
          "ALANDMI": 710.6879,
          "AWATER": 9443894,
          "COUNTYFP": "009",
          "COUNTYNS": "00835827",
          "GEOID": "31009",
          "LSAD": "06",
          "NAME": "Blaine",
          "STATEFP": "31",
          "n": 49,
          "stn_sq_mi": 0.0689
         },
         "type": "Feature"
        },
        {
         "geometry": {
          "coordinates": [
           [
            [
             [
              -101.2697,
              41.3949
             ],
             [
              -100.7132,
              41.3935
             ],
             [
              -100.2511,
              41.3933
             ],
             [
              -100.2361,
              41.3933
             ],
             [
              -100.2362,
              41.322
             ],
             [
              -100.2343,
              41.28
             ],
             [
              -100.2382,
              41.0465
             ],
             [
              -100.2242,
              41.0466
             ],
             [
              -100.2233,
              40.7003
             ],
             [
              -100.7778,
              40.7001
             ],
             [
              -101.248,
              40.6978
             ],
             [
              -101.25,
              41.0039
             ],
             [
              -101.2502,
              41.0474
             ],
             [
              -101.2704,
              41.0474
             ],
             [
              -101.2697,
              41.3949
             ]
            ]
           ]
          ],
          "type": "MultiPolygon"
         },
         "properties": {
          "AFFGEOID": "0500000US31111",
          "ALAND": 6641072810,
          "ALANDMI": 2564.1315,
          "AWATER": 28449819,
          "COUNTYFP": "111",
          "COUNTYNS": "00835877",
          "GEOID": "31111",
          "LSAD": "06",
          "NAME": "Lincoln",
          "STATEFP": "31",
          "n": 29,
          "stn_sq_mi": 0.0113
         },
         "type": "Feature"
        },
        {
         "geometry": {
          "coordinates": [
           [
            [
             [
              -101.4065,
              41.7432
             ],
             [
              -100.8425,
              41.7404
             ],
             [
              -100.7117,
              41.7398
             ],
             [
              -100.7148,
              41.5448
             ],
             [
              -100.7136,
              41.5235
             ],
             [
              -100.7132,
              41.3935
             ],
             [
              -101.2697,
              41.3949
             ],
             [
              -101.4073,
              41.3954
             ],
             [
              -101.4065,
              41.7432
             ]
            ]
           ]
          ],
          "type": "MultiPolygon"
         },
         "properties": {
          "AFFGEOID": "0500000US31117",
          "ALAND": 2224733580,
          "ALANDMI": 858.9741,
          "AWATER": 2680669,
          "COUNTYFP": "117",
          "COUNTYNS": "00835881",
          "GEOID": "31117",
          "LSAD": "06",
          "NAME": "McPherson",
          "STATEFP": "31",
          "n": 27,
          "stn_sq_mi": 0.0314
         },
         "type": "Feature"
        },
        {
         "geometry": {
          "coordinates": [
           [
            [
             [
              -97.8263,
              41.0466
             ],
             [
              -97.3681,
              41.0469
             ],
             [
              -97.3684,
              40.6986
             ],
             [
              -97.8248,
              40.6985
             ],
             [
              -97.8257,
              40.6986
             ],
             [
              -97.8263,
              41.0466
             ]
            ]
           ]
          ],
          "type": "MultiPolygon"
         },
         "properties": {
          "AFFGEOID": "0500000US31185",
          "ALAND": 1482793604,
          "ALANDMI": 572.5096,
          "AWATER": 8595508,
          "COUNTYFP": "185",
          "COUNTYNS": "00835914",
          "GEOID": "31185",
          "LSAD": "06",
          "NAME": "York",
          "STATEFP": "31",
          "n": 12,
          "stn_sq_mi": 0.021
         },
         "type": "Feature"
        },
        {
         "geometry": {
          "coordinates": [
           [
            [
             [
              -102.0555,
              41.2215
             ],
             [
              -102.0553,
              41.3952
             ],
             [
              -101.9846,
              41.3947
             ],
             [
              -101.4073,
              41.3954
             ],
             [
              -101.2697,
              41.3949
             ],
             [
              -101.2704,
              41.0474
             ],
             [
              -101.2502,
              41.0474
             ],
             [
              -101.25,
              41.0039
             ],
             [
              -102.0518,
              41.0039
             ],
             [
              -102.0555,
              41.0475
             ],
             [
              -102.0555,
              41.2215
             ]
            ]
           ]
          ],
          "type": "MultiPolygon"
         },
         "properties": {
          "AFFGEOID": "0500000US31101",
          "ALAND": 2749531885,
          "ALANDMI": 1061.5998,
          "AWATER": 124672175,
          "COUNTYFP": "101",
          "COUNTYNS": "00835872",
          "GEOID": "31101",
          "LSAD": "06",
          "NAME": "Keith",
          "STATEFP": "31",
          "n": 31,
          "stn_sq_mi": 0.0292
         },
         "type": "Feature"
        },
        {
         "geometry": {
          "coordinates": [
           [
            [
             [
              -98.2826,
              40.8687
             ],
             [
              -98.2751,
              40.8796
             ],
             [
              -98.2069,
              40.9366
             ],
             [
              -98.1698,
              40.9548
             ],
             [
              -98.1463,
              40.9843
             ],
             [
              -98.1006,
              41.0087
             ],
             [
              -98.089,
              41.0097
             ],
             [
              -98.0542,
              41.0378
             ],
             [
              -98.0263,
              41.0535
             ],
             [
              -98.0007,
              41.0782
             ],
             [
              -97.9704,
              41.0908
             ],
             [
              -97.9668,
              41.0856
             ],
             [
              -97.8858,
              41.1146
             ],
             [
              -97.8741,
              41.1231
             ],
             [
              -97.8283,
              41.1734
             ],
             [
              -97.828,
              41.0501
             ],
             [
              -97.8263,
              41.0466
             ],
             [
              -97.8257,
              40.6986
             ],
             [
              -98.2781,
              40.6983
             ],
             [
              -98.2829,
              40.6983
             ],
             [
              -98.2826,
              40.8687
             ]
            ]
           ]
          ],
          "type": "MultiPolygon"
         },
         "properties": {
          "AFFGEOID": "0500000US31081",
          "ALAND": 1403509085,
          "ALANDMI": 541.8977,
          "AWATER": 7360264,
          "COUNTYFP": "081",
          "COUNTYNS": "00835862",
          "GEOID": "31081",
          "LSAD": "06",
          "NAME": "Hamilton",
          "STATEFP": "31",
          "n": 33,
          "stn_sq_mi": 0.0609
         },
         "type": "Feature"
        },
        {
         "geometry": {
          "coordinates": [
           [
            [
             [
              -101.9855,
              41.7423
             ],
             [
              -101.4259,
              41.7431
             ],
             [
              -101.4065,
              41.7432
             ],
             [
              -101.4073,
              41.3954
             ],
             [
              -101.9846,
              41.3947
             ],
             [
              -101.9855,
              41.7423
             ]
            ]
           ]
          ],
          "type": "MultiPolygon"
         },
         "properties": {
          "AFFGEOID": "0500000US31005",
          "ALAND": 1852759729,
          "ALANDMI": 715.3542,
          "AWATER": 7644718,
          "COUNTYFP": "005",
          "COUNTYNS": "00835825",
          "GEOID": "31005",
          "LSAD": "06",
          "NAME": "Arthur",
          "STATEFP": "31",
          "n": 50,
          "stn_sq_mi": 0.0699
         },
         "type": "Feature"
        },
        {
         "geometry": {
          "coordinates": [
           [
            [
             [
              -100.8461,
              42.0882
             ],
             [
              -100.2676,
              42.0861
             ],
             [
              -100.2655,
              41.7399
             ],
             [
              -100.7117,
              41.7398
             ],
             [
              -100.8425,
              41.7404
             ],
             [
              -100.8461,
              42.0882
             ]
            ]
           ]
          ],
          "type": "MultiPolygon"
         },
         "properties": {
          "AFFGEOID": "0500000US31171",
          "ALAND": 1846403705,
          "ALANDMI": 712.9002,
          "AWATER": 2028433,
          "COUNTYFP": "171",
          "COUNTYNS": "00835907",
          "GEOID": "31171",
          "LSAD": "06",
          "NAME": "Thomas",
          "STATEFP": "31",
          "n": 14,
          "stn_sq_mi": 0.0196
         },
         "type": "Feature"
        },
        {
         "geometry": {
          "coordinates": [
           [
            [
             [
              -102.0518,
              40.3964
             ],
             [
              -102.0515,
              40.44
             ],
             [
              -102.0515,
              40.5201
             ],
             [
              -102.0517,
              40.5378
             ],
             [
              -102.0514,
              40.6975
             ],
             [
              -101.3454,
              40.6981
             ],
             [
              -101.3428,
              40.3504
             ],
             [
              -102.0516,
              40.3492
             ],
             [
              -102.0518,
              40.3601
             ],
             [
              -102.0516,
              40.3931
             ],
             [
              -102.0518,
              40.3964
             ]
            ]
           ]
          ],
          "type": "MultiPolygon"
         },
         "properties": {
          "AFFGEOID": "0500000US31029",
          "ALAND": 2316533447,
          "ALANDMI": 894.4182,
          "AWATER": 7978172,
          "COUNTYFP": "029",
          "COUNTYNS": "00835836",
          "GEOID": "31029",
          "LSAD": "06",
          "NAME": "Chase",
          "STATEFP": "31",
          "n": 42,
          "stn_sq_mi": 0.047
         },
         "type": "Feature"
        },
        {
         "geometry": {
          "coordinates": [
           [
            [
             [
              -98.2956,
              41.915
             ],
             [
              -97.8333,
              41.9163
             ],
             [
              -97.8325,
              41.7472
             ],
             [
              -97.8305,
              41.7422
             ],
             [
              -97.8298,
              41.5262
             ],
             [
              -97.8855,
              41.5259
             ],
             [
              -97.8853,
              41.5114
             ],
             [
              -98.0413,
              41.5105
             ],
             [
              -98.0415,
              41.496
             ],
             [
              -98.0998,
              41.4954
             ],
             [
              -98.0995,
              41.4808
             ],
             [
              -98.2913,
              41.4807
             ],
             [
              -98.291,
              41.7372
             ],
             [
              -98.2958,
              41.7412
             ],
             [
              -98.2956,
              41.915
             ]
            ]
           ]
          ],
          "type": "MultiPolygon"
         },
         "properties": {
          "AFFGEOID": "0500000US31011",
          "ALAND": 1778166040,
          "ALANDMI": 686.5535,
          "AWATER": 1718583,
          "COUNTYFP": "011",
          "COUNTYNS": "00835828",
          "GEOID": "31011",
          "LSAD": "06",
          "NAME": "Boone",
          "STATEFP": "31",
          "n": 47,
          "stn_sq_mi": 0.0685
         },
         "type": "Feature"
        },
        {
         "geometry": {
          "coordinates": [
           [
            [
             [
              -98.2781,
              40.6983
             ],
             [
              -97.8257,
              40.6986
             ],
             [
              -97.8248,
              40.6985
             ],
             [
              -97.8241,
              40.3505
             ],
             [
              -98.2736,
              40.3504
             ],
             [
              -98.2781,
              40.3503
             ],
             [
              -98.2781,
              40.6983
             ]
            ]
           ]
          ],
          "type": "MultiPolygon"
         },
         "properties": {
          "AFFGEOID": "0500000US31035",
          "ALAND": 1482222908,
          "ALANDMI": 572.2892,
          "AWATER": 3234877,
          "COUNTYFP": "035",
          "COUNTYNS": "00835839",
          "GEOID": "31035",
          "LSAD": "06",
          "NAME": "Clay",
          "STATEFP": "31",
          "n": 40,
          "stn_sq_mi": 0.0699
         },
         "type": "Feature"
        },
        {
         "geometry": {
          "coordinates": [
           [
            [
             [
              -97.3681,
              41.0469
             ],
             [
              -96.9109,
              41.0461
             ],
             [
              -96.9107,
              40.8139
             ],
             [
              -96.9111,
              40.698
             ],
             [
              -96.9135,
              40.6979
             ],
             [
              -97.3684,
              40.6986
             ],
             [
              -97.3681,
              41.0469
             ]
            ]
           ]
          ],
          "type": "MultiPolygon"
         },
         "properties": {
          "AFFGEOID": "0500000US31159",
          "ALAND": 1479995670,
          "ALANDMI": 571.4293,
          "AWATER": 11542537,
          "COUNTYFP": "159",
          "COUNTYNS": "00835901",
          "GEOID": "31159",
          "LSAD": "06",
          "NAME": "Seward",
          "STATEFP": "31",
          "n": 16,
          "stn_sq_mi": 0.028
         },
         "type": "Feature"
        },
        {
         "geometry": {
          "coordinates": [
           [
            [
             [
              -98.7443,
              41.3942
             ],
             [
              -98.2914,
              41.3939
             ],
             [
              -98.2866,
              41.3939
             ],
             [
              -98.2872,
              41.0464
             ],
             [
              -98.4928,
              41.0465
             ],
             [
              -98.722,
              41.0467
             ],
             [
              -98.7485,
              41.0466
             ],
             [
              -98.7443,
              41.3942
             ]
            ]
           ]
          ],
          "type": "MultiPolygon"
         },
         "properties": {
          "AFFGEOID": "0500000US31093",
          "ALAND": 1474578450,
          "ALANDMI": 569.3377,
          "AWATER": 16199402,
          "COUNTYFP": "093",
          "COUNTYNS": "00835868",
          "GEOID": "31093",
          "LSAD": "06",
          "NAME": "Howard",
          "STATEFP": "31",
          "n": 31,
          "stn_sq_mi": 0.0544
         },
         "type": "Feature"
        },
        {
         "geometry": {
          "coordinates": [
           [
            [
             [
              -97.8283,
              41.1734
             ],
             [
              -97.8005,
              41.1933
             ],
             [
              -97.766,
              41.2349
             ],
             [
              -97.7118,
              41.2672
             ],
             [
              -97.6586,
              41.3049
             ],
             [
              -97.631,
              41.3067
             ],
             [
              -97.5982,
              41.3172
             ],
             [
              -97.5983,
              41.3331
             ],
             [
              -97.5706,
              41.3373
             ],
             [
              -97.5224,
              41.3619
             ],
             [
              -97.4501,
              41.3688
             ],
             [
              -97.3682,
              41.3964
             ],
             [
              -97.3681,
              41.0469
             ],
             [
              -97.8263,
              41.0466
             ],
             [
              -97.828,
              41.0501
             ],
             [
              -97.8283,
              41.1734
             ]
            ]
           ]
          ],
          "type": "MultiPolygon"
         },
         "properties": {
          "AFFGEOID": "0500000US31143",
          "ALAND": 1135309851,
          "ALANDMI": 438.3454,
          "AWATER": 5947393,
          "COUNTYFP": "143",
          "COUNTYNS": "00835893",
          "GEOID": "31143",
          "LSAD": "06",
          "NAME": "Polk",
          "STATEFP": "31",
          "n": 19,
          "stn_sq_mi": 0.0433
         },
         "type": "Feature"
        },
        {
         "geometry": {
          "coordinates": [
           [
            [
             [
              -97.3684,
              42.0909
             ],
             [
              -97.2524,
              42.0908
             ],
             [
              -97.0194,
              42.0906
             ],
             [
              -97.0199,
              41.743
             ],
             [
              -97.0585,
              41.743
             ],
             [
              -97.2524,
              41.7431
             ],
             [
              -97.3681,
              41.7432
             ],
             [
              -97.3682,
              42.004
             ],
             [
              -97.3684,
              42.0909
             ]
            ]
           ]
          ],
          "type": "MultiPolygon"
         },
         "properties": {
          "AFFGEOID": "0500000US31167",
          "ALAND": 1107500701,
          "ALANDMI": 427.6082,
          "AWATER": 8789497,
          "COUNTYFP": "167",
          "COUNTYNS": "00835905",
          "GEOID": "31167",
          "LSAD": "06",
          "NAME": "Stanton",
          "STATEFP": "31",
          "n": 14,
          "stn_sq_mi": 0.0327
         },
         "type": "Feature"
        },
        {
         "geometry": {
          "coordinates": [
           [
            [
             [
              -102.6776,
              42.0053
             ],
             [
              -102.0666,
              42.0092
             ],
             [
              -102.0679,
              41.7421
             ],
             [
              -101.9855,
              41.7423
             ],
             [
              -101.9846,
              41.3947
             ],
             [
              -102.0553,
              41.3952
             ],
             [
              -102.0555,
              41.2215
             ],
             [
              -102.6104,
              41.2216
             ],
             [
              -102.6094,
              41.3951
             ],
             [
              -102.6367,
              41.3953
             ],
             [
              -102.6367,
              41.4391
             ],
             [
              -102.6365,
              41.7431
             ],
             [
              -102.6649,
              41.7435
             ],
             [
              -102.6742,
              41.772
             ],
             [
              -102.6784,
              41.8014
             ],
             [
              -102.6776,
              42.0053
             ]
            ]
           ]
          ],
          "type": "MultiPolygon"
         },
         "properties": {
          "AFFGEOID": "0500000US31069",
          "ALAND": 4417083921,
          "ALANDMI": 1705.4449,
          "AWATER": 65860691,
          "COUNTYFP": "069",
          "COUNTYNS": "00835856",
          "GEOID": "31069",
          "LSAD": "06",
          "NAME": "Garden",
          "STATEFP": "31",
          "n": 35,
          "stn_sq_mi": 0.0205
         },
         "type": "Feature"
        },
        {
         "geometry": {
          "coordinates": [
           [
            [
             [
              -98.7268,
              40.3504
             ],
             [
              -98.7239,
              40.3504
             ],
             [
              -98.2781,
              40.3503
             ],
             [
              -98.2736,
              40.3504
             ],
             [
              -98.274,
              40.0025
             ],
             [
              -98.4905,
              40.0023
             ],
             [
              -98.5045,
              40.0023
             ],
             [
              -98.5231,
              40.0023
             ],
             [
              -98.5432,
              40.0023
             ],
             [
              -98.5606,
              40.0023
             ],
             [
              -98.5752,
              40.0025
             ],
             [
              -98.5933,
              40.0025
             ],
             [
              -98.6138,
              40.0024
             ],
             [
              -98.6407,
              40.0025
             ],
             [
              -98.6525,
              40.0022
             ],
             [
              -98.6538,
              40.0023
             ],
             [
              -98.6697,
              40.0024
             ],
             [
              -98.6728,
              40.0024
             ],
             [
              -98.6903,
              40.0025
             ],
             [
              -98.6914,
              40.0025
             ],
             [
              -98.6931,
              40.0024
             ],
             [
              -98.7104,
              40.0022
             ],
             [
              -98.7263,
              40.0022
             ],
             [
              -98.7264,
              40.0022
             ],
             [
              -98.7268,
              40.3504
             ]
            ]
           ]
          ],
          "type": "MultiPolygon"
         },
         "properties": {
          "AFFGEOID": "0500000US31181",
          "ALAND": 1489017963,
          "ALANDMI": 574.9128,
          "AWATER": 337241,
          "COUNTYFP": "181",
          "COUNTYNS": "00835912",
          "GEOID": "31181",
          "LSAD": "06",
          "NAME": "Webster",
          "STATEFP": "31",
          "n": 12,
          "stn_sq_mi": 0.0209
         },
         "type": "Feature"
        },
        {
         "geometry": {
          "coordinates": [
           [
            [
             [
              -97.8344,
              42.4377
             ],
             [
              -97.4853,
              42.4386
             ],
             [
              -97.3676,
              42.4388
             ],
             [
              -97.3677,
              42.3519
             ],
             [
              -97.3684,
              42.0909
             ],
             [
              -97.8345,
              42.0897
             ],
             [
              -97.8344,
              42.4377
             ]
            ]
           ]
          ],
          "type": "MultiPolygon"
         },
         "properties": {
          "AFFGEOID": "0500000US31139",
          "ALAND": 1484707278,
          "ALANDMI": 573.2484,
          "AWATER": 3481943,
          "COUNTYFP": "139",
          "COUNTYNS": "00835891",
          "GEOID": "31139",
          "LSAD": "06",
          "NAME": "Pierce",
          "STATEFP": "31",
          "n": 20,
          "stn_sq_mi": 0.0349
         },
         "type": "Feature"
        },
        {
         "geometry": {
          "coordinates": [
           [
            [
             [
              -101.3255,
              40.0027
             ],
             [
              -101.324,
              40.0027
             ],
             [
              -101.325,
              40.3295
             ],
             [
              -101.3234,
              40.3506
             ],
             [
              -100.7774,
              40.3495
             ],
             [
              -100.7584,
              40.3495
             ],
             [
              -100.761,
              40.1749
             ],
             [
              -100.7585,
              40.1563
             ],
             [
              -100.7588,
              40.0023
             ],
             [
              -100.9374,
              40.0021
             ],
             [
              -101.0277,
              40.0023
             ],
             [
              -101.0603,
              40.0023
             ],
             [
              -101.1309,
              40.0024
             ],
             [
              -101.1687,
              40.0025
             ],
             [
              -101.1788,
              40.0025
             ],
             [
              -101.1922,
              40.0025
             ],
             [
              -101.215,
              40.0026
             ],
             [
              -101.2487,
              40.0025
             ],
             [
              -101.2866,
              40.0026
             ],
             [
              -101.294,
              40.0026
             ],
             [
              -101.324,
              40.0027
             ],
             [
              -101.3255,
              40.0027
             ]
            ]
           ]
          ],
          "type": "MultiPolygon"
         },
         "properties": {
          "AFFGEOID": "0500000US31087",
          "ALAND": 1838742723,
          "ALANDMI": 709.9422,
          "AWATER": 22103381,
          "COUNTYFP": "087",
          "COUNTYNS": "00835865",
          "GEOID": "31087",
          "LSAD": "06",
          "NAME": "Hitchcock",
          "STATEFP": "31",
          "n": 33,
          "stn_sq_mi": 0.0465
         },
         "type": "Feature"
        },
        {
         "geometry": {
          "coordinates": [
           [
            [
             [
              -101.3454,
              40.6981
             ],
             [
              -101.248,
              40.6978
             ],
             [
              -100.7778,
              40.7001
             ],
             [
              -100.7812,
              40.6556
             ],
             [
              -100.7796,
              40.375
             ],
             [
              -100.7774,
              40.3495
             ],
             [
              -101.3234,
              40.3506
             ],
             [
              -101.3428,
              40.3504
             ],
             [
              -101.3454,
              40.6981
             ]
            ]
           ]
          ],
          "type": "MultiPolygon"
         },
         "properties": {
          "AFFGEOID": "0500000US31085",
          "ALAND": 1846821514,
          "ALANDMI": 713.0615,
          "AWATER": 570786,
          "COUNTYFP": "085",
          "COUNTYNS": "00835864",
          "GEOID": "31085",
          "LSAD": "06",
          "NAME": "Hayes",
          "STATEFP": "31",
          "n": 34,
          "stn_sq_mi": 0.0477
         },
         "type": "Feature"
        },
        {
         "geometry": {
          "coordinates": [
           [
            [
             [
              -103.3704,
              41.7435
             ],
             [
              -103.3626,
              41.7435
             ],
             [
              -103.3633,
              42.0029
             ],
             [
              -102.9523,
              42.0018
             ],
             [
              -102.8623,
              42.0007
             ],
             [
              -102.6978,
              42.0048
             ],
             [
              -102.6776,
              42.0053
             ],
             [
              -102.6784,
              41.8014
             ],
             [
              -102.6742,
              41.772
             ],
             [
              -102.6649,
              41.7435
             ],
             [
              -102.6365,
              41.7431
             ],
             [
              -102.6367,
              41.4391
             ],
             [
              -103.369,
              41.4377
             ],
             [
              -103.3704,
              41.6992
             ],
             [
              -103.3704,
              41.7435
             ]
            ]
           ]
          ],
          "type": "MultiPolygon"
         },
         "properties": {
          "AFFGEOID": "0500000US31123",
          "ALAND": 3687721339,
          "ALANDMI": 1423.8366,
          "AWATER": 15601312,
          "COUNTYFP": "123",
          "COUNTYNS": "00835883",
          "GEOID": "31123",
          "LSAD": "06",
          "NAME": "Morrill",
          "STATEFP": "31",
          "n": 26,
          "stn_sq_mi": 0.0183
         },
         "type": "Feature"
        },
        {
         "geometry": {
          "coordinates": [
           [
            [
             [
              -97.8305,
              41.7422
             ],
             [
              -97.3681,
              41.7432
             ],
             [
              -97.2524,
              41.7431
             ],
             [
              -97.2526,
              41.6127
             ],
             [
              -97.2526,
              41.3952
             ],
             [
              -97.2535,
              41.3842
             ],
             [
              -97.2878,
              41.4006
             ],
             [
              -97.3369,
              41.3917
             ],
             [
              -97.3682,
              41.3964
             ],
             [
              -97.4501,
              41.3688
             ],
             [
              -97.5224,
              41.3619
             ],
             [
              -97.5706,
              41.3373
             ],
             [
              -97.5983,
              41.3331
             ],
             [
              -97.5985,
              41.3951
             ],
             [
              -97.7038,
              41.3949
             ],
             [
              -97.7036,
              41.5268
             ],
             [
              -97.8298,
              41.5262
             ],
             [
              -97.8305,
              41.7422
             ]
            ]
           ]
          ],
          "type": "MultiPolygon"
         },
         "properties": {
          "AFFGEOID": "0500000US31141",
          "ALAND": 1745910544,
          "ALANDMI": 674.0996,
          "AWATER": 27167484,
          "COUNTYFP": "141",
          "COUNTYNS": "00835892",
          "GEOID": "31141",
          "LSAD": "06",
          "NAME": "Platte",
          "STATEFP": "31",
          "n": 20,
          "stn_sq_mi": 0.0297
         },
         "type": "Feature"
        },
        {
         "geometry": {
          "coordinates": [
           [
            [
             [
              -97.8208,
              40.3505
             ],
             [
              -97.3687,
              40.3504
             ],
             [
              -97.3692,
              40.0021
             ],
             [
              -97.3692,
              40.0021
             ],
             [
              -97.4158,
              40.002
             ],
             [
              -97.4178,
              40.002
             ],
             [
              -97.4254,
              40.002
             ],
             [
              -97.4447,
              40.002
             ],
             [
              -97.4633,
              40.002
             ],
             [
              -97.5103,
              40.0018
             ],
             [
              -97.5114,
              40.0019
             ],
             [
              -97.5153,
              40.0019
             ],
             [
              -97.7677,
              40.002
             ],
             [
              -97.7692,
              40.002
             ],
             [
              -97.7708,
              40.002
             ],
             [
              -97.7772,
              40.0022
             ],
             [
              -97.8194,
              40.002
             ],
             [
              -97.8215,
              40.002
             ],
             [
              -97.8208,
              40.3505
             ]
            ]
           ]
          ],
          "type": "MultiPolygon"
         },
         "properties": {
          "AFFGEOID": "0500000US31169",
          "ALAND": 1486153243,
          "ALANDMI": 573.8067,
          "AWATER": 3025339,
          "COUNTYFP": "169",
          "COUNTYNS": "00835906",
          "GEOID": "31169",
          "LSAD": "06",
          "NAME": "Thayer",
          "STATEFP": "31",
          "n": 14,
          "stn_sq_mi": 0.0244
         },
         "type": "Feature"
        },
        {
         "geometry": {
          "coordinates": [
           [
            [
             [
              -103.4445,
              42.4374
             ],
             [
              -102.7734,
              42.4399
             ],
             [
              -102.7494,
              42.4399
             ],
             [
              -102.7498,
              42.4181
             ],
             [
              -102.7478,
              42.3521
             ],
             [
              -102.7465,
              42.25
             ],
             [
              -102.7416,
              42.1777
             ],
             [
              -102.7423,
              42.0924
             ],
             [
              -102.7024,
              42.0927
             ],
             [
              -102.7021,
              42.0513
             ],
             [
              -102.6978,
              42.0048
             ],
             [
              -102.8623,
              42.0007
             ],
             [
              -102.9523,
              42.0018
             ],
             [
              -103.3633,
              42.0029
             ],
             [
              -103.4016,
              42.0035
             ],
             [
              -103.4017,
              42.0906
             ],
             [
              -103.4441,
              42.0907
             ],
             [
              -103.4445,
              42.4374
             ]
            ]
           ]
          ],
          "type": "MultiPolygon"
         },
         "properties": {
          "AFFGEOID": "0500000US31013",
          "ALAND": 2784994716,
          "ALANDMI": 1075.292,
          "AWATER": 6588657,
          "COUNTYFP": "013",
          "COUNTYNS": "00835991",
          "GEOID": "31013",
          "LSAD": "06",
          "NAME": "Box Butte",
          "STATEFP": "31",
          "n": 48,
          "stn_sq_mi": 0.0446
         },
         "type": "Feature"
        },
        {
         "geometry": {
          "coordinates": [
           [
            [
             [
              -101.4266,
              42.0922
             ],
             [
              -100.8461,
              42.0882
             ],
             [
              -100.8425,
              41.7404
             ],
             [
              -101.4065,
              41.7432
             ],
             [
              -101.4259,
              41.7431
             ],
             [
              -101.4266,
              42.0922
             ]
            ]
           ]
          ],
          "type": "MultiPolygon"
         },
         "properties": {
          "AFFGEOID": "0500000US31091",
          "ALAND": 1867796137,
          "ALANDMI": 721.1598,
          "AWATER": 882994,
          "COUNTYFP": "091",
          "COUNTYNS": "00835867",
          "GEOID": "31091",
          "LSAD": "06",
          "NAME": "Hooker",
          "STATEFP": "31",
          "n": 32,
          "stn_sq_mi": 0.0444
         },
         "type": "Feature"
        },
        {
         "geometry": {
          "coordinates": [
           [
            [
             [
              -102.0666,
              42.0092
             ],
             [
              -102.0086,
              42.0089
             ],
             [
              -102.0062,
              42.0963
             ],
             [
              -101.4266,
              42.0922
             ],
             [
              -101.4259,
              41.7431
             ],
             [
              -101.9855,
              41.7423
             ],
             [
              -102.0679,
              41.7421
             ],
             [
              -102.0666,
              42.0092
             ]
            ]
           ]
          ],
          "type": "MultiPolygon"
         },
         "properties": {
          "AFFGEOID": "0500000US31075",
          "ALAND": 2012081438,
          "ALANDMI": 776.8687,
          "AWATER": 16460163,
          "COUNTYFP": "075",
          "COUNTYNS": "00835859",
          "GEOID": "31075",
          "LSAD": "06",
          "NAME": "Grant",
          "STATEFP": "31",
          "n": 34,
          "stn_sq_mi": 0.0438
         },
         "type": "Feature"
        },
        {
         "geometry": {
          "coordinates": [
           [
            [
             [
              -99.1794,
              40.3507
             ],
             [
              -98.7268,
              40.3504
             ],
             [
              -98.7264,
              40.0022
             ],
             [
              -98.7749,
              40.0023
             ],
             [
              -98.7772,
              40.0024
             ],
             [
              -98.8206,
              40.0023
             ],
             [
              -98.8345,
              40.0024
             ],
             [
              -98.9348,
              40.0022
             ],
             [
              -98.9609,
              40.0023
             ],
             [
              -98.961,
              40.0023
             ],
             [
              -98.9717,
              40.0023
             ],
             [
              -98.9723,
              40.0022
             ],
             [
              -98.9921,
              40.0022
             ],
             [
              -99.0187,
              40.0023
             ],
             [
              -99.0203,
              40.0023
             ],
             [
              -99.067,
              40.0022
             ],
             [
              -99.0856,
              40.0021
             ],
             [
              -99.1135,
              40.0022
             ],
             [
              -99.123,
              40.0022
             ],
             [
              -99.1698,
              40.0019
             ],
             [
              -99.179,
              40.002
             ],
             [
              -99.1791,
              40.002
             ],
             [
              -99.1794,
              40.3507
             ]
            ]
           ]
          ],
          "type": "MultiPolygon"
         },
         "properties": {
          "AFFGEOID": "0500000US31061",
          "ALAND": 1491355860,
          "ALANDMI": 575.8155,
          "AWATER": 487899,
          "COUNTYFP": "061",
          "COUNTYNS": "00835852",
          "GEOID": "31061",
          "LSAD": "06",
          "NAME": "Franklin",
          "STATEFP": "31",
          "n": 36,
          "stn_sq_mi": 0.0625
         },
         "type": "Feature"
        },
        {
         "geometry": {
          "coordinates": [
           [
            [
             [
              -99.1792,
              40.6605
             ],
             [
              -99.1705,
              40.6585
             ],
             [
              -99.1539,
              40.659
             ],
             [
              -99.1146,
              40.6548
             ],
             [
              -99.081,
              40.657
             ],
             [
              -99.0345,
              40.6527
             ],
             [
              -98.9972,
              40.6521
             ],
             [
              -98.9754,
              40.6568
             ],
             [
              -98.9061,
              40.6527
             ],
             [
              -98.8684,
              40.6592
             ],
             [
              -98.8266,
              40.6748
             ],
             [
              -98.7244,
              40.6898
             ],
             [
              -98.7239,
              40.3504
             ],
             [
              -98.7268,
              40.3504
             ],
             [
              -99.1794,
              40.3507
             ],
             [
              -99.1792,
              40.6605
             ]
            ]
           ]
          ],
          "type": "MultiPolygon"
         },
         "properties": {
          "AFFGEOID": "0500000US31099",
          "ALAND": 1337063541,
          "ALANDMI": 516.2429,
          "AWATER": 274634,
          "COUNTYFP": "099",
          "COUNTYNS": "00835871",
          "GEOID": "31099",
          "LSAD": "06",
          "NAME": "Kearney",
          "STATEFP": "31",
          "n": 31,
          "stn_sq_mi": 0.06
         },
         "type": "Feature"
        },
        {
         "geometry": {
          "coordinates": [
           [
            [
             [
              -99.2033,
              41.3941
             ],
             [
              -98.7516,
              41.3941
             ],
             [
              -98.7443,
              41.3942
             ],
             [
              -98.7485,
              41.0466
             ],
             [
              -99.2076,
              41.047
             ],
             [
              -99.2033,
              41.3941
             ]
            ]
           ]
          ],
          "type": "MultiPolygon"
         },
         "properties": {
          "AFFGEOID": "0500000US31163",
          "ALAND": 1465489231,
          "ALANDMI": 565.8283,
          "AWATER": 15062146,
          "COUNTYFP": "163",
          "COUNTYNS": "00835903",
          "GEOID": "31163",
          "LSAD": "06",
          "NAME": "Sherman",
          "STATEFP": "31",
          "n": 16,
          "stn_sq_mi": 0.0283
         },
         "type": "Feature"
        },
        {
         "geometry": {
          "coordinates": [
           [
            [
             [
              -99.212,
              41.7406
             ],
             [
              -98.7591,
              41.7404
             ],
             [
              -98.7522,
              41.7404
             ],
             [
              -98.7516,
              41.3941
             ],
             [
              -99.2033,
              41.3941
             ],
             [
              -99.2125,
              41.3942
             ],
             [
              -99.212,
              41.7406
             ]
            ]
           ]
          ],
          "type": "MultiPolygon"
         },
         "properties": {
          "AFFGEOID": "0500000US31175",
          "ALAND": 1471402793,
          "ALANDMI": 568.1116,
          "AWATER": 6076916,
          "COUNTYFP": "175",
          "COUNTYNS": "00835909",
          "GEOID": "31175",
          "LSAD": "06",
          "NAME": "Valley",
          "STATEFP": "31",
          "n": 13,
          "stn_sq_mi": 0.0229
         },
         "type": "Feature"
        },
        {
         "geometry": {
          "coordinates": [
           [
            [
             [
              -96.9164,
              40.0015
             ],
             [
              -96.9161,
              40.3497
             ],
             [
              -96.9134,
              40.3525
             ],
             [
              -96.9126,
              40.5236
             ],
             [
              -96.7072,
              40.5231
             ],
             [
              -96.4636,
              40.523
             ],
             [
              -96.4637,
              40.2622
             ],
             [
              -96.4637,
              40.001
             ],
             [
              -96.4675,
              40.001
             ],
             [
              -96.4699,
              40.001
             ],
             [
              -96.5271,
              40.001
             ],
             [
              -96.539,
              40.0009
             ],
             [
              -96.5579,
              40.001
             ],
             [
              -96.5709,
              40.0011
             ],
             [
              -96.5809,
              40.001
             ],
             [
              -96.5818,
              40.001
             ],
             [
              -96.6049,
              40.0009
             ],
             [
              -96.6103,
              40.0009
             ],
             [
              -96.6224,
              40.0012
             ],
             [
              -96.8058,
              40.0014
             ],
             [
              -96.8738,
              40.0014
             ],
             [
              -96.8751,
              40.0014
             ],
             [
              -96.8783,
              40.0015
             ],
             [
              -96.8805,
              40.0014
             ],
             [
              -96.9161,
              40.0015
             ],
             [
              -96.9164,
              40.0015
             ]
            ]
           ]
          ],
          "type": "MultiPolygon"
         },
         "properties": {
          "AFFGEOID": "0500000US31067",
          "ALAND": 2205275200,
          "ALANDMI": 851.4612,
          "AWATER": 22010741,
          "COUNTYFP": "067",
          "COUNTYNS": "00835855",
          "GEOID": "31067",
          "LSAD": "06",
          "NAME": "Gage",
          "STATEFP": "31",
          "n": 35,
          "stn_sq_mi": 0.0411
         },
         "type": "Feature"
        },
        {
         "geometry": {
          "coordinates": [
           [
            [
             [
              -97.8248,
              40.6985
             ],
             [
              -97.3684,
              40.6986
             ],
             [
              -97.3687,
              40.3504
             ],
             [
              -97.8208,
              40.3505
             ],
             [
              -97.8241,
              40.3505
             ],
             [
              -97.8248,
              40.6985
             ]
            ]
           ]
          ],
          "type": "MultiPolygon"
         },
         "properties": {
          "AFFGEOID": "0500000US31059",
          "ALAND": 1490202784,
          "ALANDMI": 575.3703,
          "AWATER": 2989990,
          "COUNTYFP": "059",
          "COUNTYNS": "00835851",
          "GEOID": "31059",
          "LSAD": "06",
          "NAME": "Fillmore",
          "STATEFP": "31",
          "n": 36,
          "stn_sq_mi": 0.0626
         },
         "type": "Feature"
        },
        {
         "geometry": {
          "coordinates": [
           [
            [
             [
              -97.3682,
              41.3964
             ],
             [
              -97.3369,
              41.3917
             ],
             [
              -97.2878,
              41.4006
             ],
             [
              -97.2535,
              41.3842
             ],
             [
              -97.1993,
              41.3858
             ],
             [
              -97.1785,
              41.3768
             ],
             [
              -97.0912,
              41.3929
             ],
             [
              -97.0568,
              41.4125
             ],
             [
              -97.0157,
              41.4139
             ],
             [
              -96.9987,
              41.4199
             ],
             [
              -96.9647,
              41.4418
             ],
             [
              -96.921,
              41.4561
             ],
             [
              -96.9059,
              41.4564
             ],
             [
              -96.9059,
              41.4534
             ],
             [
              -96.9058,
              41.3973
             ],
             [
              -96.9082,
              41.3941
             ],
             [
              -96.9085,
              41.0461
             ],
             [
              -96.9109,
              41.0461
             ],
             [
              -97.3681,
              41.0469
             ],
             [
              -97.3682,
              41.3964
             ]
            ]
           ]
          ],
          "type": "MultiPolygon"
         },
         "properties": {
          "AFFGEOID": "0500000US31023",
          "ALAND": 1514886625,
          "ALANDMI": 584.9008,
          "AWATER": 15307372,
          "COUNTYFP": "023",
          "COUNTYNS": "00835833",
          "GEOID": "31023",
          "LSAD": "06",
          "NAME": "Butler",
          "STATEFP": "31",
          "n": 45,
          "stn_sq_mi": 0.0769
         },
         "type": "Feature"
        },
        {
         "geometry": {
          "coordinates": [
           [
            [
             [
              -98.7612,
              42.0885
             ],
             [
              -98.3006,
              42.0889
             ],
             [
              -98.2954,
              42.0814
             ],
             [
              -98.2956,
              41.915
             ],
             [
              -98.2958,
              41.7412
             ],
             [
              -98.7522,
              41.7404
             ],
             [
              -98.7591,
              41.7404
             ],
             [
              -98.7612,
              42.0885
             ]
            ]
           ]
          ],
          "type": "MultiPolygon"
         },
         "properties": {
          "AFFGEOID": "0500000US31183",
          "ALAND": 1489717865,
          "ALANDMI": 575.183,
          "AWATER": 1059454,
          "COUNTYFP": "183",
          "COUNTYNS": "00835913",
          "GEOID": "31183",
          "LSAD": "06",
          "NAME": "Wheeler",
          "STATEFP": "31",
          "n": 12,
          "stn_sq_mi": 0.0209
         },
         "type": "Feature"
        },
        {
         "geometry": {
          "coordinates": [
           [
            [
             [
              -97.3677,
              42.3519
             ],
             [
              -97.0178,
              42.3513
             ],
             [
              -97.0177,
              42.2645
             ],
             [
              -96.8231,
              42.2643
             ],
             [
              -96.8225,
              42.2643
             ],
             [
              -96.8237,
              42.0904
             ],
             [
              -97.0194,
              42.0906
             ],
             [
              -97.2524,
              42.0908
             ],
             [
              -97.3684,
              42.0909
             ],
             [
              -97.3677,
              42.3519
             ]
            ]
           ]
          ],
          "type": "MultiPolygon"
         },
         "properties": {
          "AFFGEOID": "0500000US31179",
          "ALAND": 1147147015,
          "ALANDMI": 442.9158,
          "AWATER": 1084590,
          "COUNTYFP": "179",
          "COUNTYNS": "00835911",
          "GEOID": "31179",
          "LSAD": "06",
          "NAME": "Wayne",
          "STATEFP": "31",
          "n": 12,
          "stn_sq_mi": 0.0271
         },
         "type": "Feature"
        },
        {
         "geometry": {
          "coordinates": [
           [
            [
             [
              -97.8345,
              42.0897
             ],
             [
              -97.3684,
              42.0909
             ],
             [
              -97.3682,
              42.004
             ],
             [
              -97.3681,
              41.7432
             ],
             [
              -97.8305,
              41.7422
             ],
             [
              -97.8325,
              41.7472
             ],
             [
              -97.8333,
              41.9163
             ],
             [
              -97.8345,
              42.0897
             ]
            ]
           ]
          ],
          "type": "MultiPolygon"
         },
         "properties": {
          "AFFGEOID": "0500000US31119",
          "ALAND": 1483084605,
          "ALANDMI": 572.6219,
          "AWATER": 7325865,
          "COUNTYFP": "119",
          "COUNTYNS": "00835880",
          "GEOID": "31119",
          "LSAD": "06",
          "NAME": "Madison",
          "STATEFP": "31",
          "n": 27,
          "stn_sq_mi": 0.0472
         },
         "type": "Feature"
        },
        {
         "geometry": {
          "coordinates": [
           [
            [
             [
              -102.0518,
              41.0039
             ],
             [
              -101.25,
              41.0039
             ],
             [
              -101.248,
              40.6978
             ],
             [
              -101.3454,
              40.6981
             ],
             [
              -102.0514,
              40.6975
             ],
             [
              -102.0513,
              40.7496
             ],
             [
              -102.0516,
              41.0024
             ],
             [
              -102.0517,
              41.0024
             ],
             [
              -102.0518,
              41.0039
             ]
            ]
           ]
          ],
          "type": "MultiPolygon"
         },
         "properties": {
          "AFFGEOID": "0500000US31135",
          "ALAND": 2287828025,
          "ALANDMI": 883.335,
          "AWATER": 2840176,
          "COUNTYFP": "135",
          "COUNTYNS": "00835889",
          "GEOID": "31135",
          "LSAD": "06",
          "NAME": "Perkins",
          "STATEFP": "31",
          "n": 21,
          "stn_sq_mi": 0.0238
         },
         "type": "Feature"
        },
        {
         "geometry": {
          "coordinates": [
           [
            [
             [
              -100.7148,
              41.5448
             ],
             [
              -100.7117,
              41.7398
             ],
             [
              -100.2655,
              41.7399
             ],
             [
              -100.2512,
              41.7398
             ],
             [
              -100.2511,
              41.3933
             ],
             [
              -100.7132,
              41.3935
             ],
             [
              -100.7136,
              41.5235
             ],
             [
              -100.7148,
              41.5448
             ]
            ]
           ]
          ],
          "type": "MultiPolygon"
         },
         "properties": {
          "AFFGEOID": "0500000US31113",
          "ALAND": 1478003937,
          "ALANDMI": 570.6603,
          "AWATER": 1203586,
          "COUNTYFP": "113",
          "COUNTYNS": "00835878",
          "GEOID": "31113",
          "LSAD": "06",
          "NAME": "Logan",
          "STATEFP": "31",
          "n": 27,
          "stn_sq_mi": 0.0473
         },
         "type": "Feature"
        },
        {
         "geometry": {
          "coordinates": [
           [
            [
             [
              -100.2242,
              41.0466
             ],
             [
              -99.426,
              41.0465
             ],
             [
              -99.4258,
              40.8726
             ],
             [
              -99.4264,
              40.6998
             ],
             [
              -99.4164,
              40.6997
             ],
             [
              -99.4173,
              40.6708
             ],
             [
              -99.4444,
              40.6779
             ],
             [
              -99.5286,
              40.6751
             ],
             [
              -99.5431,
              40.6808
             ],
             [
              -99.5835,
              40.6772
             ],
             [
              -99.6435,
              40.6849
             ],
             [
              -99.6993,
              40.7
             ],
             [
              -99.9817,
              40.7
             ],
             [
              -100.2233,
              40.7003
             ],
             [
              -100.2242,
              41.0466
             ]
            ]
           ]
          ],
          "type": "MultiPolygon"
         },
         "properties": {
          "AFFGEOID": "0500000US31047",
          "ALAND": 2623887234,
          "ALANDMI": 1013.0881,
          "AWATER": 16431843,
          "COUNTYFP": "047",
          "COUNTYNS": "00835845",
          "GEOID": "31047",
          "LSAD": "06",
          "NAME": "Dawson",
          "STATEFP": "31",
          "n": 38,
          "stn_sq_mi": 0.0375
         },
         "type": "Feature"
        },
        {
         "geometry": {
          "coordinates": [
           [
            [
             [
              -96.4636,
              40.523
             ],
             [
              -96.067,
              40.5231
             ],
             [
              -96.0667,
              40.262
             ],
             [
              -96.4637,
              40.2622
             ],
             [
              -96.4636,
              40.523
             ]
            ]
           ]
          ],
          "type": "MultiPolygon"
         },
         "properties": {
          "AFFGEOID": "0500000US31097",
          "ALAND": 974023330,
          "ALANDMI": 376.0724,
          "AWATER": 1711433,
          "COUNTYFP": "097",
          "COUNTYNS": "00835870",
          "GEOID": "31097",
          "LSAD": "06",
          "NAME": "Johnson",
          "STATEFP": "31",
          "n": 31,
          "stn_sq_mi": 0.0824
         },
         "type": "Feature"
        },
        {
         "geometry": {
          "coordinates": [
           [
            [
             [
              -100.1985,
              42.8461
             ],
             [
              -100.1878,
              42.8376
             ],
             [
              -100.1454,
              42.8302
             ],
             [
              -100.134,
              42.8078
             ],
             [
              -100.1133,
              42.7997
             ],
             [
              -100.0559,
              42.7854
             ],
             [
              -100.0078,
              42.7886
             ],
             [
              -99.9689,
              42.7725
             ],
             [
              -99.9473,
              42.773
             ],
             [
              -99.898,
              42.7655
             ],
             [
              -99.8622,
              42.769
             ],
             [
              -99.855,
              42.7529
             ],
             [
              -99.8373,
              42.7541
             ],
             [
              -99.8168,
              42.743
             ],
             [
              -99.7783,
              42.7352
             ],
             [
              -99.7525,
              42.7376
             ],
             [
              -99.7112,
              42.7271
             ],
             [
              -99.6777,
              42.7309
             ],
             [
              -99.676,
              42.4344
             ],
             [
              -99.6638,
              42.4346
             ],
             [
              -99.6624,
              42.086
             ],
             [
              -99.687,
              42.0861
             ],
             [
              -100.1676,
              42.0858
             ],
             [
              -100.1675,
              42.4333
             ],
             [
              -100.1832,
              42.4334
             ],
             [
              -100.1833,
              42.781
             ],
             [
              -100.1986,
              42.781
             ],
             [
              -100.1985,
              42.8461
             ]
            ]
           ]
          ],
          "type": "MultiPolygon"
         },
         "properties": {
          "AFFGEOID": "0500000US31017",
          "ALAND": 3163296262,
          "ALANDMI": 1221.355,
          "AWATER": 9814399,
          "COUNTYFP": "017",
          "COUNTYNS": "00835830",
          "GEOID": "31017",
          "LSAD": "06",
          "NAME": "Brown",
          "STATEFP": "31",
          "n": 46,
          "stn_sq_mi": 0.0377
         },
         "type": "Feature"
        },
        {
         "geometry": {
          "coordinates": [
           [
            [
             [
              -98.7522,
              41.7404
             ],
             [
              -98.2958,
              41.7412
             ],
             [
              -98.291,
              41.7372
             ],
             [
              -98.2913,
              41.4807
             ],
             [
              -98.2914,
              41.3939
             ],
             [
              -98.7443,
              41.3942
             ],
             [
              -98.7516,
              41.3941
             ],
             [
              -98.7522,
              41.7404
             ]
            ]
           ]
          ],
          "type": "MultiPolygon"
         },
         "properties": {
          "AFFGEOID": "0500000US31077",
          "ALAND": 1475804204,
          "ALANDMI": 569.811,
          "AWATER": 2188872,
          "COUNTYFP": "077",
          "COUNTYNS": "00835860",
          "GEOID": "31077",
          "LSAD": "06",
          "NAME": "Greeley",
          "STATEFP": "31",
          "n": 34,
          "stn_sq_mi": 0.0597
         },
         "type": "Feature"
        },
        {
         "geometry": {
          "coordinates": [
           [
            [
             [
              -96.4637,
              40.2622
             ],
             [
              -96.0667,
              40.262
             ],
             [
              -96.0102,
              40.2615
             ],
             [
              -96.0107,
              40.0006
             ],
             [
              -96.0241,
              40.0007
             ],
             [
              -96.0517,
              40.0007
             ],
             [
              -96.0814,
              40.0006
             ],
             [
              -96.0898,
              40.0005
             ],
             [
              -96.1258,
              40.0005
             ],
             [
              -96.1259,
              40.0004
             ],
             [
              -96.1472,
              40.0005
             ],
             [
              -96.1542,
              40.0005
             ],
             [
              -96.1544,
              40.0005
             ],
             [
              -96.2202,
              40.0007
             ],
             [
              -96.2238,
              40.0007
             ],
             [
              -96.2392,
              40.0007
             ],
             [
              -96.2392,
              40.0007
             ],
             [
              -96.3011,
              40.0006
             ],
             [
              -96.3046,
              40.0006
             ],
             [
              -96.4636,
              40.001
             ],
             [
              -96.4637,
              40.001
             ],
             [
              -96.4637,
              40.2622
             ]
            ]
           ]
          ],
          "type": "MultiPolygon"
         },
         "properties": {
          "AFFGEOID": "0500000US31133",
          "ALAND": 1116478182,
          "ALANDMI": 431.0745,
          "AWATER": 4852361,
          "COUNTYFP": "133",
          "COUNTYNS": "00835888",
          "GEOID": "31133",
          "LSAD": "06",
          "NAME": "Pawnee",
          "STATEFP": "31",
          "n": 23,
          "stn_sq_mi": 0.0534
         },
         "type": "Feature"
        },
        {
         "geometry": {
          "coordinates": [
           [
            [
             [
              -96.4707,
              41.3932
             ],
             [
              -96.329,
              41.3931
             ],
             [
              -96.2327,
              41.3931
             ],
             [
              -96.0623,
              41.3932
             ],
             [
              -95.9393,
              41.3932
             ],
             [
              -95.9369,
              41.391
             ],
             [
              -95.9352,
              41.3844
             ],
             [
              -95.9293,
              41.3749
             ],
             [
              -95.9288,
              41.3701
             ],
             [
              -95.931,
              41.3647
             ],
             [
              -95.9355,
              41.3606
             ],
             [
              -95.941,
              41.3575
             ],
             [
              -95.9522,
              41.3535
             ],
             [
              -95.9549,
              41.3518
             ],
             [
              -95.9568,
              41.3492
             ],
             [
              -95.9567,
              41.3455
             ],
             [
              -95.9531,
              41.3399
             ],
             [
              -95.9469,
              41.3341
             ],
             [
              -95.9393,
              41.3289
             ],
             [
              -95.9257,
              41.3222
             ],
             [
              -95.9221,
              41.3211
             ],
             [
              -95.9138,
              41.3202
             ],
             [
              -95.8993,
              41.3212
             ],
             [
              -95.8887,
              41.3191
             ],
             [
              -95.8831,
              41.3167
             ],
             [
              -95.8782,
              41.3125
             ],
             [
              -95.8747,
              41.3071
             ],
             [
              -95.8715,
              41.2958
             ],
             [
              -95.8728,
              41.2901
             ],
             [
              -95.8729,
              41.2895
             ],
             [
              -95.8769,
              41.2851
             ],
             [
              -95.8824,
              41.2814
             ],
             [
              -95.8902,
              41.2783
             ],
             [
              -95.8991,
              41.2839
             ],
             [
              -95.9043,
              41.2935
             ],
             [
              -95.9043,
              41.2996
             ],
             [
              -95.9059,
              41.3009
             ],
             [
              -95.9203,
              41.3011
             ],
             [
              -95.9275,
              41.2984
             ],
             [
              -95.9296,
              41.2923
             ],
             [
              -95.9296,
              41.2904
             ],
             [
              -95.9296,
              41.2851
             ],
             [
              -95.9287,
              41.2814
             ],
             [
              -95.925,
              41.2746
             ],
             [
              -95.9245,
              41.2729
             ],
             [
              -95.9219,
              41.2646
             ],
             [
              -95.9213,
              41.2585
             ],
             [
              -95.9171,
              41.2498
             ],
             [
              -95.9114,
              41.238
             ],
             [
              -95.9109,
              41.234
             ],
             [
              -95.9109,
              41.2318
             ],
             [
              -95.9126,
              41.227
             ],
             [
              -95.9151,
              41.223
             ],
             [
              -95.9249,
              41.2112
             ],
             [
              -95.9275,
              41.2022
             ],
             [
              -95.926,
              41.1957
             ],
             [
              -95.9232,
              41.191
             ],
             [
              -95.9395,
              41.1911
             ],
             [
              -95.9479,
              41.191
             ],
             [
              -96.0059,
              41.1907
             ],
             [
              -96.0091,
              41.1907
             ],
             [
              -96.0238,
              41.1907
             ],
             [
              -96.0814,
              41.1908
             ],
             [
              -96.1583,
              41.1908
             ],
             [
              -96.1967,
              41.1907
             ],
             [
              -96.3274,
              41.19
             ],
             [
              -96.3507,
              41.2042
             ],
             [
              -96.3656,
              41.2341
             ],
             [
              -96.3508,
              41.2562
             ],
             [
              -96.3506,
              41.2652
             ],
             [
              -96.3779,
              41.2983
             ],
             [
              -96.4076,
              41.3146
             ],
             [
              -96.407,
              41.3343
             ],
             [
              -96.4214,
              41.3642
             ],
             [
              -96.4593,
              41.3801
             ],
             [
              -96.4707,
              41.3932
             ]
            ]
           ]
          ],
          "type": "MultiPolygon"
         },
         "properties": {
          "AFFGEOID": "0500000US31055",
          "ALAND": 845399826,
          "ALANDMI": 326.4106,
          "AWATER": 33504648,
          "COUNTYFP": "055",
          "COUNTYNS": "00835849",
          "GEOID": "31055",
          "LSAD": "06",
          "NAME": "Douglas",
          "STATEFP": "31",
          "n": 36,
          "stn_sq_mi": 0.1103
         },
         "type": "Feature"
        },
        {
         "geometry": {
          "coordinates": [
           [
            [
             [
              -99.257,
              42.8043
             ],
             [
              -99.2085,
              42.8228
             ],
             [
              -99.1802,
              42.8291
             ],
             [
              -99.1538,
              42.8419
             ],
             [
              -99.128,
              42.8443
             ],
             [
              -99.0963,
              42.8563
             ],
             [
              -99.0568,
              42.8626
             ],
             [
              -99.0168,
              42.8863
             ],
             [
              -98.9825,
              42.8964
             ],
             [
              -98.9546,
              42.8941
             ],
             [
              -98.8884,
              42.8435
             ],
             [
              -98.8778,
              42.8412
             ],
             [
              -98.8401,
              42.8456
             ],
             [
              -98.8183,
              42.8302
             ],
             [
              -98.7972,
              42.8244
             ],
             [
              -98.7632,
              42.8279
             ],
             [
              -98.71,
              42.8035
             ],
             [
              -98.6746,
              42.8027
             ],
             [
              -98.6568,
              42.809
             ],
             [
              -98.5838,
              42.7797
             ],
             [
              -98.5485,
              42.7816
             ],
             [
              -98.5312,
              42.7746
             ],
             [
              -98.4909,
              42.7731
             ],
             [
              -98.4629,
              42.7662
             ],
             [
              -98.416,
              42.7757
             ],
             [
              -98.3599,
              42.7676
             ],
             [
              -98.3406,
              42.7707
             ],
             [
              -98.3051,
              42.7612
             ],
             [
              -98.3055,
              42.4369
             ],
             [
              -98.3002,
              42.4369
             ],
             [
              -98.3006,
              42.0889
             ],
             [
              -98.7612,
              42.0885
             ],
             [
              -99.2227,
              42.0879
             ],
             [
              -99.2346,
              42.088
             ],
             [
              -99.2341,
              42.4345
             ],
             [
              -99.2446,
              42.4346
             ],
             [
              -99.2458,
              42.7825
             ],
             [
              -99.2568,
              42.7827
             ],
             [
              -99.257,
              42.8043
             ]
            ]
           ]
          ],
          "type": "MultiPolygon"
         },
         "properties": {
          "AFFGEOID": "0500000US31089",
          "ALAND": 6248078944,
          "ALANDMI": 2412.3958,
          "AWATER": 13204318,
          "COUNTYFP": "089",
          "COUNTYNS": "00835866",
          "GEOID": "31089",
          "LSAD": "06",
          "NAME": "Holt",
          "STATEFP": "31",
          "n": 32,
          "stn_sq_mi": 0.0133
         },
         "type": "Feature"
        },
        {
         "geometry": {
          "coordinates": [
           [
            [
             [
              -98.2866,
              41.3939
             ],
             [
              -98.2739,
              41.3939
             ],
             [
              -98.2754,
              41.2643
             ],
             [
              -98.1015,
              41.264
             ],
             [
              -98.1017,
              41.2787
             ],
             [
              -98.0531,
              41.2785
             ],
             [
              -98.0531,
              41.2931
             ],
             [
              -97.8979,
              41.2936
             ],
             [
              -97.8983,
              41.3082
             ],
             [
              -97.7055,
              41.3091
             ],
             [
              -97.7038,
              41.3949
             ],
             [
              -97.5985,
              41.3951
             ],
             [
              -97.5983,
              41.3331
             ],
             [
              -97.5982,
              41.3172
             ],
             [
              -97.631,
              41.3067
             ],
             [
              -97.6586,
              41.3049
             ],
             [
              -97.7118,
              41.2672
             ],
             [
              -97.766,
              41.2349
             ],
             [
              -97.8005,
              41.1933
             ],
             [
              -97.8283,
              41.1734
             ],
             [
              -97.8741,
              41.1231
             ],
             [
              -97.8858,
              41.1146
             ],
             [
              -97.9668,
              41.0856
             ],
             [
              -97.9704,
              41.0908
             ],
             [
              -98.0007,
              41.0782
             ],
             [
              -98.0263,
              41.0535
             ],
             [
              -98.0542,
              41.0378
             ],
             [
              -98.089,
              41.0097
             ],
             [
              -98.1006,
              41.0087
             ],
             [
              -98.1463,
              40.9843
             ],
             [
              -98.1698,
              40.9548
             ],
             [
              -98.2069,
              40.9366
             ],
             [
              -98.2751,
              40.8796
             ],
             [
              -98.2826,
              40.8687
             ],
             [
              -98.2826,
              40.8735
             ],
             [
              -98.2825,
              40.9158
             ],
             [
              -98.2825,
              40.9448
             ],
             [
              -98.2824,
              41.0424
             ],
             [
              -98.2872,
              41.0464
             ],
             [
              -98.2866,
              41.3939
             ]
            ]
           ]
          ],
          "type": "MultiPolygon"
         },
         "properties": {
          "AFFGEOID": "0500000US31121",
          "ALAND": 1258350334,
          "ALANDMI": 485.8516,
          "AWATER": 28301118,
          "COUNTYFP": "121",
          "COUNTYNS": "00835882",
          "GEOID": "31121",
          "LSAD": "06",
          "NAME": "Merrick",
          "STATEFP": "31",
          "n": 27,
          "stn_sq_mi": 0.0556
         },
         "type": "Feature"
        },
        {
         "geometry": {
          "coordinates": [
           [
            [
             [
              -99.6305,
              40.3511
             ],
             [
              -99.1794,
              40.3507
             ],
             [
              -99.1791,
              40.002
             ],
             [
              -99.187,
              40.002
             ],
             [
              -99.1889,
              40.002
             ],
             [
              -99.1976,
              40.002
             ],
             [
              -99.2164,
              40.002
             ],
             [
              -99.2504,
              40.002
             ],
             [
              -99.254,
              40.0021
             ],
             [
              -99.283,
              40.0019
             ],
             [
              -99.2867,
              40.002
             ],
             [
              -99.2907,
              40.0019
             ],
             [
              -99.4034,
              40.002
             ],
             [
              -99.4126,
              40.0019
             ],
             [
              -99.4236,
              40.0023
             ],
             [
              -99.4807,
              40.0019
             ],
             [
              -99.4935,
              40.0019
             ],
             [
              -99.4977,
              40.0019
             ],
             [
              -99.499,
              40.002
             ],
             [
              -99.5018,
              40.002
             ],
             [
              -99.6253,
              40.0019
             ],
             [
              -99.626,
              40.0019
             ],
             [
              -99.6283,
              40.0019
             ],
             [
              -99.6305,
              40.3511
             ]
            ]
           ]
          ],
          "type": "MultiPolygon"
         },
         "properties": {
          "AFFGEOID": "0500000US31083",
          "ALAND": 1433471291,
          "ALANDMI": 553.4661,
          "AWATER": 53339808,
          "COUNTYFP": "083",
          "COUNTYNS": "00835863",
          "GEOID": "31083",
          "LSAD": "06",
          "NAME": "Harlan",
          "STATEFP": "31",
          "n": 33,
          "stn_sq_mi": 0.0596
         },
         "type": "Feature"
        },
        {
         "geometry": {
          "coordinates": [
           [
            [
             [
              -99.6435,
              40.6849
             ],
             [
              -99.5835,
              40.6772
             ],
             [
              -99.5431,
              40.6808
             ],
             [
              -99.5286,
              40.6751
             ],
             [
              -99.4444,
              40.6779
             ],
             [
              -99.4173,
              40.6708
             ],
             [
              -99.4117,
              40.6676
             ],
             [
              -99.376,
              40.6643
             ],
             [
              -99.3316,
              40.6714
             ],
             [
              -99.3026,
              40.6641
             ],
             [
              -99.2447,
              40.6594
             ],
             [
              -99.1792,
              40.6605
             ],
             [
              -99.1794,
              40.3507
             ],
             [
              -99.6305,
              40.3511
             ],
             [
              -99.6422,
              40.3512
             ],
             [
              -99.6435,
              40.6849
             ]
            ]
           ]
          ],
          "type": "MultiPolygon"
         },
         "properties": {
          "AFFGEOID": "0500000US31137",
          "ALAND": 1398048574,
          "ALANDMI": 539.7894,
          "AWATER": 1646533,
          "COUNTYFP": "137",
          "COUNTYNS": "00835890",
          "GEOID": "31137",
          "LSAD": "06",
          "NAME": "Phelps",
          "STATEFP": "31",
          "n": 21,
          "stn_sq_mi": 0.0389
         },
         "type": "Feature"
        },
        {
         "geometry": {
          "coordinates": [
           [
            [
             [
              -96.4639,
              41.0161
             ],
             [
              -96.3495,
              41.0152
             ],
             [
              -96.3491,
              41.0445
             ],
             [
              -96.3192,
              41.045
             ],
             [
              -96.2998,
              41.028
             ],
             [
              -96.2844,
              41.0217
             ],
             [
              -96.2508,
              41.0188
             ],
             [
              -96.233,
              41.0009
             ],
             [
              -96.2189,
              40.9943
             ],
             [
              -96.2076,
              40.9956
             ],
             [
              -96.1447,
              41.0176
             ],
             [
              -96.1099,
              41.0484
             ],
             [
              -96.0563,
              41.0654
             ],
             [
              -96.0341,
              41.066
             ],
             [
              -96.0052,
              41.0606
             ],
             [
              -95.9873,
              41.0527
             ],
             [
              -95.9495,
              41.0584
             ],
             [
              -95.9484,
              41.0579
             ],
             [
              -95.9474,
              41.0576
             ],
             [
              -95.9461,
              41.0576
             ],
             [
              -95.9449,
              41.0579
             ],
             [
              -95.8892,
              41.0584
             ],
             [
              -95.8795,
              41.0533
             ],
             [
              -95.8698,
              41.0452
             ],
             [
              -95.8618,
              41.0394
             ],
             [
              -95.8605,
              41.0379
             ],
             [
              -95.8597,
              41.0357
             ],
             [
              -95.8591,
              41.0316
             ],
             [
              -95.8599,
              41.0254
             ],
             [
              -95.8659,
              41.0174
             ],
             [
              -95.8684,
              41.0127
             ],
             [
              -95.8695,
              41.0094
             ],
             [
              -95.8692,
              41.006
             ],
             [
              -95.8673,
              41.0016
             ],
             [
              -95.8635,
              40.9973
             ],
             [
              -95.8601,
              40.9952
             ],
             [
              -95.8525,
              40.9917
             ],
             [
              -95.8444,
              40.9895
             ],
             [
              -95.8389,
              40.9865
             ],
             [
              -95.8335,
              40.9827
             ],
             [
              -95.8303,
              40.9783
             ],
             [
              -95.8291,
              40.9757
             ],
             [
              -95.8283,
              40.9724
             ],
             [
              -95.8298,
              40.9639
             ],
             [
              -95.838,
              40.9506
             ],
             [
              -95.8403,
              40.9399
             ],
             [
              -95.8397,
              40.9328
             ],
             [
              -95.8378,
              40.9247
             ],
             [
              -95.8364,
              40.9216
             ],
             [
              -95.833,
              40.9172
             ],
             [
              -95.8307,
              40.915
             ],
             [
              -95.8187,
              40.9068
             ],
             [
              -95.8143,
              40.9029
             ],
             [
              -95.8135,
              40.9017
             ],
             [
              -95.8109,
              40.8979
             ],
             [
              -95.8098,
              40.8954
             ],
             [
              -95.8095,
              40.8912
             ],
             [
              -95.8107,
              40.8867
             ],
             [
              -95.8121,
              40.8842
             ],
             [
              -95.8159,
              40.8798
             ],
             [
              -95.8196,
              40.8774
             ],
             [
              -95.825,
              40.875
             ],
             [
              -95.8387,
              40.8722
             ],
             [
              -95.8425,
              40.8703
             ],
             [
              -95.8441,
              40.8692
             ],
             [
              -95.8469,
              40.8657
             ],
             [
              -95.8478,
              40.8643
             ],
             [
              -95.8486,
              40.8611
             ],
             [
              -95.8485,
              40.8586
             ],
             [
              -95.8471,
              40.8542
             ],
             [
              -95.8413,
              40.8456
             ],
             [
              -95.8372,
              40.8353
             ],
             [
              -95.8373,
              40.8312
             ],
             [
              -95.8386,
              40.8262
             ],
             [
              -95.8439,
              40.8177
             ],
             [
              -95.8449,
              40.8153
             ],
             [
              -95.8453,
              40.8113
             ],
             [
              -95.8437,
              40.8038
             ],
             [
              -95.8358,
              40.7906
             ],
             [
              -95.8345,
              40.7878
             ],
             [
              -95.8342,
              40.7838
             ],
             [
              -95.9118,
              40.7842
             ],
             [
              -96.4638,
              40.784
             ],
             [
              -96.4639,
              41.0161
             ]
            ]
           ]
          ],
          "type": "MultiPolygon"
         },
         "properties": {
          "AFFGEOID": "0500000US31025",
          "ALAND": 1443537069,
          "ALANDMI": 557.3525,
          "AWATER": 22114716,
          "COUNTYFP": "025",
          "COUNTYNS": "00835834",
          "GEOID": "31025",
          "LSAD": "06",
          "NAME": "Cass",
          "STATEFP": "31",
          "n": 43,
          "stn_sq_mi": 0.0772
         },
         "type": "Feature"
        },
        {
         "geometry": {
          "coordinates": [
           [
            [
             [
              -96.067,
              40.5231
             ],
             [
              -95.71,
              40.5238
             ],
             [
              -95.7086,
              40.5216
             ],
             [
              -95.6972,
              40.5285
             ],
             [
              -95.695,
              40.5331
             ],
             [
              -95.6973,
              40.537
             ],
             [
              -95.6967,
              40.5451
             ],
             [
              -95.6949,
              40.5507
             ],
             [
              -95.6941,
              40.5569
             ],
             [
              -95.6871,
              40.5607
             ],
             [
              -95.6787,
              40.5626
             ],
             [
              -95.6718,
              40.5626
             ],
             [
              -95.6655,
              40.5567
             ],
             [
              -95.6621,
              40.55
             ],
             [
              -95.6558,
              40.5466
             ],
             [
              -95.6534,
              40.5419
             ],
             [
              -95.6523,
              40.5381
             ],
             [
              -95.6557,
              40.5236
             ],
             [
              -95.6617,
              40.5173
             ],
             [
              -95.668,
              40.515
             ],
             [
              -95.6921,
              40.5081
             ],
             [
              -95.6956,
              40.5065
             ],
             [
              -95.7,
              40.5053
             ],
             [
              -95.6959,
              40.4991
             ],
             [
              -95.6947,
              40.4936
             ],
             [
              -95.6952,
              40.4866
             ],
             [
              -95.6962,
              40.4821
             ],
             [
              -95.6968,
              40.4788
             ],
             [
              -95.6964,
              40.4759
             ],
             [
              -95.6947,
              40.4715
             ],
             [
              -95.6931,
              40.4694
             ],
             [
              -95.6844,
              40.4634
             ],
             [
              -95.6772,
              40.4602
             ],
             [
              -95.6717,
              40.4567
             ],
             [
              -95.6654,
              40.4512
             ],
             [
              -95.6582,
              40.4419
             ],
             [
              -95.6556,
              40.4347
             ],
             [
              -95.6563,
              40.4288
             ],
             [
              -95.6583,
              40.4245
             ],
             [
              -95.6607,
              40.4188
             ],
             [
              -95.6615,
              40.4159
             ],
             [
              -95.6591,
              40.4087
             ],
             [
              -95.6494,
              40.3961
             ],
             [
              -95.6439,
              40.3868
             ],
             [
              -95.6421,
              40.3782
             ],
             [
              -95.6427,
              40.375
             ],
             [
              -95.6424,
              40.3698
             ],
             [
              -95.641,
              40.3664
             ],
             [
              -95.637,
              40.3614
             ],
             [
              -95.6315,
              40.3573
             ],
             [
              -95.6271,
              40.3528
             ],
             [
              -95.6248,
              40.3492
             ],
             [
              -95.6237,
              40.3466
             ],
             [
              -95.6227,
              40.3409
             ],
             [
              -95.6232,
              40.3384
             ],
             [
              -95.6252,
              40.3343
             ],
             [
              -95.6299,
              40.331
             ],
             [
              -95.6338,
              40.3293
             ],
             [
              -95.6479,
              40.3256
             ],
             [
              -95.6537,
              40.3226
             ],
             [
              -95.6566,
              40.3195
             ],
             [
              -95.6578,
              40.3158
             ],
             [
              -95.658,
              40.3127
             ],
             [
              -95.6573,
              40.3109
             ],
             [
              -95.6543,
              40.3079
             ],
             [
              -95.6515,
              40.3067
             ],
             [
              -95.6453,
              40.3057
             ],
             [
              -95.6423,
              40.306
             ],
             [
              -95.6363,
              40.3077
             ],
             [
              -95.6232,
              40.3125
             ],
             [
              -95.6179,
              40.3137
             ],
             [
              -95.6135,
              40.3142
             ],
             [
              -95.6104,
              40.314
             ],
             [
              -95.6051,
              40.3126
             ],
             [
              -95.5987,
              40.3098
             ],
             [
              -95.5902,
              40.3032
             ],
             [
              -95.5874,
              40.3016
             ],
             [
              -95.5818,
              40.2996
             ],
             [
              -95.5681,
              40.2991
             ],
             [
              -95.5622,
              40.2974
             ],
             [
              -95.5587,
              40.2958
             ],
             [
              -95.5533,
              40.2912
             ],
             [
              -95.5516,
              40.2887
             ],
             [
              -95.551,
              40.2859
             ],
             [
              -95.5515,
              40.2811
             ],
             [
              -95.5563,
              40.2708
             ],
             [
              -95.5563,
              40.2677
             ],
             [
              -95.5548,
              40.2645
             ],
             [
              -95.5543,
              40.2634
             ],
             [
              -95.5525,
              40.2619
             ],
             [
              -96.0102,
              40.2615
             ],
             [
              -96.0667,
              40.262
             ],
             [
              -96.067,
              40.5231
             ]
            ]
           ]
          ],
          "type": "MultiPolygon"
         },
         "properties": {
          "AFFGEOID": "0500000US31127",
          "ALAND": 1055100620,
          "ALANDMI": 407.3765,
          "AWATER": 5769942,
          "COUNTYFP": "127",
          "COUNTYNS": "00835885",
          "GEOID": "31127",
          "LSAD": "06",
          "NAME": "Nemaha",
          "STATEFP": "31",
          "n": 25,
          "stn_sq_mi": 0.0614
         },
         "type": "Feature"
        },
        {
         "geometry": {
          "coordinates": [
           [
            [
             [
              -100.1984,
              42.9985
             ],
             [
              -100.1269,
              42.9987
             ],
             [
              -100.1264,
              42.9987
             ],
             [
              -100.1193,
              42.9987
             ],
             [
              -100.0344,
              42.9984
             ],
             [
              -100.0278,
              42.9984
             ],
             [
              -100.0048,
              42.9984
             ],
             [
              -99.9612,
              42.9983
             ],
             [
              -99.9509,
              42.9983
             ],
             [
              -99.9504,
              42.9983
             ],
             [
              -99.9276,
              42.9981
             ],
             [
              -99.9184,
              42.9981
             ],
             [
              -99.8777,
              42.9981
             ],
             [
              -99.8699,
              42.9981
             ],
             [
              -99.8599,
              42.998
             ],
             [
              -99.85,
              42.9982
             ],
             [
              -99.8219,
              42.998
             ],
             [
              -99.8094,
              42.9982
             ],
             [
              -99.8033,
              42.9981
             ],
             [
              -99.8003,
              42.998
             ],
             [
              -99.7882,
              42.998
             ],
             [
              -99.7685,
              42.9981
             ],
             [
              -99.7431,
              42.9979
             ],
             [
              -99.7268,
              42.9979
             ],
             [
              -99.7192,
              42.9979
             ],
             [
              -99.7014,
              42.998
             ],
             [
              -99.6992,
              42.9979
             ],
             [
              -99.5693,
              42.998
             ],
             [
              -99.5354,
              42.998
             ],
             [
              -99.534,
              42.998
             ],
             [
              -99.4943,
              42.9981
             ],
             [
              -99.4908,
              42.9981
             ],
             [
              -99.4745,
              42.9981
             ],
             [
              -99.4714,
              42.998
             ],
             [
              -99.3956,
              42.9982
             ],
             [
              -99.3743,
              42.998
             ],
             [
              -99.3711,
              42.9981
             ],
             [
              -99.3686,
              42.9981
             ],
             [
              -99.3473,
              42.9982
             ],
             [
              -99.288,
              42.9982
             ],
             [
              -99.2627,
              42.9982
             ],
             [
              -99.2545,
              42.9981
             ],
             [
              -99.254,
              42.9049
             ],
             [
              -99.257,
              42.8043
             ],
             [
              -99.2749,
              42.7948
             ],
             [
              -99.3002,
              42.7962
             ],
             [
              -99.3364,
              42.7804
             ],
             [
              -99.378,
              42.7822
             ],
             [
              -99.3996,
              42.7714
             ],
             [
              -99.4152,
              42.7721
             ],
             [
              -99.4371,
              42.7536
             ],
             [
              -99.4625,
              42.7516
             ],
             [
              -99.4704,
              42.7383
             ],
             [
              -99.5375,
              42.7176
             ],
             [
              -99.5817,
              42.7241
             ],
             [
              -99.6254,
              42.7241
             ],
             [
              -99.6599,
              42.7351
             ],
             [
              -99.6777,
              42.7309
             ],
             [
              -99.7112,
              42.7271
             ],
             [
              -99.7525,
              42.7376
             ],
             [
              -99.7783,
              42.7352
             ],
             [
              -99.8168,
              42.743
             ],
             [
              -99.8373,
              42.7541
             ],
             [
              -99.855,
              42.7529
             ],
             [
              -99.8622,
              42.769
             ],
             [
              -99.898,
              42.7655
             ],
             [
              -99.9473,
              42.773
             ],
             [
              -99.9689,
              42.7725
             ],
             [
              -100.0078,
              42.7886
             ],
             [
              -100.0559,
              42.7854
             ],
             [
              -100.1133,
              42.7997
             ],
             [
              -100.134,
              42.8078
             ],
             [
              -100.1454,
              42.8302
             ],
             [
              -100.1878,
              42.8376
             ],
             [
              -100.1985,
              42.8461
             ],
             [
              -100.1984,
              42.9985
             ]
            ]
           ]
          ],
          "type": "MultiPolygon"
         },
         "properties": {
          "AFFGEOID": "0500000US31103",
          "ALAND": 2002257566,
          "ALANDMI": 773.0757,
          "AWATER": 2192458,
          "COUNTYFP": "103",
          "COUNTYNS": "00835873",
          "GEOID": "31103",
          "LSAD": "06",
          "NAME": "Keya Paha",
          "STATEFP": "31",
          "n": 31,
          "stn_sq_mi": 0.0401
         },
         "type": "Feature"
        },
        {
         "geometry": {
          "coordinates": [
           [
            [
             [
              -97.3684,
              40.6986
             ],
             [
              -96.9135,
              40.6979
             ],
             [
              -96.9126,
              40.5236
             ],
             [
              -96.9134,
              40.3525
             ],
             [
              -96.9161,
              40.3497
             ],
             [
              -97.3687,
              40.3504
             ],
             [
              -97.3684,
              40.6986
             ]
            ]
           ]
          ],
          "type": "MultiPolygon"
         },
         "properties": {
          "AFFGEOID": "0500000US31151",
          "ALAND": 1486812299,
          "ALANDMI": 574.0612,
          "AWATER": 5821039,
          "COUNTYFP": "151",
          "COUNTYNS": "00835897",
          "GEOID": "31151",
          "LSAD": "06",
          "NAME": "Saline",
          "STATEFP": "31",
          "n": 17,
          "stn_sq_mi": 0.0296
         },
         "type": "Feature"
        },
        {
         "geometry": {
          "coordinates": [
           [
            [
             [
              -99.687,
              42.0861
             ],
             [
              -99.6624,
              42.086
             ],
             [
              -99.2346,
              42.088
             ],
             [
              -99.2227,
              42.0879
             ],
             [
              -99.2218,
              41.7408
             ],
             [
              -99.6868,
              41.7403
             ],
             [
              -99.687,
              42.0861
             ]
            ]
           ]
          ],
          "type": "MultiPolygon"
         },
         "properties": {
          "AFFGEOID": "0500000US31115",
          "ALAND": 1459513671,
          "ALANDMI": 563.5211,
          "AWATER": 19565477,
          "COUNTYFP": "115",
          "COUNTYNS": "00835879",
          "GEOID": "31115",
          "LSAD": "06",
          "NAME": "Loup",
          "STATEFP": "31",
          "n": 28,
          "stn_sq_mi": 0.0497
         },
         "type": "Feature"
        },
        {
         "geometry": {
          "coordinates": [
           [
            [
             [
              -96.9059,
              41.7428
             ],
             [
              -96.5552,
              41.742
             ],
             [
              -96.4442,
              41.7418
             ],
             [
              -96.4448,
              41.6836
             ],
             [
              -96.4439,
              41.5239
             ],
             [
              -96.4345,
              41.5239
             ],
             [
              -96.4348,
              41.4949
             ],
             [
              -96.4252,
              41.4949
             ],
             [
              -96.4252,
              41.4803
             ],
             [
              -96.4059,
              41.4805
             ],
             [
              -96.4056,
              41.4658
             ],
             [
              -96.3864,
              41.4657
             ],
             [
              -96.3865,
              41.4513
             ],
             [
              -96.3672,
              41.451
             ],
             [
              -96.3673,
              41.4367
             ],
             [
              -96.3289,
              41.4366
             ],
             [
              -96.329,
              41.3931
             ],
             [
              -96.4707,
              41.3932
             ],
             [
              -96.5036,
              41.3964
             ],
             [
              -96.5194,
              41.4078
             ],
             [
              -96.5687,
              41.433
             ],
             [
              -96.634,
              41.4344
             ],
             [
              -96.6913,
              41.4257
             ],
             [
              -96.7104,
              41.4308
             ],
             [
              -96.7467,
              41.4497
             ],
             [
              -96.7734,
              41.4501
             ],
             [
              -96.8191,
              41.4402
             ],
             [
              -96.8377,
              41.4459
             ],
             [
              -96.9059,
              41.4534
             ],
             [
              -96.9059,
              41.4564
             ],
             [
              -96.9059,
              41.7428
             ]
            ]
           ]
          ],
          "type": "MultiPolygon"
         },
         "properties": {
          "AFFGEOID": "0500000US31053",
          "ALAND": 1370269386,
          "ALANDMI": 529.0638,
          "AWATER": 36091878,
          "COUNTYFP": "053",
          "COUNTYNS": "00835848",
          "GEOID": "31053",
          "LSAD": "06",
          "NAME": "Dodge",
          "STATEFP": "31",
          "n": 37,
          "stn_sq_mi": 0.0699
         },
         "type": "Feature"
        },
        {
         "geometry": {
          "coordinates": [
           [
            [
             [
              -96.9082,
              41.3941
             ],
             [
              -96.9058,
              41.3973
             ],
             [
              -96.9059,
              41.4534
             ],
             [
              -96.8377,
              41.4459
             ],
             [
              -96.8191,
              41.4402
             ],
             [
              -96.7734,
              41.4501
             ],
             [
              -96.7467,
              41.4497
             ],
             [
              -96.7104,
              41.4308
             ],
             [
              -96.6913,
              41.4257
             ],
             [
              -96.634,
              41.4344
             ],
             [
              -96.5687,
              41.433
             ],
             [
              -96.5194,
              41.4078
             ],
             [
              -96.5036,
              41.3964
             ],
             [
              -96.4707,
              41.3932
             ],
             [
              -96.4593,
              41.3801
             ],
             [
              -96.4214,
              41.3642
             ],
             [
              -96.407,
              41.3343
             ],
             [
              -96.4076,
              41.3146
             ],
             [
              -96.3779,
              41.2983
             ],
             [
              -96.3506,
              41.2652
             ],
             [
              -96.3508,
              41.2562
             ],
             [
              -96.3656,
              41.2341
             ],
             [
              -96.3507,
              41.2042
             ],
             [
              -96.3274,
              41.19
             ],
             [
              -96.3159,
              41.144
             ],
             [
              -96.3194,
              41.1298
             ],
             [
              -96.3163,
              41.1252
             ],
             [
              -96.311,
              41.1153
             ],
             [
              -96.3329,
              41.0996
             ],
             [
              -96.3398,
              41.0825
             ],
             [
              -96.3192,
              41.045
             ],
             [
              -96.3491,
              41.0445
             ],
             [
              -96.3495,
              41.0152
             ],
             [
              -96.4639,
              41.0161
             ],
             [
              -96.4639,
              41.0451
             ],
             [
              -96.6011,
              41.0454
             ],
             [
              -96.9085,
              41.0461
             ],
             [
              -96.9082,
              41.3941
             ]
            ]
           ]
          ],
          "type": "MultiPolygon"
         },
         "properties": {
          "AFFGEOID": "0500000US31155",
          "ALAND": 1943236717,
          "ALANDMI": 750.2876,
          "AWATER": 24688496,
          "COUNTYFP": "155",
          "COUNTYNS": "00835899",
          "GEOID": "31155",
          "LSAD": "06",
          "NAME": "Saunders",
          "STATEFP": "31",
          "n": 16,
          "stn_sq_mi": 0.0213
         },
         "type": "Feature"
        },
        {
         "geometry": {
          "coordinates": [
           [
            [
             [
              -98.2913,
              41.4807
             ],
             [
              -98.0995,
              41.4808
             ],
             [
              -98.0998,
              41.4954
             ],
             [
              -98.0415,
              41.496
             ],
             [
              -98.0413,
              41.5105
             ],
             [
              -97.8853,
              41.5114
             ],
             [
              -97.8855,
              41.5259
             ],
             [
              -97.8298,
              41.5262
             ],
             [
              -97.7036,
              41.5268
             ],
             [
              -97.7038,
              41.3949
             ],
             [
              -97.7055,
              41.3091
             ],
             [
              -97.8983,
              41.3082
             ],
             [
              -97.8979,
              41.2936
             ],
             [
              -98.0531,
              41.2931
             ],
             [
              -98.0531,
              41.2785
             ],
             [
              -98.1017,
              41.2787
             ],
             [
              -98.1015,
              41.264
             ],
             [
              -98.2754,
              41.2643
             ],
             [
              -98.2739,
              41.3939
             ],
             [
              -98.2866,
              41.3939
             ],
             [
              -98.2914,
              41.3939
             ],
             [
              -98.2913,
              41.4807
             ]
            ]
           ]
          ],
          "type": "MultiPolygon"
         },
         "properties": {
          "AFFGEOID": "0500000US31125",
          "ALAND": 1143826229,
          "ALANDMI": 441.6336,
          "AWATER": 17085959,
          "COUNTYFP": "125",
          "COUNTYNS": "00835884",
          "GEOID": "31125",
          "LSAD": "06",
          "NAME": "Nance",
          "STATEFP": "31",
          "n": 26,
          "stn_sq_mi": 0.0589
         },
         "type": "Feature"
        },
        {
         "geometry": {
          "coordinates": [
           [
            [
             [
              -98.722,
              41.0467
             ],
             [
              -98.4928,
              41.0465
             ],
             [
              -98.2872,
              41.0464
             ],
             [
              -98.2824,
              41.0424
             ],
             [
              -98.2825,
              40.9448
             ],
             [
              -98.2825,
              40.9158
             ],
             [
              -98.2826,
              40.8735
             ],
             [
              -98.2826,
              40.8687
             ],
             [
              -98.2829,
              40.6983
             ],
             [
              -98.7214,
              40.6989
             ],
             [
              -98.7219,
              40.9168
             ],
             [
              -98.722,
              41.0467
             ]
            ]
           ]
          ],
          "type": "MultiPolygon"
         },
         "properties": {
          "AFFGEOID": "0500000US31079",
          "ALAND": 1415146240,
          "ALANDMI": 546.3908,
          "AWATER": 14900882,
          "COUNTYFP": "079",
          "COUNTYNS": "00835861",
          "GEOID": "31079",
          "LSAD": "06",
          "NAME": "Hall",
          "STATEFP": "31",
          "n": 33,
          "stn_sq_mi": 0.0604
         },
         "type": "Feature"
        },
        {
         "geometry": {
          "coordinates": [
           [
            [
             [
              -99.6777,
              42.7309
             ],
             [
              -99.6599,
              42.7351
             ],
             [
              -99.6254,
              42.7241
             ],
             [
              -99.5817,
              42.7241
             ],
             [
              -99.5375,
              42.7176
             ],
             [
              -99.4704,
              42.7383
             ],
             [
              -99.4625,
              42.7516
             ],
             [
              -99.4371,
              42.7536
             ],
             [
              -99.4152,
              42.7721
             ],
             [
              -99.3996,
              42.7714
             ],
             [
              -99.378,
              42.7822
             ],
             [
              -99.3364,
              42.7804
             ],
             [
              -99.3002,
              42.7962
             ],
             [
              -99.2749,
              42.7948
             ],
             [
              -99.257,
              42.8043
             ],
             [
              -99.2568,
              42.7827
             ],
             [
              -99.2458,
              42.7825
             ],
             [
              -99.2446,
              42.4346
             ],
             [
              -99.2341,
              42.4345
             ],
             [
              -99.2346,
              42.088
             ],
             [
              -99.6624,
              42.086
             ],
             [
              -99.6638,
              42.4346
             ],
             [
              -99.676,
              42.4344
             ],
             [
              -99.6777,
              42.7309
             ]
            ]
           ]
          ],
          "type": "MultiPolygon"
         },
         "properties": {
          "AFFGEOID": "0500000US31149",
          "ALAND": 2611466192,
          "ALANDMI": 1008.2923,
          "AWATER": 8807741,
          "COUNTYFP": "149",
          "COUNTYNS": "00835896",
          "GEOID": "31149",
          "LSAD": "06",
          "NAME": "Rock",
          "STATEFP": "31",
          "n": 19,
          "stn_sq_mi": 0.0188
         },
         "type": "Feature"
        },
        {
         "geometry": {
          "coordinates": [
           [
            [
             [
              -96.4448,
              41.6836
             ],
             [
              -96.1217,
              41.683
             ],
             [
              -96.1217,
              41.6827
             ],
             [
              -96.121,
              41.6779
             ],
             [
              -96.1181,
              41.6744
             ],
             [
              -96.115,
              41.6712
             ],
             [
              -96.1115,
              41.6685
             ],
             [
              -96.0998,
              41.661
             ],
             [
              -96.0979,
              41.6587
             ],
             [
              -96.0954,
              41.6527
             ],
             [
              -96.095,
              41.6474
             ],
             [
              -96.0977,
              41.6396
             ],
             [
              -96.1007,
              41.6355
             ],
             [
              -96.1141,
              41.624
             ],
             [
              -96.1162,
              41.6216
             ],
             [
              -96.1179,
              41.6174
             ],
             [
              -96.1181,
              41.6135
             ],
             [
              -96.1176,
              41.61
             ],
             [
              -96.1158,
              41.6058
             ],
             [
              -96.1138,
              41.6023
             ],
             [
              -96.1094,
              41.5969
             ],
             [
              -96.1045,
              41.5932
             ],
             [
              -96.1015,
              41.5916
             ],
             [
              -96.0887,
              41.5875
             ],
             [
              -96.0858,
              41.5857
             ],
             [
              -96.0834,
              41.5833
             ],
             [
              -96.0818,
              41.5804
             ],
             [
              -96.0812,
              41.5773
             ],
             [
              -96.0812,
              41.5743
             ],
             [
              -96.0824,
              41.5712
             ],
             [
              -96.0848,
              41.5678
             ],
             [
              -96.0918,
              41.5611
             ],
             [
              -96.0936,
              41.5583
             ],
             [
              -96.0959,
              41.5509
             ],
             [
              -96.0962,
              41.5472
             ],
             [
              -96.0941,
              41.5393
             ],
             [
              -96.0897,
              41.5318
             ],
             [
              -96.0882,
              41.5306
             ],
             [
              -96.0805,
              41.5282
             ],
             [
              -96.0731,
              41.5251
             ],
             [
              -96.0675,
              41.5203
             ],
             [
              -96.0636,
              41.5162
             ],
             [
              -96.0579,
              41.5115
             ],
             [
              -96.0537,
              41.5089
             ],
             [
              -96.0481,
              41.5073
             ],
             [
              -96.0407,
              41.5071
             ],
             [
              -96.0381,
              41.508
             ],
             [
              -96.0366,
              41.509
             ],
             [
              -96.0343,
              41.5129
             ],
             [
              -96.0306,
              41.5273
             ],
             [
              -96.0284,
              41.5396
             ],
             [
              -96.0273,
              41.5411
             ],
             [
              -96.0232,
              41.5444
             ],
             [
              -96.0197,
              41.5457
             ],
             [
              -96.0165,
              41.5461
             ],
             [
              -96.01,
              41.5455
             ],
             [
              -96.0051,
              41.544
             ],
             [
              -96.0012,
              41.5411
             ],
             [
              -95.9995,
              41.5387
             ],
             [
              -95.9939,
              41.5234
             ],
             [
              -95.9927,
              41.5173
             ],
             [
              -95.9926,
              41.5142
             ],
             [
              -95.9928,
              41.512
             ],
             [
              -95.9939,
              41.5098
             ],
             [
              -95.9962,
              41.507
             ],
             [
              -95.9979,
              41.5048
             ],
             [
              -96.0073,
              41.4976
             ],
             [
              -96.016,
              41.4927
             ],
             [
              -96.0192,
              41.4893
             ],
             [
              -96.0198,
              41.488
             ],
             [
              -96.0195,
              41.4866
             ],
             [
              -96.0164,
              41.4816
             ],
             [
              -96.0118,
              41.4762
             ],
             [
              -96.0088,
              41.474
             ],
             [
              -96.0047,
              41.4723
             ],
             [
              -95.991,
              41.4704
             ],
             [
              -95.983,
              41.4698
             ],
             [
              -95.9734,
              41.4673
             ],
             [
              -95.9655,
              41.4635
             ],
             [
              -95.9623,
              41.4628
             ],
             [
              -95.957,
              41.4628
             ],
             [
              -95.9465,
              41.4662
             ],
             [
              -95.942,
              41.4663
             ],
             [
              -95.9368,
              41.4652
             ],
             [
              -95.9329,
              41.4638
             ],
             [
              -95.9257,
              41.4594
             ],
             [
              -95.9225,
              41.4558
             ],
             [
              -95.9203,
              41.4516
             ],
             [
              -95.9199,
              41.4479
             ],
             [
              -95.9206,
              41.4443
             ],
             [
              -95.9218,
              41.4421
             ],
             [
              -95.9239,
              41.4397
             ],
             [
              -95.9307,
              41.4339
             ],
             [
              -95.9322,
              41.4319
             ],
             [
              -95.9332,
              41.4294
             ],
             [
              -95.9323,
              41.4221
             ],
             [
              -95.9299,
              41.4152
             ],
             [
              -95.9297,
              41.4113
             ],
             [
              -95.9308,
              41.4062
             ],
             [
              -95.9369,
              41.3964
             ],
             [
              -95.9375,
              41.3931
             ],
             [
              -95.9369,
              41.391
             ],
             [
              -95.9393,
              41.3932
             ],
             [
              -96.0623,
              41.3932
             ],
             [
              -96.2327,
              41.3931
             ],
             [
              -96.329,
              41.3931
             ],
             [
              -96.3289,
              41.4366
             ],
             [
              -96.3673,
              41.4367
             ],
             [
              -96.3672,
              41.451
             ],
             [
              -96.3865,
              41.4513
             ],
             [
              -96.3864,
              41.4657
             ],
             [
              -96.4056,
              41.4658
             ],
             [
              -96.4059,
              41.4805
             ],
             [
              -96.4252,
              41.4803
             ],
             [
              -96.4252,
              41.4949
             ],
             [
              -96.4348,
              41.4949
             ],
             [
              -96.4345,
              41.5239
             ],
             [
              -96.4439,
              41.5239
             ],
             [
              -96.4448,
              41.6836
             ]
            ]
           ]
          ],
          "type": "MultiPolygon"
         },
         "properties": {
          "AFFGEOID": "0500000US31177",
          "ALAND": 1009985080,
          "ALANDMI": 389.9573,
          "AWATER": 8388605,
          "COUNTYFP": "177",
          "COUNTYNS": "00835910",
          "GEOID": "31177",
          "LSAD": "06",
          "NAME": "Washington",
          "STATEFP": "31",
          "n": 12,
          "stn_sq_mi": 0.0308
         },
         "type": "Feature"
        },
        {
         "geometry": {
          "coordinates": [
           [
            [
             [
              -98.3098,
              42.8826
             ],
             [
              -98.2975,
              42.8801
             ],
             [
              -98.28,
              42.875
             ],
             [
              -98.2684,
              42.8742
             ],
             [
              -98.2583,
              42.8744
             ],
             [
              -98.2518,
              42.8728
             ],
             [
              -98.2498,
              42.8718
             ],
             [
              -98.2468,
              42.8684
             ],
             [
              -98.2319,
              42.8611
             ],
             [
              -98.2265,
              42.8577
             ],
             [
              -98.2242,
              42.8555
             ],
             [
              -98.2198,
              42.8532
             ],
             [
              -98.2045,
              42.8468
             ],
             [
              -98.1898,
              42.8416
             ],
             [
              -98.1711,
              42.8371
             ],
             [
              -98.1675,
              42.8369
             ],
             [
              -98.1633,
              42.8371
             ],
             [
              -98.1531,
              42.8391
             ],
             [
              -98.1481,
              42.84
             ],
             [
              -98.1469,
              42.8398
             ],
             [
              -98.1379,
              42.8327
             ],
             [
              -98.129,
              42.8212
             ],
             [
              -98.1275,
              42.8201
             ],
             [
              -98.1077,
              42.8106
             ],
             [
              -98.1047,
              42.8085
             ],
             [
              -98.0946,
              42.7993
             ],
             [
              -98.0878,
              42.7958
             ],
             [
              -98.0828,
              42.7943
             ],
             [
              -98.0674,
              42.7848
             ],
             [
              -98.0629,
              42.7811
             ],
             [
              -98.0613,
              42.778
             ],
             [
              -98.0598,
              42.7728
             ],
             [
              -98.0566,
              42.7708
             ],
             [
              -98.0516,
              42.7688
             ],
             [
              -98.0447,
              42.768
             ],
             [
              -98.042,
              42.7673
             ],
             [
              -98.0371,
              42.7657
             ],
             [
              -98.035,
              42.7642
             ],
             [
              -98.0172,
              42.7624
             ],
             [
              -98.013,
              42.7623
             ],
             [
              -98.0057,
              42.7642
             ],
             [
              -98.0025,
              42.7633
             ],
             [
              -98.0003,
              42.7633
             ],
             [
              -97.9925,
              42.7651
             ],
             [
              -97.9776,
              42.7699
             ],
             [
              -97.962,
              42.7687
             ],
             [
              -97.9535,
              42.769
             ],
             [
              -97.9501,
              42.7696
             ],
             [
              -97.9367,
              42.7758
             ],
             [
              -97.933,
              42.7782
             ],
             [
              -97.9214,
              42.7884
             ],
             [
              -97.9159,
              42.7899
             ],
             [
              -97.909,
              42.7949
             ],
             [
              -97.905,
              42.7989
             ],
             [
              -97.8944,
              42.8117
             ],
             [
              -97.8902,
              42.8151
             ],
             [
              -97.8886,
              42.8173
             ],
             [
              -97.8849,
              42.8262
             ],
             [
              -97.8799,
              42.8354
             ],
             [
              -97.879,
              42.8437
             ],
             [
              -97.8758,
              42.8477
             ],
             [
              -97.8757,
              42.8503
             ],
             [
              -97.8769,
              42.8527
             ],
             [
              -97.877,
              42.8544
             ],
             [
              -97.8753,
              42.8587
             ],
             [
              -97.8657,
              42.8629
             ],
             [
              -97.858,
              42.8651
             ],
             [
              -97.8453,
              42.8677
             ],
             [
              -97.8342,
              42.8688
             ],
             [
              -97.8285,
              42.8688
             ],
             [
              -97.8258,
              42.8675
             ],
             [
              -97.8171,
              42.8618
             ],
             [
              -97.8048,
              42.8588
             ],
             [
              -97.8013,
              42.858
             ],
             [
              -97.7885,
              42.8534
             ],
             [
              -97.7745,
              42.8498
             ],
             [
              -97.7647,
              42.8491
             ],
             [
              -97.7538,
              42.849
             ],
             [
              -97.7503,
              42.8495
             ],
             [
              -97.7204,
              42.8474
             ],
             [
              -97.701,
              42.8438
             ],
             [
              -97.6865,
              42.8424
             ],
             [
              -97.6683,
              42.843
             ],
             [
              -97.6578,
              42.8446
             ],
             [
              -97.6467,
              42.8476
             ],
             [
              -97.6354,
              42.8514
             ],
             [
              -97.6203,
              42.8566
             ],
             [
              -97.6118,
              42.8584
             ],
             [
              -97.6038,
              42.8583
             ],
             [
              -97.5993,
              42.8562
             ],
             [
              -97.5919,
              42.8538
             ],
             [
              -97.5746,
              42.8497
             ],
             [
              -97.5619,
              42.8476
             ],
             [
              -97.5475,
              42.848
             ],
             [
              -97.5319,
              42.8501
             ],
             [
              -97.5159,
              42.8538
             ],
             [
              -97.5048,
              42.8585
             ],
             [
              -97.5003,
              42.8572
             ],
             [
              -97.4991,
              42.8552
             ],
             [
              -97.4962,
              42.8532
             ],
             [
              -97.4915,
              42.8516
             ],
             [
              -97.4849,
              42.8504
             ],
             [
              -97.4853,
              42.4386
             ],
             [
              -97.8344,
              42.4377
             ],
             [
              -98.3002,
              42.4369
             ],
             [
              -98.3055,
              42.4369
             ],
             [
              -98.3051,
              42.7612
             ],
             [
              -98.3102,
              42.7846
             ],
             [
              -98.3098,
              42.8826
             ]
            ]
           ]
          ],
          "type": "MultiPolygon"
         },
         "properties": {
          "AFFGEOID": "0500000US31107",
          "ALAND": 2870856403,
          "ALANDMI": 1108.4434,
          "AWATER": 81009708,
          "COUNTYFP": "107",
          "COUNTYNS": "00835875",
          "GEOID": "31107",
          "LSAD": "06",
          "NAME": "Knox",
          "STATEFP": "31",
          "n": 30,
          "stn_sq_mi": 0.0271
         },
         "type": "Feature"
        },
        {
         "geometry": {
          "coordinates": [
           [
            [
             [
              -99.254,
              42.9049
             ],
             [
              -99.2545,
              42.9981
             ],
             [
              -99.2543,
              42.9981
             ],
             [
              -99.2345,
              42.9983
             ],
             [
              -99.1952,
              42.9981
             ],
             [
              -99.1614,
              42.9985
             ],
             [
              -99.1511,
              42.9983
             ],
             [
              -99.139,
              42.9985
             ],
             [
              -99.136,
              42.9983
             ],
             [
              -99.0819,
              42.9983
             ],
             [
              -99.08,
              42.9984
             ],
             [
              -99.0223,
              42.9982
             ],
             [
              -99.0219,
              42.9984
             ],
             [
              -99.0004,
              42.9983
             ],
             [
              -98.9621,
              42.9983
             ],
             [
              -98.9192,
              42.9982
             ],
             [
              -98.9191,
              42.9982
             ],
             [
              -98.9032,
              42.9983
             ],
             [
              -98.8999,
              42.9981
             ],
             [
              -98.824,
              42.9983
             ],
             [
              -98.8013,
              42.9982
             ],
             [
              -98.7644,
              42.9983
             ],
             [
              -98.7424,
              42.9983
             ],
             [
              -98.6656,
              42.9985
             ],
             [
              -98.6637,
              42.9984
             ],
             [
              -98.5689,
              42.9985
             ],
             [
              -98.5651,
              42.9984
             ],
             [
              -98.4985,
              42.9986
             ],
             [
              -98.4957,
              42.988
             ],
             [
              -98.4905,
              42.9779
             ],
             [
              -98.4789,
              42.9635
             ],
             [
              -98.4674,
              42.9476
             ],
             [
              -98.4617,
              42.9444
             ],
             [
              -98.4585,
              42.9434
             ],
             [
              -98.4522,
              42.9384
             ],
             [
              -98.4483,
              42.9364
             ],
             [
              -98.447,
              42.9351
             ],
             [
              -98.4459,
              42.9306
             ],
             [
              -98.4441,
              42.9292
             ],
             [
              -98.4397,
              42.9282
             ],
             [
              -98.4373,
              42.9284
             ],
             [
              -98.4345,
              42.9292
             ],
             [
              -98.4309,
              42.9315
             ],
             [
              -98.4263,
              42.9321
             ],
             [
              -98.4207,
              42.9319
             ],
             [
              -98.4078,
              42.9258
             ],
             [
              -98.3993,
              42.9225
             ],
             [
              -98.3864,
              42.9184
             ],
             [
              -98.3754,
              42.9131
             ],
             [
              -98.358,
              42.9075
             ],
             [
              -98.3462,
              42.9027
             ],
             [
              -98.3424,
              42.9008
             ],
             [
              -98.338,
              42.8978
             ],
             [
              -98.3358,
              42.8957
             ],
             [
              -98.3335,
              42.8915
             ],
             [
              -98.3324,
              42.8905
             ],
             [
              -98.3297,
              42.8884
             ],
             [
              -98.3259,
              42.8865
             ],
             [
              -98.3195,
              42.8845
             ],
             [
              -98.3098,
              42.8826
             ],
             [
              -98.3102,
              42.7846
             ],
             [
              -98.3051,
              42.7612
             ],
             [
              -98.3406,
              42.7707
             ],
             [
              -98.3599,
              42.7676
             ],
             [
              -98.416,
              42.7757
             ],
             [
              -98.4629,
              42.7662
             ],
             [
              -98.4909,
              42.7731
             ],
             [
              -98.5312,
              42.7746
             ],
             [
              -98.5485,
              42.7816
             ],
             [
              -98.5838,
              42.7797
             ],
             [
              -98.6568,
              42.809
             ],
             [
              -98.6746,
              42.8027
             ],
             [
              -98.71,
              42.8035
             ],
             [
              -98.7632,
              42.8279
             ],
             [
              -98.7972,
              42.8244
             ],
             [
              -98.8183,
              42.8302
             ],
             [
              -98.8401,
              42.8456
             ],
             [
              -98.8778,
              42.8412
             ],
             [
              -98.8884,
              42.8435
             ],
             [
              -98.9546,
              42.8941
             ],
             [
              -98.9825,
              42.8964
             ],
             [
              -99.0168,
              42.8863
             ],
             [
              -99.0568,
              42.8626
             ],
             [
              -99.0963,
              42.8563
             ],
             [
              -99.128,
              42.8443
             ],
             [
              -99.1538,
              42.8419
             ],
             [
              -99.1802,
              42.8291
             ],
             [
              -99.2085,
              42.8228
             ],
             [
              -99.257,
              42.8043
             ],
             [
              -99.254,
              42.9049
             ]
            ]
           ]
          ],
          "type": "MultiPolygon"
         },
         "properties": {
          "AFFGEOID": "0500000US31015",
          "ALAND": 1398424239,
          "ALANDMI": 539.9344,
          "AWATER": 11893557,
          "COUNTYFP": "015",
          "COUNTYNS": "00835829",
          "GEOID": "31015",
          "LSAD": "06",
          "NAME": "Boyd",
          "STATEFP": "31",
          "n": 47,
          "stn_sq_mi": 0.087
         },
         "type": "Feature"
        },
        {
         "geometry": {
          "coordinates": [
           [
            [
             [
              -96.9135,
              40.6979
             ],
             [
              -96.9111,
              40.698
             ],
             [
              -96.9107,
              40.8139
             ],
             [
              -96.9109,
              41.0461
             ],
             [
              -96.9085,
              41.0461
             ],
             [
              -96.6011,
              41.0454
             ],
             [
              -96.4639,
              41.0451
             ],
             [
              -96.4639,
              41.0161
             ],
             [
              -96.4638,
              40.784
             ],
             [
              -96.4638,
              40.755
             ],
             [
              -96.4636,
              40.523
             ],
             [
              -96.7072,
              40.5231
             ],
             [
              -96.9126,
              40.5236
             ],
             [
              -96.9135,
              40.6979
             ]
            ]
           ]
          ],
          "type": "MultiPolygon"
         },
         "properties": {
          "AFFGEOID": "0500000US31109",
          "ALAND": 2169287528,
          "ALANDMI": 837.5663,
          "AWATER": 22832516,
          "COUNTYFP": "109",
          "COUNTYNS": "00835876",
          "GEOID": "31109",
          "LSAD": "06",
          "NAME": "Lancaster",
          "STATEFP": "31",
          "n": 30,
          "stn_sq_mi": 0.0358
         },
         "type": "Feature"
        },
        {
         "geometry": {
          "coordinates": [
           [
            [
             [
              -97.2526,
              41.3952
             ],
             [
              -97.2526,
              41.6127
             ],
             [
              -97.2524,
              41.7431
             ],
             [
              -97.0585,
              41.743
             ],
             [
              -97.0199,
              41.743
             ],
             [
              -96.9059,
              41.7428
             ],
             [
              -96.9059,
              41.4564
             ],
             [
              -96.921,
              41.4561
             ],
             [
              -96.9647,
              41.4418
             ],
             [
              -96.9987,
              41.4199
             ],
             [
              -97.0157,
              41.4139
             ],
             [
              -97.0568,
              41.4125
             ],
             [
              -97.0912,
              41.3929
             ],
             [
              -97.1785,
              41.3768
             ],
             [
              -97.1993,
              41.3858
             ],
             [
              -97.2535,
              41.3842
             ],
             [
              -97.2526,
              41.3952
             ]
            ]
           ]
          ],
          "type": "MultiPolygon"
         },
         "properties": {
          "AFFGEOID": "0500000US31037",
          "ALAND": 1066160351,
          "ALANDMI": 411.6466,
          "AWATER": 12611464,
          "COUNTYFP": "037",
          "COUNTYNS": "00835840",
          "GEOID": "31037",
          "LSAD": "06",
          "NAME": "Colfax",
          "STATEFP": "31",
          "n": 40,
          "stn_sq_mi": 0.0972
         },
         "type": "Feature"
        },
        {
         "geometry": {
          "coordinates": [
           [
            [
             [
              -102.7921,
              43
             ],
             [
              -102.4873,
              42.9996
             ],
             [
              -102.4405,
              42.9996
             ],
             [
              -102.0825,
              42.9994
             ],
             [
              -102.085,
              42.7855
             ],
             [
              -102.0669,
              42.7855
             ],
             [
              -102.0667,
              42.4435
             ],
             [
              -102.0382,
              42.4433
             ],
             [
              -102.0403,
              42.0967
             ],
             [
              -102.0062,
              42.0963
             ],
             [
              -102.0086,
              42.0089
             ],
             [
              -102.0666,
              42.0092
             ],
             [
              -102.6776,
              42.0053
             ],
             [
              -102.6978,
              42.0048
             ],
             [
              -102.7021,
              42.0513
             ],
             [
              -102.7024,
              42.0927
             ],
             [
              -102.7423,
              42.0924
             ],
             [
              -102.7416,
              42.1777
             ],
             [
              -102.7465,
              42.25
             ],
             [
              -102.7478,
              42.3521
             ],
             [
              -102.7498,
              42.4181
             ],
             [
              -102.7494,
              42.4399
             ],
             [
              -102.7734,
              42.4399
             ],
             [
              -102.7734,
              42.7853
             ],
             [
              -102.7927,
              42.7852
             ],
             [
              -102.7921,
              43
             ]
            ]
           ]
          ],
          "type": "MultiPolygon"
         },
         "properties": {
          "AFFGEOID": "0500000US31161",
          "ALAND": 6322057033,
          "ALANDMI": 2440.9589,
          "AWATER": 74718659,
          "COUNTYFP": "161",
          "COUNTYNS": "00835902",
          "GEOID": "31161",
          "LSAD": "06",
          "NAME": "Sheridan",
          "STATEFP": "31",
          "n": 16,
          "stn_sq_mi": 0.0066
         },
         "type": "Feature"
        },
        {
         "geometry": {
          "coordinates": [
           [
            [
             [
              -102.0825,
              42.9994
             ],
             [
              -102.0825,
              42.9994
             ],
             [
              -101.85,
              42.9993
             ],
             [
              -101.7136,
              42.9966
             ],
             [
              -101.6254,
              42.9962
             ],
             [
              -101.5004,
              42.9971
             ],
             [
              -101.2303,
              42.9979
             ],
             [
              -101.2292,
              42.9979
             ],
             [
              -101.228,
              42.9979
             ],
             [
              -101.2269,
              42.9979
             ],
             [
              -101.2265,
              42.9979
             ],
             [
              -101.0431,
              42.998
             ],
             [
              -101.0004,
              42.9975
             ],
             [
              -100.9642,
              42.9979
             ],
             [
              -100.9584,
              42.9978
             ],
             [
              -100.9067,
              42.9979
             ],
             [
              -100.8879,
              42.9979
             ],
             [
              -100.8675,
              42.9983
             ],
             [
              -100.6317,
              42.9981
             ],
             [
              -100.6254,
              42.9986
             ],
             [
              -100.5531,
              42.9987
             ],
             [
              -100.544,
              42.9988
             ],
             [
              -100.5343,
              42.999
             ],
             [
              -100.4727,
              42.9993
             ],
             [
              -100.3554,
              42.9988
             ],
             [
              -100.3495,
              42.9987
             ],
             [
              -100.2837,
              42.9988
             ],
             [
              -100.2778,
              42.9987
             ],
             [
              -100.1984,
              42.9985
             ],
             [
              -100.1984,
              42.9985
             ],
             [
              -100.1984,
              42.9985
             ],
             [
              -100.1985,
              42.8461
             ],
             [
              -100.1986,
              42.781
             ],
             [
              -100.1833,
              42.781
             ],
             [
              -100.1832,
              42.4334
             ],
             [
              -100.1675,
              42.4333
             ],
             [
              -100.1676,
              42.0858
             ],
             [
              -100.2676,
              42.0861
             ],
             [
              -100.8461,
              42.0882
             ],
             [
              -101.4266,
              42.0922
             ],
             [
              -102.0062,
              42.0963
             ],
             [
              -102.0403,
              42.0967
             ],
             [
              -102.0382,
              42.4433
             ],
             [
              -102.0667,
              42.4435
             ],
             [
              -102.0669,
              42.7855
             ],
             [
              -102.085,
              42.7855
             ],
             [
              -102.0825,
              42.9994
             ]
            ]
           ]
          ],
          "type": "MultiPolygon"
         },
         "properties": {
          "AFFGEOID": "0500000US31031",
          "ALAND": 15436868252,
          "ALANDMI": 5960.2057,
          "AWATER": 127452878,
          "COUNTYFP": "031",
          "COUNTYNS": "00835837",
          "GEOID": "31031",
          "LSAD": "06",
          "NAME": "Cherry",
          "STATEFP": "31",
          "n": 42,
          "stn_sq_mi": 0.007
         },
         "type": "Feature"
        },
        {
         "geometry": {
          "coordinates": [
           [
            [
             [
              -103.3823,
              41.0477
             ],
             [
              -103.376,
              41.0478
             ],
             [
              -103.3776,
              41.3946
             ],
             [
              -103.3705,
              41.3947
             ],
             [
              -103.369,
              41.4377
             ],
             [
              -102.6367,
              41.4391
             ],
             [
              -102.6367,
              41.3953
             ],
             [
              -102.6094,
              41.3951
             ],
             [
              -102.6104,
              41.2216
             ],
             [
              -102.6102,
              41.0482
             ],
             [
              -102.6209,
              41.048
             ],
             [
              -102.621,
              41.0026
             ],
             [
              -102.6535,
              41.0023
             ],
             [
              -102.7396,
              41.0022
             ],
             [
              -102.7546,
              41.0024
             ],
             [
              -102.7667,
              41.0023
             ],
             [
              -102.7735,
              41.0024
             ],
             [
              -102.8273,
              41.0021
             ],
             [
              -102.8303,
              41.0024
             ],
             [
              -102.8465,
              41.0023
             ],
             [
              -102.8493,
              41.0023
             ],
             [
              -102.8658,
              41.002
             ],
             [
              -102.8678,
              41.0022
             ],
             [
              -102.8857,
              41.0021
             ],
             [
              -102.8874,
              41.0022
             ],
             [
              -102.9048,
              41.0022
             ],
             [
              -102.9065,
              41.0023
             ],
             [
              -102.924,
              41.0021
             ],
             [
              -102.9256,
              41.0023
             ],
             [
              -102.9431,
              41.0021
             ],
             [
              -102.9448,
              41.0023
             ],
             [
              -102.9596,
              41.0021
             ],
             [
              -102.9607,
              41.0021
             ],
             [
              -102.9625,
              41.0021
             ],
             [
              -102.9637,
              41.0022
             ],
             [
              -102.9815,
              41.0021
             ],
             [
              -102.9827,
              41.0022
             ],
             [
              -103.0001,
              41.0024
             ],
             [
              -103.002,
              41.0025
             ],
             [
              -103.0387,
              41.0023
             ],
             [
              -103.0434,
              41.0023
             ],
             [
              -103.058,
              41.0024
             ],
             [
              -103.0595,
              41.0024
             ],
             [
              -103.0765,
              41.0023
             ],
             [
              -103.0778,
              41.0023
             ],
             [
              -103.363,
              41.0018
             ],
             [
              -103.3653,
              41.0018
             ],
             [
              -103.3825,
              41.0022
             ],
             [
              -103.3823,
              41.0477
             ]
            ]
           ]
          ],
          "type": "MultiPolygon"
         },
         "properties": {
          "AFFGEOID": "0500000US31033",
          "ALAND": 3098367764,
          "ALANDMI": 1196.286,
          "AWATER": 292549,
          "COUNTYFP": "033",
          "COUNTYNS": "00835838",
          "GEOID": "31033",
          "LSAD": "06",
          "NAME": "Cheyenne",
          "STATEFP": "31",
          "n": 41,
          "stn_sq_mi": 0.0343
         },
         "type": "Feature"
        },
        {
         "geometry": {
          "coordinates": [
           [
            [
             [
              -104.0531,
              43.0006
             ],
             [
              -103.9911,
              43.0017
             ],
             [
              -103.9663,
              43.0017
             ],
             [
              -103.9249,
              43.0009
             ],
             [
              -103.8156,
              43.0013
             ],
             [
              -103.8139,
              43.0014
             ],
             [
              -103.7151,
              43.001
             ],
             [
              -103.6529,
              43.0014
             ],
             [
              -103.6183,
              43.0007
             ],
             [
              -103.577,
              43.0007
             ],
             [
              -103.5763,
              43.0008
             ],
             [
              -103.5066,
              43.0008
             ],
             [
              -103.5062,
              43.0008
             ],
             [
              -103.5052,
              43.0008
             ],
             [
              -103.5051,
              43.0008
             ],
             [
              -103.5032,
              42.7848
             ],
             [
              -103.4804,
              42.785
             ],
             [
              -103.4801,
              42.4373
             ],
             [
              -103.4445,
              42.4374
             ],
             [
              -103.4441,
              42.0907
             ],
             [
              -103.4017,
              42.0906
             ],
             [
              -103.4016,
              42.0035
             ],
             [
              -104.0527,
              42.0017
             ],
             [
              -104.0527,
              42.0163
             ],
             [
              -104.0529,
              42.0218
             ],
             [
              -104.053,
              42.075
             ],
             [
              -104.053,
              42.0751
             ],
             [
              -104.053,
              42.0891
             ],
             [
              -104.0526,
              42.125
             ],
             [
              -104.0527,
              42.1338
             ],
             [
              -104.053,
              42.1373
             ],
             [
              -104.0525,
              42.1668
             ],
             [
              -104.0528,
              42.1703
             ],
             [
              -104.0531,
              42.25
             ],
             [
              -104.0528,
              42.25
             ],
             [
              -104.0528,
              42.2582
             ],
             [
              -104.0531,
              42.5
             ],
             [
              -104.0528,
              42.6108
             ],
             [
              -104.0528,
              42.6116
             ],
             [
              -104.0528,
              42.6118
             ],
             [
              -104.0526,
              42.6309
             ],
             [
              -104.0527,
              42.634
             ],
             [
              -104.0526,
              42.6501
             ],
             [
              -104.0528,
              42.75
             ],
             [
              -104.0529,
              42.7546
             ],
             [
              -104.0531,
              43.0006
             ]
            ]
           ]
          ],
          "type": "MultiPolygon"
         },
         "properties": {
          "AFFGEOID": "0500000US31165",
          "ALAND": 5352724893,
          "ALANDMI": 2066.6978,
          "AWATER": 1681023,
          "COUNTYFP": "165",
          "COUNTYNS": "00835904",
          "GEOID": "31165",
          "LSAD": "06",
          "NAME": "Sioux",
          "STATEFP": "31",
          "n": 15,
          "stn_sq_mi": 0.0073
         },
         "type": "Feature"
        },
        {
         "geometry": {
          "coordinates": [
           [
            [
             [
              -96.7266,
              42.2804
             ],
             [
              -96.7264,
              42.4296
             ],
             [
              -96.722,
              42.4375
             ],
             [
              -96.7222,
              42.5247
             ],
             [
              -96.6315,
              42.5243
             ],
             [
              -96.6282,
              42.517
             ],
             [
              -96.626,
              42.5136
             ],
             [
              -96.6115,
              42.5061
             ],
             [
              -96.6089,
              42.5052
             ],
             [
              -96.6035,
              42.5045
             ],
             [
              -96.596,
              42.5046
             ],
             [
              -96.5911,
              42.5054
             ],
             [
              -96.5843,
              42.5078
             ],
             [
              -96.5725,
              42.5157
             ],
             [
              -96.5679,
              42.5179
             ],
             [
              -96.5578,
              42.5204
             ],
             [
              -96.5488,
              42.5205
             ],
             [
              -96.538,
              42.5181
             ],
             [
              -96.5316,
              42.5152
             ],
             [
              -96.5288,
              42.5133
             ],
             [
              -96.5251,
              42.5102
             ],
             [
              -96.5207,
              42.5048
             ],
             [
              -96.5188,
              42.5008
             ],
             [
              -96.5176,
              42.4969
             ],
             [
              -96.5159,
              42.4943
             ],
             [
              -96.5086,
              42.4867
             ],
             [
              -96.5057,
              42.4847
             ],
             [
              -96.5013,
              42.4827
             ],
             [
              -96.4895,
              42.4801
             ],
             [
              -96.4788,
              42.4796
             ],
             [
              -96.4756,
              42.48
             ],
             [
              -96.4657,
              42.4831
             ],
             [
              -96.4597,
              42.486
             ],
             [
              -96.4455,
              42.4906
             ],
             [
              -96.4239,
              42.489
             ],
             [
              -96.4135,
              42.488
             ],
             [
              -96.4094,
              42.4876
             ],
             [
              -96.3962,
              42.4841
             ],
             [
              -96.3961,
              42.4841
             ],
             [
              -96.386,
              42.4745
             ],
             [
              -96.3854,
              42.4731
             ],
             [
              -96.3813,
              42.4617
             ],
             [
              -96.3801,
              42.4515
             ],
             [
              -96.3807,
              42.4464
             ],
             [
              -96.3843,
              42.4373
             ],
             [
              -96.3876,
              42.4325
             ],
             [
              -96.4118,
              42.4109
             ],
             [
              -96.4136,
              42.4079
             ],
             [
              -96.4155,
              42.4003
             ],
             [
              -96.415,
              42.3934
             ],
             [
              -96.4092,
              42.3815
             ],
             [
              -96.4084,
              42.3761
             ],
             [
              -96.414,
              42.3659
             ],
             [
              -96.4171,
              42.3614
             ],
             [
              -96.4179,
              42.3587
             ],
             [
              -96.4182,
              42.3547
             ],
             [
              -96.4178,
              42.3514
             ],
             [
              -96.4139,
              42.3434
             ],
             [
              -96.408,
              42.3374
             ],
             [
              -96.403,
              42.3342
             ],
             [
              -96.3963,
              42.3309
             ],
             [
              -96.3842,
              42.3259
             ],
             [
              -96.3753,
              42.3183
             ],
             [
              -96.3718,
              42.3142
             ],
             [
              -96.37,
              42.3109
             ],
             [
              -96.3692,
              42.3083
             ],
             [
              -96.3685,
              42.3036
             ],
             [
              -96.3685,
              42.2918
             ],
             [
              -96.3658,
              42.2859
             ],
             [
              -96.3608,
              42.2799
             ],
             [
              -96.3564,
              42.2765
             ],
             [
              -96.7267,
              42.278
             ],
             [
              -96.7266,
              42.2804
             ]
            ]
           ]
          ],
          "type": "MultiPolygon"
         },
         "properties": {
          "AFFGEOID": "0500000US31043",
          "ALAND": 684422627,
          "ALANDMI": 264.2569,
          "AWATER": 8193327,
          "COUNTYFP": "043",
          "COUNTYNS": "00835843",
          "GEOID": "31043",
          "LSAD": "06",
          "NAME": "Dakota",
          "STATEFP": "31",
          "n": 39,
          "stn_sq_mi": 0.1476
         },
         "type": "Feature"
        },
        {
         "geometry": {
          "coordinates": [
           [
            [
             [
              -96.5549,
              42.0159
             ],
             [
              -96.4604,
              42.0171
             ],
             [
              -96.3096,
              42.0152
             ],
             [
              -96.3094,
              42.0467
             ],
             [
              -96.2729,
              42.0473
             ],
             [
              -96.2729,
              42.0472
             ],
             [
              -96.2714,
              42.045
             ],
             [
              -96.2686,
              42.0423
             ],
             [
              -96.2639,
              42.0399
             ],
             [
              -96.2611,
              42.039
             ],
             [
              -96.2561,
              42.0381
             ],
             [
              -96.2545,
              42.0395
             ],
             [
              -96.2468,
              42.0416
             ],
             [
              -96.2384,
              42.0411
             ],
             [
              -96.2321,
              42.0391
             ],
             [
              -96.2257,
              42.0352
             ],
             [
              -96.2238,
              42.0333
             ],
             [
              -96.2219,
              42.0296
             ],
             [
              -96.2217,
              42.0262
             ],
             [
              -96.2236,
              42.0227
             ],
             [
              -96.2279,
              42.0187
             ],
             [
              -96.2389,
              42.0123
             ],
             [
              -96.2419,
              42.007
             ],
             [
              -96.2424,
              42.0029
             ],
             [
              -96.242,
              42.0009
             ],
             [
              -96.2407,
              41.9994
             ],
             [
              -96.2365,
              41.9964
             ],
             [
              -96.2297,
              41.9944
             ],
             [
              -96.2255,
              41.9947
             ],
             [
              -96.2239,
              41.9955
             ],
             [
              -96.2218,
              41.9974
             ],
             [
              -96.2176,
              42.0039
             ],
             [
              -96.2152,
              42.0067
             ],
             [
              -96.2061,
              42.0093
             ],
             [
              -96.1946,
              42.0087
             ],
             [
              -96.1881,
              42.0063
             ],
             [
              -96.1846,
              42.0026
             ],
             [
              -96.1836,
              42
             ],
             [
              -96.1838,
              41.9978
             ],
             [
              -96.1848,
              41.9955
             ],
             [
              -96.1895,
              41.9893
             ],
             [
              -96.1921,
              41.9845
             ],
             [
              -96.1915,
              41.982
             ],
             [
              -96.1906,
              41.9807
             ],
             [
              -96.1863,
              41.9774
             ],
             [
              -96.1842,
              41.9767
             ],
             [
              -96.1772,
              41.9763
             ],
             [
              -96.1742,
              41.9769
             ],
             [
              -96.1681,
              41.979
             ],
             [
              -96.1607,
              41.9801
             ],
             [
              -96.1565,
              41.9801
             ],
             [
              -96.1412,
              41.9781
             ],
             [
              -96.1325,
              41.9746
             ],
             [
              -96.1295,
              41.9717
             ],
             [
              -96.1289,
              41.9697
             ],
             [
              -96.1292,
              41.9651
             ],
             [
              -96.1333,
              41.9557
             ],
             [
              -96.1354,
              41.9522
             ],
             [
              -96.1426,
              41.9459
             ],
             [
              -96.1436,
              41.9445
             ],
             [
              -96.1446,
              41.9415
             ],
             [
              -96.1435,
              41.9374
             ],
             [
              -96.1366,
              41.9272
             ],
             [
              -96.1361,
              41.9235
             ],
             [
              -96.1367,
              41.9208
             ],
             [
              -96.1397,
              41.9168
             ],
             [
              -96.1423,
              41.9154
             ],
             [
              -96.1543,
              41.9124
             ],
             [
              -96.1591,
              41.9101
             ],
             [
              -96.1608,
              41.908
             ],
             [
              -96.162,
              41.9056
             ],
             [
              -96.1618,
              41.9018
             ],
             [
              -96.1582,
              41.8972
             ],
             [
              -96.1522,
              41.8921
             ],
             [
              -96.1488,
              41.8881
             ],
             [
              -96.1473,
              41.8848
             ],
             [
              -96.1468,
              41.8775
             ],
             [
              -96.1461,
              41.875
             ],
             [
              -96.1445,
              41.8719
             ],
             [
              -96.142,
              41.8689
             ],
             [
              -96.139,
              41.8663
             ],
             [
              -96.1353,
              41.8631
             ],
             [
              -96.1306,
              41.8608
             ],
             [
              -96.1232,
              41.8586
             ],
             [
              -96.1162,
              41.8549
             ],
             [
              -96.114,
              41.8531
             ],
             [
              -96.1102,
              41.8488
             ],
             [
              -96.108,
              41.8444
             ],
             [
              -96.1079,
              41.8403
             ],
             [
              -96.1109,
              41.8308
             ],
             [
              -96.1108,
              41.8282
             ],
             [
              -96.1093,
              41.8237
             ],
             [
              -96.1076,
              41.8207
             ],
             [
              -96.1037,
              41.8172
             ],
             [
              -96.0983,
              41.8142
             ],
             [
              -96.0938,
              41.8128
             ],
             [
              -96.081,
              41.8101
             ],
             [
              -96.0755,
              41.8078
             ],
             [
              -96.0697,
              41.8035
             ],
             [
              -96.0673,
              41.8006
             ],
             [
              -96.0649,
              41.7962
             ],
             [
              -96.0645,
              41.793
             ],
             [
              -96.0664,
              41.7889
             ],
             [
              -96.0732,
              41.783
             ],
             [
              -96.0775,
              41.7778
             ],
             [
              -96.0789,
              41.7714
             ],
             [
              -96.0783,
              41.7616
             ],
             [
              -96.0799,
              41.7579
             ],
             [
              -96.0847,
              41.7533
             ],
             [
              -96.0917,
              41.7504
             ],
             [
              -96.0975,
              41.7491
             ],
             [
              -96.1028,
              41.7463
             ],
             [
              -96.1046,
              41.7442
             ],
             [
              -96.1064,
              41.7379
             ],
             [
              -96.1063,
              41.7346
             ],
             [
              -96.1056,
              41.7316
             ],
             [
              -96.1026,
              41.728
             ],
             [
              -96.0876,
              41.7222
             ],
             [
              -96.0797,
              41.718
             ],
             [
              -96.0752,
              41.7133
             ],
             [
              -96.0734,
              41.7107
             ],
             [
              -96.0725,
              41.7088
             ],
             [
              -96.0723,
              41.7069
             ],
             [
              -96.0731,
              41.705
             ],
             [
              -96.076,
              41.7017
             ],
             [
              -96.0824,
              41.6982
             ],
             [
              -96.0906,
              41.6974
             ],
             [
              -96.1051,
              41.6999
             ],
             [
              -96.112,
              41.6978
             ],
             [
              -96.1178,
              41.6942
             ],
             [
              -96.1202,
              41.6912
             ],
             [
              -96.1214,
              41.6885
             ],
             [
              -96.1217,
              41.683
             ],
             [
              -96.4448,
              41.6836
             ],
             [
              -96.4442,
              41.7418
             ],
             [
              -96.5552,
              41.742
             ],
             [
              -96.5549,
              42.0159
             ]
            ]
           ]
          ],
          "type": "MultiPolygon"
         },
         "properties": {
          "AFFGEOID": "0500000US31021",
          "ALAND": 1273201345,
          "ALANDMI": 491.5856,
          "AWATER": 14186270,
          "COUNTYFP": "021",
          "COUNTYNS": "00835832",
          "GEOID": "31021",
          "LSAD": "06",
          "NAME": "Burt",
          "STATEFP": "31",
          "n": 45,
          "stn_sq_mi": 0.0915
         },
         "type": "Feature"
        },
        {
         "geometry": {
          "coordinates": [
           [
            [
             [
              -97.0178,
              42.3513
             ],
             [
              -97.0177,
              42.4379
             ],
             [
              -97.0158,
              42.7616
             ],
             [
              -96.9928,
              42.7595
             ],
             [
              -96.9822,
              42.7606
             ],
             [
              -96.9791,
              42.7601
             ],
             [
              -96.9753,
              42.7583
             ],
             [
              -96.9689,
              42.7543
             ],
             [
              -96.9612,
              42.7406
             ],
             [
              -96.9609,
              42.7391
             ],
             [
              -96.9613,
              42.7366
             ],
             [
              -96.9658,
              42.7271
             ],
             [
              -96.9657,
              42.7245
             ],
             [
              -96.9648,
              42.7225
             ],
             [
              -96.9635,
              42.7206
             ],
             [
              -96.9616,
              42.7198
             ],
             [
              -96.9559,
              42.7192
             ],
             [
              -96.9489,
              42.7195
             ],
             [
              -96.9411,
              42.7216
             ],
             [
              -96.9368,
              42.7234
             ],
             [
              -96.9302,
              42.7264
             ],
             [
              -96.9242,
              42.7303
             ],
             [
              -96.9205,
              42.7314
             ],
             [
              -96.9068,
              42.7338
             ],
             [
              -96.8868,
              42.7252
             ],
             [
              -96.8728,
              42.7241
             ],
             [
              -96.8604,
              42.7208
             ],
             [
              -96.85,
              42.715
             ],
             [
              -96.8434,
              42.712
             ],
             [
              -96.8296,
              42.7084
             ],
             [
              -96.8195,
              42.7078
             ],
             [
              -96.8131,
              42.7064
             ],
             [
              -96.8062,
              42.7042
             ],
             [
              -96.8017,
              42.6988
             ],
             [
              -96.8005,
              42.6925
             ],
             [
              -96.8002,
              42.6843
             ],
             [
              -96.8022,
              42.6722
             ],
             [
              -96.801,
              42.6698
             ],
             [
              -96.7987,
              42.6682
             ],
             [
              -96.7932,
              42.666
             ],
             [
              -96.7782,
              42.663
             ],
             [
              -96.7641,
              42.662
             ],
             [
              -96.7512,
              42.6644
             ],
             [
              -96.7494,
              42.6657
             ],
             [
              -96.7469,
              42.6662
             ],
             [
              -96.7355,
              42.6672
             ],
             [
              -96.728,
              42.6669
             ],
             [
              -96.6976,
              42.6591
             ],
             [
              -96.6913,
              42.6562
             ],
             [
              -96.6877,
              42.6531
             ],
             [
              -96.6871,
              42.6521
             ],
             [
              -96.687,
              42.6498
             ],
             [
              -96.6878,
              42.646
             ],
             [
              -96.6891,
              42.6441
             ],
             [
              -96.6926,
              42.642
             ],
             [
              -96.6969,
              42.6376
             ],
             [
              -96.7073,
              42.6253
             ],
             [
              -96.7095,
              42.6219
             ],
             [
              -96.7113,
              42.6174
             ],
             [
              -96.7115,
              42.6148
             ],
             [
              -96.711,
              42.6081
             ],
             [
              -96.7093,
              42.6038
             ],
             [
              -96.7064,
              42.5994
             ],
             [
              -96.6973,
              42.5904
             ],
             [
              -96.6857,
              42.5779
             ],
             [
              -96.6814,
              42.5745
             ],
             [
              -96.676,
              42.5716
             ],
             [
              -96.6588,
              42.5664
             ],
             [
              -96.6481,
              42.5609
             ],
             [
              -96.6436,
              42.5576
             ],
             [
              -96.638,
              42.552
             ],
             [
              -96.6353,
              42.5476
             ],
             [
              -96.6333,
              42.5402
             ],
             [
              -96.6333,
              42.532
             ],
             [
              -96.6329,
              42.529
             ],
             [
              -96.6315,
              42.5243
             ],
             [
              -96.7222,
              42.5247
             ],
             [
              -96.722,
              42.4375
             ],
             [
              -96.7264,
              42.4296
             ],
             [
              -96.7266,
              42.2804
             ],
             [
              -96.7267,
              42.278
             ],
             [
              -96.7262,
              42.2641
             ],
             [
              -96.8225,
              42.2643
             ],
             [
              -96.8231,
              42.2643
             ],
             [
              -97.0177,
              42.2645
             ],
             [
              -97.0178,
              42.3513
             ]
            ]
           ]
          ],
          "type": "MultiPolygon"
         },
         "properties": {
          "AFFGEOID": "0500000US31051",
          "ALAND": 1233120001,
          "ALANDMI": 476.1101,
          "AWATER": 17111893,
          "COUNTYFP": "051",
          "COUNTYNS": "00835847",
          "GEOID": "31051",
          "LSAD": "06",
          "NAME": "Dixon",
          "STATEFP": "31",
          "n": 37,
          "stn_sq_mi": 0.0777
         },
         "type": "Feature"
        },
        {
         "geometry": {
          "coordinates": [
           [
            [
             [
              -96.0102,
              40.2615
             ],
             [
              -95.5525,
              40.2619
             ],
             [
              -95.5472,
              40.2591
             ],
             [
              -95.5219,
              40.2495
             ],
             [
              -95.5155,
              40.2485
             ],
             [
              -95.5003,
              40.2496
             ],
             [
              -95.4903,
              40.249
             ],
             [
              -95.486,
              40.2478
             ],
             [
              -95.4828,
              40.2463
             ],
             [
              -95.4775,
              40.2427
             ],
             [
              -95.4725,
              40.2361
             ],
             [
              -95.4703,
              40.2308
             ],
             [
              -95.4697,
              40.2279
             ],
             [
              -95.4701,
              40.2215
             ],
             [
              -95.4714,
              40.2173
             ],
             [
              -95.4735,
              40.2135
             ],
             [
              -95.4779,
              40.2086
             ],
             [
              -95.4823,
              40.2007
             ],
             [
              -95.4828,
              40.1973
             ],
             [
              -95.4825,
              40.1923
             ],
             [
              -95.481,
              40.1885
             ],
             [
              -95.4792,
              40.1857
             ],
             [
              -95.4763,
              40.182
             ],
             [
              -95.4711,
              40.1769
             ],
             [
              -95.4607,
              40.1692
             ],
             [
              -95.4549,
              40.1666
             ],
             [
              -95.4428,
              40.1633
             ],
             [
              -95.4407,
              40.1623
             ],
             [
              -95.4363,
              40.1587
             ],
             [
              -95.4348,
              40.156
             ],
             [
              -95.4338,
              40.1529
             ],
             [
              -95.4334,
              40.1461
             ],
             [
              -95.4322,
              40.141
             ],
             [
              -95.431,
              40.1384
             ],
             [
              -95.4287,
              40.1356
             ],
             [
              -95.4248,
              40.1328
             ],
             [
              -95.4192,
              40.1306
             ],
             [
              -95.4095,
              40.1301
             ],
             [
              -95.4044,
              40.129
             ],
             [
              -95.3987,
              40.1264
             ],
             [
              -95.3954,
              40.1228
             ],
             [
              -95.3933,
              40.1192
             ],
             [
              -95.3928,
              40.1159
             ],
             [
              -95.3931,
              40.1112
             ],
             [
              -95.3942,
              40.1083
             ],
             [
              -95.3971,
              40.1052
             ],
             [
              -95.4001,
              40.1032
             ],
             [
              -95.4076,
              40.098
             ],
             [
              -95.4106,
              40.0915
             ],
             [
              -95.4092,
              40.0842
             ],
             [
              -95.4085,
              40.0792
             ],
             [
              -95.4099,
              40.0743
             ],
             [
              -95.4147,
              40.0698
             ],
             [
              -95.4183,
              40.0665
             ],
             [
              -95.4206,
              40.0626
             ],
             [
              -95.4216,
              40.059
             ],
             [
              -95.4193,
              40.0484
             ],
             [
              -95.4168,
              40.0432
             ],
             [
              -95.4136,
              40.0384
             ],
             [
              -95.4073,
              40.0331
             ],
             [
              -95.4027,
              40.0306
             ],
             [
              -95.3959,
              40.028
             ],
             [
              -95.3915,
              40.0271
             ],
             [
              -95.3872,
              40.0268
             ],
             [
              -95.383,
              40.0271
             ],
             [
              -95.364,
              40.0315
             ],
             [
              -95.3569,
              40.0315
             ],
             [
              -95.3488,
              40.0293
             ],
             [
              -95.3466,
              40.0283
             ],
             [
              -95.3362,
              40.0191
             ],
             [
              -95.3285,
              40.0157
             ],
             [
              -95.318,
              40.0132
             ],
             [
              -95.3153,
              40.0121
             ],
             [
              -95.3122,
              40.0094
             ],
             [
              -95.3112,
              40.0078
             ],
             [
              -95.3085,
              40.0022
             ],
             [
              -95.3083,
              40
             ],
             [
              -95.3399,
              40
             ],
             [
              -95.3753,
              40
             ],
             [
              -95.7846,
              40.0005
             ],
             [
              -95.788,
              40.0005
             ],
             [
              -95.7881,
              40.0005
             ],
             [
              -95.8825,
              40.0005
             ],
             [
              -95.9581,
              40.0005
             ],
             [
              -96.0107,
              40.0006
             ],
             [
              -96.0102,
              40.2615
             ]
            ]
           ]
          ],
          "type": "MultiPolygon"
         },
         "properties": {
          "AFFGEOID": "0500000US31147",
          "ALAND": 1429261306,
          "ALANDMI": 551.8406,
          "AWATER": 7077613,
          "COUNTYFP": "147",
          "COUNTYNS": "00835895",
          "GEOID": "31147",
          "LSAD": "06",
          "NAME": "Richardson",
          "STATEFP": "31",
          "n": 19,
          "stn_sq_mi": 0.0344
         },
         "type": "Feature"
        },
        {
         "geometry": {
          "coordinates": [
           [
            [
             [
              -104.0535,
              41.1573
             ],
             [
              -104.0527,
              41.2753
             ],
             [
              -104.0526,
              41.278
             ],
             [
              -104.0525,
              41.2782
             ],
             [
              -104.0526,
              41.3162
             ],
             [
              -104.0525,
              41.321
             ],
             [
              -104.0523,
              41.3211
             ],
             [
              -104.0527,
              41.3306
             ],
             [
              -104.0523,
              41.3932
             ],
             [
              -103.4528,
              41.3935
             ],
             [
              -103.3776,
              41.3946
             ],
             [
              -103.376,
              41.0478
             ],
             [
              -103.3823,
              41.0477
             ],
             [
              -103.3825,
              41.0022
             ],
             [
              -103.397,
              41.0026
             ],
             [
              -103.4219,
              41.002
             ],
             [
              -103.422,
              41.002
             ],
             [
              -103.4867,
              41.0019
             ],
             [
              -103.4974,
              41.0016
             ],
             [
              -103.5738,
              41.0017
             ],
             [
              -103.5745,
              41.0017
             ],
             [
              -103.7505,
              41.0021
             ],
             [
              -103.8584,
              41.0017
             ],
             [
              -103.878,
              41.0017
             ],
             [
              -103.8962,
              41.0018
             ],
             [
              -103.9063,
              41.0014
             ],
             [
              -103.9535,
              41.0016
             ],
             [
              -103.9714,
              41.0015
             ],
             [
              -103.9726,
              41.0016
             ],
             [
              -104.0182,
              41.0016
             ],
             [
              -104.0234,
              41.0019
             ],
             [
              -104.0392,
              41.0015
             ],
             [
              -104.0532,
              41.0014
             ],
             [
              -104.0532,
              41.0168
             ],
             [
              -104.0531,
              41.018
             ],
             [
              -104.0532,
              41.0897
             ],
             [
              -104.053,
              41.0903
             ],
             [
              -104.0531,
              41.105
             ],
             [
              -104.0531,
              41.1145
             ],
             [
              -104.0535,
              41.1573
             ]
            ]
           ]
          ],
          "type": "MultiPolygon"
         },
         "properties": {
          "AFFGEOID": "0500000US31105",
          "ALAND": 2465269087,
          "ALANDMI": 951.8453,
          "AWATER": 1448446,
          "COUNTYFP": "105",
          "COUNTYNS": "00835874",
          "GEOID": "31105",
          "LSAD": "06",
          "NAME": "Kimball",
          "STATEFP": "31",
          "n": 32,
          "stn_sq_mi": 0.0336
         },
         "type": "Feature"
        },
        {
         "geometry": {
          "coordinates": [
           [
            [
             [
              -96.8225,
              42.2643
             ],
             [
              -96.7262,
              42.2641
             ],
             [
              -96.7267,
              42.278
             ],
             [
              -96.3564,
              42.2765
             ],
             [
              -96.3564,
              42.2765
             ],
             [
              -96.3414,
              42.2691
             ],
             [
              -96.336,
              42.2648
             ],
             [
              -96.3313,
              42.2594
             ],
             [
              -96.3289,
              42.2547
             ],
             [
              -96.3277,
              42.25
             ],
             [
              -96.329,
              42.2419
             ],
             [
              -96.33,
              42.2402
             ],
             [
              -96.3229,
              42.2336
             ],
             [
              -96.3228,
              42.2315
             ],
             [
              -96.3237,
              42.2299
             ],
             [
              -96.332,
              42.2216
             ],
             [
              -96.3363,
              42.2189
             ],
             [
              -96.3391,
              42.2181
             ],
             [
              -96.3451,
              42.2175
             ],
             [
              -96.3566,
              42.2152
             ],
             [
              -96.3567,
              42.2151
             ],
             [
              -96.3581,
              42.2141
             ],
             [
              -96.3599,
              42.2105
             ],
             [
              -96.3591,
              42.2078
             ],
             [
              -96.3515,
              42.2005
             ],
             [
              -96.3492,
              42.1973
             ],
             [
              -96.3481,
              42.1947
             ],
             [
              -96.3472,
              42.1867
             ],
             [
              -96.3503,
              42.1774
             ],
             [
              -96.3497,
              42.172
             ],
             [
              -96.3478,
              42.1668
             ],
             [
              -96.3424,
              42.1605
             ],
             [
              -96.338,
              42.1572
             ],
             [
              -96.3259,
              42.1515
             ],
             [
              -96.3195,
              42.1466
             ],
             [
              -96.317,
              42.1432
             ],
             [
              -96.3138,
              42.1363
             ],
             [
              -96.3101,
              42.1325
             ],
             [
              -96.3059,
              42.1298
             ],
             [
              -96.301,
              42.128
             ],
             [
              -96.2857,
              42.1256
             ],
             [
              -96.2792,
              42.1235
             ],
             [
              -96.275,
              42.1208
             ],
             [
              -96.2723,
              42.1184
             ],
             [
              -96.2689,
              42.1136
             ],
             [
              -96.2673,
              42.1103
             ],
             [
              -96.2666,
              42.1033
             ],
             [
              -96.2676,
              42.0962
             ],
             [
              -96.2718,
              42.0887
             ],
             [
              -96.2741,
              42.0859
             ],
             [
              -96.2768,
              42.0814
             ],
             [
              -96.2791,
              42.074
             ],
             [
              -96.2793,
              42.0703
             ],
             [
              -96.2784,
              42.0604
             ],
             [
              -96.2755,
              42.052
             ],
             [
              -96.2729,
              42.0473
             ],
             [
              -96.3094,
              42.0467
             ],
             [
              -96.3096,
              42.0152
             ],
             [
              -96.4604,
              42.0171
             ],
             [
              -96.5549,
              42.0159
             ],
             [
              -96.5555,
              42.09
             ],
             [
              -96.8237,
              42.0904
             ],
             [
              -96.8225,
              42.2643
             ]
            ]
           ]
          ],
          "type": "MultiPolygon"
         },
         "properties": {
          "AFFGEOID": "0500000US31173",
          "ALAND": 1019377261,
          "ALANDMI": 393.5836,
          "AWATER": 6458662,
          "COUNTYFP": "173",
          "COUNTYNS": "00835908",
          "GEOID": "31173",
          "LSAD": "06",
          "NAME": "Thurston",
          "STATEFP": "31",
          "n": 14,
          "stn_sq_mi": 0.0356
         },
         "type": "Feature"
        },
        {
         "geometry": {
          "coordinates": [
           [
            [
             [
              -104.0529,
              41.9061
             ],
             [
              -104.053,
              41.915
             ],
             [
              -104.0527,
              41.973
             ],
             [
              -104.0529,
              41.976
             ],
             [
              -104.0528,
              41.9946
             ],
             [
              -104.0528,
              41.995
             ],
             [
              -104.0527,
              41.9987
             ],
             [
              -104.0527,
              42.0017
             ],
             [
              -103.4016,
              42.0035
             ],
             [
              -103.3633,
              42.0029
             ],
             [
              -103.3626,
              41.7435
             ],
             [
              -103.3704,
              41.7435
             ],
             [
              -103.3704,
              41.6992
             ],
             [
              -103.389,
              41.6998
             ],
             [
              -104.0528,
              41.698
             ],
             [
              -104.0528,
              41.7334
             ],
             [
              -104.053,
              41.8855
             ],
             [
              -104.0529,
              41.9061
             ]
            ]
           ]
          ],
          "type": "MultiPolygon"
         },
         "properties": {
          "AFFGEOID": "0500000US31157",
          "ALAND": 1915079306,
          "ALANDMI": 739.416,
          "AWATER": 15397684,
          "COUNTYFP": "157",
          "COUNTYNS": "00835900",
          "GEOID": "31157",
          "LSAD": "06",
          "NAME": "Scotts Bluff",
          "STATEFP": "31",
          "n": 16,
          "stn_sq_mi": 0.0216
         },
         "type": "Feature"
        },
        {
         "geometry": {
          "coordinates": [
           [
            [
             [
              -100.2512,
              41.7398
             ],
             [
              -99.6868,
              41.7403
             ],
             [
              -99.2218,
              41.7408
             ],
             [
              -99.212,
              41.7406
             ],
             [
              -99.2125,
              41.3942
             ],
             [
              -99.2033,
              41.3941
             ],
             [
              -99.2076,
              41.047
             ],
             [
              -99.426,
              41.0465
             ],
             [
              -100.2242,
              41.0466
             ],
             [
              -100.2382,
              41.0465
             ],
             [
              -100.2343,
              41.28
             ],
             [
              -100.2362,
              41.322
             ],
             [
              -100.2361,
              41.3933
             ],
             [
              -100.2511,
              41.3933
             ],
             [
              -100.2512,
              41.7398
             ]
            ]
           ]
          ],
          "type": "MultiPolygon"
         },
         "properties": {
          "AFFGEOID": "0500000US31041",
          "ALAND": 6670757262,
          "ALANDMI": 2575.5927,
          "AWATER": 932956,
          "COUNTYFP": "041",
          "COUNTYNS": "00835842",
          "GEOID": "31041",
          "LSAD": "06",
          "NAME": "Custer",
          "STATEFP": "31",
          "n": 39,
          "stn_sq_mi": 0.0151
         },
         "type": "Feature"
        },
        {
         "geometry": {
          "coordinates": [
           [
            [
             [
              -102.6209,
              41.048
             ],
             [
              -102.6102,
              41.0482
             ],
             [
              -102.6104,
              41.2216
             ],
             [
              -102.0555,
              41.2215
             ],
             [
              -102.0555,
              41.0475
             ],
             [
              -102.0518,
              41.0039
             ],
             [
              -102.0517,
              41.0024
             ],
             [
              -102.0706,
              41.0024
             ],
             [
              -102.125,
              41.0023
             ],
             [
              -102.1912,
              41.0023
             ],
             [
              -102.2094,
              41.0024
             ],
             [
              -102.2122,
              41.0025
             ],
             [
              -102.2319,
              41.0023
             ],
             [
              -102.2678,
              41.0024
             ],
             [
              -102.2721,
              41.0022
             ],
             [
              -102.2914,
              41.0022
             ],
             [
              -102.2926,
              41.0022
             ],
             [
              -102.2926,
              41.0022
             ],
             [
              -102.2928,
              41.0022
             ],
             [
              -102.3641,
              41.0022
             ],
             [
              -102.3796,
              41.0023
             ],
             [
              -102.4692,
              41.0024
             ],
             [
              -102.4705,
              41.0024
             ],
             [
              -102.488,
              41.0024
             ],
             [
              -102.5568,
              41.0022
             ],
             [
              -102.566,
              41.0022
             ],
             [
              -102.5755,
              41.0022
             ],
             [
              -102.5757,
              41.0023
             ],
             [
              -102.5787,
              41.0023
             ],
             [
              -102.621,
              41.0026
             ],
             [
              -102.6209,
              41.048
             ]
            ]
           ]
          ],
          "type": "MultiPolygon"
         },
         "properties": {
          "AFFGEOID": "0500000US31049",
          "ALAND": 1139208972,
          "ALANDMI": 439.8509,
          "AWATER": 2230956,
          "COUNTYFP": "049",
          "COUNTYNS": "00835846",
          "GEOID": "31049",
          "LSAD": "06",
          "NAME": "Deuel",
          "STATEFP": "31",
          "n": 37,
          "stn_sq_mi": 0.0841
         },
         "type": "Feature"
        },
        {
         "geometry": {
          "coordinates": [
           [
            [
             [
              -97.0194,
              42.0906
             ],
             [
              -96.8237,
              42.0904
             ],
             [
              -96.5555,
              42.09
             ],
             [
              -96.5549,
              42.0159
             ],
             [
              -96.5552,
              41.742
             ],
             [
              -96.9059,
              41.7428
             ],
             [
              -97.0199,
              41.743
             ],
             [
              -97.0194,
              42.0906
             ]
            ]
           ]
          ],
          "type": "MultiPolygon"
         },
         "properties": {
          "AFFGEOID": "0500000US31039",
          "ALAND": 1477652222,
          "ALANDMI": 570.5245,
          "AWATER": 10690952,
          "COUNTYFP": "039",
          "COUNTYNS": "00835841",
          "GEOID": "31039",
          "LSAD": "06",
          "NAME": "Cuming",
          "STATEFP": "31",
          "n": 39,
          "stn_sq_mi": 0.0684
         },
         "type": "Feature"
        },
        {
         "geometry": {
          "coordinates": [
           [
            [
             [
              -100.7812,
              40.6556
             ],
             [
              -100.7778,
              40.7001
             ],
             [
              -100.2233,
              40.7003
             ],
             [
              -99.9817,
              40.7
             ],
             [
              -99.9812,
              40.4383
             ],
             [
              -100.0951,
              40.4387
             ],
             [
              -100.0948,
              40.3512
             ],
             [
              -100.1978,
              40.35
             ],
             [
              -100.367,
              40.3515
             ],
             [
              -100.7584,
              40.3495
             ],
             [
              -100.7774,
              40.3495
             ],
             [
              -100.7796,
              40.375
             ],
             [
              -100.7812,
              40.6556
             ]
            ]
           ]
          ],
          "type": "MultiPolygon"
         },
         "properties": {
          "AFFGEOID": "0500000US31063",
          "ALAND": 2524283235,
          "ALANDMI": 974.6308,
          "AWATER": 14110075,
          "COUNTYFP": "063",
          "COUNTYNS": "00835853",
          "GEOID": "31063",
          "LSAD": "06",
          "NAME": "Frontier",
          "STATEFP": "31",
          "n": 35,
          "stn_sq_mi": 0.0359
         },
         "type": "Feature"
        },
        {
         "geometry": {
          "coordinates": [
           [
            [
             [
              -100.1978,
              40.35
             ],
             [
              -100.0948,
              40.3512
             ],
             [
              -99.6422,
              40.3512
             ],
             [
              -99.6305,
              40.3511
             ],
             [
              -99.6283,
              40.0019
             ],
             [
              -99.6283,
              40.0019
             ],
             [
              -99.7196,
              40.0018
             ],
             [
              -99.732,
              40.0018
             ],
             [
              -99.7466,
              40.0018
             ],
             [
              -99.7568,
              40.0013
             ],
             [
              -99.7642,
              40.0016
             ],
             [
              -99.7721,
              40.0018
             ],
             [
              -99.7756,
              40.0016
             ],
             [
              -99.8134,
              40.0014
             ],
             [
              -99.9067,
              40.0015
             ],
             [
              -99.9304,
              40.0015
             ],
             [
              -99.9444,
              40.0016
             ],
             [
              -99.9482,
              40.0018
             ],
             [
              -99.9866,
              40.0016
             ],
             [
              -99.9909,
              40.0015
             ],
             [
              -100.1778,
              40.0016
             ],
             [
              -100.1778,
              40.0016
             ],
             [
              -100.1882,
              40.0015
             ],
             [
              -100.1903,
              40.0016
             ],
             [
              -100.1936,
              40.0016
             ],
             [
              -100.1978,
              40.35
             ]
            ]
           ]
          ],
          "type": "MultiPolygon"
         },
         "properties": {
          "AFFGEOID": "0500000US31065",
          "ALAND": 1862542302,
          "ALANDMI": 719.1313,
          "AWATER": 3915843,
          "COUNTYFP": "065",
          "COUNTYNS": "00835854",
          "GEOID": "31065",
          "LSAD": "06",
          "NAME": "Furnas",
          "STATEFP": "31",
          "n": 35,
          "stn_sq_mi": 0.0487
         },
         "type": "Feature"
        },
        {
         "geometry": {
          "coordinates": [
           [
            [
             [
              -100.0951,
              40.4387
             ],
             [
              -99.9812,
              40.4383
             ],
             [
              -99.9817,
              40.7
             ],
             [
              -99.6993,
              40.7
             ],
             [
              -99.6435,
              40.6849
             ],
             [
              -99.6422,
              40.3512
             ],
             [
              -100.0948,
              40.3512
             ],
             [
              -100.0951,
              40.4387
             ]
            ]
           ]
          ],
          "type": "MultiPolygon"
         },
         "properties": {
          "AFFGEOID": "0500000US31073",
          "ALAND": 1186616237,
          "ALANDMI": 458.1549,
          "AWATER": 11831826,
          "COUNTYFP": "073",
          "COUNTYNS": "00835858",
          "GEOID": "31073",
          "LSAD": "06",
          "NAME": "Gosper",
          "STATEFP": "31",
          "n": 34,
          "stn_sq_mi": 0.0742
         },
         "type": "Feature"
        },
        {
         "geometry": {
          "coordinates": [
           [
            [
             [
              -99.4258,
              40.8726
             ],
             [
              -99.426,
              41.0465
             ],
             [
              -99.2076,
              41.047
             ],
             [
              -98.7485,
              41.0466
             ],
             [
              -98.722,
              41.0467
             ],
             [
              -98.7219,
              40.9168
             ],
             [
              -98.7214,
              40.6989
             ],
             [
              -98.7244,
              40.6898
             ],
             [
              -98.8266,
              40.6748
             ],
             [
              -98.8684,
              40.6592
             ],
             [
              -98.9061,
              40.6527
             ],
             [
              -98.9754,
              40.6568
             ],
             [
              -98.9972,
              40.6521
             ],
             [
              -99.0345,
              40.6527
             ],
             [
              -99.081,
              40.657
             ],
             [
              -99.1146,
              40.6548
             ],
             [
              -99.1539,
              40.659
             ],
             [
              -99.1705,
              40.6585
             ],
             [
              -99.1792,
              40.6605
             ],
             [
              -99.2447,
              40.6594
             ],
             [
              -99.3026,
              40.6641
             ],
             [
              -99.3316,
              40.6714
             ],
             [
              -99.376,
              40.6643
             ],
             [
              -99.4117,
              40.6676
             ],
             [
              -99.4173,
              40.6708
             ],
             [
              -99.4164,
              40.6997
             ],
             [
              -99.4264,
              40.6998
             ],
             [
              -99.4258,
              40.8726
             ]
            ]
           ]
          ],
          "type": "MultiPolygon"
         },
         "properties": {
          "AFFGEOID": "0500000US31019",
          "ALAND": 2507679138,
          "ALANDMI": 968.2199,
          "AWATER": 18593313,
          "COUNTYFP": "019",
          "COUNTYNS": "00835831",
          "GEOID": "31019",
          "LSAD": "06",
          "NAME": "Buffalo",
          "STATEFP": "31",
          "n": 46,
          "stn_sq_mi": 0.0475
         },
         "type": "Feature"
        },
        {
         "geometry": {
          "coordinates": [
           [
            [
             [
              -97.4849,
              42.8504
             ],
             [
              -97.4705,
              42.8505
             ],
             [
              -97.4617,
              42.8492
             ],
             [
              -97.4588,
              42.8483
             ],
             [
              -97.4564,
              42.8469
             ],
             [
              -97.4522,
              42.846
             ],
             [
              -97.4423,
              42.8462
             ],
             [
              -97.4391,
              42.8471
             ],
             [
              -97.432,
              42.8515
             ],
             [
              -97.4255,
              42.8567
             ],
             [
              -97.4251,
              42.8582
             ],
             [
              -97.4232,
              42.8612
             ],
             [
              -97.4171,
              42.8659
             ],
             [
              -97.4134,
              42.8674
             ],
             [
              -97.4083,
              42.8683
             ],
             [
              -97.4044,
              42.8678
             ],
             [
              -97.3993,
              42.8648
             ],
             [
              -97.394,
              42.8642
             ],
             [
              -97.3767,
              42.8652
             ],
             [
              -97.3753,
              42.863
             ],
             [
              -97.3686,
              42.8584
             ],
             [
              -97.3618,
              42.8551
             ],
             [
              -97.3596,
              42.8548
             ],
             [
              -97.3412,
              42.8559
             ],
             [
              -97.3362,
              42.8568
             ],
             [
              -97.3307,
              42.8584
             ],
             [
              -97.3285,
              42.8595
             ],
             [
              -97.3263,
              42.8613
             ],
             [
              -97.3245,
              42.862
             ],
             [
              -97.3181,
              42.8632
             ],
             [
              -97.3111,
              42.8658
             ],
             [
              -97.3089,
              42.8673
             ],
             [
              -97.3067,
              42.8676
             ],
             [
              -97.3021,
              42.8657
             ],
             [
              -97.2899,
              42.8555
             ],
             [
              -97.2679,
              42.8526
             ],
             [
              -97.2568,
              42.8539
             ],
             [
              -97.2518,
              42.8554
             ],
             [
              -97.2486,
              42.8554
             ],
             [
              -97.2379,
              42.8531
             ],
             [
              -97.2319,
              42.8513
             ],
             [
              -97.2188,
              42.8458
             ],
             [
              -97.2174,
              42.8435
             ],
             [
              -97.2183,
              42.8296
             ],
             [
              -97.2178,
              42.8278
             ],
             [
              -97.2151,
              42.823
             ],
             [
              -97.214,
              42.8201
             ],
             [
              -97.2131,
              42.813
             ],
             [
              -97.2117,
              42.8107
             ],
             [
              -97.2101,
              42.8093
             ],
             [
              -97.2047,
              42.8065
             ],
             [
              -97.2004,
              42.8055
             ],
             [
              -97.1876,
              42.8048
             ],
             [
              -97.1785,
              42.8032
             ],
             [
              -97.1721,
              42.8029
             ],
             [
              -97.167,
              42.8021
             ],
             [
              -97.1639,
              42.8013
             ],
             [
              -97.1604,
              42.7997
             ],
             [
              -97.1508,
              42.7956
             ],
             [
              -97.1446,
              42.7901
             ],
             [
              -97.1382,
              42.7834
             ],
             [
              -97.137,
              42.781
             ],
             [
              -97.1371,
              42.7789
             ],
             [
              -97.1345,
              42.7745
             ],
             [
              -97.1313,
              42.7719
             ],
             [
              -97.1116,
              42.7694
             ],
             [
              -97.1013,
              42.7697
             ],
             [
              -97.0961,
              42.7693
             ],
             [
              -97.0855,
              42.7701
             ],
             [
              -97.0794,
              42.7714
             ],
             [
              -97.0718,
              42.7723
             ],
             [
              -97.0656,
              42.7722
             ],
             [
              -97.0522,
              42.7702
             ],
             [
              -97.0332,
              42.7659
             ],
             [
              -97.0302,
              42.7637
             ],
             [
              -97.0249,
              42.7624
             ],
             [
              -97.0158,
              42.7616
             ],
             [
              -97.0177,
              42.4379
             ],
             [
              -97.0178,
              42.3513
             ],
             [
              -97.3677,
              42.3519
             ],
             [
              -97.3676,
              42.4388
             ],
             [
              -97.4853,
              42.4386
             ],
             [
              -97.4849,
              42.8504
             ]
            ]
           ]
          ],
          "type": "MultiPolygon"
         },
         "properties": {
          "AFFGEOID": "0500000US31027",
          "ALAND": 1917219989,
          "ALANDMI": 740.2425,
          "AWATER": 14513816,
          "COUNTYFP": "027",
          "COUNTYNS": "00835835",
          "GEOID": "31027",
          "LSAD": "06",
          "NAME": "Cedar",
          "STATEFP": "31",
          "n": 45,
          "stn_sq_mi": 0.0608
         },
         "type": "Feature"
        },
        {
         "geometry": {
          "coordinates": [
           [
            [
             [
              -96.3329,
              41.0996
             ],
             [
              -96.311,
              41.1153
             ],
             [
              -96.3163,
              41.1252
             ],
             [
              -96.3194,
              41.1298
             ],
             [
              -96.3159,
              41.144
             ],
             [
              -96.3274,
              41.19
             ],
             [
              -96.1967,
              41.1907
             ],
             [
              -96.1583,
              41.1908
             ],
             [
              -96.0814,
              41.1908
             ],
             [
              -96.0238,
              41.1907
             ],
             [
              -96.0091,
              41.1907
             ],
             [
              -96.0059,
              41.1907
             ],
             [
              -95.9479,
              41.191
             ],
             [
              -95.9395,
              41.1911
             ],
             [
              -95.9232,
              41.191
             ],
             [
              -95.9232,
              41.191
             ],
             [
              -95.9183,
              41.1867
             ],
             [
              -95.9146,
              41.1851
             ],
             [
              -95.9097,
              41.1844
             ],
             [
              -95.8648,
              41.1883
             ],
             [
              -95.8568,
              41.1871
             ],
             [
              -95.8502,
              41.1848
             ],
             [
              -95.8441,
              41.1806
             ],
             [
              -95.8413,
              41.175
             ],
             [
              -95.8413,
              41.1749
             ],
             [
              -95.8419,
              41.1711
             ],
             [
              -95.8462,
              41.1667
             ],
             [
              -95.8528,
              41.1654
             ],
             [
              -95.8651,
              41.1678
             ],
             [
              -95.8673,
              41.1687
             ],
             [
              -95.8696,
              41.1688
             ],
             [
              -95.8719,
              41.1681
             ],
             [
              -95.8763,
              41.1651
             ],
             [
              -95.8809,
              41.1603
             ],
             [
              -95.8813,
              41.1599
             ],
             [
              -95.8835,
              41.1549
             ],
             [
              -95.8834,
              41.1509
             ],
             [
              -95.8821,
              41.144
             ],
             [
              -95.8789,
              41.1381
             ],
             [
              -95.8687,
              41.1247
             ],
             [
              -95.8659,
              41.1179
             ],
             [
              -95.8654,
              41.1013
             ],
             [
              -95.8633,
              41.0938
             ],
             [
              -95.8626,
              41.0884
             ],
             [
              -95.8638,
              41.0835
             ],
             [
              -95.8655,
              41.0804
             ],
             [
              -95.8706,
              41.0752
             ],
             [
              -95.8781,
              41.0696
             ],
             [
              -95.8814,
              41.0652
             ],
             [
              -95.8824,
              41.0604
             ],
             [
              -95.8819,
              41.0572
             ],
             [
              -95.8795,
              41.0533
             ],
             [
              -95.8892,
              41.0584
             ],
             [
              -95.9449,
              41.0579
             ],
             [
              -95.9461,
              41.0576
             ],
             [
              -95.9474,
              41.0576
             ],
             [
              -95.9484,
              41.0579
             ],
             [
              -95.9495,
              41.0584
             ],
             [
              -95.9873,
              41.0527
             ],
             [
              -96.0052,
              41.0606
             ],
             [
              -96.0341,
              41.066
             ],
             [
              -96.0563,
              41.0654
             ],
             [
              -96.1099,
              41.0484
             ],
             [
              -96.1447,
              41.0176
             ],
             [
              -96.2076,
              40.9956
             ],
             [
              -96.2189,
              40.9943
             ],
             [
              -96.233,
              41.0009
             ],
             [
              -96.2508,
              41.0188
             ],
             [
              -96.2844,
              41.0217
             ],
             [
              -96.2998,
              41.028
             ],
             [
              -96.3192,
              41.045
             ],
             [
              -96.3398,
              41.0825
             ],
             [
              -96.3329,
              41.0996
             ]
            ]
           ]
          ],
          "type": "MultiPolygon"
         },
         "properties": {
          "AFFGEOID": "0500000US31153",
          "ALAND": 616811568,
          "ALANDMI": 238.1522,
          "AWATER": 24272921,
          "COUNTYFP": "153",
          "COUNTYNS": "00835898",
          "GEOID": "31153",
          "LSAD": "06",
          "NAME": "Sarpy",
          "STATEFP": "31",
          "n": 18,
          "stn_sq_mi": 0.0756
         },
         "type": "Feature"
        },
        {
         "geometry": {
          "coordinates": [
           [
            [
             [
              -98.3002,
              42.4369
             ],
             [
              -97.8344,
              42.4377
             ],
             [
              -97.8345,
              42.0897
             ],
             [
              -97.8333,
              41.9163
             ],
             [
              -98.2956,
              41.915
             ],
             [
              -98.2954,
              42.0814
             ],
             [
              -98.3006,
              42.0889
             ],
             [
              -98.3002,
              42.4369
             ]
            ]
           ]
          ],
          "type": "MultiPolygon"
         },
         "properties": {
          "AFFGEOID": "0500000US31003",
          "ALAND": 2220231685,
          "ALANDMI": 857.2359,
          "AWATER": 3510581,
          "COUNTYFP": "003",
          "COUNTYNS": "00835824",
          "GEOID": "31003",
          "LSAD": "06",
          "NAME": "Antelope",
          "STATEFP": "31",
          "n": 50,
          "stn_sq_mi": 0.0583
         },
         "type": "Feature"
        },
        {
         "geometry": {
          "coordinates": [
           [
            [
             [
              -100.761,
              40.1749
             ],
             [
              -100.7584,
              40.3495
             ],
             [
              -100.367,
              40.3515
             ],
             [
              -100.1978,
              40.35
             ],
             [
              -100.1936,
              40.0016
             ],
             [
              -100.197,
              40.0015
             ],
             [
              -100.2154,
              40.0016
             ],
             [
              -100.2295,
              40.0017
             ],
             [
              -100.2317,
              40.0016
             ],
             [
              -100.3901,
              40.0018
             ],
             [
              -100.4391,
              40.0018
             ],
             [
              -100.4471,
              40.0018
             ],
             [
              -100.4688,
              40.0017
             ],
             [
              -100.4759,
              40.0018
             ],
             [
              -100.477,
              40.0018
             ],
             [
              -100.4872,
              40.0018
             ],
             [
              -100.5111,
              40.0018
             ],
             [
              -100.5519,
              40.0019
             ],
             [
              -100.5672,
              40.0019
             ],
             [
              -100.5948,
              40.002
             ],
             [
              -100.6009,
              40.0019
             ],
             [
              -100.6454,
              40.0019
             ],
             [
              -100.6602,
              40.0022
             ],
             [
              -100.6834,
              40.0022
             ],
             [
              -100.7211,
              40.0021
             ],
             [
              -100.7299,
              40.0021
             ],
             [
              -100.7333,
              40.0023
             ],
             [
              -100.7388,
              40.0022
             ],
             [
              -100.7522,
              40.0021
             ],
             [
              -100.7588,
              40.0023
             ],
             [
              -100.7585,
              40.1563
             ],
             [
              -100.761,
              40.1749
             ]
            ]
           ]
          ],
          "type": "MultiPolygon"
         },
         "properties": {
          "AFFGEOID": "0500000US31145",
          "ALAND": 1857036462,
          "ALANDMI": 717.0055,
          "AWATER": 2591016,
          "COUNTYFP": "145",
          "COUNTYNS": "00835894",
          "GEOID": "31145",
          "LSAD": "06",
          "NAME": "Red Willow",
          "STATEFP": "31",
          "n": 19,
          "stn_sq_mi": 0.0265
         },
         "type": "Feature"
        },
        {
         "geometry": {
          "coordinates": [
           [
            [
             [
              -102.0519,
              40.1627
             ],
             [
              -102.0519,
              40.2292
             ],
             [
              -102.0519,
              40.2353
             ],
             [
              -102.0513,
              40.3384
             ],
             [
              -102.0516,
              40.3492
             ],
             [
              -101.3428,
              40.3504
             ],
             [
              -101.3234,
              40.3506
             ],
             [
              -101.325,
              40.3295
             ],
             [
              -101.324,
              40.0027
             ],
             [
              -101.3255,
              40.0027
             ],
             [
              -101.3429,
              40.0026
             ],
             [
              -101.3743,
              40.0025
             ],
             [
              -101.41,
              40.0024
             ],
             [
              -101.411,
              40.0024
             ],
             [
              -101.4172,
              40.0024
             ],
             [
              -101.5423,
              40.0026
             ],
             [
              -101.6258,
              40.0027
             ],
             [
              -101.6271,
              40.0026
             ],
             [
              -101.8049,
              40.0028
             ],
             [
              -101.8077,
              40.0028
             ],
             [
              -101.8322,
              40.0029
             ],
             [
              -101.841,
              40.0028
             ],
             [
              -101.9042,
              40.0032
             ],
             [
              -101.9167,
              40.0031
             ],
             [
              -102.0517,
              40.0031
             ],
             [
              -102.052,
              40.1484
             ],
             [
              -102.0519,
              40.1627
             ]
            ]
           ]
          ],
          "type": "MultiPolygon"
         },
         "properties": {
          "AFFGEOID": "0500000US31057",
          "ALAND": 2381956151,
          "ALANDMI": 919.678,
          "AWATER": 3046331,
          "COUNTYFP": "057",
          "COUNTYNS": "00835850",
          "GEOID": "31057",
          "LSAD": "06",
          "NAME": "Dundy",
          "STATEFP": "31",
          "n": 37,
          "stn_sq_mi": 0.0402
         },
         "type": "Feature"
        },
        {
         "geometry": {
          "coordinates": [
           [
            [
             [
              -98.2736,
              40.3504
             ],
             [
              -97.8241,
              40.3505
             ],
             [
              -97.8208,
              40.3505
             ],
             [
              -97.8215,
              40.002
             ],
             [
              -97.8216,
              40.002
             ],
             [
              -97.8384,
              40.0019
             ],
             [
              -97.8574,
              40.0021
             ],
             [
              -97.8763,
              40.0021
             ],
             [
              -97.9318,
              40.002
             ],
             [
              -97.9318,
              40.0021
             ],
             [
              -97.9722,
              40.0021
             ],
             [
              -98.0102,
              40.0022
             ],
             [
              -98.0144,
              40.0022
             ],
             [
              -98.0475,
              40.0022
             ],
             [
              -98.0501,
              40.0023
             ],
             [
              -98.0687,
              40.0024
             ],
             [
              -98.076,
              40.0023
             ],
             [
              -98.0997,
              40.0022
             ],
             [
              -98.142,
              40.0025
             ],
             [
              -98.1568,
              40.0024
             ],
             [
              -98.1723,
              40.0024
             ],
             [
              -98.1793,
              40.0025
             ],
             [
              -98.1935,
              40.0026
             ],
             [
              -98.25,
              40.0023
             ],
             [
              -98.2682,
              40.0025
             ],
             [
              -98.274,
              40.0025
             ],
             [
              -98.2736,
              40.3504
             ]
            ]
           ]
          ],
          "type": "MultiPolygon"
         },
         "properties": {
          "AFFGEOID": "0500000US31129",
          "ALAND": 1489645187,
          "ALANDMI": 575.155,
          "AWATER": 1718484,
          "COUNTYFP": "129",
          "COUNTYNS": "00835886",
          "GEOID": "31129",
          "LSAD": "06",
          "NAME": "Nuckolls",
          "STATEFP": "31",
          "n": 23,
          "stn_sq_mi": 0.04
         },
         "type": "Feature"
        },
        {
         "geometry": {
          "coordinates": [
           [
            [
             [
              -104.0529,
              41.6382
             ],
             [
              -104.0529,
              41.6452
             ],
             [
              -104.0528,
              41.698
             ],
             [
              -103.389,
              41.6998
             ],
             [
              -103.3704,
              41.6992
             ],
             [
              -103.369,
              41.4377
             ],
             [
              -103.3705,
              41.3947
             ],
             [
              -103.3776,
              41.3946
             ],
             [
              -103.4528,
              41.3935
             ],
             [
              -104.0523,
              41.3932
             ],
             [
              -104.0523,
              41.3933
             ],
             [
              -104.0522,
              41.4077
             ],
             [
              -104.0523,
              41.4179
             ],
             [
              -104.0525,
              41.5158
             ],
             [
              -104.0525,
              41.5223
             ],
             [
              -104.0527,
              41.5391
             ],
             [
              -104.0527,
              41.5412
             ],
             [
              -104.0526,
              41.5526
             ],
             [
              -104.0525,
              41.5527
             ],
             [
              -104.0525,
              41.5643
             ],
             [
              -104.0529,
              41.5923
             ],
             [
              -104.0527,
              41.6137
             ],
             [
              -104.053,
              41.6229
             ],
             [
              -104.0529,
              41.6382
             ]
            ]
           ]
          ],
          "type": "MultiPolygon"
         },
         "properties": {
          "AFFGEOID": "0500000US31007",
          "ALAND": 1932676689,
          "ALANDMI": 746.2103,
          "AWATER": 397069,
          "COUNTYFP": "007",
          "COUNTYNS": "00835826",
          "GEOID": "31007",
          "LSAD": "06",
          "NAME": "Banner",
          "STATEFP": "31",
          "n": 48,
          "stn_sq_mi": 0.0643
         },
         "type": "Feature"
        },
        {
         "geometry": {
          "coordinates": [
           [
            [
             [
              -96.4638,
              40.784
             ],
             [
              -95.9118,
              40.7842
             ],
             [
              -95.8342,
              40.7838
             ],
             [
              -95.8342,
              40.783
             ],
             [
              -95.8352,
              40.7792
             ],
             [
              -95.8369,
              40.7765
             ],
             [
              -95.8389,
              40.7745
             ],
             [
              -95.8428,
              40.7711
             ],
             [
              -95.8466,
              40.7686
             ],
             [
              -95.8528,
              40.7656
             ],
             [
              -95.8617,
              40.7629
             ],
             [
              -95.87,
              40.7596
             ],
             [
              -95.8733,
              40.7576
             ],
             [
              -95.879,
              40.7531
             ],
             [
              -95.8836,
              40.7478
             ],
             [
              -95.8867,
              40.7421
             ],
             [
              -95.8887,
              40.7363
             ],
             [
              -95.8889,
              40.7319
             ],
             [
              -95.8853,
              40.7211
             ],
             [
              -95.8832,
              40.7176
             ],
             [
              -95.877,
              40.7143
             ],
             [
              -95.8753,
              40.7141
             ],
             [
              -95.8705,
              40.7125
             ],
             [
              -95.8594,
              40.7081
             ],
             [
              -95.8526,
              40.7023
             ],
             [
              -95.8498,
              40.6981
             ],
             [
              -95.8479,
              40.6942
             ],
             [
              -95.846,
              40.6826
             ],
             [
              -95.8448,
              40.6799
             ],
             [
              -95.8428,
              40.6775
             ],
             [
              -95.8322,
              40.6712
             ],
             [
              -95.8308,
              40.6706
             ],
             [
              -95.8229,
              40.6672
             ],
             [
              -95.8141,
              40.6656
             ],
             [
              -95.8043,
              40.6649
             ],
             [
              -95.7955,
              40.6624
             ],
             [
              -95.7895,
              40.6594
             ],
             [
              -95.7866,
              40.6573
             ],
             [
              -95.7819,
              40.6533
             ],
             [
              -95.7763,
              40.6475
             ],
             [
              -95.7728,
              40.6425
             ],
             [
              -95.7713,
              40.6394
             ],
             [
              -95.7704,
              40.6353
             ],
             [
              -95.7701,
              40.6244
             ],
             [
              -95.7689,
              40.6213
             ],
             [
              -95.7668,
              40.6188
             ],
             [
              -95.7644,
              40.6171
             ],
             [
              -95.758,
              40.6138
             ],
             [
              -95.7513,
              40.6091
             ],
             [
              -95.7497,
              40.6068
             ],
             [
              -95.7486,
              40.6034
             ],
             [
              -95.7489,
              40.6
             ],
             [
              -95.7501,
              40.5971
             ],
             [
              -95.7531,
              40.5928
             ],
             [
              -95.7589,
              40.589
             ],
             [
              -95.7656,
              40.5852
             ],
             [
              -95.7685,
              40.5833
             ],
             [
              -95.7735,
              40.5782
             ],
             [
              -95.7747,
              40.5736
             ],
             [
              -95.7718,
              40.5661
             ],
             [
              -95.765,
              40.5569
             ],
             [
              -95.7638,
              40.5539
             ],
             [
              -95.7634,
              40.5508
             ],
             [
              -95.7636,
              40.5483
             ],
             [
              -95.7647,
              40.5457
             ],
             [
              -95.7684,
              40.5403
             ],
             [
              -95.7693,
              40.5367
             ],
             [
              -95.7687,
              40.5341
             ],
             [
              -95.7669,
              40.5316
             ],
             [
              -95.7629,
              40.5284
             ],
             [
              -95.7571,
              40.526
             ],
             [
              -95.7487,
              40.5243
             ],
             [
              -95.7372,
              40.5239
             ],
             [
              -95.7312,
              40.5254
             ],
             [
              -95.7252,
              40.5278
             ],
             [
              -95.7224,
              40.5281
             ],
             [
              -95.7143,
              40.5272
             ],
             [
              -95.71,
              40.5238
             ],
             [
              -96.067,
              40.5231
             ],
             [
              -96.4636,
              40.523
             ],
             [
              -96.4638,
              40.755
             ],
             [
              -96.4638,
              40.784
             ]
            ]
           ]
          ],
          "type": "MultiPolygon"
         },
         "properties": {
          "AFFGEOID": "0500000US31131",
          "ALAND": 1594561657,
          "ALANDMI": 615.6634,
          "AWATER": 8689334,
          "COUNTYFP": "131",
          "COUNTYNS": "00835887",
          "GEOID": "31131",
          "LSAD": "06",
          "NAME": "Otoe",
          "STATEFP": "31",
          "n": 23,
          "stn_sq_mi": 0.0374
         },
         "type": "Feature"
        },
        {
         "geometry": {
          "coordinates": [
           [
            [
             [
              -103.5051,
              43.0008
             ],
             [
              -103.4046,
              43.0007
             ],
             [
              -103.3408,
              43.0009
             ],
             [
              -103.133,
              43.0008
             ],
             [
              -103.1317,
              43.0008
             ],
             [
              -103.0006,
              43.0005
             ],
             [
              -102.7921,
              43
             ],
             [
              -102.7927,
              42.7852
             ],
             [
              -102.7734,
              42.7853
             ],
             [
              -102.7734,
              42.4399
             ],
             [
              -103.4445,
              42.4374
             ],
             [
              -103.4801,
              42.4373
             ],
             [
              -103.4804,
              42.785
             ],
             [
              -103.5032,
              42.7848
             ],
             [
              -103.5051,
              43.0008
             ]
            ]
           ]
          ],
          "type": "MultiPolygon"
         },
         "properties": {
          "AFFGEOID": "0500000US31045",
          "ALAND": 3616875588,
          "ALANDMI": 1396.4829,
          "AWATER": 11870270,
          "COUNTYFP": "045",
          "COUNTYNS": "00835844",
          "GEOID": "31045",
          "LSAD": "06",
          "NAME": "Dawes",
          "STATEFP": "31",
          "n": 39,
          "stn_sq_mi": 0.0279
         },
         "type": "Feature"
        },
        {
         "geometry": {
          "coordinates": [
           [
            [
             [
              -99.2227,
              42.0879
             ],
             [
              -98.7612,
              42.0885
             ],
             [
              -98.7591,
              41.7404
             ],
             [
              -99.212,
              41.7406
             ],
             [
              -99.2218,
              41.7408
             ],
             [
              -99.2227,
              42.0879
             ]
            ]
           ]
          ],
          "type": "MultiPolygon"
         },
         "properties": {
          "AFFGEOID": "0500000US31071",
          "ALAND": 1474558349,
          "ALANDMI": 569.3299,
          "AWATER": 5321553,
          "COUNTYFP": "071",
          "COUNTYNS": "00835857",
          "GEOID": "31071",
          "LSAD": "06",
          "NAME": "Garfield",
          "STATEFP": "31",
          "n": 35,
          "stn_sq_mi": 0.0615
         },
         "type": "Feature"
        },
        {
         "geometry": {
          "coordinates": [
           [
            [
             [
              -98.7244,
              40.6898
             ],
             [
              -98.7214,
              40.6989
             ],
             [
              -98.2829,
              40.6983
             ],
             [
              -98.2781,
              40.6983
             ],
             [
              -98.2781,
              40.3503
             ],
             [
              -98.7239,
              40.3504
             ],
             [
              -98.7244,
              40.6898
             ]
            ]
           ]
          ],
          "type": "MultiPolygon"
         },
         "properties": {
          "AFFGEOID": "0500000US31001",
          "ALAND": 1458869102,
          "ALANDMI": 563.2723,
          "AWATER": 2481410,
          "COUNTYFP": "001",
          "COUNTYNS": "00835823",
          "GEOID": "31001",
          "LSAD": "06",
          "NAME": "Adams",
          "STATEFP": "31",
          "n": 50,
          "stn_sq_mi": 0.0888
         },
         "type": "Feature"
        },
        {
         "geometry": {
          "coordinates": [
           [
            [
             [
              -97.3692,
              40.0021
             ],
             [
              -97.3687,
              40.3504
             ],
             [
              -96.9161,
              40.3497
             ],
             [
              -96.9164,
              40.0015
             ],
             [
              -97.0092,
              40.0015
             ],
             [
              -97.0308,
              40.0013
             ],
             [
              -97.0497,
              40.0013
             ],
             [
              -97.1379,
              40.0018
             ],
             [
              -97.1424,
              40.0015
             ],
             [
              -97.1818,
              40.0016
             ],
             [
              -97.2002,
              40.0015
             ],
             [
              -97.2023,
              40.0014
             ],
             [
              -97.2451,
              40.0015
             ],
             [
              -97.2452,
              40.0015
             ],
             [
              -97.3503,
              40.002
             ],
             [
              -97.3509,
              40.0019
             ],
             [
              -97.3691,
              40.0021
             ],
             [
              -97.3692,
              40.0021
             ]
            ]
           ]
          ],
          "type": "MultiPolygon"
         },
         "properties": {
          "AFFGEOID": "0500000US31095",
          "ALAND": 1476736212,
          "ALANDMI": 570.1708,
          "AWATER": 14232352,
          "COUNTYFP": "095",
          "COUNTYNS": "00835869",
          "GEOID": "31095",
          "LSAD": "06",
          "NAME": "Jefferson",
          "STATEFP": "31",
          "n": 31,
          "stn_sq_mi": 0.0544
         },
         "type": "Feature"
        }
       ],
       "type": "FeatureCollection"
      },
      "text/html": [
       "<table class=\"dataframe\">\n",
       "<caption>A sf: 93 × 13</caption>\n",
       "<thead>\n",
       "\t<tr><th></th><th scope=col>STATEFP</th><th scope=col>COUNTYFP</th><th scope=col>COUNTYNS</th><th scope=col>AFFGEOID</th><th scope=col>GEOID</th><th scope=col>NAME</th><th scope=col>LSAD</th><th scope=col>ALAND</th><th scope=col>AWATER</th><th scope=col>ALANDMI</th><th scope=col>n</th><th scope=col>geometry</th><th scope=col>stn_sq_mi</th></tr>\n",
       "\t<tr><th></th><th scope=col>&lt;chr&gt;</th><th scope=col>&lt;chr&gt;</th><th scope=col>&lt;chr&gt;</th><th scope=col>&lt;chr&gt;</th><th scope=col>&lt;chr&gt;</th><th scope=col>&lt;chr&gt;</th><th scope=col>&lt;chr&gt;</th><th scope=col>&lt;dbl&gt;</th><th scope=col>&lt;dbl&gt;</th><th scope=col>&lt;dbl&gt;</th><th scope=col>&lt;int&gt;</th><th scope=col>&lt;MULTIPOLYGON [°]&gt;</th><th scope=col>&lt;dbl&gt;</th></tr>\n",
       "</thead>\n",
       "<tbody>\n",
       "\t<tr><th scope=row>1</th><td>31</td><td>009</td><td>00835827</td><td>0500000US31009</td><td>31009</td><td>Blaine   </td><td>06</td><td>1840673980</td><td>  9443894</td><td> 710.6879</td><td>49</td><td>MULTIPOLYGON (((-100.2676 4...</td><td>0.06894728</td></tr>\n",
       "\t<tr><th scope=row>2</th><td>31</td><td>111</td><td>00835877</td><td>0500000US31111</td><td>31111</td><td>Lincoln  </td><td>06</td><td>6641072810</td><td> 28449819</td><td>2564.1315</td><td>29</td><td>MULTIPOLYGON (((-101.2697 4...</td><td>0.01130987</td></tr>\n",
       "\t<tr><th scope=row>3</th><td>31</td><td>117</td><td>00835881</td><td>0500000US31117</td><td>31117</td><td>McPherson</td><td>06</td><td>2224733580</td><td>  2680669</td><td> 858.9741</td><td>27</td><td>MULTIPOLYGON (((-101.4065 4...</td><td>0.03143285</td></tr>\n",
       "\t<tr><th scope=row>4</th><td>31</td><td>185</td><td>00835914</td><td>0500000US31185</td><td>31185</td><td>York     </td><td>06</td><td>1482793604</td><td>  8595508</td><td> 572.5096</td><td>12</td><td>MULTIPOLYGON (((-97.82629 4...</td><td>0.02096035</td></tr>\n",
       "\t<tr><th scope=row>5</th><td>31</td><td>101</td><td>00835872</td><td>0500000US31101</td><td>31101</td><td>Keith    </td><td>06</td><td>2749531885</td><td>124672175</td><td>1061.5998</td><td>31</td><td>MULTIPOLYGON (((-102.0555 4...</td><td>0.02920121</td></tr>\n",
       "\t<tr><th scope=row>6</th><td>31</td><td>081</td><td>00835862</td><td>0500000US31081</td><td>31081</td><td>Hamilton </td><td>06</td><td>1403509085</td><td>  7360264</td><td> 541.8977</td><td>33</td><td>MULTIPOLYGON (((-98.28258 4...</td><td>0.06089711</td></tr>\n",
       "\t<tr><th scope=row>7</th><td>31</td><td>005</td><td>00835825</td><td>0500000US31005</td><td>31005</td><td>Arthur   </td><td>06</td><td>1852759729</td><td>  7644718</td><td> 715.3542</td><td>50</td><td>MULTIPOLYGON (((-101.9855 4...</td><td>0.06989544</td></tr>\n",
       "\t<tr><th scope=row>8</th><td>31</td><td>171</td><td>00835907</td><td>0500000US31171</td><td>31171</td><td>Thomas   </td><td>06</td><td>1846403705</td><td>  2028433</td><td> 712.9002</td><td>14</td><td>MULTIPOLYGON (((-100.8461 4...</td><td>0.01963809</td></tr>\n",
       "\t<tr><th scope=row>9</th><td>31</td><td>029</td><td>00835836</td><td>0500000US31029</td><td>31029</td><td>Chase    </td><td>06</td><td>2316533447</td><td>  7978172</td><td> 894.4182</td><td>42</td><td>MULTIPOLYGON (((-102.0518 4...</td><td>0.04695790</td></tr>\n",
       "\t<tr><th scope=row>10</th><td>31</td><td>011</td><td>00835828</td><td>0500000US31011</td><td>31011</td><td>Boone    </td><td>06</td><td>1778166040</td><td>  1718583</td><td> 686.5535</td><td>47</td><td>MULTIPOLYGON (((-98.2956 41...</td><td>0.06845789</td></tr>\n",
       "\t<tr><th scope=row>11</th><td>31</td><td>035</td><td>00835839</td><td>0500000US31035</td><td>31035</td><td>Clay     </td><td>06</td><td>1482222908</td><td>  3234877</td><td> 572.2892</td><td>40</td><td>MULTIPOLYGON (((-98.2781 40...</td><td>0.06989473</td></tr>\n",
       "\t<tr><th scope=row>12</th><td>31</td><td>159</td><td>00835901</td><td>0500000US31159</td><td>31159</td><td>Seward   </td><td>06</td><td>1479995670</td><td> 11542537</td><td> 571.4293</td><td>16</td><td>MULTIPOLYGON (((-97.36812 4...</td><td>0.02799996</td></tr>\n",
       "\t<tr><th scope=row>13</th><td>31</td><td>093</td><td>00835868</td><td>0500000US31093</td><td>31093</td><td>Howard   </td><td>06</td><td>1474578450</td><td> 16199402</td><td> 569.3377</td><td>31</td><td>MULTIPOLYGON (((-98.74433 4...</td><td>0.05444923</td></tr>\n",
       "\t<tr><th scope=row>14</th><td>31</td><td>143</td><td>00835893</td><td>0500000US31143</td><td>31143</td><td>Polk     </td><td>06</td><td>1135309851</td><td>  5947393</td><td> 438.3454</td><td>19</td><td>MULTIPOLYGON (((-97.82826 4...</td><td>0.04334481</td></tr>\n",
       "\t<tr><th scope=row>15</th><td>31</td><td>167</td><td>00835905</td><td>0500000US31167</td><td>31167</td><td>Stanton  </td><td>06</td><td>1107500701</td><td>  8789497</td><td> 427.6082</td><td>14</td><td>MULTIPOLYGON (((-97.3684 42...</td><td>0.03274025</td></tr>\n",
       "\t<tr><th scope=row>16</th><td>31</td><td>069</td><td>00835856</td><td>0500000US31069</td><td>31069</td><td>Garden   </td><td>06</td><td>4417083921</td><td> 65860691</td><td>1705.4449</td><td>35</td><td>MULTIPOLYGON (((-102.6776 4...</td><td>0.02052250</td></tr>\n",
       "\t<tr><th scope=row>17</th><td>31</td><td>181</td><td>00835912</td><td>0500000US31181</td><td>31181</td><td>Webster  </td><td>06</td><td>1489017963</td><td>   337241</td><td> 574.9128</td><td>12</td><td>MULTIPOLYGON (((-98.72683 4...</td><td>0.02087273</td></tr>\n",
       "\t<tr><th scope=row>18</th><td>31</td><td>139</td><td>00835891</td><td>0500000US31139</td><td>31139</td><td>Pierce   </td><td>06</td><td>1484707278</td><td>  3481943</td><td> 573.2484</td><td>20</td><td>MULTIPOLYGON (((-97.83443 4...</td><td>0.03488889</td></tr>\n",
       "\t<tr><th scope=row>19</th><td>31</td><td>087</td><td>00835865</td><td>0500000US31087</td><td>31087</td><td>Hitchcock</td><td>06</td><td>1838742723</td><td> 22103381</td><td> 709.9422</td><td>33</td><td>MULTIPOLYGON (((-101.3255 4...</td><td>0.04648265</td></tr>\n",
       "\t<tr><th scope=row>20</th><td>31</td><td>085</td><td>00835864</td><td>0500000US31085</td><td>31085</td><td>Hayes    </td><td>06</td><td>1846821514</td><td>   570786</td><td> 713.0615</td><td>34</td><td>MULTIPOLYGON (((-101.3454 4...</td><td>0.04768172</td></tr>\n",
       "\t<tr><th scope=row>21</th><td>31</td><td>123</td><td>00835883</td><td>0500000US31123</td><td>31123</td><td>Morrill  </td><td>06</td><td>3687721339</td><td> 15601312</td><td>1423.8366</td><td>26</td><td>MULTIPOLYGON (((-103.3704 4...</td><td>0.01826052</td></tr>\n",
       "\t<tr><th scope=row>22</th><td>31</td><td>141</td><td>00835892</td><td>0500000US31141</td><td>31141</td><td>Platte   </td><td>06</td><td>1745910544</td><td> 27167484</td><td> 674.0996</td><td>20</td><td>MULTIPOLYGON (((-97.83049 4...</td><td>0.02966921</td></tr>\n",
       "\t<tr><th scope=row>23</th><td>31</td><td>169</td><td>00835906</td><td>0500000US31169</td><td>31169</td><td>Thayer   </td><td>06</td><td>1486153243</td><td>  3025339</td><td> 573.8067</td><td>14</td><td>MULTIPOLYGON (((-97.82082 4...</td><td>0.02439846</td></tr>\n",
       "\t<tr><th scope=row>24</th><td>31</td><td>013</td><td>00835991</td><td>0500000US31013</td><td>31013</td><td>Box Butte</td><td>06</td><td>2784994716</td><td>  6588657</td><td>1075.2920</td><td>48</td><td>MULTIPOLYGON (((-103.4445 4...</td><td>0.04463904</td></tr>\n",
       "\t<tr><th scope=row>25</th><td>31</td><td>091</td><td>00835867</td><td>0500000US31091</td><td>31091</td><td>Hooker   </td><td>06</td><td>1867796137</td><td>   882994</td><td> 721.1598</td><td>32</td><td>MULTIPOLYGON (((-101.4266 4...</td><td>0.04437297</td></tr>\n",
       "\t<tr><th scope=row>26</th><td>31</td><td>075</td><td>00835859</td><td>0500000US31075</td><td>31075</td><td>Grant    </td><td>06</td><td>2012081438</td><td> 16460163</td><td> 776.8687</td><td>34</td><td>MULTIPOLYGON (((-102.0666 4...</td><td>0.04376544</td></tr>\n",
       "\t<tr><th scope=row>27</th><td>31</td><td>061</td><td>00835852</td><td>0500000US31061</td><td>31061</td><td>Franklin </td><td>06</td><td>1491355860</td><td>   487899</td><td> 575.8155</td><td>36</td><td>MULTIPOLYGON (((-99.1794 40...</td><td>0.06252003</td></tr>\n",
       "\t<tr><th scope=row>28</th><td>31</td><td>099</td><td>00835871</td><td>0500000US31099</td><td>31099</td><td>Kearney  </td><td>06</td><td>1337063541</td><td>   274634</td><td> 516.2429</td><td>31</td><td>MULTIPOLYGON (((-99.17925 4...</td><td>0.06004925</td></tr>\n",
       "\t<tr><th scope=row>29</th><td>31</td><td>163</td><td>00835903</td><td>0500000US31163</td><td>31163</td><td>Sherman  </td><td>06</td><td>1465489231</td><td> 15062146</td><td> 565.8283</td><td>16</td><td>MULTIPOLYGON (((-99.20326 4...</td><td>0.02827713</td></tr>\n",
       "\t<tr><th scope=row>30</th><td>31</td><td>175</td><td>00835909</td><td>0500000US31175</td><td>31175</td><td>Valley   </td><td>06</td><td>1471402793</td><td>  6076916</td><td> 568.1116</td><td>13</td><td>MULTIPOLYGON (((-99.21202 4...</td><td>0.02288283</td></tr>\n",
       "\t<tr><th scope=row>⋮</th><td>⋮</td><td>⋮</td><td>⋮</td><td>⋮</td><td>⋮</td><td>⋮</td><td>⋮</td><td>⋮</td><td>⋮</td><td>⋮</td><td>⋮</td><td>⋮</td><td>⋮</td></tr>\n",
       "\t<tr><th scope=row>64</th><td>31</td><td>161</td><td>00835902</td><td>0500000US31161</td><td>31161</td><td>Sheridan    </td><td>06</td><td> 6322057033</td><td> 74718659</td><td>2440.9589</td><td>16</td><td>MULTIPOLYGON (((-102.7921 4...</td><td>0.006554801</td></tr>\n",
       "\t<tr><th scope=row>65</th><td>31</td><td>031</td><td>00835837</td><td>0500000US31031</td><td>31031</td><td>Cherry      </td><td>06</td><td>15436868252</td><td>127452878</td><td>5960.2057</td><td>42</td><td>MULTIPOLYGON (((-102.0825 4...</td><td>0.007046737</td></tr>\n",
       "\t<tr><th scope=row>66</th><td>31</td><td>033</td><td>00835838</td><td>0500000US31033</td><td>31033</td><td>Cheyenne    </td><td>06</td><td> 3098367764</td><td>   292549</td><td>1196.2860</td><td>41</td><td>MULTIPOLYGON (((-103.3823 4...</td><td>0.034272741</td></tr>\n",
       "\t<tr><th scope=row>67</th><td>31</td><td>165</td><td>00835904</td><td>0500000US31165</td><td>31165</td><td>Sioux       </td><td>06</td><td> 5352724893</td><td>  1681023</td><td>2066.6978</td><td>15</td><td>MULTIPOLYGON (((-104.0531 4...</td><td>0.007257955</td></tr>\n",
       "\t<tr><th scope=row>68</th><td>31</td><td>043</td><td>00835843</td><td>0500000US31043</td><td>31043</td><td>Dakota      </td><td>06</td><td>  684422627</td><td>  8193327</td><td> 264.2569</td><td>39</td><td>MULTIPOLYGON (((-96.72662 4...</td><td>0.147583633</td></tr>\n",
       "\t<tr><th scope=row>69</th><td>31</td><td>021</td><td>00835832</td><td>0500000US31021</td><td>31021</td><td>Burt        </td><td>06</td><td> 1273201345</td><td> 14186270</td><td> 491.5856</td><td>45</td><td>MULTIPOLYGON (((-96.55487 4...</td><td>0.091540520</td></tr>\n",
       "\t<tr><th scope=row>70</th><td>31</td><td>051</td><td>00835847</td><td>0500000US31051</td><td>31051</td><td>Dixon       </td><td>06</td><td> 1233120001</td><td> 17111893</td><td> 476.1101</td><td>37</td><td>MULTIPOLYGON (((-97.01779 4...</td><td>0.077713117</td></tr>\n",
       "\t<tr><th scope=row>71</th><td>31</td><td>147</td><td>00835895</td><td>0500000US31147</td><td>31147</td><td>Richardson  </td><td>06</td><td> 1429261306</td><td>  7077613</td><td> 551.8406</td><td>19</td><td>MULTIPOLYGON (((-96.01018 4...</td><td>0.034430229</td></tr>\n",
       "\t<tr><th scope=row>72</th><td>31</td><td>105</td><td>00835874</td><td>0500000US31105</td><td>31105</td><td>Kimball     </td><td>06</td><td> 2465269087</td><td>  1448446</td><td> 951.8453</td><td>32</td><td>MULTIPOLYGON (((-104.0535 4...</td><td>0.033618908</td></tr>\n",
       "\t<tr><th scope=row>73</th><td>31</td><td>173</td><td>00835908</td><td>0500000US31173</td><td>31173</td><td>Thurston    </td><td>06</td><td> 1019377261</td><td>  6458662</td><td> 393.5836</td><td>14</td><td>MULTIPOLYGON (((-96.8225 42...</td><td>0.035570588</td></tr>\n",
       "\t<tr><th scope=row>74</th><td>31</td><td>157</td><td>00835900</td><td>0500000US31157</td><td>31157</td><td>Scotts Bluff</td><td>06</td><td> 1915079306</td><td> 15397684</td><td> 739.4160</td><td>16</td><td>MULTIPOLYGON (((-104.0529 4...</td><td>0.021638700</td></tr>\n",
       "\t<tr><th scope=row>75</th><td>31</td><td>041</td><td>00835842</td><td>0500000US31041</td><td>31041</td><td>Custer      </td><td>06</td><td> 6670757262</td><td>   932956</td><td>2575.5927</td><td>39</td><td>MULTIPOLYGON (((-100.2512 4...</td><td>0.015142146</td></tr>\n",
       "\t<tr><th scope=row>76</th><td>31</td><td>049</td><td>00835846</td><td>0500000US31049</td><td>31049</td><td>Deuel       </td><td>06</td><td> 1139208972</td><td>  2230956</td><td> 439.8509</td><td>37</td><td>MULTIPOLYGON (((-102.6209 4...</td><td>0.084119421</td></tr>\n",
       "\t<tr><th scope=row>77</th><td>31</td><td>039</td><td>00835841</td><td>0500000US31039</td><td>31039</td><td>Cuming      </td><td>06</td><td> 1477652222</td><td> 10690952</td><td> 570.5245</td><td>39</td><td>MULTIPOLYGON (((-97.01936 4...</td><td>0.068358154</td></tr>\n",
       "\t<tr><th scope=row>78</th><td>31</td><td>063</td><td>00835853</td><td>0500000US31063</td><td>31063</td><td>Frontier    </td><td>06</td><td> 2524283235</td><td> 14110075</td><td> 974.6308</td><td>35</td><td>MULTIPOLYGON (((-100.7812 4...</td><td>0.035911034</td></tr>\n",
       "\t<tr><th scope=row>79</th><td>31</td><td>065</td><td>00835854</td><td>0500000US31065</td><td>31065</td><td>Furnas      </td><td>06</td><td> 1862542302</td><td>  3915843</td><td> 719.1313</td><td>35</td><td>MULTIPOLYGON (((-100.1978 4...</td><td>0.048669832</td></tr>\n",
       "\t<tr><th scope=row>80</th><td>31</td><td>073</td><td>00835858</td><td>0500000US31073</td><td>31073</td><td>Gosper      </td><td>06</td><td> 1186616237</td><td> 11831826</td><td> 458.1549</td><td>34</td><td>MULTIPOLYGON (((-100.0951 4...</td><td>0.074210709</td></tr>\n",
       "\t<tr><th scope=row>81</th><td>31</td><td>019</td><td>00835831</td><td>0500000US31019</td><td>31019</td><td>Buffalo     </td><td>06</td><td> 2507679138</td><td> 18593313</td><td> 968.2199</td><td>46</td><td>MULTIPOLYGON (((-99.42576 4...</td><td>0.047509867</td></tr>\n",
       "\t<tr><th scope=row>82</th><td>31</td><td>027</td><td>00835835</td><td>0500000US31027</td><td>31027</td><td>Cedar       </td><td>06</td><td> 1917219989</td><td> 14513816</td><td> 740.2425</td><td>45</td><td>MULTIPOLYGON (((-97.48492 4...</td><td>0.060790892</td></tr>\n",
       "\t<tr><th scope=row>83</th><td>31</td><td>153</td><td>00835898</td><td>0500000US31153</td><td>31153</td><td>Sarpy       </td><td>06</td><td>  616811568</td><td> 24272921</td><td> 238.1522</td><td>18</td><td>MULTIPOLYGON (((-96.33287 4...</td><td>0.075581924</td></tr>\n",
       "\t<tr><th scope=row>84</th><td>31</td><td>003</td><td>00835824</td><td>0500000US31003</td><td>31003</td><td>Antelope    </td><td>06</td><td> 2220231685</td><td>  3510581</td><td> 857.2359</td><td>50</td><td>MULTIPOLYGON (((-98.30024 4...</td><td>0.058327002</td></tr>\n",
       "\t<tr><th scope=row>85</th><td>31</td><td>145</td><td>00835894</td><td>0500000US31145</td><td>31145</td><td>Red Willow  </td><td>06</td><td> 1857036462</td><td>  2591016</td><td> 717.0055</td><td>19</td><td>MULTIPOLYGON (((-100.761 40...</td><td>0.026499100</td></tr>\n",
       "\t<tr><th scope=row>86</th><td>31</td><td>057</td><td>00835850</td><td>0500000US31057</td><td>31057</td><td>Dundy       </td><td>06</td><td> 2381956151</td><td>  3046331</td><td> 919.6780</td><td>37</td><td>MULTIPOLYGON (((-102.0519 4...</td><td>0.040231471</td></tr>\n",
       "\t<tr><th scope=row>87</th><td>31</td><td>129</td><td>00835886</td><td>0500000US31129</td><td>31129</td><td>Nuckolls    </td><td>06</td><td> 1489645187</td><td>  1718484</td><td> 575.1550</td><td>23</td><td>MULTIPOLYGON (((-98.27357 4...</td><td>0.039989221</td></tr>\n",
       "\t<tr><th scope=row>88</th><td>31</td><td>007</td><td>00835826</td><td>0500000US31007</td><td>31007</td><td>Banner      </td><td>06</td><td> 1932676689</td><td>   397069</td><td> 746.2103</td><td>48</td><td>MULTIPOLYGON (((-104.0529 4...</td><td>0.064325027</td></tr>\n",
       "\t<tr><th scope=row>89</th><td>31</td><td>131</td><td>00835887</td><td>0500000US31131</td><td>31131</td><td>Otoe        </td><td>06</td><td> 1594561657</td><td>  8689334</td><td> 615.6634</td><td>23</td><td>MULTIPOLYGON (((-96.46376 4...</td><td>0.037358073</td></tr>\n",
       "\t<tr><th scope=row>90</th><td>31</td><td>045</td><td>00835844</td><td>0500000US31045</td><td>31045</td><td>Dawes       </td><td>06</td><td> 3616875588</td><td> 11870270</td><td>1396.4829</td><td>39</td><td>MULTIPOLYGON (((-103.5051 4...</td><td>0.027927302</td></tr>\n",
       "\t<tr><th scope=row>91</th><td>31</td><td>071</td><td>00835857</td><td>0500000US31071</td><td>31071</td><td>Garfield    </td><td>06</td><td> 1474558349</td><td>  5321553</td><td> 569.3299</td><td>35</td><td>MULTIPOLYGON (((-99.22273 4...</td><td>0.061475778</td></tr>\n",
       "\t<tr><th scope=row>92</th><td>31</td><td>001</td><td>00835823</td><td>0500000US31001</td><td>31001</td><td>Adams       </td><td>06</td><td> 1458869102</td><td>  2481410</td><td> 563.2723</td><td>50</td><td>MULTIPOLYGON (((-98.72439 4...</td><td>0.088767017</td></tr>\n",
       "\t<tr><th scope=row>93</th><td>31</td><td>095</td><td>00835869</td><td>0500000US31095</td><td>31095</td><td>Jefferson   </td><td>06</td><td> 1476736212</td><td> 14232352</td><td> 570.1708</td><td>31</td><td>MULTIPOLYGON (((-97.3692 40...</td><td>0.054369673</td></tr>\n",
       "</tbody>\n",
       "</table>\n"
      ],
      "text/latex": [
       "A sf: 93 × 13\n",
       "\\begin{tabular}{r|lllllllllllll}\n",
       "  & STATEFP & COUNTYFP & COUNTYNS & AFFGEOID & GEOID & NAME & LSAD & ALAND & AWATER & ALANDMI & n & geometry & stn\\_sq\\_mi\\\\\n",
       "  & <chr> & <chr> & <chr> & <chr> & <chr> & <chr> & <chr> & <dbl> & <dbl> & <dbl> & <int> & <MULTIPOLYGON {[}°{]}> & <dbl>\\\\\n",
       "\\hline\n",
       "\t1 & 31 & 009 & 00835827 & 0500000US31009 & 31009 & Blaine    & 06 & 1840673980 &   9443894 &  710.6879 & 49 & MULTIPOLYGON (((-100.2676 4... & 0.06894728\\\\\n",
       "\t2 & 31 & 111 & 00835877 & 0500000US31111 & 31111 & Lincoln   & 06 & 6641072810 &  28449819 & 2564.1315 & 29 & MULTIPOLYGON (((-101.2697 4... & 0.01130987\\\\\n",
       "\t3 & 31 & 117 & 00835881 & 0500000US31117 & 31117 & McPherson & 06 & 2224733580 &   2680669 &  858.9741 & 27 & MULTIPOLYGON (((-101.4065 4... & 0.03143285\\\\\n",
       "\t4 & 31 & 185 & 00835914 & 0500000US31185 & 31185 & York      & 06 & 1482793604 &   8595508 &  572.5096 & 12 & MULTIPOLYGON (((-97.82629 4... & 0.02096035\\\\\n",
       "\t5 & 31 & 101 & 00835872 & 0500000US31101 & 31101 & Keith     & 06 & 2749531885 & 124672175 & 1061.5998 & 31 & MULTIPOLYGON (((-102.0555 4... & 0.02920121\\\\\n",
       "\t6 & 31 & 081 & 00835862 & 0500000US31081 & 31081 & Hamilton  & 06 & 1403509085 &   7360264 &  541.8977 & 33 & MULTIPOLYGON (((-98.28258 4... & 0.06089711\\\\\n",
       "\t7 & 31 & 005 & 00835825 & 0500000US31005 & 31005 & Arthur    & 06 & 1852759729 &   7644718 &  715.3542 & 50 & MULTIPOLYGON (((-101.9855 4... & 0.06989544\\\\\n",
       "\t8 & 31 & 171 & 00835907 & 0500000US31171 & 31171 & Thomas    & 06 & 1846403705 &   2028433 &  712.9002 & 14 & MULTIPOLYGON (((-100.8461 4... & 0.01963809\\\\\n",
       "\t9 & 31 & 029 & 00835836 & 0500000US31029 & 31029 & Chase     & 06 & 2316533447 &   7978172 &  894.4182 & 42 & MULTIPOLYGON (((-102.0518 4... & 0.04695790\\\\\n",
       "\t10 & 31 & 011 & 00835828 & 0500000US31011 & 31011 & Boone     & 06 & 1778166040 &   1718583 &  686.5535 & 47 & MULTIPOLYGON (((-98.2956 41... & 0.06845789\\\\\n",
       "\t11 & 31 & 035 & 00835839 & 0500000US31035 & 31035 & Clay      & 06 & 1482222908 &   3234877 &  572.2892 & 40 & MULTIPOLYGON (((-98.2781 40... & 0.06989473\\\\\n",
       "\t12 & 31 & 159 & 00835901 & 0500000US31159 & 31159 & Seward    & 06 & 1479995670 &  11542537 &  571.4293 & 16 & MULTIPOLYGON (((-97.36812 4... & 0.02799996\\\\\n",
       "\t13 & 31 & 093 & 00835868 & 0500000US31093 & 31093 & Howard    & 06 & 1474578450 &  16199402 &  569.3377 & 31 & MULTIPOLYGON (((-98.74433 4... & 0.05444923\\\\\n",
       "\t14 & 31 & 143 & 00835893 & 0500000US31143 & 31143 & Polk      & 06 & 1135309851 &   5947393 &  438.3454 & 19 & MULTIPOLYGON (((-97.82826 4... & 0.04334481\\\\\n",
       "\t15 & 31 & 167 & 00835905 & 0500000US31167 & 31167 & Stanton   & 06 & 1107500701 &   8789497 &  427.6082 & 14 & MULTIPOLYGON (((-97.3684 42... & 0.03274025\\\\\n",
       "\t16 & 31 & 069 & 00835856 & 0500000US31069 & 31069 & Garden    & 06 & 4417083921 &  65860691 & 1705.4449 & 35 & MULTIPOLYGON (((-102.6776 4... & 0.02052250\\\\\n",
       "\t17 & 31 & 181 & 00835912 & 0500000US31181 & 31181 & Webster   & 06 & 1489017963 &    337241 &  574.9128 & 12 & MULTIPOLYGON (((-98.72683 4... & 0.02087273\\\\\n",
       "\t18 & 31 & 139 & 00835891 & 0500000US31139 & 31139 & Pierce    & 06 & 1484707278 &   3481943 &  573.2484 & 20 & MULTIPOLYGON (((-97.83443 4... & 0.03488889\\\\\n",
       "\t19 & 31 & 087 & 00835865 & 0500000US31087 & 31087 & Hitchcock & 06 & 1838742723 &  22103381 &  709.9422 & 33 & MULTIPOLYGON (((-101.3255 4... & 0.04648265\\\\\n",
       "\t20 & 31 & 085 & 00835864 & 0500000US31085 & 31085 & Hayes     & 06 & 1846821514 &    570786 &  713.0615 & 34 & MULTIPOLYGON (((-101.3454 4... & 0.04768172\\\\\n",
       "\t21 & 31 & 123 & 00835883 & 0500000US31123 & 31123 & Morrill   & 06 & 3687721339 &  15601312 & 1423.8366 & 26 & MULTIPOLYGON (((-103.3704 4... & 0.01826052\\\\\n",
       "\t22 & 31 & 141 & 00835892 & 0500000US31141 & 31141 & Platte    & 06 & 1745910544 &  27167484 &  674.0996 & 20 & MULTIPOLYGON (((-97.83049 4... & 0.02966921\\\\\n",
       "\t23 & 31 & 169 & 00835906 & 0500000US31169 & 31169 & Thayer    & 06 & 1486153243 &   3025339 &  573.8067 & 14 & MULTIPOLYGON (((-97.82082 4... & 0.02439846\\\\\n",
       "\t24 & 31 & 013 & 00835991 & 0500000US31013 & 31013 & Box Butte & 06 & 2784994716 &   6588657 & 1075.2920 & 48 & MULTIPOLYGON (((-103.4445 4... & 0.04463904\\\\\n",
       "\t25 & 31 & 091 & 00835867 & 0500000US31091 & 31091 & Hooker    & 06 & 1867796137 &    882994 &  721.1598 & 32 & MULTIPOLYGON (((-101.4266 4... & 0.04437297\\\\\n",
       "\t26 & 31 & 075 & 00835859 & 0500000US31075 & 31075 & Grant     & 06 & 2012081438 &  16460163 &  776.8687 & 34 & MULTIPOLYGON (((-102.0666 4... & 0.04376544\\\\\n",
       "\t27 & 31 & 061 & 00835852 & 0500000US31061 & 31061 & Franklin  & 06 & 1491355860 &    487899 &  575.8155 & 36 & MULTIPOLYGON (((-99.1794 40... & 0.06252003\\\\\n",
       "\t28 & 31 & 099 & 00835871 & 0500000US31099 & 31099 & Kearney   & 06 & 1337063541 &    274634 &  516.2429 & 31 & MULTIPOLYGON (((-99.17925 4... & 0.06004925\\\\\n",
       "\t29 & 31 & 163 & 00835903 & 0500000US31163 & 31163 & Sherman   & 06 & 1465489231 &  15062146 &  565.8283 & 16 & MULTIPOLYGON (((-99.20326 4... & 0.02827713\\\\\n",
       "\t30 & 31 & 175 & 00835909 & 0500000US31175 & 31175 & Valley    & 06 & 1471402793 &   6076916 &  568.1116 & 13 & MULTIPOLYGON (((-99.21202 4... & 0.02288283\\\\\n",
       "\t⋮ & ⋮ & ⋮ & ⋮ & ⋮ & ⋮ & ⋮ & ⋮ & ⋮ & ⋮ & ⋮ & ⋮ & ⋮ & ⋮\\\\\n",
       "\t64 & 31 & 161 & 00835902 & 0500000US31161 & 31161 & Sheridan     & 06 &  6322057033 &  74718659 & 2440.9589 & 16 & MULTIPOLYGON (((-102.7921 4... & 0.006554801\\\\\n",
       "\t65 & 31 & 031 & 00835837 & 0500000US31031 & 31031 & Cherry       & 06 & 15436868252 & 127452878 & 5960.2057 & 42 & MULTIPOLYGON (((-102.0825 4... & 0.007046737\\\\\n",
       "\t66 & 31 & 033 & 00835838 & 0500000US31033 & 31033 & Cheyenne     & 06 &  3098367764 &    292549 & 1196.2860 & 41 & MULTIPOLYGON (((-103.3823 4... & 0.034272741\\\\\n",
       "\t67 & 31 & 165 & 00835904 & 0500000US31165 & 31165 & Sioux        & 06 &  5352724893 &   1681023 & 2066.6978 & 15 & MULTIPOLYGON (((-104.0531 4... & 0.007257955\\\\\n",
       "\t68 & 31 & 043 & 00835843 & 0500000US31043 & 31043 & Dakota       & 06 &   684422627 &   8193327 &  264.2569 & 39 & MULTIPOLYGON (((-96.72662 4... & 0.147583633\\\\\n",
       "\t69 & 31 & 021 & 00835832 & 0500000US31021 & 31021 & Burt         & 06 &  1273201345 &  14186270 &  491.5856 & 45 & MULTIPOLYGON (((-96.55487 4... & 0.091540520\\\\\n",
       "\t70 & 31 & 051 & 00835847 & 0500000US31051 & 31051 & Dixon        & 06 &  1233120001 &  17111893 &  476.1101 & 37 & MULTIPOLYGON (((-97.01779 4... & 0.077713117\\\\\n",
       "\t71 & 31 & 147 & 00835895 & 0500000US31147 & 31147 & Richardson   & 06 &  1429261306 &   7077613 &  551.8406 & 19 & MULTIPOLYGON (((-96.01018 4... & 0.034430229\\\\\n",
       "\t72 & 31 & 105 & 00835874 & 0500000US31105 & 31105 & Kimball      & 06 &  2465269087 &   1448446 &  951.8453 & 32 & MULTIPOLYGON (((-104.0535 4... & 0.033618908\\\\\n",
       "\t73 & 31 & 173 & 00835908 & 0500000US31173 & 31173 & Thurston     & 06 &  1019377261 &   6458662 &  393.5836 & 14 & MULTIPOLYGON (((-96.8225 42... & 0.035570588\\\\\n",
       "\t74 & 31 & 157 & 00835900 & 0500000US31157 & 31157 & Scotts Bluff & 06 &  1915079306 &  15397684 &  739.4160 & 16 & MULTIPOLYGON (((-104.0529 4... & 0.021638700\\\\\n",
       "\t75 & 31 & 041 & 00835842 & 0500000US31041 & 31041 & Custer       & 06 &  6670757262 &    932956 & 2575.5927 & 39 & MULTIPOLYGON (((-100.2512 4... & 0.015142146\\\\\n",
       "\t76 & 31 & 049 & 00835846 & 0500000US31049 & 31049 & Deuel        & 06 &  1139208972 &   2230956 &  439.8509 & 37 & MULTIPOLYGON (((-102.6209 4... & 0.084119421\\\\\n",
       "\t77 & 31 & 039 & 00835841 & 0500000US31039 & 31039 & Cuming       & 06 &  1477652222 &  10690952 &  570.5245 & 39 & MULTIPOLYGON (((-97.01936 4... & 0.068358154\\\\\n",
       "\t78 & 31 & 063 & 00835853 & 0500000US31063 & 31063 & Frontier     & 06 &  2524283235 &  14110075 &  974.6308 & 35 & MULTIPOLYGON (((-100.7812 4... & 0.035911034\\\\\n",
       "\t79 & 31 & 065 & 00835854 & 0500000US31065 & 31065 & Furnas       & 06 &  1862542302 &   3915843 &  719.1313 & 35 & MULTIPOLYGON (((-100.1978 4... & 0.048669832\\\\\n",
       "\t80 & 31 & 073 & 00835858 & 0500000US31073 & 31073 & Gosper       & 06 &  1186616237 &  11831826 &  458.1549 & 34 & MULTIPOLYGON (((-100.0951 4... & 0.074210709\\\\\n",
       "\t81 & 31 & 019 & 00835831 & 0500000US31019 & 31019 & Buffalo      & 06 &  2507679138 &  18593313 &  968.2199 & 46 & MULTIPOLYGON (((-99.42576 4... & 0.047509867\\\\\n",
       "\t82 & 31 & 027 & 00835835 & 0500000US31027 & 31027 & Cedar        & 06 &  1917219989 &  14513816 &  740.2425 & 45 & MULTIPOLYGON (((-97.48492 4... & 0.060790892\\\\\n",
       "\t83 & 31 & 153 & 00835898 & 0500000US31153 & 31153 & Sarpy        & 06 &   616811568 &  24272921 &  238.1522 & 18 & MULTIPOLYGON (((-96.33287 4... & 0.075581924\\\\\n",
       "\t84 & 31 & 003 & 00835824 & 0500000US31003 & 31003 & Antelope     & 06 &  2220231685 &   3510581 &  857.2359 & 50 & MULTIPOLYGON (((-98.30024 4... & 0.058327002\\\\\n",
       "\t85 & 31 & 145 & 00835894 & 0500000US31145 & 31145 & Red Willow   & 06 &  1857036462 &   2591016 &  717.0055 & 19 & MULTIPOLYGON (((-100.761 40... & 0.026499100\\\\\n",
       "\t86 & 31 & 057 & 00835850 & 0500000US31057 & 31057 & Dundy        & 06 &  2381956151 &   3046331 &  919.6780 & 37 & MULTIPOLYGON (((-102.0519 4... & 0.040231471\\\\\n",
       "\t87 & 31 & 129 & 00835886 & 0500000US31129 & 31129 & Nuckolls     & 06 &  1489645187 &   1718484 &  575.1550 & 23 & MULTIPOLYGON (((-98.27357 4... & 0.039989221\\\\\n",
       "\t88 & 31 & 007 & 00835826 & 0500000US31007 & 31007 & Banner       & 06 &  1932676689 &    397069 &  746.2103 & 48 & MULTIPOLYGON (((-104.0529 4... & 0.064325027\\\\\n",
       "\t89 & 31 & 131 & 00835887 & 0500000US31131 & 31131 & Otoe         & 06 &  1594561657 &   8689334 &  615.6634 & 23 & MULTIPOLYGON (((-96.46376 4... & 0.037358073\\\\\n",
       "\t90 & 31 & 045 & 00835844 & 0500000US31045 & 31045 & Dawes        & 06 &  3616875588 &  11870270 & 1396.4829 & 39 & MULTIPOLYGON (((-103.5051 4... & 0.027927302\\\\\n",
       "\t91 & 31 & 071 & 00835857 & 0500000US31071 & 31071 & Garfield     & 06 &  1474558349 &   5321553 &  569.3299 & 35 & MULTIPOLYGON (((-99.22273 4... & 0.061475778\\\\\n",
       "\t92 & 31 & 001 & 00835823 & 0500000US31001 & 31001 & Adams        & 06 &  1458869102 &   2481410 &  563.2723 & 50 & MULTIPOLYGON (((-98.72439 4... & 0.088767017\\\\\n",
       "\t93 & 31 & 095 & 00835869 & 0500000US31095 & 31095 & Jefferson    & 06 &  1476736212 &  14232352 &  570.1708 & 31 & MULTIPOLYGON (((-97.3692 40... & 0.054369673\\\\\n",
       "\\end{tabular}\n"
      ],
      "text/markdown": [
       "\n",
       "A sf: 93 × 13\n",
       "\n",
       "| <!--/--> | STATEFP &lt;chr&gt; | COUNTYFP &lt;chr&gt; | COUNTYNS &lt;chr&gt; | AFFGEOID &lt;chr&gt; | GEOID &lt;chr&gt; | NAME &lt;chr&gt; | LSAD &lt;chr&gt; | ALAND &lt;dbl&gt; | AWATER &lt;dbl&gt; | ALANDMI &lt;dbl&gt; | n &lt;int&gt; | geometry &lt;MULTIPOLYGON [°]&gt; | stn_sq_mi &lt;dbl&gt; |\n",
       "|---|---|---|---|---|---|---|---|---|---|---|---|---|---|\n",
       "| 1 | 31 | 009 | 00835827 | 0500000US31009 | 31009 | Blaine    | 06 | 1840673980 |   9443894 |  710.6879 | 49 | MULTIPOLYGON (((-100.2676 4... | 0.06894728 |\n",
       "| 2 | 31 | 111 | 00835877 | 0500000US31111 | 31111 | Lincoln   | 06 | 6641072810 |  28449819 | 2564.1315 | 29 | MULTIPOLYGON (((-101.2697 4... | 0.01130987 |\n",
       "| 3 | 31 | 117 | 00835881 | 0500000US31117 | 31117 | McPherson | 06 | 2224733580 |   2680669 |  858.9741 | 27 | MULTIPOLYGON (((-101.4065 4... | 0.03143285 |\n",
       "| 4 | 31 | 185 | 00835914 | 0500000US31185 | 31185 | York      | 06 | 1482793604 |   8595508 |  572.5096 | 12 | MULTIPOLYGON (((-97.82629 4... | 0.02096035 |\n",
       "| 5 | 31 | 101 | 00835872 | 0500000US31101 | 31101 | Keith     | 06 | 2749531885 | 124672175 | 1061.5998 | 31 | MULTIPOLYGON (((-102.0555 4... | 0.02920121 |\n",
       "| 6 | 31 | 081 | 00835862 | 0500000US31081 | 31081 | Hamilton  | 06 | 1403509085 |   7360264 |  541.8977 | 33 | MULTIPOLYGON (((-98.28258 4... | 0.06089711 |\n",
       "| 7 | 31 | 005 | 00835825 | 0500000US31005 | 31005 | Arthur    | 06 | 1852759729 |   7644718 |  715.3542 | 50 | MULTIPOLYGON (((-101.9855 4... | 0.06989544 |\n",
       "| 8 | 31 | 171 | 00835907 | 0500000US31171 | 31171 | Thomas    | 06 | 1846403705 |   2028433 |  712.9002 | 14 | MULTIPOLYGON (((-100.8461 4... | 0.01963809 |\n",
       "| 9 | 31 | 029 | 00835836 | 0500000US31029 | 31029 | Chase     | 06 | 2316533447 |   7978172 |  894.4182 | 42 | MULTIPOLYGON (((-102.0518 4... | 0.04695790 |\n",
       "| 10 | 31 | 011 | 00835828 | 0500000US31011 | 31011 | Boone     | 06 | 1778166040 |   1718583 |  686.5535 | 47 | MULTIPOLYGON (((-98.2956 41... | 0.06845789 |\n",
       "| 11 | 31 | 035 | 00835839 | 0500000US31035 | 31035 | Clay      | 06 | 1482222908 |   3234877 |  572.2892 | 40 | MULTIPOLYGON (((-98.2781 40... | 0.06989473 |\n",
       "| 12 | 31 | 159 | 00835901 | 0500000US31159 | 31159 | Seward    | 06 | 1479995670 |  11542537 |  571.4293 | 16 | MULTIPOLYGON (((-97.36812 4... | 0.02799996 |\n",
       "| 13 | 31 | 093 | 00835868 | 0500000US31093 | 31093 | Howard    | 06 | 1474578450 |  16199402 |  569.3377 | 31 | MULTIPOLYGON (((-98.74433 4... | 0.05444923 |\n",
       "| 14 | 31 | 143 | 00835893 | 0500000US31143 | 31143 | Polk      | 06 | 1135309851 |   5947393 |  438.3454 | 19 | MULTIPOLYGON (((-97.82826 4... | 0.04334481 |\n",
       "| 15 | 31 | 167 | 00835905 | 0500000US31167 | 31167 | Stanton   | 06 | 1107500701 |   8789497 |  427.6082 | 14 | MULTIPOLYGON (((-97.3684 42... | 0.03274025 |\n",
       "| 16 | 31 | 069 | 00835856 | 0500000US31069 | 31069 | Garden    | 06 | 4417083921 |  65860691 | 1705.4449 | 35 | MULTIPOLYGON (((-102.6776 4... | 0.02052250 |\n",
       "| 17 | 31 | 181 | 00835912 | 0500000US31181 | 31181 | Webster   | 06 | 1489017963 |    337241 |  574.9128 | 12 | MULTIPOLYGON (((-98.72683 4... | 0.02087273 |\n",
       "| 18 | 31 | 139 | 00835891 | 0500000US31139 | 31139 | Pierce    | 06 | 1484707278 |   3481943 |  573.2484 | 20 | MULTIPOLYGON (((-97.83443 4... | 0.03488889 |\n",
       "| 19 | 31 | 087 | 00835865 | 0500000US31087 | 31087 | Hitchcock | 06 | 1838742723 |  22103381 |  709.9422 | 33 | MULTIPOLYGON (((-101.3255 4... | 0.04648265 |\n",
       "| 20 | 31 | 085 | 00835864 | 0500000US31085 | 31085 | Hayes     | 06 | 1846821514 |    570786 |  713.0615 | 34 | MULTIPOLYGON (((-101.3454 4... | 0.04768172 |\n",
       "| 21 | 31 | 123 | 00835883 | 0500000US31123 | 31123 | Morrill   | 06 | 3687721339 |  15601312 | 1423.8366 | 26 | MULTIPOLYGON (((-103.3704 4... | 0.01826052 |\n",
       "| 22 | 31 | 141 | 00835892 | 0500000US31141 | 31141 | Platte    | 06 | 1745910544 |  27167484 |  674.0996 | 20 | MULTIPOLYGON (((-97.83049 4... | 0.02966921 |\n",
       "| 23 | 31 | 169 | 00835906 | 0500000US31169 | 31169 | Thayer    | 06 | 1486153243 |   3025339 |  573.8067 | 14 | MULTIPOLYGON (((-97.82082 4... | 0.02439846 |\n",
       "| 24 | 31 | 013 | 00835991 | 0500000US31013 | 31013 | Box Butte | 06 | 2784994716 |   6588657 | 1075.2920 | 48 | MULTIPOLYGON (((-103.4445 4... | 0.04463904 |\n",
       "| 25 | 31 | 091 | 00835867 | 0500000US31091 | 31091 | Hooker    | 06 | 1867796137 |    882994 |  721.1598 | 32 | MULTIPOLYGON (((-101.4266 4... | 0.04437297 |\n",
       "| 26 | 31 | 075 | 00835859 | 0500000US31075 | 31075 | Grant     | 06 | 2012081438 |  16460163 |  776.8687 | 34 | MULTIPOLYGON (((-102.0666 4... | 0.04376544 |\n",
       "| 27 | 31 | 061 | 00835852 | 0500000US31061 | 31061 | Franklin  | 06 | 1491355860 |    487899 |  575.8155 | 36 | MULTIPOLYGON (((-99.1794 40... | 0.06252003 |\n",
       "| 28 | 31 | 099 | 00835871 | 0500000US31099 | 31099 | Kearney   | 06 | 1337063541 |    274634 |  516.2429 | 31 | MULTIPOLYGON (((-99.17925 4... | 0.06004925 |\n",
       "| 29 | 31 | 163 | 00835903 | 0500000US31163 | 31163 | Sherman   | 06 | 1465489231 |  15062146 |  565.8283 | 16 | MULTIPOLYGON (((-99.20326 4... | 0.02827713 |\n",
       "| 30 | 31 | 175 | 00835909 | 0500000US31175 | 31175 | Valley    | 06 | 1471402793 |   6076916 |  568.1116 | 13 | MULTIPOLYGON (((-99.21202 4... | 0.02288283 |\n",
       "| ⋮ | ⋮ | ⋮ | ⋮ | ⋮ | ⋮ | ⋮ | ⋮ | ⋮ | ⋮ | ⋮ | ⋮ | ⋮ | ⋮ |\n",
       "| 64 | 31 | 161 | 00835902 | 0500000US31161 | 31161 | Sheridan     | 06 |  6322057033 |  74718659 | 2440.9589 | 16 | MULTIPOLYGON (((-102.7921 4... | 0.006554801 |\n",
       "| 65 | 31 | 031 | 00835837 | 0500000US31031 | 31031 | Cherry       | 06 | 15436868252 | 127452878 | 5960.2057 | 42 | MULTIPOLYGON (((-102.0825 4... | 0.007046737 |\n",
       "| 66 | 31 | 033 | 00835838 | 0500000US31033 | 31033 | Cheyenne     | 06 |  3098367764 |    292549 | 1196.2860 | 41 | MULTIPOLYGON (((-103.3823 4... | 0.034272741 |\n",
       "| 67 | 31 | 165 | 00835904 | 0500000US31165 | 31165 | Sioux        | 06 |  5352724893 |   1681023 | 2066.6978 | 15 | MULTIPOLYGON (((-104.0531 4... | 0.007257955 |\n",
       "| 68 | 31 | 043 | 00835843 | 0500000US31043 | 31043 | Dakota       | 06 |   684422627 |   8193327 |  264.2569 | 39 | MULTIPOLYGON (((-96.72662 4... | 0.147583633 |\n",
       "| 69 | 31 | 021 | 00835832 | 0500000US31021 | 31021 | Burt         | 06 |  1273201345 |  14186270 |  491.5856 | 45 | MULTIPOLYGON (((-96.55487 4... | 0.091540520 |\n",
       "| 70 | 31 | 051 | 00835847 | 0500000US31051 | 31051 | Dixon        | 06 |  1233120001 |  17111893 |  476.1101 | 37 | MULTIPOLYGON (((-97.01779 4... | 0.077713117 |\n",
       "| 71 | 31 | 147 | 00835895 | 0500000US31147 | 31147 | Richardson   | 06 |  1429261306 |   7077613 |  551.8406 | 19 | MULTIPOLYGON (((-96.01018 4... | 0.034430229 |\n",
       "| 72 | 31 | 105 | 00835874 | 0500000US31105 | 31105 | Kimball      | 06 |  2465269087 |   1448446 |  951.8453 | 32 | MULTIPOLYGON (((-104.0535 4... | 0.033618908 |\n",
       "| 73 | 31 | 173 | 00835908 | 0500000US31173 | 31173 | Thurston     | 06 |  1019377261 |   6458662 |  393.5836 | 14 | MULTIPOLYGON (((-96.8225 42... | 0.035570588 |\n",
       "| 74 | 31 | 157 | 00835900 | 0500000US31157 | 31157 | Scotts Bluff | 06 |  1915079306 |  15397684 |  739.4160 | 16 | MULTIPOLYGON (((-104.0529 4... | 0.021638700 |\n",
       "| 75 | 31 | 041 | 00835842 | 0500000US31041 | 31041 | Custer       | 06 |  6670757262 |    932956 | 2575.5927 | 39 | MULTIPOLYGON (((-100.2512 4... | 0.015142146 |\n",
       "| 76 | 31 | 049 | 00835846 | 0500000US31049 | 31049 | Deuel        | 06 |  1139208972 |   2230956 |  439.8509 | 37 | MULTIPOLYGON (((-102.6209 4... | 0.084119421 |\n",
       "| 77 | 31 | 039 | 00835841 | 0500000US31039 | 31039 | Cuming       | 06 |  1477652222 |  10690952 |  570.5245 | 39 | MULTIPOLYGON (((-97.01936 4... | 0.068358154 |\n",
       "| 78 | 31 | 063 | 00835853 | 0500000US31063 | 31063 | Frontier     | 06 |  2524283235 |  14110075 |  974.6308 | 35 | MULTIPOLYGON (((-100.7812 4... | 0.035911034 |\n",
       "| 79 | 31 | 065 | 00835854 | 0500000US31065 | 31065 | Furnas       | 06 |  1862542302 |   3915843 |  719.1313 | 35 | MULTIPOLYGON (((-100.1978 4... | 0.048669832 |\n",
       "| 80 | 31 | 073 | 00835858 | 0500000US31073 | 31073 | Gosper       | 06 |  1186616237 |  11831826 |  458.1549 | 34 | MULTIPOLYGON (((-100.0951 4... | 0.074210709 |\n",
       "| 81 | 31 | 019 | 00835831 | 0500000US31019 | 31019 | Buffalo      | 06 |  2507679138 |  18593313 |  968.2199 | 46 | MULTIPOLYGON (((-99.42576 4... | 0.047509867 |\n",
       "| 82 | 31 | 027 | 00835835 | 0500000US31027 | 31027 | Cedar        | 06 |  1917219989 |  14513816 |  740.2425 | 45 | MULTIPOLYGON (((-97.48492 4... | 0.060790892 |\n",
       "| 83 | 31 | 153 | 00835898 | 0500000US31153 | 31153 | Sarpy        | 06 |   616811568 |  24272921 |  238.1522 | 18 | MULTIPOLYGON (((-96.33287 4... | 0.075581924 |\n",
       "| 84 | 31 | 003 | 00835824 | 0500000US31003 | 31003 | Antelope     | 06 |  2220231685 |   3510581 |  857.2359 | 50 | MULTIPOLYGON (((-98.30024 4... | 0.058327002 |\n",
       "| 85 | 31 | 145 | 00835894 | 0500000US31145 | 31145 | Red Willow   | 06 |  1857036462 |   2591016 |  717.0055 | 19 | MULTIPOLYGON (((-100.761 40... | 0.026499100 |\n",
       "| 86 | 31 | 057 | 00835850 | 0500000US31057 | 31057 | Dundy        | 06 |  2381956151 |   3046331 |  919.6780 | 37 | MULTIPOLYGON (((-102.0519 4... | 0.040231471 |\n",
       "| 87 | 31 | 129 | 00835886 | 0500000US31129 | 31129 | Nuckolls     | 06 |  1489645187 |   1718484 |  575.1550 | 23 | MULTIPOLYGON (((-98.27357 4... | 0.039989221 |\n",
       "| 88 | 31 | 007 | 00835826 | 0500000US31007 | 31007 | Banner       | 06 |  1932676689 |    397069 |  746.2103 | 48 | MULTIPOLYGON (((-104.0529 4... | 0.064325027 |\n",
       "| 89 | 31 | 131 | 00835887 | 0500000US31131 | 31131 | Otoe         | 06 |  1594561657 |   8689334 |  615.6634 | 23 | MULTIPOLYGON (((-96.46376 4... | 0.037358073 |\n",
       "| 90 | 31 | 045 | 00835844 | 0500000US31045 | 31045 | Dawes        | 06 |  3616875588 |  11870270 | 1396.4829 | 39 | MULTIPOLYGON (((-103.5051 4... | 0.027927302 |\n",
       "| 91 | 31 | 071 | 00835857 | 0500000US31071 | 31071 | Garfield     | 06 |  1474558349 |   5321553 |  569.3299 | 35 | MULTIPOLYGON (((-99.22273 4... | 0.061475778 |\n",
       "| 92 | 31 | 001 | 00835823 | 0500000US31001 | 31001 | Adams        | 06 |  1458869102 |   2481410 |  563.2723 | 50 | MULTIPOLYGON (((-98.72439 4... | 0.088767017 |\n",
       "| 93 | 31 | 095 | 00835869 | 0500000US31095 | 31095 | Jefferson    | 06 |  1476736212 |  14232352 |  570.1708 | 31 | MULTIPOLYGON (((-97.3692 40... | 0.054369673 |\n",
       "\n"
      ],
      "text/plain": [
       "   STATEFP COUNTYFP COUNTYNS AFFGEOID       GEOID NAME         LSAD ALAND      \n",
       "1  31      009      00835827 0500000US31009 31009 Blaine       06   1840673980 \n",
       "2  31      111      00835877 0500000US31111 31111 Lincoln      06   6641072810 \n",
       "3  31      117      00835881 0500000US31117 31117 McPherson    06   2224733580 \n",
       "4  31      185      00835914 0500000US31185 31185 York         06   1482793604 \n",
       "5  31      101      00835872 0500000US31101 31101 Keith        06   2749531885 \n",
       "6  31      081      00835862 0500000US31081 31081 Hamilton     06   1403509085 \n",
       "7  31      005      00835825 0500000US31005 31005 Arthur       06   1852759729 \n",
       "8  31      171      00835907 0500000US31171 31171 Thomas       06   1846403705 \n",
       "9  31      029      00835836 0500000US31029 31029 Chase        06   2316533447 \n",
       "10 31      011      00835828 0500000US31011 31011 Boone        06   1778166040 \n",
       "11 31      035      00835839 0500000US31035 31035 Clay         06   1482222908 \n",
       "12 31      159      00835901 0500000US31159 31159 Seward       06   1479995670 \n",
       "13 31      093      00835868 0500000US31093 31093 Howard       06   1474578450 \n",
       "14 31      143      00835893 0500000US31143 31143 Polk         06   1135309851 \n",
       "15 31      167      00835905 0500000US31167 31167 Stanton      06   1107500701 \n",
       "16 31      069      00835856 0500000US31069 31069 Garden       06   4417083921 \n",
       "17 31      181      00835912 0500000US31181 31181 Webster      06   1489017963 \n",
       "18 31      139      00835891 0500000US31139 31139 Pierce       06   1484707278 \n",
       "19 31      087      00835865 0500000US31087 31087 Hitchcock    06   1838742723 \n",
       "20 31      085      00835864 0500000US31085 31085 Hayes        06   1846821514 \n",
       "21 31      123      00835883 0500000US31123 31123 Morrill      06   3687721339 \n",
       "22 31      141      00835892 0500000US31141 31141 Platte       06   1745910544 \n",
       "23 31      169      00835906 0500000US31169 31169 Thayer       06   1486153243 \n",
       "24 31      013      00835991 0500000US31013 31013 Box Butte    06   2784994716 \n",
       "25 31      091      00835867 0500000US31091 31091 Hooker       06   1867796137 \n",
       "26 31      075      00835859 0500000US31075 31075 Grant        06   2012081438 \n",
       "27 31      061      00835852 0500000US31061 31061 Franklin     06   1491355860 \n",
       "28 31      099      00835871 0500000US31099 31099 Kearney      06   1337063541 \n",
       "29 31      163      00835903 0500000US31163 31163 Sherman      06   1465489231 \n",
       "30 31      175      00835909 0500000US31175 31175 Valley       06   1471402793 \n",
       "<U+22EE>  <U+22EE> <U+22EE> <U+22EE> <U+22EE>       <U+22EE> <U+22EE>     <U+22EE> <U+22EE>   \n",
       "64 31      161      00835902 0500000US31161 31161 Sheridan     06    6322057033\n",
       "65 31      031      00835837 0500000US31031 31031 Cherry       06   15436868252\n",
       "66 31      033      00835838 0500000US31033 31033 Cheyenne     06    3098367764\n",
       "67 31      165      00835904 0500000US31165 31165 Sioux        06    5352724893\n",
       "68 31      043      00835843 0500000US31043 31043 Dakota       06     684422627\n",
       "69 31      021      00835832 0500000US31021 31021 Burt         06    1273201345\n",
       "70 31      051      00835847 0500000US31051 31051 Dixon        06    1233120001\n",
       "71 31      147      00835895 0500000US31147 31147 Richardson   06    1429261306\n",
       "72 31      105      00835874 0500000US31105 31105 Kimball      06    2465269087\n",
       "73 31      173      00835908 0500000US31173 31173 Thurston     06    1019377261\n",
       "74 31      157      00835900 0500000US31157 31157 Scotts Bluff 06    1915079306\n",
       "75 31      041      00835842 0500000US31041 31041 Custer       06    6670757262\n",
       "76 31      049      00835846 0500000US31049 31049 Deuel        06    1139208972\n",
       "77 31      039      00835841 0500000US31039 31039 Cuming       06    1477652222\n",
       "78 31      063      00835853 0500000US31063 31063 Frontier     06    2524283235\n",
       "79 31      065      00835854 0500000US31065 31065 Furnas       06    1862542302\n",
       "80 31      073      00835858 0500000US31073 31073 Gosper       06    1186616237\n",
       "81 31      019      00835831 0500000US31019 31019 Buffalo      06    2507679138\n",
       "82 31      027      00835835 0500000US31027 31027 Cedar        06    1917219989\n",
       "83 31      153      00835898 0500000US31153 31153 Sarpy        06     616811568\n",
       "84 31      003      00835824 0500000US31003 31003 Antelope     06    2220231685\n",
       "85 31      145      00835894 0500000US31145 31145 Red Willow   06    1857036462\n",
       "86 31      057      00835850 0500000US31057 31057 Dundy        06    2381956151\n",
       "87 31      129      00835886 0500000US31129 31129 Nuckolls     06    1489645187\n",
       "88 31      007      00835826 0500000US31007 31007 Banner       06    1932676689\n",
       "89 31      131      00835887 0500000US31131 31131 Otoe         06    1594561657\n",
       "90 31      045      00835844 0500000US31045 31045 Dawes        06    3616875588\n",
       "91 31      071      00835857 0500000US31071 31071 Garfield     06    1474558349\n",
       "92 31      001      00835823 0500000US31001 31001 Adams        06    1458869102\n",
       "93 31      095      00835869 0500000US31095 31095 Jefferson    06    1476736212\n",
       "   AWATER    ALANDMI   n  geometry                       stn_sq_mi  \n",
       "1    9443894  710.6879 49 MULTIPOLYGON (((-100.2676 4... 0.06894728 \n",
       "2   28449819 2564.1315 29 MULTIPOLYGON (((-101.2697 4... 0.01130987 \n",
       "3    2680669  858.9741 27 MULTIPOLYGON (((-101.4065 4... 0.03143285 \n",
       "4    8595508  572.5096 12 MULTIPOLYGON (((-97.82629 4... 0.02096035 \n",
       "5  124672175 1061.5998 31 MULTIPOLYGON (((-102.0555 4... 0.02920121 \n",
       "6    7360264  541.8977 33 MULTIPOLYGON (((-98.28258 4... 0.06089711 \n",
       "7    7644718  715.3542 50 MULTIPOLYGON (((-101.9855 4... 0.06989544 \n",
       "8    2028433  712.9002 14 MULTIPOLYGON (((-100.8461 4... 0.01963809 \n",
       "9    7978172  894.4182 42 MULTIPOLYGON (((-102.0518 4... 0.04695790 \n",
       "10   1718583  686.5535 47 MULTIPOLYGON (((-98.2956 41... 0.06845789 \n",
       "11   3234877  572.2892 40 MULTIPOLYGON (((-98.2781 40... 0.06989473 \n",
       "12  11542537  571.4293 16 MULTIPOLYGON (((-97.36812 4... 0.02799996 \n",
       "13  16199402  569.3377 31 MULTIPOLYGON (((-98.74433 4... 0.05444923 \n",
       "14   5947393  438.3454 19 MULTIPOLYGON (((-97.82826 4... 0.04334481 \n",
       "15   8789497  427.6082 14 MULTIPOLYGON (((-97.3684 42... 0.03274025 \n",
       "16  65860691 1705.4449 35 MULTIPOLYGON (((-102.6776 4... 0.02052250 \n",
       "17    337241  574.9128 12 MULTIPOLYGON (((-98.72683 4... 0.02087273 \n",
       "18   3481943  573.2484 20 MULTIPOLYGON (((-97.83443 4... 0.03488889 \n",
       "19  22103381  709.9422 33 MULTIPOLYGON (((-101.3255 4... 0.04648265 \n",
       "20    570786  713.0615 34 MULTIPOLYGON (((-101.3454 4... 0.04768172 \n",
       "21  15601312 1423.8366 26 MULTIPOLYGON (((-103.3704 4... 0.01826052 \n",
       "22  27167484  674.0996 20 MULTIPOLYGON (((-97.83049 4... 0.02966921 \n",
       "23   3025339  573.8067 14 MULTIPOLYGON (((-97.82082 4... 0.02439846 \n",
       "24   6588657 1075.2920 48 MULTIPOLYGON (((-103.4445 4... 0.04463904 \n",
       "25    882994  721.1598 32 MULTIPOLYGON (((-101.4266 4... 0.04437297 \n",
       "26  16460163  776.8687 34 MULTIPOLYGON (((-102.0666 4... 0.04376544 \n",
       "27    487899  575.8155 36 MULTIPOLYGON (((-99.1794 40... 0.06252003 \n",
       "28    274634  516.2429 31 MULTIPOLYGON (((-99.17925 4... 0.06004925 \n",
       "29  15062146  565.8283 16 MULTIPOLYGON (((-99.20326 4... 0.02827713 \n",
       "30   6076916  568.1116 13 MULTIPOLYGON (((-99.21202 4... 0.02288283 \n",
       "<U+22EE>  <U+22EE>  <U+22EE>  <U+22EE> <U+22EE>                       <U+22EE>   \n",
       "64  74718659 2440.9589 16 MULTIPOLYGON (((-102.7921 4... 0.006554801\n",
       "65 127452878 5960.2057 42 MULTIPOLYGON (((-102.0825 4... 0.007046737\n",
       "66    292549 1196.2860 41 MULTIPOLYGON (((-103.3823 4... 0.034272741\n",
       "67   1681023 2066.6978 15 MULTIPOLYGON (((-104.0531 4... 0.007257955\n",
       "68   8193327  264.2569 39 MULTIPOLYGON (((-96.72662 4... 0.147583633\n",
       "69  14186270  491.5856 45 MULTIPOLYGON (((-96.55487 4... 0.091540520\n",
       "70  17111893  476.1101 37 MULTIPOLYGON (((-97.01779 4... 0.077713117\n",
       "71   7077613  551.8406 19 MULTIPOLYGON (((-96.01018 4... 0.034430229\n",
       "72   1448446  951.8453 32 MULTIPOLYGON (((-104.0535 4... 0.033618908\n",
       "73   6458662  393.5836 14 MULTIPOLYGON (((-96.8225 42... 0.035570588\n",
       "74  15397684  739.4160 16 MULTIPOLYGON (((-104.0529 4... 0.021638700\n",
       "75    932956 2575.5927 39 MULTIPOLYGON (((-100.2512 4... 0.015142146\n",
       "76   2230956  439.8509 37 MULTIPOLYGON (((-102.6209 4... 0.084119421\n",
       "77  10690952  570.5245 39 MULTIPOLYGON (((-97.01936 4... 0.068358154\n",
       "78  14110075  974.6308 35 MULTIPOLYGON (((-100.7812 4... 0.035911034\n",
       "79   3915843  719.1313 35 MULTIPOLYGON (((-100.1978 4... 0.048669832\n",
       "80  11831826  458.1549 34 MULTIPOLYGON (((-100.0951 4... 0.074210709\n",
       "81  18593313  968.2199 46 MULTIPOLYGON (((-99.42576 4... 0.047509867\n",
       "82  14513816  740.2425 45 MULTIPOLYGON (((-97.48492 4... 0.060790892\n",
       "83  24272921  238.1522 18 MULTIPOLYGON (((-96.33287 4... 0.075581924\n",
       "84   3510581  857.2359 50 MULTIPOLYGON (((-98.30024 4... 0.058327002\n",
       "85   2591016  717.0055 19 MULTIPOLYGON (((-100.761 40... 0.026499100\n",
       "86   3046331  919.6780 37 MULTIPOLYGON (((-102.0519 4... 0.040231471\n",
       "87   1718484  575.1550 23 MULTIPOLYGON (((-98.27357 4... 0.039989221\n",
       "88    397069  746.2103 48 MULTIPOLYGON (((-104.0529 4... 0.064325027\n",
       "89   8689334  615.6634 23 MULTIPOLYGON (((-96.46376 4... 0.037358073\n",
       "90  11870270 1396.4829 39 MULTIPOLYGON (((-103.5051 4... 0.027927302\n",
       "91   5321553  569.3299 35 MULTIPOLYGON (((-99.22273 4... 0.061475778\n",
       "92   2481410  563.2723 50 MULTIPOLYGON (((-98.72439 4... 0.088767017\n",
       "93  14232352  570.1708 31 MULTIPOLYGON (((-97.3692 40... 0.054369673"
      ]
     },
     "metadata": {},
     "output_type": "display_data"
    }
   ],
   "source": [
    "sp_ev_ctyNE"
   ]
  },
  {
   "cell_type": "code",
   "execution_count": null,
   "id": "6614251b",
   "metadata": {},
   "outputs": [],
   "source": []
  }
 ],
 "metadata": {
  "kernelspec": {
   "display_name": "R",
   "language": "R",
   "name": "ir"
  },
  "language_info": {
   "codemirror_mode": "r",
   "file_extension": ".r",
   "mimetype": "text/x-r-source",
   "name": "R",
   "pygments_lexer": "r",
   "version": "4.1.2"
  }
 },
 "nbformat": 4,
 "nbformat_minor": 5
}
